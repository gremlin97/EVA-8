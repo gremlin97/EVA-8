{
  "cells": [
    {
      "cell_type": "markdown",
      "metadata": {
        "id": "view-in-github",
        "colab_type": "text"
      },
      "source": [
        "<a href=\"https://colab.research.google.com/github/gremlin97/EVA-8/blob/main/LLM-Experiments/RAG_Orca.ipynb\" target=\"_parent\"><img src=\"https://colab.research.google.com/assets/colab-badge.svg\" alt=\"Open In Colab\"/></a>"
      ]
    },
    {
      "cell_type": "code",
      "execution_count": null,
      "metadata": {
        "id": "EF7vJ43Fuagv"
      },
      "outputs": [],
      "source": [
        "from IPython.display import clear_output"
      ]
    },
    {
      "cell_type": "code",
      "execution_count": null,
      "metadata": {
        "colab": {
          "base_uri": "https://localhost:8080/"
        },
        "id": "u3TSRRt-c94x",
        "outputId": "480a3307-aac2-4031-ce24-96e3f76c4d2d"
      },
      "outputs": [
        {
          "output_type": "stream",
          "name": "stdout",
          "text": [
            "Collecting langchain\n",
            "  Downloading langchain-0.0.333-py3-none-any.whl (2.0 MB)\n",
            "\u001b[2K     \u001b[90m━━━━━━━━━━━━━━━━━━━━━━━━━━━━━━━━━━━━━━━━\u001b[0m \u001b[32m2.0/2.0 MB\u001b[0m \u001b[31m10.9 MB/s\u001b[0m eta \u001b[36m0:00:00\u001b[0m\n",
            "\u001b[?25hRequirement already satisfied: PyYAML>=5.3 in /usr/local/lib/python3.10/dist-packages (from langchain) (6.0.1)\n",
            "Requirement already satisfied: SQLAlchemy<3,>=1.4 in /usr/local/lib/python3.10/dist-packages (from langchain) (2.0.23)\n",
            "Requirement already satisfied: aiohttp<4.0.0,>=3.8.3 in /usr/local/lib/python3.10/dist-packages (from langchain) (3.8.6)\n",
            "Requirement already satisfied: anyio<4.0 in /usr/local/lib/python3.10/dist-packages (from langchain) (3.7.1)\n",
            "Requirement already satisfied: async-timeout<5.0.0,>=4.0.0 in /usr/local/lib/python3.10/dist-packages (from langchain) (4.0.3)\n",
            "Collecting dataclasses-json<0.7,>=0.5.7 (from langchain)\n",
            "  Downloading dataclasses_json-0.6.2-py3-none-any.whl (28 kB)\n",
            "Collecting jsonpatch<2.0,>=1.33 (from langchain)\n",
            "  Downloading jsonpatch-1.33-py2.py3-none-any.whl (12 kB)\n",
            "Collecting langsmith<0.1.0,>=0.0.62 (from langchain)\n",
            "  Downloading langsmith-0.0.63-py3-none-any.whl (45 kB)\n",
            "\u001b[2K     \u001b[90m━━━━━━━━━━━━━━━━━━━━━━━━━━━━━━━━━━━━━━━━\u001b[0m \u001b[32m45.3/45.3 kB\u001b[0m \u001b[31m6.6 MB/s\u001b[0m eta \u001b[36m0:00:00\u001b[0m\n",
            "\u001b[?25hRequirement already satisfied: numpy<2,>=1 in /usr/local/lib/python3.10/dist-packages (from langchain) (1.23.5)\n",
            "Requirement already satisfied: pydantic<3,>=1 in /usr/local/lib/python3.10/dist-packages (from langchain) (1.10.13)\n",
            "Requirement already satisfied: requests<3,>=2 in /usr/local/lib/python3.10/dist-packages (from langchain) (2.31.0)\n",
            "Requirement already satisfied: tenacity<9.0.0,>=8.1.0 in /usr/local/lib/python3.10/dist-packages (from langchain) (8.2.3)\n",
            "Requirement already satisfied: attrs>=17.3.0 in /usr/local/lib/python3.10/dist-packages (from aiohttp<4.0.0,>=3.8.3->langchain) (23.1.0)\n",
            "Requirement already satisfied: charset-normalizer<4.0,>=2.0 in /usr/local/lib/python3.10/dist-packages (from aiohttp<4.0.0,>=3.8.3->langchain) (3.3.2)\n",
            "Requirement already satisfied: multidict<7.0,>=4.5 in /usr/local/lib/python3.10/dist-packages (from aiohttp<4.0.0,>=3.8.3->langchain) (6.0.4)\n",
            "Requirement already satisfied: yarl<2.0,>=1.0 in /usr/local/lib/python3.10/dist-packages (from aiohttp<4.0.0,>=3.8.3->langchain) (1.9.2)\n",
            "Requirement already satisfied: frozenlist>=1.1.1 in /usr/local/lib/python3.10/dist-packages (from aiohttp<4.0.0,>=3.8.3->langchain) (1.4.0)\n",
            "Requirement already satisfied: aiosignal>=1.1.2 in /usr/local/lib/python3.10/dist-packages (from aiohttp<4.0.0,>=3.8.3->langchain) (1.3.1)\n",
            "Requirement already satisfied: idna>=2.8 in /usr/local/lib/python3.10/dist-packages (from anyio<4.0->langchain) (3.4)\n",
            "Requirement already satisfied: sniffio>=1.1 in /usr/local/lib/python3.10/dist-packages (from anyio<4.0->langchain) (1.3.0)\n",
            "Requirement already satisfied: exceptiongroup in /usr/local/lib/python3.10/dist-packages (from anyio<4.0->langchain) (1.1.3)\n",
            "Collecting marshmallow<4.0.0,>=3.18.0 (from dataclasses-json<0.7,>=0.5.7->langchain)\n",
            "  Downloading marshmallow-3.20.1-py3-none-any.whl (49 kB)\n",
            "\u001b[2K     \u001b[90m━━━━━━━━━━━━━━━━━━━━━━━━━━━━━━━━━━━━━━━━\u001b[0m \u001b[32m49.4/49.4 kB\u001b[0m \u001b[31m7.3 MB/s\u001b[0m eta \u001b[36m0:00:00\u001b[0m\n",
            "\u001b[?25hCollecting typing-inspect<1,>=0.4.0 (from dataclasses-json<0.7,>=0.5.7->langchain)\n",
            "  Downloading typing_inspect-0.9.0-py3-none-any.whl (8.8 kB)\n",
            "Collecting jsonpointer>=1.9 (from jsonpatch<2.0,>=1.33->langchain)\n",
            "  Downloading jsonpointer-2.4-py2.py3-none-any.whl (7.8 kB)\n",
            "Requirement already satisfied: typing-extensions>=4.2.0 in /usr/local/lib/python3.10/dist-packages (from pydantic<3,>=1->langchain) (4.5.0)\n",
            "Requirement already satisfied: urllib3<3,>=1.21.1 in /usr/local/lib/python3.10/dist-packages (from requests<3,>=2->langchain) (2.0.7)\n",
            "Requirement already satisfied: certifi>=2017.4.17 in /usr/local/lib/python3.10/dist-packages (from requests<3,>=2->langchain) (2023.7.22)\n",
            "Requirement already satisfied: greenlet!=0.4.17 in /usr/local/lib/python3.10/dist-packages (from SQLAlchemy<3,>=1.4->langchain) (3.0.1)\n",
            "Requirement already satisfied: packaging>=17.0 in /usr/local/lib/python3.10/dist-packages (from marshmallow<4.0.0,>=3.18.0->dataclasses-json<0.7,>=0.5.7->langchain) (23.2)\n",
            "Collecting mypy-extensions>=0.3.0 (from typing-inspect<1,>=0.4.0->dataclasses-json<0.7,>=0.5.7->langchain)\n",
            "  Downloading mypy_extensions-1.0.0-py3-none-any.whl (4.7 kB)\n",
            "Installing collected packages: mypy-extensions, marshmallow, jsonpointer, typing-inspect, langsmith, jsonpatch, dataclasses-json, langchain\n",
            "Successfully installed dataclasses-json-0.6.2 jsonpatch-1.33 jsonpointer-2.4 langchain-0.0.333 langsmith-0.0.63 marshmallow-3.20.1 mypy-extensions-1.0.0 typing-inspect-0.9.0\n"
          ]
        }
      ],
      "source": [
        "# # Install required packages\n",
        "!pip install langchain"
      ]
    },
    {
      "cell_type": "code",
      "execution_count": null,
      "metadata": {
        "id": "hRoSprrU8Z7U"
      },
      "outputs": [],
      "source": [
        "!pip install pypdf\n",
        "!pip install chromadb\n",
        "clear_output()"
      ]
    },
    {
      "cell_type": "markdown",
      "source": [
        "# Retrieval"
      ],
      "metadata": {
        "id": "sCRdg69RIeLb"
      }
    },
    {
      "cell_type": "code",
      "source": [
        "!pip install sentence_transformers > /dev/null"
      ],
      "metadata": {
        "id": "Qzcw1qjq3nR9"
      },
      "execution_count": null,
      "outputs": []
    },
    {
      "cell_type": "code",
      "execution_count": null,
      "metadata": {
        "id": "QNiI6SVJ0bFU"
      },
      "outputs": [],
      "source": [
        "from IPython.display import clear_output, Image\n",
        "import os\n",
        "import torch\n",
        "from langchain import PromptTemplate, LLMChain\n",
        "from langchain.callbacks.manager import CallbackManager\n",
        "from langchain.callbacks.streaming_stdout import StreamingStdOutCallbackHandler\n",
        "from langchain.embeddings import LlamaCppEmbeddings\n",
        "from langchain.document_loaders import PyPDFLoader\n",
        "from langchain.text_splitter import RecursiveCharacterTextSplitter\n",
        "from langchain.embeddings import HuggingFaceEmbeddings, SentenceTransformerEmbeddings\n",
        "from langchain.vectorstores import Chroma\n",
        "from langchain.chains import RetrievalQA"
      ]
    },
    {
      "cell_type": "code",
      "execution_count": null,
      "metadata": {
        "id": "-6vXtCNV_1Ax"
      },
      "outputs": [],
      "source": [
        "%mkdir pdfs\n",
        "%cd pdfs\n",
        "!wget \"https://www.dropbox.com/scl/fi/t6douu3clyj1ounm63owm/Bro-et-al.-2019-JGR-P-Subsurface-Sediment-Mobilization-in-the-Southern-Part-of-Chryse-Planitia-Mars.pdf?dl=0&rlkey=lvbsenx6etorwotqxoe9ozijz\" -O data.pdf\n",
        "!wget \"https://esurf.copernicus.org/articles/11/633/2023/esurf-11-633-2023.pdf\" -O data2.pdf\n",
        "%cd ..\n",
        "clear_output()"
      ]
    },
    {
      "cell_type": "code",
      "execution_count": null,
      "metadata": {
        "id": "-Q45adicB_Th"
      },
      "outputs": [],
      "source": [
        "# embed = HuggingFaceEmbeddings(model_name=\"BAAI/bge-base-en-v1.5\")\n",
        "# embed = HuggingFaceEmbeddings(model_name=\"BAAI/bge-large-en-v1.5\")\n",
        "encode_kwargs={'normalize_embeddings': True}\n",
        "embed = HuggingFaceEmbeddings(model_name=\"BAAI/bge-large-en-v1.5\",model_kwargs={'device':'cuda'},encode_kwargs=encode_kwargs)\n",
        "clear_output()"
      ]
    },
    {
      "cell_type": "code",
      "source": [
        "# %%time\n",
        "# # Directory containing the PDF files\n",
        "# pdf_directory = 'pdfs'\n",
        "\n",
        "# # Get the list of files in the current directory\n",
        "# filenames = os.listdir(pdf_directory)\n",
        "\n",
        "# # Initialize an empty list to store all_splits\n",
        "# all_splits = []\n",
        "\n",
        "# # Loop through all PDF files in the directory\n",
        "# for filename in filenames:\n",
        "#     if filename.endswith('.pdf'):\n",
        "#         # Load and split the current PDF file\n",
        "#         loader = PyPDFLoader(os.path.join(pdf_directory, filename))\n",
        "#         pages = loader.load_and_split()\n",
        "\n",
        "#         # Split text into chunks of size 1000 with a chunk overlap of 200 to maintain some flow\n",
        "#         text_splitter = RecursiveCharacterTextSplitter(chunk_size=1000, chunk_overlap=200)\n",
        "#         splits = text_splitter.split_documents(pages)\n",
        "\n",
        "#         # Append the splits of the current PDF to the all_splits list\n",
        "#         all_splits.extend(splits)\n",
        "\n",
        "# print(len(all_splits))\n",
        "\n",
        "# # Q and A with vector store, retrieve relevant context/embeddings, and answer\n",
        "# vectorstore = Chroma.from_documents(documents=all_splits, embedding=embed)"
      ],
      "metadata": {
        "colab": {
          "base_uri": "https://localhost:8080/"
        },
        "id": "LOhIJc1GDb1y",
        "outputId": "f05f6f1d-f380-4c75-e691-6003d0164770"
      },
      "execution_count": null,
      "outputs": [
        {
          "output_type": "stream",
          "name": "stdout",
          "text": [
            "335\n",
            "CPU times: user 32.1 s, sys: 844 ms, total: 33 s\n",
            "Wall time: 38.7 s\n"
          ]
        }
      ]
    },
    {
      "cell_type": "code",
      "execution_count": null,
      "metadata": {
        "id": "7LvZVbm_RNUV",
        "colab": {
          "base_uri": "https://localhost:8080/"
        },
        "outputId": "4926f896-e93f-40bb-ca8e-28f94c189304"
      },
      "outputs": [
        {
          "output_type": "stream",
          "name": "stdout",
          "text": [
            "CPU times: user 54.7 ms, sys: 0 ns, total: 54.7 ms\n",
            "Wall time: 107 ms\n"
          ]
        }
      ],
      "source": [
        "# %%time\n",
        "# query = \"What are the features of Mars Cones?\"\n",
        "# docs = vectorstore.similarity_search(query)"
      ]
    },
    {
      "cell_type": "code",
      "source": [
        "# for x in docs:\n",
        "#   print(x.page_content)\n",
        "#   print(\"\\n\")"
      ],
      "metadata": {
        "id": "yVLJUlPmQisM",
        "colab": {
          "base_uri": "https://localhost:8080/"
        },
        "outputId": "5ff7df3b-2945-4391-c228-b8d0634b20f5"
      },
      "execution_count": null,
      "outputs": [
        {
          "output_type": "stream",
          "name": "stdout",
          "text": [
            "et al., 2021; Ye et al., 2021; Zhao et al., 2021). In the ﬁeld,\n",
            "there is one pitted cone with a height of 80 m and a basal di-\n",
            "ameter of 800 m located about 16 km south-east of the land-\n",
            "ing site, and it has attracted the attention of the mission sci-\n",
            "ence team (Liu et al., 2021). Alternative interpretations, in-\n",
            "cluding cinder cones, sedimentary volcanoes, or pingos, have\n",
            "been proposed to explain the origin of this structure. Sedi-\n",
            "mentary volcanism appears to be the preferred origin as re-\n",
            "ported in recent studies (Ye et al., 2021; Huang et al., 2022),\n",
            "although other small mounds in the region have been inter-\n",
            "preted as lava domes (Lin et al., 2023). In situ study of the\n",
            "closest cone to the landing site would provide a great oppor-\n",
            "tunity for ground-truthing one example of putative sedimen-\n",
            "tary volcanoes on Mars. The identiﬁcation of clay minerals,\n",
            "like smectite or illite (Mazzini and Etiope, 2017, and refer-\n",
            "\n",
            "\n",
            "the formation of speci ﬁc surface landforms, such as lineated depressions, rootless cones, or clusters of\n",
            "volcanic craters, which have been previously observed elsewhere on Mars (e.g., Bro ž& Hauber, 2013;\n",
            "Lanagan et al., 2001; Wilson & Head, 2004). Despite speci ﬁcally searching for such evidence of phreato-\n",
            "magmatic processes, we identi ﬁed only 36 out of 1,318 edi ﬁces (classi ﬁed as the Type 1) that are cones\n",
            "with large and deep central craters and could be explained by explosive activity. These features thereforerepresent only a minor fraction of the total population within the study area. On the contrary, the most\n",
            "frequent morphologic class is represented by the pie ‐like edi ﬁces of Type 2 ( N= 679), which often dis-\n",
            "play small central craters with lobate features interpreted to be ﬂows emanating from these craters. We\n",
            "suggest that most material was therefore extruded from the subsurface to the surface by effusion rather\n",
            "\n",
            "\n",
            "Bargery, A. S., & Wilson, L. (2010). Dynamics of the ascent and eruption of water containing dissolved CO 2on Mars. Journal of Geophysical\n",
            "Research ,115, E05008. https://doi.org/10.1029/2009JE003403\n",
            "Basilevsky, A. T., Markiewicz, W. J., Thomas, N., & Keller, H. U. (1999). Morphologies of rocks within and near the Rock Garden at the\n",
            "Mars Path ﬁnder landing site. Journal of Geophysical Research ,104(E4), 8617 –8636. https://doi.org/10.1029/1998JE900039\n",
            "Brož, P.,Čadek, O., Hauber, E., & Rossi, A. P. (2015). Scoria cones on Mars: Detailed investigation of morphometry based on high ‐\n",
            "resolution digital elevation models. Journal of Geophysical Research: Planets ,120,1 5 1 2 –1527. https://doi.org/10.1002/2015JE004873\n",
            "Brož, P., & Hauber, E. (2012). A unique volcanic ﬁeld in Tharsis, Mars: Pyroclastic cones as evidence for explosive eruptions. Icarus ,218(1),\n",
            "88–99. https://doi.org/10.1016/j.icarus.2011.11.030.\n",
            "\n",
            "\n",
            "signiﬁcantly, but as the critical ground truth is still lacking, alternative explanations cannot be ruled out. We\n",
            "also highlight that the lower gravity and temperatures on Mars compared to Earth control the dynamics of clastic\n",
            "eruptions and surface emplacement mechanisms and the resulting morphologies of erupted material. This implies\n",
            "that shapes and triggering mechanisms of mud-volcano-like structures may be different from those observed on\n",
            "Earth. Therefore, comparative studies should be done with caution. To provide a better understanding of the\n",
            "signiﬁcance of these abundant features on Mars, we argue for follow-up studies targeting putative sedimentary\n",
            "volcanic features identiﬁed on the planet’s surface and, if possible, for in situ investigations by landed missions\n",
            "such as that by the Zhurong rover.\n",
            "Published by Copernicus Publications on behalf of the European Geosciences Union.\n",
            "\n",
            "\n"
          ]
        }
      ]
    },
    {
      "cell_type": "markdown",
      "source": [
        "# RAG"
      ],
      "metadata": {
        "id": "NJne5Y1QIb8m"
      }
    },
    {
      "cell_type": "code",
      "source": [
        "!pip install -q transformers\n",
        "!CMAKE_ARGS=\"-DLLAMA_CUBLAS=on\" FORCE_CMAKE=1 pip install  llama-cpp-python --no-cache-dir\n",
        "!pip install -q llama-index\n",
        "clear_output()"
      ],
      "metadata": {
        "id": "m4xZO2OVE5Tj"
      },
      "execution_count": null,
      "outputs": []
    },
    {
      "cell_type": "code",
      "source": [
        "import torch\n",
        "from llama_index import VectorStoreIndex, SimpleDirectoryReader, ServiceContext\n",
        "from llama_index.llms import LlamaCPP\n",
        "from llama_index.llms.llama_utils import messages_to_prompt, completion_to_prompt\n",
        "\n",
        "llm = LlamaCPP(\n",
        "    # You can pass in the URL to a GGML model to download it automatically\n",
        "    model_url='https://huggingface.co/TheBloke/Mistral-7B-Instruct-v0.1-GGUF/resolve/main/mistral-7b-instruct-v0.1.Q4_K_M.gguf',\n",
        "    # optionally, you can set the path to a pre-downloaded model instead of model_url\n",
        "    model_path=None,\n",
        "    temperature=0.1,\n",
        "    max_new_tokens=256,\n",
        "    # llama2 has a context window of 4096 tokens, but we set it lower to allow for some wiggle room\n",
        "    context_window=3900,\n",
        "    # kwargs to pass to __call__()\n",
        "    generate_kwargs={},\n",
        "    # kwargs to pass to __init__()\n",
        "    # set to at least 1 to use GPU\n",
        "    model_kwargs={\"n_gpu_layers\": -1},\n",
        "    # transform inputs into Llama2 format\n",
        "    messages_to_prompt=messages_to_prompt,\n",
        "    completion_to_prompt=completion_to_prompt,\n",
        "    verbose=True,\n",
        ")"
      ],
      "metadata": {
        "colab": {
          "base_uri": "https://localhost:8080/"
        },
        "id": "XW1bkoZwHyUG",
        "outputId": "3be6a1e6-29f8-4a88-b6f4-98cf5aff11ee"
      },
      "execution_count": null,
      "outputs": [
        {
          "output_type": "stream",
          "name": "stderr",
          "text": [
            "Exception ignored in: <function _xla_gc_callback at 0x78a341500550>\n",
            "Traceback (most recent call last):\n",
            "  File \"/usr/local/lib/python3.10/dist-packages/jax/_src/lib/__init__.py\", line 101, in _xla_gc_callback\n",
            "    def _xla_gc_callback(*args):\n",
            "KeyboardInterrupt: \n"
          ]
        },
        {
          "output_type": "stream",
          "name": "stdout",
          "text": [
            "Downloading url https://huggingface.co/TheBloke/Mistral-7B-Instruct-v0.1-GGUF/resolve/main/mistral-7b-instruct-v0.1.Q4_K_M.gguf to path /tmp/llama_index/models/mistral-7b-instruct-v0.1.Q4_K_M.gguf\n",
            "total size (MB): 4368.44\n"
          ]
        },
        {
          "output_type": "stream",
          "name": "stderr",
          "text": [
            "4167it [00:38, 108.20it/s]                          \n",
            "AVX = 1 | AVX2 = 1 | AVX512 = 1 | AVX512_VBMI = 0 | AVX512_VNNI = 0 | FMA = 1 | NEON = 0 | ARM_FMA = 0 | F16C = 1 | FP16_VA = 0 | WASM_SIMD = 0 | BLAS = 1 | SSE3 = 1 | SSSE3 = 1 | VSX = 0 | \n"
          ]
        }
      ]
    },
    {
      "cell_type": "code",
      "source": [
        "service_context = ServiceContext.from_defaults(\n",
        "    chunk_size=256,\n",
        "    llm=llm,\n",
        "    embed_model=embed\n",
        ")"
      ],
      "metadata": {
        "colab": {
          "base_uri": "https://localhost:8080/"
        },
        "id": "sVT-zLTPJmre",
        "outputId": "233d92f9-03ae-4bab-a9c8-a90962fc274e"
      },
      "execution_count": null,
      "outputs": [
        {
          "output_type": "stream",
          "name": "stderr",
          "text": [
            "[nltk_data] Downloading package punkt to /tmp/llama_index...\n",
            "[nltk_data]   Unzipping tokenizers/punkt.zip.\n"
          ]
        }
      ]
    },
    {
      "cell_type": "code",
      "source": [
        "documents = SimpleDirectoryReader(\"/content/pdfs\").load_data()"
      ],
      "metadata": {
        "id": "0MA_aQgxKPFd"
      },
      "execution_count": null,
      "outputs": []
    },
    {
      "cell_type": "code",
      "source": [
        "len(documents)"
      ],
      "metadata": {
        "colab": {
          "base_uri": "https://localhost:8080/"
        },
        "id": "zbfgXmWZKSoU",
        "outputId": "5f86d649-dca9-446b-d363-2b5304e5b704"
      },
      "execution_count": null,
      "outputs": [
        {
          "output_type": "execute_result",
          "data": {
            "text/plain": [
              "47"
            ]
          },
          "metadata": {},
          "execution_count": 20
        }
      ]
    },
    {
      "cell_type": "code",
      "source": [
        "index = VectorStoreIndex.from_documents(documents, service_context=service_context)"
      ],
      "metadata": {
        "id": "k1WGW4OHJmwD"
      },
      "execution_count": null,
      "outputs": []
    },
    {
      "cell_type": "code",
      "source": [
        "query_engine = index.as_query_engine()\n",
        "response = query_engine.query(\"Extract comprehensive information regarding the characteristics and distinctive features of the geological feature “cone”, with a particular focus on cones found on planetary bodies such as Mars. This information should encompass details about the physical attributes, dimensions, and visual appearance of cones. Additionally, please investigate any variations in cone attributes based on different geological regions or locations. The aim is to gain an in-depth understanding of the appearance and characteristics of cones in the context of planetary geology.\")"
      ],
      "metadata": {
        "id": "cg4G__Z7Jmz-"
      },
      "execution_count": null,
      "outputs": []
    },
    {
      "cell_type": "code",
      "source": [
        "print(response)"
      ],
      "metadata": {
        "colab": {
          "base_uri": "https://localhost:8080/"
        },
        "id": "3RZ_KpqCJm1x",
        "outputId": "1d85e1f7-bca7-4900-f369-5eeb8affa91f"
      },
      "execution_count": null,
      "outputs": [
        {
          "output_type": "stream",
          "name": "stdout",
          "text": [
            " Cones are geological features that form as a result of volcanic activity, erosion, or other geological processes. They are characterized by their steep slopes and rounded summit areas, with small knobs or bumps on the surface. The size and shape of cones can vary greatly depending on the specific process that formed them and the geological context in which they are found.\n",
            "\n",
            "On Mars, cones are commonly found in association with volcanic craters and lava flows. They are often characterized by their relatively flat summit areas and the presence of small knobs or bumps on the surface. The circularity of these cones, their gradual transition into the surrounding plains, and the absence of fracture patterns such as radial faults suggest that they were formed by the ascent of material from the subsurface.\n",
            "\n",
            "In addition to their physical attributes, cones on Mars can also be distinguished by their visual appearance. Some cones have reddish-brown colors due to the presence of iron oxide (rust) on their surfaces, while others may be darker in color due to the accumulation of volcanic materials such as ash and lava.\n",
            "\n",
            "It is worth noting that the characteristics of con\n"
          ]
        }
      ]
    },
    {
      "cell_type": "code",
      "source": [
        "while True:\n",
        "  query=input()\n",
        "  response = query_engine.query(query)\n",
        "  print(response)"
      ],
      "metadata": {
        "colab": {
          "base_uri": "https://localhost:8080/",
          "height": 619
        },
        "id": "D7CYwUYFLJ7k",
        "outputId": "aa3463cd-5858-4f19-fbde-ac2044823409"
      },
      "execution_count": null,
      "outputs": [
        {
          "name": "stdout",
          "output_type": "stream",
          "text": [
            "Does this document say anything about cones on Mars?\n"
          ]
        },
        {
          "output_type": "stream",
          "name": "stderr",
          "text": [
            "Llama.generate: prefix-match hit\n"
          ]
        },
        {
          "name": "stdout",
          "output_type": "stream",
          "text": [
            " Yes, this document mentions cones on Mars. On page 650, it states that an in situ study of the closest cone to the landing site would provide a great opportunity for ground-truthing one example of putative sedimentary volcanoes on Mars. Additionally, on page 654, it describes observations of pitted cones and domes on Mars using MOC, THEMIS, and TES data.\n",
            "Tell me all the content this document has about the features of Mars Cones\n"
          ]
        },
        {
          "output_type": "stream",
          "name": "stderr",
          "text": [
            "Llama.generate: prefix-match hit\n"
          ]
        },
        {
          "name": "stdout",
          "output_type": "stream",
          "text": [
            " The document \"data2.pdf\" contains two references related to the features of Mars cones. The first reference is a research paper by Farrand, Gaddis, and Keszthlyi (2005) titled \"Pitted cones and domes on Mars: Observations in Acidalia Planitia and Cydonia Mensae using MOC, THEMIS, and TES data\" which was published in the Journal of Geophysical Research. The second reference is an in situ study by Mazzini and Etiope (2017) titled \"Identification of clay minerals on Mars: A case study at the landing site of the Mars Science Laboratory rover\" which was published in Earth Surface Dynamics. Both references discuss the features of Mars cones, including their morphology, composition, and potential as sedimentary volcanoes.\n",
            "What are the features of cones on Mars?\n"
          ]
        },
        {
          "output_type": "stream",
          "name": "stderr",
          "text": [
            "Llama.generate: prefix-match hit\n"
          ]
        },
        {
          "name": "stdout",
          "output_type": "stream",
          "text": [
            " Based on the given context information, cones on Mars can have features such as pitted surfaces, which may be indicative of a mud volcano origin. Additionally, the presence of clay minerals like smectite or illite could also provide evidence for sedimentary volcanism on Mars.\n",
            "What model are you?\n"
          ]
        },
        {
          "output_type": "stream",
          "name": "stderr",
          "text": [
            "Llama.generate: prefix-match hit\n"
          ]
        },
        {
          "output_type": "stream",
          "name": "stdout",
          "text": [
            " Based on the given context information, it appears that you are an AI assistant designed to help with research related to geology and planetary science. You have access to data related to the study of edi (extraterrestrial impact craters) in a specific area, including measurements of their height and classification based on various morphological features. Additionally, you have information about the age determination of these craters using crater model ages.\n"
          ]
        },
        {
          "output_type": "error",
          "ename": "KeyboardInterrupt",
          "evalue": "ignored",
          "traceback": [
            "\u001b[0;31m---------------------------------------------------------------------------\u001b[0m",
            "\u001b[0;31mKeyboardInterrupt\u001b[0m                         Traceback (most recent call last)",
            "\u001b[0;32m<ipython-input-27-e57627802c61>\u001b[0m in \u001b[0;36m<cell line: 1>\u001b[0;34m()\u001b[0m\n\u001b[1;32m      1\u001b[0m \u001b[0;32mwhile\u001b[0m \u001b[0;32mTrue\u001b[0m\u001b[0;34m:\u001b[0m\u001b[0;34m\u001b[0m\u001b[0;34m\u001b[0m\u001b[0m\n\u001b[0;32m----> 2\u001b[0;31m   \u001b[0mquery\u001b[0m\u001b[0;34m=\u001b[0m\u001b[0minput\u001b[0m\u001b[0;34m(\u001b[0m\u001b[0;34m)\u001b[0m\u001b[0;34m\u001b[0m\u001b[0;34m\u001b[0m\u001b[0m\n\u001b[0m\u001b[1;32m      3\u001b[0m   \u001b[0mresponse\u001b[0m \u001b[0;34m=\u001b[0m \u001b[0mquery_engine\u001b[0m\u001b[0;34m.\u001b[0m\u001b[0mquery\u001b[0m\u001b[0;34m(\u001b[0m\u001b[0mquery\u001b[0m\u001b[0;34m)\u001b[0m\u001b[0;34m\u001b[0m\u001b[0;34m\u001b[0m\u001b[0m\n\u001b[1;32m      4\u001b[0m   \u001b[0mprint\u001b[0m\u001b[0;34m(\u001b[0m\u001b[0mresponse\u001b[0m\u001b[0;34m)\u001b[0m\u001b[0;34m\u001b[0m\u001b[0;34m\u001b[0m\u001b[0m\n",
            "\u001b[0;32m/usr/local/lib/python3.10/dist-packages/ipykernel/kernelbase.py\u001b[0m in \u001b[0;36mraw_input\u001b[0;34m(self, prompt)\u001b[0m\n\u001b[1;32m    849\u001b[0m                 \u001b[0;34m\"raw_input was called, but this frontend does not support input requests.\"\u001b[0m\u001b[0;34m\u001b[0m\u001b[0;34m\u001b[0m\u001b[0m\n\u001b[1;32m    850\u001b[0m             )\n\u001b[0;32m--> 851\u001b[0;31m         return self._input_request(str(prompt),\n\u001b[0m\u001b[1;32m    852\u001b[0m             \u001b[0mself\u001b[0m\u001b[0;34m.\u001b[0m\u001b[0m_parent_ident\u001b[0m\u001b[0;34m,\u001b[0m\u001b[0;34m\u001b[0m\u001b[0;34m\u001b[0m\u001b[0m\n\u001b[1;32m    853\u001b[0m             \u001b[0mself\u001b[0m\u001b[0;34m.\u001b[0m\u001b[0m_parent_header\u001b[0m\u001b[0;34m,\u001b[0m\u001b[0;34m\u001b[0m\u001b[0;34m\u001b[0m\u001b[0m\n",
            "\u001b[0;32m/usr/local/lib/python3.10/dist-packages/ipykernel/kernelbase.py\u001b[0m in \u001b[0;36m_input_request\u001b[0;34m(self, prompt, ident, parent, password)\u001b[0m\n\u001b[1;32m    893\u001b[0m             \u001b[0;32mexcept\u001b[0m \u001b[0mKeyboardInterrupt\u001b[0m\u001b[0;34m:\u001b[0m\u001b[0;34m\u001b[0m\u001b[0;34m\u001b[0m\u001b[0m\n\u001b[1;32m    894\u001b[0m                 \u001b[0;31m# re-raise KeyboardInterrupt, to truncate traceback\u001b[0m\u001b[0;34m\u001b[0m\u001b[0;34m\u001b[0m\u001b[0m\n\u001b[0;32m--> 895\u001b[0;31m                 \u001b[0;32mraise\u001b[0m \u001b[0mKeyboardInterrupt\u001b[0m\u001b[0;34m(\u001b[0m\u001b[0;34m\"Interrupted by user\"\u001b[0m\u001b[0;34m)\u001b[0m \u001b[0;32mfrom\u001b[0m \u001b[0;32mNone\u001b[0m\u001b[0;34m\u001b[0m\u001b[0;34m\u001b[0m\u001b[0m\n\u001b[0m\u001b[1;32m    896\u001b[0m             \u001b[0;32mexcept\u001b[0m \u001b[0mException\u001b[0m \u001b[0;32mas\u001b[0m \u001b[0me\u001b[0m\u001b[0;34m:\u001b[0m\u001b[0;34m\u001b[0m\u001b[0;34m\u001b[0m\u001b[0m\n\u001b[1;32m    897\u001b[0m                 \u001b[0mself\u001b[0m\u001b[0;34m.\u001b[0m\u001b[0mlog\u001b[0m\u001b[0;34m.\u001b[0m\u001b[0mwarning\u001b[0m\u001b[0;34m(\u001b[0m\u001b[0;34m\"Invalid Message:\"\u001b[0m\u001b[0;34m,\u001b[0m \u001b[0mexc_info\u001b[0m\u001b[0;34m=\u001b[0m\u001b[0;32mTrue\u001b[0m\u001b[0;34m)\u001b[0m\u001b[0;34m\u001b[0m\u001b[0;34m\u001b[0m\u001b[0m\n",
            "\u001b[0;31mKeyboardInterrupt\u001b[0m: Interrupted by user"
          ]
        }
      ]
    },
    {
      "cell_type": "code",
      "source": [
        "response = query_engine.query(\"<summarization_query>\")"
      ],
      "metadata": {
        "id": "ZJZ242qZA-PD"
      },
      "execution_count": null,
      "outputs": []
    },
    {
      "cell_type": "markdown",
      "source": [
        "# Testing"
      ],
      "metadata": {
        "id": "DpG0SqLbJojV"
      }
    },
    {
      "cell_type": "code",
      "source": [
        "# from langchain.prompts import PromptTemplate\n",
        "\n",
        "# template = \"\"\"Use the following pieces of context to answer the question at the end.\n",
        "# If you don't know the answer, just say that you don't know, don't try to make up an answer.\n",
        "# {context}\n",
        "# Question: {question}\n",
        "# Helpful Answer:\"\"\"\n",
        "\n",
        "# prompt = PromptTemplate(\n",
        "#     template=template, input_variables=[\"context\", \"question\"]\n",
        "# )\n",
        "\n",
        "# callback_manager = CallbackManager([StreamingStdOutCallbackHandler()])\n",
        "\n",
        "# qa_chain = RetrievalQA.from_chain_type(llm,retriever=vectorstore.as_retriever())\n",
        "\n",
        "# question = \"What is this pdf about?\"\n",
        "# result = qa_chain({\"query\": question})\n",
        "# result[\"result\"]\n"
      ],
      "metadata": {
        "id": "xNF5xFRHF83s"
      },
      "execution_count": null,
      "outputs": []
    }
  ],
  "metadata": {
    "accelerator": "GPU",
    "colab": {
      "provenance": [],
      "gpuType": "T4",
      "include_colab_link": true
    },
    "kernelspec": {
      "display_name": "Python 3",
      "name": "python3"
    },
    "language_info": {
      "name": "python"
    }
  },
  "nbformat": 4,
  "nbformat_minor": 0
}