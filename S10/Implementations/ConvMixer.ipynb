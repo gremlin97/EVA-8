{
  "nbformat": 4,
  "nbformat_minor": 0,
  "metadata": {
    "colab": {
      "provenance": [],
      "authorship_tag": "ABX9TyPiiDtlsfbYBqmC5IQdA+Y8",
      "include_colab_link": true
    },
    "kernelspec": {
      "name": "python3",
      "display_name": "Python 3"
    },
    "language_info": {
      "name": "python"
    },
    "accelerator": "GPU",
    "gpuClass": "standard",
    "widgets": {
      "application/vnd.jupyter.widget-state+json": {
        "79913c6ec65b47508ced0cec606d88e1": {
          "model_module": "@jupyter-widgets/controls",
          "model_name": "HBoxModel",
          "model_module_version": "1.5.0",
          "state": {
            "_dom_classes": [],
            "_model_module": "@jupyter-widgets/controls",
            "_model_module_version": "1.5.0",
            "_model_name": "HBoxModel",
            "_view_count": null,
            "_view_module": "@jupyter-widgets/controls",
            "_view_module_version": "1.5.0",
            "_view_name": "HBoxView",
            "box_style": "",
            "children": [
              "IPY_MODEL_877336c0ba904a82bb022470fe68434c",
              "IPY_MODEL_e4c6529e813d4b49ae6a940d96dab02f",
              "IPY_MODEL_b808a728e85140a49f227cafdd3693cf"
            ],
            "layout": "IPY_MODEL_2300cb85e2164ed78099ff14694734eb"
          }
        },
        "877336c0ba904a82bb022470fe68434c": {
          "model_module": "@jupyter-widgets/controls",
          "model_name": "HTMLModel",
          "model_module_version": "1.5.0",
          "state": {
            "_dom_classes": [],
            "_model_module": "@jupyter-widgets/controls",
            "_model_module_version": "1.5.0",
            "_model_name": "HTMLModel",
            "_view_count": null,
            "_view_module": "@jupyter-widgets/controls",
            "_view_module_version": "1.5.0",
            "_view_name": "HTMLView",
            "description": "",
            "description_tooltip": null,
            "layout": "IPY_MODEL_590ef49cb44f45d087ae170f29963f8e",
            "placeholder": "​",
            "style": "IPY_MODEL_738194c070ae43cfb4ca0466b3cfdf94",
            "value": "100%"
          }
        },
        "e4c6529e813d4b49ae6a940d96dab02f": {
          "model_module": "@jupyter-widgets/controls",
          "model_name": "FloatProgressModel",
          "model_module_version": "1.5.0",
          "state": {
            "_dom_classes": [],
            "_model_module": "@jupyter-widgets/controls",
            "_model_module_version": "1.5.0",
            "_model_name": "FloatProgressModel",
            "_view_count": null,
            "_view_module": "@jupyter-widgets/controls",
            "_view_module_version": "1.5.0",
            "_view_name": "ProgressView",
            "bar_style": "success",
            "description": "",
            "description_tooltip": null,
            "layout": "IPY_MODEL_088e09918d3c470db5d44de44c0ca0d4",
            "max": 170498071,
            "min": 0,
            "orientation": "horizontal",
            "style": "IPY_MODEL_dc5c14e5631746d697a13bec99076188",
            "value": 170498071
          }
        },
        "b808a728e85140a49f227cafdd3693cf": {
          "model_module": "@jupyter-widgets/controls",
          "model_name": "HTMLModel",
          "model_module_version": "1.5.0",
          "state": {
            "_dom_classes": [],
            "_model_module": "@jupyter-widgets/controls",
            "_model_module_version": "1.5.0",
            "_model_name": "HTMLModel",
            "_view_count": null,
            "_view_module": "@jupyter-widgets/controls",
            "_view_module_version": "1.5.0",
            "_view_name": "HTMLView",
            "description": "",
            "description_tooltip": null,
            "layout": "IPY_MODEL_3faabb9177df45aaa4af6e4ff25bde4d",
            "placeholder": "​",
            "style": "IPY_MODEL_45b8238f3800429682bb63aee92ee077",
            "value": " 170498071/170498071 [00:11&lt;00:00, 12043717.42it/s]"
          }
        },
        "2300cb85e2164ed78099ff14694734eb": {
          "model_module": "@jupyter-widgets/base",
          "model_name": "LayoutModel",
          "model_module_version": "1.2.0",
          "state": {
            "_model_module": "@jupyter-widgets/base",
            "_model_module_version": "1.2.0",
            "_model_name": "LayoutModel",
            "_view_count": null,
            "_view_module": "@jupyter-widgets/base",
            "_view_module_version": "1.2.0",
            "_view_name": "LayoutView",
            "align_content": null,
            "align_items": null,
            "align_self": null,
            "border": null,
            "bottom": null,
            "display": null,
            "flex": null,
            "flex_flow": null,
            "grid_area": null,
            "grid_auto_columns": null,
            "grid_auto_flow": null,
            "grid_auto_rows": null,
            "grid_column": null,
            "grid_gap": null,
            "grid_row": null,
            "grid_template_areas": null,
            "grid_template_columns": null,
            "grid_template_rows": null,
            "height": null,
            "justify_content": null,
            "justify_items": null,
            "left": null,
            "margin": null,
            "max_height": null,
            "max_width": null,
            "min_height": null,
            "min_width": null,
            "object_fit": null,
            "object_position": null,
            "order": null,
            "overflow": null,
            "overflow_x": null,
            "overflow_y": null,
            "padding": null,
            "right": null,
            "top": null,
            "visibility": null,
            "width": null
          }
        },
        "590ef49cb44f45d087ae170f29963f8e": {
          "model_module": "@jupyter-widgets/base",
          "model_name": "LayoutModel",
          "model_module_version": "1.2.0",
          "state": {
            "_model_module": "@jupyter-widgets/base",
            "_model_module_version": "1.2.0",
            "_model_name": "LayoutModel",
            "_view_count": null,
            "_view_module": "@jupyter-widgets/base",
            "_view_module_version": "1.2.0",
            "_view_name": "LayoutView",
            "align_content": null,
            "align_items": null,
            "align_self": null,
            "border": null,
            "bottom": null,
            "display": null,
            "flex": null,
            "flex_flow": null,
            "grid_area": null,
            "grid_auto_columns": null,
            "grid_auto_flow": null,
            "grid_auto_rows": null,
            "grid_column": null,
            "grid_gap": null,
            "grid_row": null,
            "grid_template_areas": null,
            "grid_template_columns": null,
            "grid_template_rows": null,
            "height": null,
            "justify_content": null,
            "justify_items": null,
            "left": null,
            "margin": null,
            "max_height": null,
            "max_width": null,
            "min_height": null,
            "min_width": null,
            "object_fit": null,
            "object_position": null,
            "order": null,
            "overflow": null,
            "overflow_x": null,
            "overflow_y": null,
            "padding": null,
            "right": null,
            "top": null,
            "visibility": null,
            "width": null
          }
        },
        "738194c070ae43cfb4ca0466b3cfdf94": {
          "model_module": "@jupyter-widgets/controls",
          "model_name": "DescriptionStyleModel",
          "model_module_version": "1.5.0",
          "state": {
            "_model_module": "@jupyter-widgets/controls",
            "_model_module_version": "1.5.0",
            "_model_name": "DescriptionStyleModel",
            "_view_count": null,
            "_view_module": "@jupyter-widgets/base",
            "_view_module_version": "1.2.0",
            "_view_name": "StyleView",
            "description_width": ""
          }
        },
        "088e09918d3c470db5d44de44c0ca0d4": {
          "model_module": "@jupyter-widgets/base",
          "model_name": "LayoutModel",
          "model_module_version": "1.2.0",
          "state": {
            "_model_module": "@jupyter-widgets/base",
            "_model_module_version": "1.2.0",
            "_model_name": "LayoutModel",
            "_view_count": null,
            "_view_module": "@jupyter-widgets/base",
            "_view_module_version": "1.2.0",
            "_view_name": "LayoutView",
            "align_content": null,
            "align_items": null,
            "align_self": null,
            "border": null,
            "bottom": null,
            "display": null,
            "flex": null,
            "flex_flow": null,
            "grid_area": null,
            "grid_auto_columns": null,
            "grid_auto_flow": null,
            "grid_auto_rows": null,
            "grid_column": null,
            "grid_gap": null,
            "grid_row": null,
            "grid_template_areas": null,
            "grid_template_columns": null,
            "grid_template_rows": null,
            "height": null,
            "justify_content": null,
            "justify_items": null,
            "left": null,
            "margin": null,
            "max_height": null,
            "max_width": null,
            "min_height": null,
            "min_width": null,
            "object_fit": null,
            "object_position": null,
            "order": null,
            "overflow": null,
            "overflow_x": null,
            "overflow_y": null,
            "padding": null,
            "right": null,
            "top": null,
            "visibility": null,
            "width": null
          }
        },
        "dc5c14e5631746d697a13bec99076188": {
          "model_module": "@jupyter-widgets/controls",
          "model_name": "ProgressStyleModel",
          "model_module_version": "1.5.0",
          "state": {
            "_model_module": "@jupyter-widgets/controls",
            "_model_module_version": "1.5.0",
            "_model_name": "ProgressStyleModel",
            "_view_count": null,
            "_view_module": "@jupyter-widgets/base",
            "_view_module_version": "1.2.0",
            "_view_name": "StyleView",
            "bar_color": null,
            "description_width": ""
          }
        },
        "3faabb9177df45aaa4af6e4ff25bde4d": {
          "model_module": "@jupyter-widgets/base",
          "model_name": "LayoutModel",
          "model_module_version": "1.2.0",
          "state": {
            "_model_module": "@jupyter-widgets/base",
            "_model_module_version": "1.2.0",
            "_model_name": "LayoutModel",
            "_view_count": null,
            "_view_module": "@jupyter-widgets/base",
            "_view_module_version": "1.2.0",
            "_view_name": "LayoutView",
            "align_content": null,
            "align_items": null,
            "align_self": null,
            "border": null,
            "bottom": null,
            "display": null,
            "flex": null,
            "flex_flow": null,
            "grid_area": null,
            "grid_auto_columns": null,
            "grid_auto_flow": null,
            "grid_auto_rows": null,
            "grid_column": null,
            "grid_gap": null,
            "grid_row": null,
            "grid_template_areas": null,
            "grid_template_columns": null,
            "grid_template_rows": null,
            "height": null,
            "justify_content": null,
            "justify_items": null,
            "left": null,
            "margin": null,
            "max_height": null,
            "max_width": null,
            "min_height": null,
            "min_width": null,
            "object_fit": null,
            "object_position": null,
            "order": null,
            "overflow": null,
            "overflow_x": null,
            "overflow_y": null,
            "padding": null,
            "right": null,
            "top": null,
            "visibility": null,
            "width": null
          }
        },
        "45b8238f3800429682bb63aee92ee077": {
          "model_module": "@jupyter-widgets/controls",
          "model_name": "DescriptionStyleModel",
          "model_module_version": "1.5.0",
          "state": {
            "_model_module": "@jupyter-widgets/controls",
            "_model_module_version": "1.5.0",
            "_model_name": "DescriptionStyleModel",
            "_view_count": null,
            "_view_module": "@jupyter-widgets/base",
            "_view_module_version": "1.2.0",
            "_view_name": "StyleView",
            "description_width": ""
          }
        }
      }
    }
  },
  "cells": [
    {
      "cell_type": "markdown",
      "metadata": {
        "id": "view-in-github",
        "colab_type": "text"
      },
      "source": [
        "<a href=\"https://colab.research.google.com/github/gremlin97/EVA-8/blob/main/S10/Implementations/ConvMixer.ipynb\" target=\"_parent\"><img src=\"https://colab.research.google.com/assets/colab-badge.svg\" alt=\"Open In Colab\"/></a>"
      ]
    },
    {
      "cell_type": "markdown",
      "source": [
        "# Implementation: Patches are all you Need?"
      ],
      "metadata": {
        "id": "fO5P2TlSmyU9"
      }
    },
    {
      "cell_type": "code",
      "execution_count": 1,
      "metadata": {
        "id": "R3Vk2HvU8hxZ"
      },
      "outputs": [],
      "source": [
        "import torch\n",
        "import torch.nn as nn\n",
        "import torch.optim as optim\n",
        "import torchvision\n",
        "import torchvision.transforms as transforms\n",
        "import numpy as np\n",
        "import time\n",
        "import argparse"
      ]
    },
    {
      "cell_type": "code",
      "source": [
        "# Residual Class Template created for further use in the network\n",
        "class Residual(nn.Module):\n",
        "  def __init__(self, fn):\n",
        "    super().__init__()\n",
        "    self.fn = fn\n",
        "  \n",
        "  def forward(self, x):\n",
        "    return self.fn(x) + x"
      ],
      "metadata": {
        "id": "p2EmEyAN9RZg"
      },
      "execution_count": 2,
      "outputs": []
    },
    {
      "cell_type": "code",
      "source": [
        "def ConvMixer(dim, depth, kernel_size=3, patch_size=2, n_classes=10):\n",
        "  return nn.Sequential(\n",
        "      nn.Conv2d(3, dim, kernel_size=patch_size, stride=patch_size), # Initial Convolution to create the patches as well as the embeddings\n",
        "      nn.GELU(), # Batchnorm and Gelu (~ViT activation function) activation used\n",
        "      nn.BatchNorm2d(dim),\n",
        "      *[  # Unroll (list comprehension) Sequential block consisting of conv-gelu-bn => point-wise convolution to specified depth\n",
        "          nn.Sequential(\n",
        "              Residual( # Residual block to add residue to high connections x=f(x)+x\n",
        "                  nn.Sequential( \n",
        "                      nn.Conv2d(dim, dim, kernel_size, groups=dim, padding = \"same\"), \n",
        "                      nn.GELU(),\n",
        "                      nn.BatchNorm2d(dim)\n",
        "                  ) # Logic: Inital conv2d creates our value matrices (256) from our patch embeddings. We use the kernel as our effective attention matrix (q x k.T) and repeat this structure as successive attention blocks. The channels represent multi-head attention \n",
        "              ),\n",
        "              nn.Conv2d(dim, dim, kernel_size=1), # Pointwise convolution to mix and merge channels (dim is constant)\n",
        "              nn.GELU(),\n",
        "              nn.BatchNorm2d(dim)\n",
        "          )for i in range(depth) # Unroll to depth d\n",
        "      ],\n",
        "      nn.AdaptiveAvgPool2d((1,1)), # GAP Layer\n",
        "      nn.Flatten(),\n",
        "      nn.Linear(dim, n_classes) # FC layer=num of classes / MLP head\n",
        "  )"
      ],
      "metadata": {
        "id": "cr3yYDHPY4Vi"
      },
      "execution_count": 3,
      "outputs": []
    },
    {
      "cell_type": "code",
      "source": [
        "cifar10_mean = (0.4914, 0.4822, 0.4465)\n",
        "cifar10_std = (0.2471, 0.2435, 0.2616)\n",
        "\n",
        "train_transform = transforms.Compose([\n",
        "    transforms.RandomResizedCrop(32, scale=(0.75, 1.0), ratio=(1.0, 1.0)),\n",
        "    transforms.RandomHorizontalFlip(p=0.5),\n",
        "    transforms.RandAugment(num_ops=1, magnitude=8),\n",
        "    transforms.ColorJitter(0.1, 0.1, 0.1),\n",
        "    transforms.ToTensor(),\n",
        "    transforms.Normalize(cifar10_mean, cifar10_std),\n",
        "    transforms.RandomErasing(p=0.25)\n",
        "])\n",
        "\n",
        "test_transform = transforms.Compose([\n",
        "    transforms.ToTensor(),\n",
        "    transforms.Normalize(cifar10_mean, cifar10_std)\n",
        "])\n",
        "\n",
        "epochs = 25\n",
        "batch_size = 512\n",
        "\n",
        "trainset = torchvision.datasets.CIFAR10(root='./data', train=True,\n",
        "                                        download=True, transform=train_transform)\n",
        "trainloader = torch.utils.data.DataLoader(trainset, batch_size=batch_size,\n",
        "                                          shuffle=True, num_workers=4)\n",
        "\n",
        "testset = torchvision.datasets.CIFAR10(root='./data', train=False,\n",
        "                                       download=True, transform=test_transform)\n",
        "testloader = torch.utils.data.DataLoader(testset, batch_size=64,\n",
        "                                         shuffle=False, num_workers=4)"
      ],
      "metadata": {
        "colab": {
          "base_uri": "https://localhost:8080/",
          "height": 156,
          "referenced_widgets": [
            "79913c6ec65b47508ced0cec606d88e1",
            "877336c0ba904a82bb022470fe68434c",
            "e4c6529e813d4b49ae6a940d96dab02f",
            "b808a728e85140a49f227cafdd3693cf",
            "2300cb85e2164ed78099ff14694734eb",
            "590ef49cb44f45d087ae170f29963f8e",
            "738194c070ae43cfb4ca0466b3cfdf94",
            "088e09918d3c470db5d44de44c0ca0d4",
            "dc5c14e5631746d697a13bec99076188",
            "3faabb9177df45aaa4af6e4ff25bde4d",
            "45b8238f3800429682bb63aee92ee077"
          ]
        },
        "id": "_kFUrqall08R",
        "outputId": "6db66707-db7f-43cb-c5ae-d74a720cc9c6"
      },
      "execution_count": 4,
      "outputs": [
        {
          "output_type": "stream",
          "name": "stdout",
          "text": [
            "Downloading https://www.cs.toronto.edu/~kriz/cifar-10-python.tar.gz to ./data/cifar-10-python.tar.gz\n"
          ]
        },
        {
          "output_type": "display_data",
          "data": {
            "text/plain": [
              "  0%|          | 0/170498071 [00:00<?, ?it/s]"
            ],
            "application/vnd.jupyter.widget-view+json": {
              "version_major": 2,
              "version_minor": 0,
              "model_id": "79913c6ec65b47508ced0cec606d88e1"
            }
          },
          "metadata": {}
        },
        {
          "output_type": "stream",
          "name": "stdout",
          "text": [
            "Extracting ./data/cifar-10-python.tar.gz to ./data\n"
          ]
        },
        {
          "output_type": "stream",
          "name": "stderr",
          "text": [
            "/usr/local/lib/python3.9/dist-packages/torch/utils/data/dataloader.py:554: UserWarning: This DataLoader will create 4 worker processes in total. Our suggested max number of worker in current system is 2, which is smaller than what this DataLoader is going to create. Please be aware that excessive worker creation might get DataLoader running slow or even freeze, lower the worker number to avoid potential slowness/freeze if necessary.\n",
            "  warnings.warn(_create_warning_msg(\n"
          ]
        },
        {
          "output_type": "stream",
          "name": "stdout",
          "text": [
            "Files already downloaded and verified\n"
          ]
        }
      ]
    },
    {
      "cell_type": "code",
      "source": [
        "depth = 10\n",
        "hdim = 256\n",
        "psize = 2\n",
        "conv_ks =  5\n",
        "clip_norm =  True\n",
        "\n",
        "model = ConvMixer(hdim, depth, psize, conv_ks, 10)\n",
        "model = nn.DataParallel(model, device_ids = [0]).cuda()\n",
        "\n",
        "opt = optim.AdamW(model.parameters(), lr=0.01, weight_decay=0.01)\n",
        "criterion = nn.CrossEntropyLoss()\n",
        "scaler = torch.cuda.amp.GradScaler()\n",
        "\n",
        "lr_schedule = lambda t: np.interp([t],[0, epochs*2//5, epochs*4//5, epochs], [0, 0.01, 0.01/20, 0])[0]"
      ],
      "metadata": {
        "id": "Hjxx45sPnRGW"
      },
      "execution_count": 13,
      "outputs": []
    },
    {
      "cell_type": "code",
      "source": [
        "from torchsummary import summary\n",
        "summary(model, input_size=(3,32,32))"
      ],
      "metadata": {
        "colab": {
          "base_uri": "https://localhost:8080/"
        },
        "id": "btF5IKSUzS_w",
        "outputId": "0b064cd5-75dc-4be8-f74a-1a4e3ba14d6a"
      },
      "execution_count": 14,
      "outputs": [
        {
          "output_type": "stream",
          "name": "stdout",
          "text": [
            "----------------------------------------------------------------\n",
            "        Layer (type)               Output Shape         Param #\n",
            "================================================================\n",
            "            Conv2d-1            [-1, 256, 6, 6]          19,456\n",
            "              GELU-2            [-1, 256, 6, 6]               0\n",
            "       BatchNorm2d-3            [-1, 256, 6, 6]             512\n",
            "            Conv2d-4            [-1, 256, 6, 6]           1,280\n",
            "              GELU-5            [-1, 256, 6, 6]               0\n",
            "       BatchNorm2d-6            [-1, 256, 6, 6]             512\n",
            "          Residual-7            [-1, 256, 6, 6]               0\n",
            "            Conv2d-8            [-1, 256, 6, 6]          65,792\n",
            "              GELU-9            [-1, 256, 6, 6]               0\n",
            "      BatchNorm2d-10            [-1, 256, 6, 6]             512\n",
            "           Conv2d-11            [-1, 256, 6, 6]           1,280\n",
            "             GELU-12            [-1, 256, 6, 6]               0\n",
            "      BatchNorm2d-13            [-1, 256, 6, 6]             512\n",
            "         Residual-14            [-1, 256, 6, 6]               0\n",
            "           Conv2d-15            [-1, 256, 6, 6]          65,792\n",
            "             GELU-16            [-1, 256, 6, 6]               0\n",
            "      BatchNorm2d-17            [-1, 256, 6, 6]             512\n",
            "           Conv2d-18            [-1, 256, 6, 6]           1,280\n",
            "             GELU-19            [-1, 256, 6, 6]               0\n",
            "      BatchNorm2d-20            [-1, 256, 6, 6]             512\n",
            "         Residual-21            [-1, 256, 6, 6]               0\n",
            "           Conv2d-22            [-1, 256, 6, 6]          65,792\n",
            "             GELU-23            [-1, 256, 6, 6]               0\n",
            "      BatchNorm2d-24            [-1, 256, 6, 6]             512\n",
            "           Conv2d-25            [-1, 256, 6, 6]           1,280\n",
            "             GELU-26            [-1, 256, 6, 6]               0\n",
            "      BatchNorm2d-27            [-1, 256, 6, 6]             512\n",
            "         Residual-28            [-1, 256, 6, 6]               0\n",
            "           Conv2d-29            [-1, 256, 6, 6]          65,792\n",
            "             GELU-30            [-1, 256, 6, 6]               0\n",
            "      BatchNorm2d-31            [-1, 256, 6, 6]             512\n",
            "           Conv2d-32            [-1, 256, 6, 6]           1,280\n",
            "             GELU-33            [-1, 256, 6, 6]               0\n",
            "      BatchNorm2d-34            [-1, 256, 6, 6]             512\n",
            "         Residual-35            [-1, 256, 6, 6]               0\n",
            "           Conv2d-36            [-1, 256, 6, 6]          65,792\n",
            "             GELU-37            [-1, 256, 6, 6]               0\n",
            "      BatchNorm2d-38            [-1, 256, 6, 6]             512\n",
            "           Conv2d-39            [-1, 256, 6, 6]           1,280\n",
            "             GELU-40            [-1, 256, 6, 6]               0\n",
            "      BatchNorm2d-41            [-1, 256, 6, 6]             512\n",
            "         Residual-42            [-1, 256, 6, 6]               0\n",
            "           Conv2d-43            [-1, 256, 6, 6]          65,792\n",
            "             GELU-44            [-1, 256, 6, 6]               0\n",
            "      BatchNorm2d-45            [-1, 256, 6, 6]             512\n",
            "           Conv2d-46            [-1, 256, 6, 6]           1,280\n",
            "             GELU-47            [-1, 256, 6, 6]               0\n",
            "      BatchNorm2d-48            [-1, 256, 6, 6]             512\n",
            "         Residual-49            [-1, 256, 6, 6]               0\n",
            "           Conv2d-50            [-1, 256, 6, 6]          65,792\n",
            "             GELU-51            [-1, 256, 6, 6]               0\n",
            "      BatchNorm2d-52            [-1, 256, 6, 6]             512\n",
            "           Conv2d-53            [-1, 256, 6, 6]           1,280\n",
            "             GELU-54            [-1, 256, 6, 6]               0\n",
            "      BatchNorm2d-55            [-1, 256, 6, 6]             512\n",
            "         Residual-56            [-1, 256, 6, 6]               0\n",
            "           Conv2d-57            [-1, 256, 6, 6]          65,792\n",
            "             GELU-58            [-1, 256, 6, 6]               0\n",
            "      BatchNorm2d-59            [-1, 256, 6, 6]             512\n",
            "           Conv2d-60            [-1, 256, 6, 6]           1,280\n",
            "             GELU-61            [-1, 256, 6, 6]               0\n",
            "      BatchNorm2d-62            [-1, 256, 6, 6]             512\n",
            "         Residual-63            [-1, 256, 6, 6]               0\n",
            "           Conv2d-64            [-1, 256, 6, 6]          65,792\n",
            "             GELU-65            [-1, 256, 6, 6]               0\n",
            "      BatchNorm2d-66            [-1, 256, 6, 6]             512\n",
            "           Conv2d-67            [-1, 256, 6, 6]           1,280\n",
            "             GELU-68            [-1, 256, 6, 6]               0\n",
            "      BatchNorm2d-69            [-1, 256, 6, 6]             512\n",
            "         Residual-70            [-1, 256, 6, 6]               0\n",
            "           Conv2d-71            [-1, 256, 6, 6]          65,792\n",
            "             GELU-72            [-1, 256, 6, 6]               0\n",
            "      BatchNorm2d-73            [-1, 256, 6, 6]             512\n",
            "AdaptiveAvgPool2d-74            [-1, 256, 1, 1]               0\n",
            "          Flatten-75                  [-1, 256]               0\n",
            "           Linear-76                   [-1, 10]           2,570\n",
            "================================================================\n",
            "Total params: 703,498\n",
            "Trainable params: 703,498\n",
            "Non-trainable params: 0\n",
            "----------------------------------------------------------------\n",
            "Input size (MB): 0.01\n",
            "Forward/backward pass size (MB): 5.14\n",
            "Params size (MB): 2.68\n",
            "Estimated Total Size (MB): 7.83\n",
            "----------------------------------------------------------------\n"
          ]
        }
      ]
    },
    {
      "cell_type": "code",
      "source": [
        "# Checking lr_schedule and numpy interpolation\n",
        "np.interp([1],[0, epochs*2//5, epochs*4//5, epochs], [0, 0.01, 0.01/20, 0])[0]\n",
        "lr_schedule(1)"
      ],
      "metadata": {
        "colab": {
          "base_uri": "https://localhost:8080/"
        },
        "id": "ffetd5yOsirk",
        "outputId": "9eee5922-2160-4a6f-d10f-4cf7d6743c05"
      },
      "execution_count": 17,
      "outputs": [
        {
          "output_type": "execute_result",
          "data": {
            "text/plain": [
              "0.001"
            ]
          },
          "metadata": {},
          "execution_count": 17
        }
      ]
    },
    {
      "cell_type": "code",
      "source": [
        "for epoch in range(epochs):\n",
        "  start = time.time()\n",
        "\n",
        "  train_loss, train_acc, n = 0, 0 ,0\n",
        "\n",
        "  for i, (X,y) in enumerate(trainloader):\n",
        "    model.train()\n",
        "    X, y = X.cuda(), y.cuda()\n",
        "    lr = lr_schedule(epoch + (i+1)/len(trainloader))\n",
        "    opt.param_groups[0].update(lr=lr)\n",
        "    opt.zero_grad()\n",
        "\n",
        "    with torch.cuda.amp.autocast():\n",
        "      output = model(X)\n",
        "      loss = criterion(output,y)\n",
        "    \n",
        "    scaler.scale(loss).backward()\n",
        "\n",
        "    if clip_norm:\n",
        "      scaler.unscale_(opt)\n",
        "      nn.utils.clip_grad_norm_(model.parameters(), 1.0)\n",
        "    \n",
        "    scaler.step(opt)\n",
        "    scaler.update()\n",
        "\n",
        "    # print(y.size(0))\n",
        "    # print(loss.item())\n",
        "    train_loss += loss.item()*y.size(0)\n",
        "    train_acc += (output.max(1)[1]==y).sum().item()\n",
        "    n+=y.size(0)\n",
        "\n",
        "  model.eval()\n",
        "  test_acc, m = 0, 0\n",
        "\n",
        "  with torch.no_grad():\n",
        "    for i, (X,y) in enumerate(testloader):\n",
        "      X, y = X.cuda(), y.cuda()\n",
        "      with torch.cuda.amp.autocast():\n",
        "        output = model(X)\n",
        "      \n",
        "      test_acc += (output.max(1)[1] == y).sum().item()\n",
        "      m += y.size(0)\n",
        "\n",
        "  print(f'ConvMixer: Epoch: {epoch} | Train Acc: {train_acc/n:.4f}, Test Acc: {test_acc/m:.4f}, Time: {time.time() - start:.1f}, lr: {lr:.6f}')"
      ],
      "metadata": {
        "colab": {
          "base_uri": "https://localhost:8080/"
        },
        "id": "o2-IRCcps-JF",
        "outputId": "c8272426-2dd7-4716-9d04-98c72cf8db73"
      },
      "execution_count": 18,
      "outputs": [
        {
          "output_type": "stream",
          "name": "stderr",
          "text": [
            "/usr/local/lib/python3.9/dist-packages/torch/utils/data/dataloader.py:554: UserWarning: This DataLoader will create 4 worker processes in total. Our suggested max number of worker in current system is 2, which is smaller than what this DataLoader is going to create. Please be aware that excessive worker creation might get DataLoader running slow or even freeze, lower the worker number to avoid potential slowness/freeze if necessary.\n",
            "  warnings.warn(_create_warning_msg(\n"
          ]
        },
        {
          "output_type": "stream",
          "name": "stdout",
          "text": [
            "ConvMixer: Epoch: 0 | Train Acc: 0.2859, Test Acc: 0.4253, Time: 58.9, lr: 0.001000\n",
            "ConvMixer: Epoch: 1 | Train Acc: 0.4454, Test Acc: 0.5106, Time: 59.4, lr: 0.002000\n",
            "ConvMixer: Epoch: 2 | Train Acc: 0.5193, Test Acc: 0.5741, Time: 58.8, lr: 0.003000\n",
            "ConvMixer: Epoch: 3 | Train Acc: 0.5661, Test Acc: 0.6028, Time: 58.2, lr: 0.004000\n",
            "ConvMixer: Epoch: 4 | Train Acc: 0.6049, Test Acc: 0.6550, Time: 57.7, lr: 0.005000\n",
            "ConvMixer: Epoch: 5 | Train Acc: 0.6319, Test Acc: 0.6848, Time: 60.2, lr: 0.006000\n",
            "ConvMixer: Epoch: 6 | Train Acc: 0.6512, Test Acc: 0.6913, Time: 57.7, lr: 0.007000\n",
            "ConvMixer: Epoch: 7 | Train Acc: 0.6682, Test Acc: 0.6978, Time: 58.3, lr: 0.008000\n",
            "ConvMixer: Epoch: 8 | Train Acc: 0.6772, Test Acc: 0.7096, Time: 57.1, lr: 0.009000\n",
            "ConvMixer: Epoch: 9 | Train Acc: 0.6884, Test Acc: 0.7225, Time: 59.4, lr: 0.010000\n",
            "ConvMixer: Epoch: 10 | Train Acc: 0.7058, Test Acc: 0.7280, Time: 57.1, lr: 0.009050\n",
            "ConvMixer: Epoch: 11 | Train Acc: 0.7228, Test Acc: 0.7479, Time: 57.1, lr: 0.008100\n",
            "ConvMixer: Epoch: 12 | Train Acc: 0.7351, Test Acc: 0.7744, Time: 58.8, lr: 0.007150\n",
            "ConvMixer: Epoch: 13 | Train Acc: 0.7487, Test Acc: 0.7734, Time: 57.2, lr: 0.006200\n",
            "ConvMixer: Epoch: 14 | Train Acc: 0.7616, Test Acc: 0.7828, Time: 59.5, lr: 0.005250\n",
            "ConvMixer: Epoch: 15 | Train Acc: 0.7736, Test Acc: 0.8005, Time: 57.2, lr: 0.004300\n",
            "ConvMixer: Epoch: 16 | Train Acc: 0.7857, Test Acc: 0.8075, Time: 57.4, lr: 0.003350\n",
            "ConvMixer: Epoch: 17 | Train Acc: 0.7944, Test Acc: 0.8198, Time: 57.7, lr: 0.002400\n",
            "ConvMixer: Epoch: 18 | Train Acc: 0.8069, Test Acc: 0.8240, Time: 58.3, lr: 0.001450\n",
            "ConvMixer: Epoch: 19 | Train Acc: 0.8152, Test Acc: 0.8342, Time: 58.4, lr: 0.000500\n",
            "ConvMixer: Epoch: 20 | Train Acc: 0.8259, Test Acc: 0.8370, Time: 57.5, lr: 0.000400\n",
            "ConvMixer: Epoch: 21 | Train Acc: 0.8282, Test Acc: 0.8364, Time: 57.8, lr: 0.000300\n",
            "ConvMixer: Epoch: 22 | Train Acc: 0.8291, Test Acc: 0.8383, Time: 58.8, lr: 0.000200\n",
            "ConvMixer: Epoch: 23 | Train Acc: 0.8313, Test Acc: 0.8386, Time: 56.4, lr: 0.000100\n",
            "ConvMixer: Epoch: 24 | Train Acc: 0.8313, Test Acc: 0.8390, Time: 57.4, lr: 0.000000\n"
          ]
        }
      ]
    },
    {
      "cell_type": "code",
      "source": [],
      "metadata": {
        "id": "CfZC4cEu0Fwk"
      },
      "execution_count": 18,
      "outputs": []
    }
  ]
}