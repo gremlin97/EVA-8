{
  "nbformat": 4,
  "nbformat_minor": 0,
  "metadata": {
    "colab": {
      "provenance": [],
      "authorship_tag": "ABX9TyOe/MonqUHVkV/qVFLQXCmt",
      "include_colab_link": true
    },
    "kernelspec": {
      "name": "python3",
      "display_name": "Python 3"
    },
    "language_info": {
      "name": "python"
    },
    "accelerator": "GPU",
    "gpuClass": "standard"
  },
  "cells": [
    {
      "cell_type": "markdown",
      "metadata": {
        "id": "view-in-github",
        "colab_type": "text"
      },
      "source": [
        "<a href=\"https://colab.research.google.com/github/gremlin97/EVA-8/blob/main/S10/Implementations/ConvMixer.ipynb\" target=\"_parent\"><img src=\"https://colab.research.google.com/assets/colab-badge.svg\" alt=\"Open In Colab\"/></a>"
      ]
    },
    {
      "cell_type": "markdown",
      "source": [
        "# Implementation: Patches are all you Need?"
      ],
      "metadata": {
        "id": "fO5P2TlSmyU9"
      }
    },
    {
      "cell_type": "code",
      "execution_count": 1,
      "metadata": {
        "id": "R3Vk2HvU8hxZ"
      },
      "outputs": [],
      "source": [
        "import torch\n",
        "import torch.nn as nn\n",
        "import torch.optim as optim\n",
        "import torchvision\n",
        "import torchvision.transforms as transforms\n",
        "import numpy as np\n",
        "import time\n",
        "import argparse"
      ]
    },
    {
      "cell_type": "code",
      "source": [
        "# Residual Class Template creates for further use in the network\n",
        "class Residual(nn.Module):\n",
        "  def __init__(self, fn):\n",
        "    super().__init__()\n",
        "    self.fn = fn\n",
        "  \n",
        "  def forward(self, x):\n",
        "    return self.fn(x) + x"
      ],
      "metadata": {
        "id": "p2EmEyAN9RZg"
      },
      "execution_count": 2,
      "outputs": []
    },
    {
      "cell_type": "code",
      "source": [
        "def ConvMixer(dim, depth, kernel_size=3, patch_size=2, n_classes=10):\n",
        "  return nn.Sequential(\n",
        "      nn.Conv2d(3, dim, kernel_size=patch_size, stride=patch_size), # Initial Convolution to create the patches as well as the embeddings\n",
        "      nn.GELU(), # Batchnorm and Gelu (~ViT activation function) activation used\n",
        "      nn.BatchNorm2d(dim),\n",
        "      *[  # Unroll (list comprehension) Sequential block consisting of conv-gelu-bn => point-wise convolution to specified depth\n",
        "          nn.Sequential(\n",
        "              Residual( # Residual block to add residue to high connections x=f(x)+x\n",
        "                  nn.Sequential( \n",
        "                      nn.Conv2d(dim, dim, kernel_size, groups=dim, padding = \"same\"), \n",
        "                      nn.GELU(),\n",
        "                      nn.BatchNorm2d(dim)\n",
        "                  ) # Logic: Inital conv2d creates our value matrices (256) from our patch embeddings. We use the kernel as our effective attention matrix (q x k.T) and repeat this structure as successive attention blocks. The channels represent multi-head attention \n",
        "              ),\n",
        "              nn.Conv2d(dim, dim, kernel_size=1), # Pointwise convolution to mix and merge channels (dim is constant)\n",
        "              nn.GELU(),\n",
        "              nn.BatchNorm2d(dim)\n",
        "          )for i in range(depth) # Unroll to depth d\n",
        "      ],\n",
        "      nn.AdaptiveAvgPool2d((1,1)), # GAP Layer\n",
        "      nn.Flatten(),\n",
        "      nn.Linear(dim, n_classes) # FC layer=num of classes / MLP head\n",
        "  )"
      ],
      "metadata": {
        "id": "cr3yYDHPY4Vi"
      },
      "execution_count": 3,
      "outputs": []
    },
    {
      "cell_type": "code",
      "source": [
        "cifar10_mean = (0.4914, 0.4822, 0.4465)\n",
        "cifar10_std = (0.2471, 0.2435, 0.2616)\n",
        "\n",
        "train_transform = transforms.Compose([\n",
        "    transforms.RandomResizedCrop(32, scale=(0.75, 1.0), ratio=(1.0, 1.0)),\n",
        "    transforms.RandomHorizontalFlip(p=0.5),\n",
        "    transforms.RandAugment(num_ops=1, magnitude=8),\n",
        "    transforms.ColorJitter(0.1, 0.1, 0.1),\n",
        "    transforms.ToTensor(),\n",
        "    transforms.Normalize(cifar10_mean, cifar10_std),\n",
        "    transforms.RandomErasing(p=0.25)\n",
        "])\n",
        "\n",
        "test_transform = transforms.Compose([\n",
        "    transforms.ToTensor(),\n",
        "    transforms.Normalize(cifar10_mean, cifar10_std)\n",
        "])\n",
        "\n",
        "epochs = 25\n",
        "batch_size =512\n",
        "\n",
        "trainset = torchvision.datasets.CIFAR10(root='./data', train=True,\n",
        "                                        download=True, transform=train_transform)\n",
        "trainloader = torch.utils.data.DataLoader(trainset, batch_size=batch_size,\n",
        "                                          shuffle=True, num_workers=4)\n",
        "\n",
        "testset = torchvision.datasets.CIFAR10(root='./data', train=False,\n",
        "                                       download=True, transform=test_transform)\n",
        "testloader = torch.utils.data.DataLoader(testset, batch_size=64,\n",
        "                                         shuffle=False, num_workers=4)"
      ],
      "metadata": {
        "colab": {
          "base_uri": "https://localhost:8080/"
        },
        "id": "_kFUrqall08R",
        "outputId": "5a7ab95e-a8be-4bc3-9360-68fb27b388c7"
      },
      "execution_count": 4,
      "outputs": [
        {
          "output_type": "stream",
          "name": "stdout",
          "text": [
            "Files already downloaded and verified\n"
          ]
        },
        {
          "output_type": "stream",
          "name": "stderr",
          "text": [
            "/usr/local/lib/python3.9/dist-packages/torch/utils/data/dataloader.py:554: UserWarning: This DataLoader will create 4 worker processes in total. Our suggested max number of worker in current system is 2, which is smaller than what this DataLoader is going to create. Please be aware that excessive worker creation might get DataLoader running slow or even freeze, lower the worker number to avoid potential slowness/freeze if necessary.\n",
            "  warnings.warn(_create_warning_msg(\n"
          ]
        },
        {
          "output_type": "stream",
          "name": "stdout",
          "text": [
            "Files already downloaded and verified\n"
          ]
        }
      ]
    },
    {
      "cell_type": "code",
      "source": [
        "depth = 10\n",
        "dim = 256\n",
        "psize = 2\n",
        "conv_ks =  5\n",
        "clip_norm =  True\n",
        "\n",
        "model = ConvMixer(depth, dim, psize, conv_ks, n_classes=10)\n",
        "model = nn.DataParallel(model, device_ids = [0]).cuda()\n",
        "\n",
        "opt = optim.AdamW(model.parameters(), lr=0.01, weight_decay=0.01)\n",
        "criterion = nn.CrossEntropyLoss()\n",
        "scaler = torch.cuda.amp.GradScaler()\n",
        "\n",
        "lr_schedule = lambda t: np.interp([t],[0, epochs*2//5, epochs*4//5, epochs], [0, 0.01, 0.01/20, 0])[0]"
      ],
      "metadata": {
        "id": "Hjxx45sPnRGW"
      },
      "execution_count": 5,
      "outputs": []
    },
    {
      "cell_type": "code",
      "source": [
        "# Checking lr_schedule and numpy interpolation\n",
        "np.interp([1],[0, epochs*2//5, epochs*4//5, epochs], [0, 0.01, 0.01/20, 0])[0]\n",
        "lr_schedule(1)"
      ],
      "metadata": {
        "colab": {
          "base_uri": "https://localhost:8080/"
        },
        "id": "ffetd5yOsirk",
        "outputId": "2984bd16-be94-407a-aad8-f7267b81ec4d"
      },
      "execution_count": 6,
      "outputs": [
        {
          "output_type": "execute_result",
          "data": {
            "text/plain": [
              "0.001"
            ]
          },
          "metadata": {},
          "execution_count": 6
        }
      ]
    },
    {
      "cell_type": "code",
      "source": [
        "for epoch in range(epochs):\n",
        "  start = time.time()\n",
        "\n",
        "  train_loss, train_acc, n = 0, 0 ,0\n",
        "\n",
        "  for i, (X,y) in enumerate(trainloader):\n",
        "    model.train()\n",
        "    X, y = X.cuda(), y.cuda()\n",
        "    lr = lr_schedule(epoch + (i+1)/len(trainloader))\n",
        "    opt.param_groups[0].update(lr=lr)\n",
        "    opt.zero_grad()\n",
        "\n",
        "    with torch.cuda.amp.autocast():\n",
        "      output = model(X)\n",
        "      loss = criterion(output,y)\n",
        "    \n",
        "    scaler.scale(loss).backward()\n",
        "\n",
        "    if clip_norm:\n",
        "      scaler.unscale_(opt)\n",
        "      nn.utils.clip_grad_norm_(model.parameters(), 1.0)\n",
        "    \n",
        "    scaler.step(opt)\n",
        "    scaler.update()\n",
        "\n",
        "    # print(y.size(0))\n",
        "    # print(loss.item())\n",
        "    train_loss += loss.item()*y.size(0)\n",
        "    train_acc += (output.max(1)[1]==y).sum().item()\n",
        "    n+=y.size(0)\n",
        "\n",
        "  model.eval()\n",
        "  test_acc, m = 0, 0\n",
        "\n",
        "  with torch.no_grad():\n",
        "    for i, (X,y) in enumerate(testloader):\n",
        "      X, y = X.cuda(), y.cuda()\n",
        "      with torch.cuda.amp.autocast():\n",
        "        output = model(X)\n",
        "      \n",
        "      test_acc += (output.max(1)[1] == y).sum().item()\n",
        "      m += y.size(0)\n",
        "\n",
        "  print(f'ConvMixer: Epoch: {epoch} | Train Acc: {train_acc/n:.4f}, Test Acc: {test_acc/m:.4f}, Time: {time.time() - start:.1f}, lr: {lr:.6f}')"
      ],
      "metadata": {
        "colab": {
          "base_uri": "https://localhost:8080/"
        },
        "id": "o2-IRCcps-JF",
        "outputId": "1691e1d4-7a62-4f6d-e05e-34f6ef9ec64c"
      },
      "execution_count": null,
      "outputs": [
        {
          "metadata": {
            "tags": null
          },
          "name": "stderr",
          "output_type": "stream",
          "text": [
            "/usr/local/lib/python3.9/dist-packages/torch/nn/modules/conv.py:459: UserWarning: Using padding='same' with even kernel lengths and odd dilation may require a zero-padded copy of the input be created (Triggered internally at ../aten/src/ATen/native/Convolution.cpp:895.)\n",
            "  return F.conv2d(input, weight, bias, self.stride,\n"
          ]
        },
        {
          "metadata": {
            "tags": null
          },
          "name": "stdout",
          "output_type": "stream",
          "text": [
            "ConvMixer: Epoch: 0 | Train Acc: 0.0991, Test Acc: 0.1000, Time: 139.8, lr: 0.001000\n",
            "ConvMixer: Epoch: 1 | Train Acc: 0.0999, Test Acc: 0.0999, Time: 126.0, lr: 0.002000\n",
            "ConvMixer: Epoch: 2 | Train Acc: 0.0985, Test Acc: 0.1000, Time: 126.4, lr: 0.003000\n",
            "ConvMixer: Epoch: 3 | Train Acc: 0.0997, Test Acc: 0.0947, Time: 125.1, lr: 0.004000\n",
            "ConvMixer: Epoch: 4 | Train Acc: 0.0995, Test Acc: 0.1000, Time: 125.9, lr: 0.005000\n",
            "ConvMixer: Epoch: 5 | Train Acc: 0.1010, Test Acc: 0.1000, Time: 125.1, lr: 0.006000\n",
            "ConvMixer: Epoch: 6 | Train Acc: 0.1001, Test Acc: 0.1000, Time: 125.5, lr: 0.007000\n",
            "ConvMixer: Epoch: 7 | Train Acc: 0.0987, Test Acc: 0.1000, Time: 123.9, lr: 0.008000\n",
            "ConvMixer: Epoch: 8 | Train Acc: 0.0997, Test Acc: 0.1000, Time: 125.5, lr: 0.009000\n",
            "ConvMixer: Epoch: 9 | Train Acc: 0.0989, Test Acc: 0.1000, Time: 122.0, lr: 0.010000\n"
          ]
        }
      ]
    }
  ]
}