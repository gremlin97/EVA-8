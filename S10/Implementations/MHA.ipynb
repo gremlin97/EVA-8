{
  "nbformat": 4,
  "nbformat_minor": 0,
  "metadata": {
    "colab": {
      "provenance": [],
      "mount_file_id": "1voSVvz0kYiY9XFcz3P7BE5Bsx_ZdW20c",
      "authorship_tag": "ABX9TyNniZ6YnVRrmuIPsEuZZ6GD",
      "include_colab_link": true
    },
    "kernelspec": {
      "name": "python3",
      "display_name": "Python 3"
    },
    "language_info": {
      "name": "python"
    }
  },
  "cells": [
    {
      "cell_type": "markdown",
      "metadata": {
        "id": "view-in-github",
        "colab_type": "text"
      },
      "source": [
        "<a href=\"https://colab.research.google.com/github/gremlin97/EVA-8/blob/main/S10/Implementations/MHA.ipynb\" target=\"_parent\"><img src=\"https://colab.research.google.com/assets/colab-badge.svg\" alt=\"Open In Colab\"/></a>"
      ]
    },
    {
      "cell_type": "code",
      "execution_count": 2,
      "metadata": {
        "id": "YyynNsRxySXm"
      },
      "outputs": [],
      "source": [
        "# Importing required libraries\n",
        "from torch.utils.data import Dataset\n",
        "import torch.nn.functional as F\n",
        "from collections import Counter\n",
        "from os.path import exists\n",
        "import torch.optim as optim\n",
        "import torch.nn as nn\n",
        "import numpy as np\n",
        "import random\n",
        "import torch\n",
        "import math\n",
        "import re"
      ]
    },
    {
      "cell_type": "code",
      "source": [
        "def attention(q,k,v, dropout=None):\n",
        "  scores = q.matmul(k.transpose(-2,-1))/(math.sqrt(k.shape[-1]))\n",
        "\n",
        "  scores = F.softmax(scores,dim=-1) # bx seq_len x embeddings [word1, word2, word3...word(seqlen)]\n",
        "\n",
        "  scores = dropout(scores) if dropout is not None else scores\n",
        "\n",
        "  out = scores.matmul(v)\n",
        "\n",
        "  return out  "
      ],
      "metadata": {
        "id": "ULIa08K-zOtf"
      },
      "execution_count": 3,
      "outputs": []
    },
    {
      "cell_type": "code",
      "source": [
        "class MHAttention(nn.Module):\n",
        "  def __init__(self, heads, out_dim, dropout=0.1):\n",
        "    super().__init__()\n",
        "\n",
        "    self.Wk =  nn.Linear(out_dim, out_dim)\n",
        "    self.Wq =  nn.Linear(out_dim, out_dim)\n",
        "    self.Wv =  nn.Linear(out_dim, out_dim)\n",
        "\n",
        "    self.heads = heads\n",
        "    self.out_dim = out_dim\n",
        "    self.out_head_dim = out_dim//heads\n",
        "    self.unify_heads = nn.Linear(out_dim,out_dim)\n",
        "    self.dropout = nn.Dropout(dropout)\n",
        "\n",
        "  def split_heads(self, x):\n",
        "    return x.reshape(x.shape[0], self.heads, -1, self.out_head_dim)\n",
        "  \n",
        "  def forward(self, x):\n",
        "    k = self.Wk(x)\n",
        "    q = self.Wq(x)\n",
        "    v = self.Wv(x)\n",
        "\n",
        "    k = self.split_heads(k)\n",
        "    q = self.split_heads(q)\n",
        "    v = self.split_heads(v)\n",
        "\n",
        "    scores = attention(k,q,v,self.dropout)\n",
        "    scores = scores.transpose(1,2).contiguous().view(scores.shape[0],-1,self.out_dim)\n",
        "    out = self.unify_heads(scores)\n",
        "    return out"
      ],
      "metadata": {
        "id": "8JbcbuCyf9uC"
      },
      "execution_count": 4,
      "outputs": []
    },
    {
      "cell_type": "code",
      "source": [
        "class FeedForward(nn.Module):\n",
        "  def __init__(self, inp_dim, inner_dim, dropout=0.1):\n",
        "    super().__init__()\n",
        "    self.linear1 = nn.Linear(inp_dim,inner_dim)\n",
        "    self.linear2 = nn.Linear(inner_dim,inp_dim)\n",
        "    self.dropout = nn.Dropout(dropout)\n",
        "\n",
        "  def forward(self,x):\n",
        "    return self.linear2(self.dropout(F.relu(self.linear1(x))))\n",
        "\n",
        "class Encoder(nn.Module):\n",
        "  def __init__(self, heads, transformer_dim, ff_inner_dim,dropout=0.1):\n",
        "    super().__init__()\n",
        "    self.mha = MHAttention(heads,transformer_dim,dropout)\n",
        "    self.ff = FeedForward(transformer_dim,ff_inner_dim,dropout)\n",
        "    self.norm = nn.LayerNorm(transformer_dim)\n",
        "    self.dropout = nn.Dropout(dropout)\n",
        "  \n",
        "  def forward(self, x):\n",
        "    x_res = self.norm(x)\n",
        "    x = x + self.dropout(self.mha(x_res))\n",
        "    x_res = self.norm(x)\n",
        "    x = x + self.dropout(self.ff(x_res))\n",
        "\n",
        "    x_res = self.norm(x)\n",
        "    x = x + self.dropout(self.mha(x_res))\n",
        "    x_res = self.norm(x)\n",
        "    x = x + self.dropout(self.ff(x_res))\n",
        "\n",
        "    return x"
      ],
      "metadata": {
        "id": "j9d4IjcIgsCI"
      },
      "execution_count": 5,
      "outputs": []
    },
    {
      "cell_type": "code",
      "source": [
        "heads = 4\n",
        "embed_size = 64\n",
        "ff_dim = 2*embed_size\n",
        "seq_len = 10\n",
        "enc = Encoder(heads,embed_size,ff_dim,0.1)\n",
        "out = enc(torch.randn(2,seq_len,embed_size))"
      ],
      "metadata": {
        "id": "Lm_qbA5NSxQZ"
      },
      "execution_count": 6,
      "outputs": []
    },
    {
      "cell_type": "code",
      "source": [
        "out.shape"
      ],
      "metadata": {
        "colab": {
          "base_uri": "https://localhost:8080/"
        },
        "id": "_hH9Lg_mS8K0",
        "outputId": "3890b5d3-a18f-4593-8eba-23f057703c54"
      },
      "execution_count": 7,
      "outputs": [
        {
          "output_type": "execute_result",
          "data": {
            "text/plain": [
              "torch.Size([2, 10, 64])"
            ]
          },
          "metadata": {},
          "execution_count": 7
        }
      ]
    },
    {
      "cell_type": "code",
      "source": [
        "torch.save(enc.state_dict(), 'encoder_weights.pth')"
      ],
      "metadata": {
        "id": "yGWKynwqWdwl"
      },
      "execution_count": 8,
      "outputs": []
    },
    {
      "cell_type": "code",
      "source": [
        "encoder2 = Encoder(heads, embed_size, ff_dim, dropout=0.1)\n",
        "encoder2.load_state_dict(torch.load('encoder_weights.pth'))"
      ],
      "metadata": {
        "colab": {
          "base_uri": "https://localhost:8080/"
        },
        "id": "1H-Iz_-KWgUH",
        "outputId": "5aff65a2-7307-4efc-c4de-88f7293981f9"
      },
      "execution_count": 9,
      "outputs": [
        {
          "output_type": "execute_result",
          "data": {
            "text/plain": [
              "<All keys matched successfully>"
            ]
          },
          "metadata": {},
          "execution_count": 9
        }
      ]
    },
    {
      "cell_type": "code",
      "source": [
        "out = encoder2(torch.randn(2,seq_len,embed_size))\n",
        "out.shape"
      ],
      "metadata": {
        "colab": {
          "base_uri": "https://localhost:8080/"
        },
        "id": "T1xA_fWhWmsE",
        "outputId": "30be9fdd-bebe-478f-b3f8-4c865ec7fc54"
      },
      "execution_count": 10,
      "outputs": [
        {
          "output_type": "execute_result",
          "data": {
            "text/plain": [
              "torch.Size([2, 10, 64])"
            ]
          },
          "metadata": {},
          "execution_count": 10
        }
      ]
    },
    {
      "cell_type": "code",
      "source": [
        "# import tensorflow as tf\n",
        "# import tensorflow.keras.layers as layers\n",
        "# import math\n",
        "\n",
        "# def attention(q, k, v, dropout=None):\n",
        "#   scores = tf.matmul(q, tf.transpose(k, perm=[0, 1, 3, 2])) / math.sqrt(k.shape[-1])\n",
        "\n",
        "#   scores = tf.nn.softmax(scores, axis=-1)\n",
        "\n",
        "#   scores = dropout(scores) if dropout is not None else scores\n",
        "\n",
        "#   out = tf.matmul(scores, v)\n",
        "\n",
        "#   return out\n",
        "\n",
        "# class MHAttention(tf.keras.layers.Layer):\n",
        "#   def __init__(self, heads, out_dim, dropout=0.1):\n",
        "#     super(MHAttention, self).__init__()\n",
        "\n",
        "#     self.Wk = layers.Dense(out_dim)\n",
        "#     self.Wq = layers.Dense(out_dim)\n",
        "#     self.Wv = layers.Dense(out_dim)\n",
        "\n",
        "#     self.heads = heads\n",
        "#     self.out_dim = out_dim\n",
        "#     self.out_head_dim = out_dim // heads\n",
        "#     self.unify_heads = layers.Dense(out_dim)\n",
        "#     self.dropout = layers.Dropout(dropout)\n",
        "\n",
        "#   def split_heads(self, x):\n",
        "#     return tf.reshape(x, [x.shape[0], self.heads, -1, self.out_head_dim])\n",
        "\n",
        "#   def call(self, x):\n",
        "#     k = self.Wk(x)\n",
        "#     q = self.Wq(x)\n",
        "#     v = self.Wv(x)\n",
        "\n",
        "#     k = self.split_heads(k)\n",
        "#     q = self.split_heads(q)\n",
        "#     v = self.split_heads(v)\n",
        "\n",
        "#     scores = attention(q, k, v, self.dropout)\n",
        "#     scores = tf.reshape(tf.transpose(scores, perm=[0, 2, 1, 3]), [scores.shape[0], -1, self.out_dim])\n",
        "#     out = self.unify_heads(scores)\n",
        "#     return out\n",
        "\n",
        "# class FeedForward(tf.keras.layers.Layer):\n",
        "#   def __init__(self, inp_dim, inner_dim, dropout=0.1):\n",
        "#     super(FeedForward, self).__init__()\n",
        "#     self.linear1 = layers.Dense(inner_dim)\n",
        "#     self.linear2 = layers.Dense(inp_dim)\n",
        "#     self.dropout = layers.Dropout(dropout)\n",
        "\n",
        "#   def call(self, x):\n",
        "#     return self.linear2(self.dropout(tf.nn.relu(self.linear1(x))))\n",
        "\n",
        "# class Encoder(tf.keras.layers.Layer):\n",
        "#   def __init__(self, heads, transformer_dim, ff_inner_dim, dropout=0.1):\n",
        "#     super(Encoder, self).__init__()\n",
        "#     self.mha = MHAttention(heads, transformer_dim, dropout)\n",
        "#     self.ff = FeedForward(transformer_dim, ff_inner_dim, dropout)\n",
        "#     self.norm = layers.LayerNormalization()\n",
        "#     self.dropout = layers.Dropout(dropout)\n",
        "  \n",
        "#   def call(self, x):\n",
        "#     x_res = self.norm(x)\n",
        "#     x = x + self.dropout(self.mha(x_res))\n",
        "#     x_res = self.norm(x)\n",
        "#     x = x + self.dropout(self.ff(x_res))\n",
        "\n",
        "#     x_res = self.norm(x)\n",
        "#     x = x + self.dropout(self.mha(x_res))\n",
        "#     x_res = self.norm(x)\n",
        "#     x = x + self.dropout(self.ff(x_res))\n",
        "\n",
        "#     return x\n",
        "\n",
        "# heads = 4\n",
        "# embed_size = 64\n",
        "# ff_dim = 2*embed_size\n",
        "# seq_len = 10\n",
        "# enc = Encoder(heads, embed_size, ff_dim, 0.1)\n",
        "# out = enc(tf.random.normal([2, seq_len, embed_size]))\n",
        "# print(out.shape)"
      ],
      "metadata": {
        "id": "DoKBsxJFWrbQ",
        "colab": {
          "base_uri": "https://localhost:8080/"
        },
        "outputId": "fcec33ec-c9e5-4b19-a177-0a69ba074549"
      },
      "execution_count": 36,
      "outputs": [
        {
          "output_type": "stream",
          "name": "stdout",
          "text": [
            "(2, 10, 64)\n"
          ]
        }
      ]
    },
    {
      "cell_type": "code",
      "source": [
        "import tensorflow as tf\n",
        "from tensorflow.keras import layers\n",
        "\n",
        "\n",
        "def attention(q, k, v, dropout=None):\n",
        "    scores = tf.matmul(q, tf.transpose(k, perm=[0, 2, 1])) / tf.math.sqrt(tf.cast(k.shape[-1], tf.float32))\n",
        "    scores = tf.nn.softmax(scores, axis=-1)\n",
        "    scores = dropout(scores) if dropout is not None else scores\n",
        "    out = tf.matmul(scores, v)\n",
        "    return out\n",
        "\n",
        "\n",
        "class MHAttention(layers.Layer):\n",
        "    def __init__(self, heads, out_dim, dropout=0.1):\n",
        "        super().__init__()\n",
        "\n",
        "        self.Wk = layers.Dense(out_dim)\n",
        "        self.Wq = layers.Dense(out_dim)\n",
        "        self.Wv = layers.Dense(out_dim)\n",
        "\n",
        "        self.heads = heads\n",
        "        self.out_dim = out_dim\n",
        "        self.out_head_dim = out_dim // heads\n",
        "        self.unify_heads = layers.Dense(out_dim)\n",
        "        self.dropout = layers.Dropout(dropout)\n",
        "\n",
        "    def split_heads(self, x):\n",
        "      return tf.reshape(x, [self.heads, -1, self.out_head_dim])\n",
        "\n",
        "    def call(self, x):\n",
        "        k = self.Wk(x)\n",
        "        q = self.Wq(x)\n",
        "        v = self.Wv(x)\n",
        "\n",
        "        k = self.split_heads(k)\n",
        "        q = self.split_heads(q)\n",
        "        v = self.split_heads(v)\n",
        "\n",
        "        scores = attention(q, k, v, self.dropout)\n",
        "        scores = tf.reshape(scores, [self.heads, seq_len, self.out_head_dim])\n",
        "        scores = tf.reshape(scores, [-1, self.out_dim])\n",
        "        out = self.unify_heads(scores)\n",
        "        return out\n",
        "\n",
        "class FeedForward(layers.Layer):\n",
        "    def __init__(self, inp_dim, inner_dim, dropout=0.1):\n",
        "        super().__init__()\n",
        "        self.linear1 = layers.Dense(inner_dim, activation='relu')\n",
        "        self.linear2 = layers.Dense(inp_dim)\n",
        "        self.dropout = layers.Dropout(dropout)\n",
        "\n",
        "    def call(self, x):\n",
        "        return self.linear2(self.dropout(self.linear1(x)))\n",
        "\n",
        "class Encoder(layers.Layer):\n",
        "    def __init__(self, heads, transformer_dim, ff_inner_dim, dropout=0.1):\n",
        "        super().__init__()\n",
        "        self.mha = MHAttention(heads, transformer_dim, dropout)\n",
        "        self.ff = FeedForward(transformer_dim, ff_inner_dim, dropout)\n",
        "        self.norm = layers.LayerNormalization()\n",
        "        self.dropout = layers.Dropout(dropout)\n",
        "\n",
        "    def call(self, x):\n",
        "        x_res = self.norm(x)\n",
        "        x = x + self.dropout(self.mha(x_res))\n",
        "        x_res = self.norm(x)\n",
        "        x = x + self.dropout(self.ff(x_res))\n",
        "\n",
        "        x_res = self.norm(x)\n",
        "        x = x + self.dropout(self.mha(x_res))\n",
        "        x_res = self.norm(x)\n",
        "        x = x + self.dropout(self.ff(x_res))\n",
        "\n",
        "        return x"
      ],
      "metadata": {
        "id": "3a-5glPzn4kj"
      },
      "execution_count": 67,
      "outputs": []
    },
    {
      "cell_type": "code",
      "source": [
        "# define the encoder model\n",
        "heads = 4\n",
        "embed_size = 64\n",
        "ff_dim = 2*embed_size\n",
        "seq_len = 8\n",
        "enc = Encoder(heads,embed_size,ff_dim,0.1)\n",
        "\n",
        "inputs = tf.keras.layers.Input(shape=(seq_len, embed_size))\n",
        "outputs = enc(inputs)\n",
        "model = tf.keras.Model(inputs=inputs, outputs=outputs)\n",
        "\n",
        "# # save the model\n",
        "# tf.keras.models.save_model(model, 'encoder_weights.h5')"
      ],
      "metadata": {
        "id": "9YJBW_Cjs_v_"
      },
      "execution_count": 68,
      "outputs": []
    },
    {
      "cell_type": "code",
      "source": [
        "model.summary()"
      ],
      "metadata": {
        "colab": {
          "base_uri": "https://localhost:8080/"
        },
        "id": "ny4-isxVtB6Z",
        "outputId": "fe50b89f-0387-4d46-f48d-dfa8b233e50c"
      },
      "execution_count": 69,
      "outputs": [
        {
          "output_type": "stream",
          "name": "stdout",
          "text": [
            "Model: \"model_2\"\n",
            "_________________________________________________________________\n",
            " Layer (type)                Output Shape              Param #   \n",
            "=================================================================\n",
            " input_33 (InputLayer)       [(None, 8, 64)]           0         \n",
            "                                                                 \n",
            " encoder_34 (Encoder)        (None, 8, 64)             33344     \n",
            "                                                                 \n",
            "=================================================================\n",
            "Total params: 33,344\n",
            "Trainable params: 33,344\n",
            "Non-trainable params: 0\n",
            "_________________________________________________________________\n"
          ]
        }
      ]
    },
    {
      "cell_type": "code",
      "source": [
        "# input_seq = np.random.random((2, 10, 64))\n",
        "inp = tf.random.normal(shape=(1, 8, 64))\n",
        "\n",
        "# get the output\n",
        "output = model.predict(inp)\n",
        "\n",
        "# print the output shape\n",
        "print(output.shape)"
      ],
      "metadata": {
        "colab": {
          "base_uri": "https://localhost:8080/"
        },
        "id": "u76V5NPAxI51",
        "outputId": "d321fe65-78b2-4073-bc90-ee336382d22b"
      },
      "execution_count": 70,
      "outputs": [
        {
          "output_type": "stream",
          "name": "stdout",
          "text": [
            "1/1 [==============================] - 1s 503ms/step\n",
            "(1, 8, 64)\n"
          ]
        }
      ]
    },
    {
      "cell_type": "code",
      "source": [
        "!pip install mxnet"
      ],
      "metadata": {
        "colab": {
          "base_uri": "https://localhost:8080/"
        },
        "id": "JUHM9AfAnXFE",
        "outputId": "dd09192d-bd19-4793-8d87-6e309280a17a"
      },
      "execution_count": 73,
      "outputs": [
        {
          "output_type": "stream",
          "name": "stdout",
          "text": [
            "Looking in indexes: https://pypi.org/simple, https://us-python.pkg.dev/colab-wheels/public/simple/\n",
            "Collecting mxnet\n",
            "  Downloading mxnet-1.9.1-py3-none-manylinux2014_x86_64.whl (49.1 MB)\n",
            "\u001b[2K     \u001b[90m━━━━━━━━━━━━━━━━━━━━━━━━━━━━━━━━━━━━━━━━\u001b[0m \u001b[32m49.1/49.1 MB\u001b[0m \u001b[31m13.0 MB/s\u001b[0m eta \u001b[36m0:00:00\u001b[0m\n",
            "\u001b[?25hCollecting graphviz<0.9.0,>=0.8.1\n",
            "  Downloading graphviz-0.8.4-py2.py3-none-any.whl (16 kB)\n",
            "Requirement already satisfied: numpy<2.0.0,>1.16.0 in /usr/local/lib/python3.9/dist-packages (from mxnet) (1.22.4)\n",
            "Requirement already satisfied: requests<3,>=2.20.0 in /usr/local/lib/python3.9/dist-packages (from mxnet) (2.27.1)\n",
            "Requirement already satisfied: charset-normalizer~=2.0.0 in /usr/local/lib/python3.9/dist-packages (from requests<3,>=2.20.0->mxnet) (2.0.12)\n",
            "Requirement already satisfied: urllib3<1.27,>=1.21.1 in /usr/local/lib/python3.9/dist-packages (from requests<3,>=2.20.0->mxnet) (1.26.15)\n",
            "Requirement already satisfied: idna<4,>=2.5 in /usr/local/lib/python3.9/dist-packages (from requests<3,>=2.20.0->mxnet) (3.4)\n",
            "Requirement already satisfied: certifi>=2017.4.17 in /usr/local/lib/python3.9/dist-packages (from requests<3,>=2.20.0->mxnet) (2022.12.7)\n",
            "Installing collected packages: graphviz, mxnet\n",
            "  Attempting uninstall: graphviz\n",
            "    Found existing installation: graphviz 0.20.1\n",
            "    Uninstalling graphviz-0.20.1:\n",
            "      Successfully uninstalled graphviz-0.20.1\n",
            "Successfully installed graphviz-0.8.4 mxnet-1.9.1\n"
          ]
        }
      ]
    },
    {
      "cell_type": "code",
      "source": [],
      "metadata": {
        "id": "zYRosgabqEBx"
      },
      "execution_count": null,
      "outputs": []
    }
  ]
}