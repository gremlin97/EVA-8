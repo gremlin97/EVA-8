{
  "nbformat": 4,
  "nbformat_minor": 0,
  "metadata": {
    "colab": {
      "provenance": [],
      "authorship_tag": "ABX9TyM2oOMFOwPbv6KETKfLjePl",
      "include_colab_link": true
    },
    "kernelspec": {
      "name": "python3",
      "display_name": "Python 3"
    },
    "language_info": {
      "name": "python"
    }
  },
  "cells": [
    {
      "cell_type": "markdown",
      "metadata": {
        "id": "view-in-github",
        "colab_type": "text"
      },
      "source": [
        "<a href=\"https://colab.research.google.com/github/gremlin97/EVA-8/blob/main/S10/s10_numpyimplementation_kqv.ipynb\" target=\"_parent\"><img src=\"https://colab.research.google.com/assets/colab-badge.svg\" alt=\"Open In Colab\"/></a>"
      ]
    },
    {
      "cell_type": "code",
      "execution_count": 2,
      "metadata": {
        "id": "NgL50UjrFlOk"
      },
      "outputs": [],
      "source": [
        "import numpy as np\n",
        "from scipy.special import softmax\n",
        "from numpy import random\n",
        "from numpy import dot"
      ]
    },
    {
      "cell_type": "code",
      "source": [
        "# Divide image into 4 patches each of size 16x16 flattened into an array of size 4x4 \n",
        "patch1 = random.rand(16)\n",
        "patch2 = random.rand(16)\n",
        "patch3 = random.rand(16)\n",
        "patch4 = random.rand(16)\n",
        "\n",
        "patches = np.array([patch1,patch2,patch3,patch4])"
      ],
      "metadata": {
        "id": "xffACYdXKRLO"
      },
      "execution_count": 11,
      "outputs": []
    },
    {
      "cell_type": "code",
      "source": [
        "print(patches,patches.shape)"
      ],
      "metadata": {
        "colab": {
          "base_uri": "https://localhost:8080/"
        },
        "id": "3n4pStBjKwfF",
        "outputId": "fc193295-1b34-4163-8b76-935115cf9206"
      },
      "execution_count": 12,
      "outputs": [
        {
          "output_type": "stream",
          "name": "stdout",
          "text": [
            "[[0.24064441 0.85062608 0.90488489 0.85256782 0.83592071 0.83303545\n",
            "  0.86650928 0.38924976 0.56899901 0.34834234 0.49909343 0.97210407\n",
            "  0.50332343 0.39416567 0.90465927 0.44025511]\n",
            " [0.6883197  0.89119508 0.28264365 0.8539873  0.54580592 0.58523281\n",
            "  0.02608525 0.15408538 0.68795655 0.17662911 0.26547793 0.56100132\n",
            "  0.70199228 0.36236018 0.7962271  0.64241802]\n",
            " [0.10068112 0.05175993 0.57868353 0.76305851 0.13902807 0.37103897\n",
            "  0.35344336 0.31731538 0.54852935 0.78959197 0.53468272 0.89595236\n",
            "  0.03784011 0.47814465 0.04715565 0.85285213]\n",
            " [0.37089219 0.60442829 0.35406021 0.60947399 0.42676099 0.81715545\n",
            "  0.29395345 0.79007931 0.88932622 0.4450922  0.8397887  0.91921491\n",
            "  0.53549684 0.01708948 0.52919083 0.82223741]] (4, 16)\n"
          ]
        }
      ]
    },
    {
      "cell_type": "code",
      "source": [
        "# Create k,q,v weight matrices\n",
        "\n",
        "W_k = random.rand(16,16)   # Size => 4x(1x16).(16x16) = 4x16\n",
        "W_q = random.rand(16,16)\n",
        "W_v = random.rand(16,16)"
      ],
      "metadata": {
        "id": "YeMhDclKKE4O"
      },
      "execution_count": 30,
      "outputs": []
    },
    {
      "cell_type": "code",
      "source": [
        "# Creating key, query and values for each patch\n",
        "\n",
        "k = patches @ W_k\n",
        "q = patches @ W_q\n",
        "v = patches @ W_v"
      ],
      "metadata": {
        "id": "wj2H5zQhMUoU"
      },
      "execution_count": 31,
      "outputs": []
    },
    {
      "cell_type": "code",
      "source": [
        "k.shape"
      ],
      "metadata": {
        "colab": {
          "base_uri": "https://localhost:8080/"
        },
        "id": "XioUA_zCPpJo",
        "outputId": "f67fe3b2-19c0-4b3a-ac42-b9da76746b3d"
      },
      "execution_count": 32,
      "outputs": [
        {
          "output_type": "execute_result",
          "data": {
            "text/plain": [
              "(4, 16)"
            ]
          },
          "metadata": {},
          "execution_count": 32
        }
      ]
    },
    {
      "cell_type": "code",
      "source": [
        "# Scaled dot-product attention\n",
        "\n",
        "scores = softmax(q @ k.transpose()/k.shape[1]**0.5, axis=1) \n",
        "attention = scores @  v"
      ],
      "metadata": {
        "id": "C40mqanSMlxI"
      },
      "execution_count": 38,
      "outputs": []
    },
    {
      "cell_type": "code",
      "source": [
        "print(attention,attention.shape)"
      ],
      "metadata": {
        "colab": {
          "base_uri": "https://localhost:8080/"
        },
        "id": "ToWSdDKaNA7z",
        "outputId": "ca383a3d-28ff-4ebe-b629-a0950ca5bc72"
      },
      "execution_count": 40,
      "outputs": [
        {
          "output_type": "stream",
          "name": "stdout",
          "text": [
            "[[7.06371176 5.39164503 3.39294889 6.56721294 4.03502699 4.79389079\n",
            "  5.96928466 3.53161361 4.26587758 4.19335524 5.49702844 5.77345245\n",
            "  4.82804957 4.8741775  4.95781711 4.31695909]\n",
            " [7.06364188 5.39162053 3.39292376 6.56720094 4.03499828 4.79389415\n",
            "  5.96924893 3.53160206 4.26586186 4.19335881 5.49702724 5.77341516\n",
            "  4.82802394 4.87412882 4.95780223 4.31692785]\n",
            " [7.06327504 5.39149192 3.39279187 6.56713788 4.03484755 4.79391176\n",
            "  5.96906136 3.53154143 4.26577931 4.19337748 5.49702091 5.77321941\n",
            "  4.8278894  4.87387324 4.95772413 4.31676388]\n",
            " [7.06369546 5.39163932 3.39294303 6.56721014 4.03502029 4.79389157\n",
            "  5.96927632 3.53161092 4.26587391 4.19335608 5.49702816 5.77344375\n",
            "  4.82804359 4.87416615 4.95781364 4.3169518 ]] (4, 16)\n"
          ]
        }
      ]
    },
    {
      "cell_type": "code",
      "source": [],
      "metadata": {
        "id": "0NgYkYL0SAKP"
      },
      "execution_count": null,
      "outputs": []
    }
  ]
}