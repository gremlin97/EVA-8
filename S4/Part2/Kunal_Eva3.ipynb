{
  "nbformat": 4,
  "nbformat_minor": 0,
  "metadata": {
    "colab": {
      "provenance": [],
      "include_colab_link": true
    },
    "kernelspec": {
      "name": "python3",
      "display_name": "Python 3"
    },
    "accelerator": "GPU"
  },
  "cells": [
    {
      "cell_type": "markdown",
      "metadata": {
        "id": "view-in-github",
        "colab_type": "text"
      },
      "source": [
        "<a href=\"https://colab.research.google.com/github/gremlin97/EVA-8/blob/main/S4/Part2/Kunal_Eva3.ipynb\" target=\"_parent\"><img src=\"https://colab.research.google.com/assets/colab-badge.svg\" alt=\"Open In Colab\"/></a>"
      ]
    },
    {
      "cell_type": "code",
      "metadata": {
        "id": "0m2JWFliFfKT"
      },
      "source": [
        "from __future__ import print_function\n",
        "import torch\n",
        "import torch.nn as nn\n",
        "import torch.nn.functional as F\n",
        "import torch.optim as optim\n",
        "from torchvision import datasets, transforms"
      ],
      "execution_count": 1,
      "outputs": []
    },
    {
      "cell_type": "code",
      "source": [
        "class Net(nn.Module):\n",
        "    def __init__(self):\n",
        "        super(Net, self).__init__()\n",
        "        self.conv1 = nn.Conv2d(1, 16, 3, padding=1) #3\n",
        "        self.bn1 = nn.BatchNorm2d(16)\n",
        "        self.pool1 = nn.MaxPool2d(2, 2) #6\n",
        "        self.drop1 = nn.Dropout(0.15)\n",
        "        self.conv3 = nn.Conv2d(16, 32, 3, padding=1) #8\n",
        "        self.bn2 = nn.BatchNorm2d(32)\n",
        "        self.pool2 = nn.MaxPool2d(2, 2) #16\n",
        "        self.drop2 = nn.Dropout(0.15)\n",
        "        self.conv5 = nn.Conv2d(32, 32, 3) #18\n",
        "\n",
        "        self.bn3 = nn.BatchNorm2d(32) \n",
        "        self.drop3 = nn.Dropout(0.15)\n",
        "        self.conv6 = nn.Conv2d(32, 10, 3) \n",
        "\n",
        "        self.gap = nn.AdaptiveAvgPool2d((1,1))\n",
        "\n",
        "    def forward(self, x):\n",
        "\n",
        "        x = self.conv6(self.drop3(self.bn3(F.relu(self.conv5(self.drop2(self.pool2(self.bn2(F.relu(self.conv3(F.relu(self.drop1(self.pool1(self.bn1(F.relu(self.conv1(x))))))))))))))))\n",
        "\n",
        "        x = self.gap(x)\n",
        "        \n",
        "        x = x.view(-1, 10)\n",
        "        return F.log_softmax(x)"
      ],
      "metadata": {
        "id": "DonoZqykydfJ"
      },
      "execution_count": 22,
      "outputs": []
    },
    {
      "cell_type": "code",
      "source": [
        "model = Net()\n",
        "out = model(torch.randn(1,1,28,28))\n",
        "print(out.shape)"
      ],
      "metadata": {
        "colab": {
          "base_uri": "https://localhost:8080/"
        },
        "id": "FUBgTH4IQZmT",
        "outputId": "61c0f5a0-697d-49c7-8da8-5e228a715840"
      },
      "execution_count": 23,
      "outputs": [
        {
          "output_type": "stream",
          "name": "stdout",
          "text": [
            "torch.Size([1, 10])\n"
          ]
        },
        {
          "output_type": "stream",
          "name": "stderr",
          "text": [
            "<ipython-input-22-e8be6f7f95f0>:27: UserWarning: Implicit dimension choice for log_softmax has been deprecated. Change the call to include dim=X as an argument.\n",
            "  return F.log_softmax(x)\n"
          ]
        }
      ]
    },
    {
      "cell_type": "code",
      "source": [
        "model"
      ],
      "metadata": {
        "colab": {
          "base_uri": "https://localhost:8080/"
        },
        "id": "y2cSqWH6Ywmy",
        "outputId": "c7b4962a-7b41-4218-aea9-a340a48bc1df"
      },
      "execution_count": 24,
      "outputs": [
        {
          "output_type": "execute_result",
          "data": {
            "text/plain": [
              "Net(\n",
              "  (conv1): Conv2d(1, 16, kernel_size=(3, 3), stride=(1, 1), padding=(1, 1))\n",
              "  (bn1): BatchNorm2d(16, eps=1e-05, momentum=0.1, affine=True, track_running_stats=True)\n",
              "  (pool1): MaxPool2d(kernel_size=2, stride=2, padding=0, dilation=1, ceil_mode=False)\n",
              "  (drop1): Dropout(p=0.15, inplace=False)\n",
              "  (conv3): Conv2d(16, 32, kernel_size=(3, 3), stride=(1, 1), padding=(1, 1))\n",
              "  (bn2): BatchNorm2d(32, eps=1e-05, momentum=0.1, affine=True, track_running_stats=True)\n",
              "  (pool2): MaxPool2d(kernel_size=2, stride=2, padding=0, dilation=1, ceil_mode=False)\n",
              "  (drop2): Dropout(p=0.15, inplace=False)\n",
              "  (conv5): Conv2d(32, 32, kernel_size=(3, 3), stride=(1, 1))\n",
              "  (bn3): BatchNorm2d(32, eps=1e-05, momentum=0.1, affine=True, track_running_stats=True)\n",
              "  (drop3): Dropout(p=0.15, inplace=False)\n",
              "  (conv6): Conv2d(32, 10, kernel_size=(3, 3), stride=(1, 1))\n",
              "  (gap): AdaptiveAvgPool2d(output_size=(1, 1))\n",
              ")"
            ]
          },
          "metadata": {},
          "execution_count": 24
        }
      ]
    },
    {
      "cell_type": "code",
      "metadata": {
        "id": "xdydjYTZFyi3",
        "colab": {
          "base_uri": "https://localhost:8080/"
        },
        "outputId": "f751fa89-a7f8-409b-fc5c-e05c33f8f45e"
      },
      "source": [
        "!pip install torchsummary\n",
        "from torchsummary import summary\n",
        "use_cuda = torch.cuda.is_available()\n",
        "device = torch.device(\"cuda\" if use_cuda else \"cpu\")\n",
        "model = Net().to(device)\n",
        "summary(model, input_size=(1, 28, 28))"
      ],
      "execution_count": 25,
      "outputs": [
        {
          "output_type": "stream",
          "name": "stdout",
          "text": [
            "Looking in indexes: https://pypi.org/simple, https://us-python.pkg.dev/colab-wheels/public/simple/\n",
            "Requirement already satisfied: torchsummary in /usr/local/lib/python3.8/dist-packages (1.5.1)\n",
            "----------------------------------------------------------------\n",
            "        Layer (type)               Output Shape         Param #\n",
            "================================================================\n",
            "            Conv2d-1           [-1, 16, 28, 28]             160\n",
            "       BatchNorm2d-2           [-1, 16, 28, 28]              32\n",
            "         MaxPool2d-3           [-1, 16, 14, 14]               0\n",
            "           Dropout-4           [-1, 16, 14, 14]               0\n",
            "            Conv2d-5           [-1, 32, 14, 14]           4,640\n",
            "       BatchNorm2d-6           [-1, 32, 14, 14]              64\n",
            "         MaxPool2d-7             [-1, 32, 7, 7]               0\n",
            "           Dropout-8             [-1, 32, 7, 7]               0\n",
            "            Conv2d-9             [-1, 32, 5, 5]           9,248\n",
            "      BatchNorm2d-10             [-1, 32, 5, 5]              64\n",
            "          Dropout-11             [-1, 32, 5, 5]               0\n",
            "           Conv2d-12             [-1, 10, 3, 3]           2,890\n",
            "AdaptiveAvgPool2d-13             [-1, 10, 1, 1]               0\n",
            "================================================================\n",
            "Total params: 17,098\n",
            "Trainable params: 17,098\n",
            "Non-trainable params: 0\n",
            "----------------------------------------------------------------\n",
            "Input size (MB): 0.00\n",
            "Forward/backward pass size (MB): 0.38\n",
            "Params size (MB): 0.07\n",
            "Estimated Total Size (MB): 0.45\n",
            "----------------------------------------------------------------\n"
          ]
        },
        {
          "output_type": "stream",
          "name": "stderr",
          "text": [
            "<ipython-input-22-e8be6f7f95f0>:27: UserWarning: Implicit dimension choice for log_softmax has been deprecated. Change the call to include dim=X as an argument.\n",
            "  return F.log_softmax(x)\n"
          ]
        }
      ]
    },
    {
      "cell_type": "code",
      "metadata": {
        "id": "DqTWLaM5GHgH"
      },
      "source": [
        "torch.manual_seed(1)\n",
        "batch_size = 32\n",
        "\n",
        "kwargs = {'num_workers': 1, 'pin_memory': True} if use_cuda else {}\n",
        "train_loader = torch.utils.data.DataLoader(\n",
        "    datasets.MNIST('../data', train=True, download=True,\n",
        "                    transform=transforms.Compose([\n",
        "                        transforms.ToTensor(),\n",
        "                        transforms.Normalize((0.1307,), (0.3081,))\n",
        "                    ])),\n",
        "    batch_size=batch_size, shuffle=True, **kwargs)\n",
        "test_loader = torch.utils.data.DataLoader(\n",
        "    datasets.MNIST('../data', train=False, transform=transforms.Compose([\n",
        "                        transforms.ToTensor(),\n",
        "                        transforms.Normalize((0.1307,), (0.3081,))\n",
        "                    ])),\n",
        "    batch_size=batch_size, shuffle=True, **kwargs)\n"
      ],
      "execution_count": 26,
      "outputs": []
    },
    {
      "cell_type": "code",
      "metadata": {
        "id": "8fDefDhaFlwH"
      },
      "source": [
        "from tqdm import tqdm\n",
        "def train(model, device, train_loader, optimizer, epoch):\n",
        "    model.train()\n",
        "    pbar = tqdm(train_loader)\n",
        "    for batch_idx, (data, target) in enumerate(pbar):\n",
        "        data, target = data.to(device), target.to(device)\n",
        "        optimizer.zero_grad()\n",
        "        output = model(data)\n",
        "        loss = F.nll_loss(output, target)\n",
        "        loss.backward()\n",
        "        optimizer.step()\n",
        "        pbar.set_description(desc= f'loss={loss.item()} batch_id={batch_idx}')\n",
        "\n",
        "\n",
        "def test(model, device, test_loader):\n",
        "    model.eval()\n",
        "    test_loss = 0\n",
        "    correct = 0\n",
        "    with torch.no_grad():\n",
        "        for data, target in test_loader:\n",
        "            data, target = data.to(device), target.to(device)\n",
        "            output = model(data)\n",
        "            test_loss += F.nll_loss(output, target, reduction='sum').item()  # sum up batch loss\n",
        "            pred = output.argmax(dim=1, keepdim=True)  # get the index of the max log-probability\n",
        "            correct += pred.eq(target.view_as(pred)).sum().item()\n",
        "\n",
        "    test_loss /= len(test_loader.dataset)\n",
        "\n",
        "    print('\\nTest set: Average loss: {:.4f}, Accuracy: {}/{} ({:.0f}%)\\n'.format(\n",
        "        test_loss, correct, len(test_loader.dataset),\n",
        "        100. * correct / len(test_loader.dataset)))"
      ],
      "execution_count": 27,
      "outputs": []
    },
    {
      "cell_type": "code",
      "metadata": {
        "id": "MMWbLWO6FuHb",
        "colab": {
          "base_uri": "https://localhost:8080/"
        },
        "outputId": "60167952-276a-4b73-837d-c81c3bb36ffe"
      },
      "source": [
        "model = Net().to(device)\n",
        "optimizer = optim.SGD(model.parameters(), lr=0.012, momentum=0.9)\n",
        "\n",
        "#lr=0.01\n",
        "\n",
        "for epoch in range(18):\n",
        "    print(\"Epoch: \",epoch+1)\n",
        "    train(model, device, train_loader, optimizer, epoch)\n",
        "    test(model, device, test_loader)"
      ],
      "execution_count": 30,
      "outputs": [
        {
          "output_type": "stream",
          "name": "stdout",
          "text": [
            "Epoch:  1\n"
          ]
        },
        {
          "output_type": "stream",
          "name": "stderr",
          "text": [
            "  0%|          | 0/1875 [00:00<?, ?it/s]<ipython-input-22-e8be6f7f95f0>:27: UserWarning: Implicit dimension choice for log_softmax has been deprecated. Change the call to include dim=X as an argument.\n",
            "  return F.log_softmax(x)\n",
            "loss=0.04736865311861038 batch_id=1874: 100%|██████████| 1875/1875 [00:27<00:00, 67.42it/s]\n"
          ]
        },
        {
          "output_type": "stream",
          "name": "stdout",
          "text": [
            "\n",
            "Test set: Average loss: 0.0382, Accuracy: 9878/10000 (99%)\n",
            "\n",
            "Epoch:  2\n"
          ]
        },
        {
          "output_type": "stream",
          "name": "stderr",
          "text": [
            "loss=0.12485630810260773 batch_id=1874: 100%|██████████| 1875/1875 [00:26<00:00, 70.35it/s]\n"
          ]
        },
        {
          "output_type": "stream",
          "name": "stdout",
          "text": [
            "\n",
            "Test set: Average loss: 0.0319, Accuracy: 9894/10000 (99%)\n",
            "\n",
            "Epoch:  3\n"
          ]
        },
        {
          "output_type": "stream",
          "name": "stderr",
          "text": [
            "loss=0.00622600968927145 batch_id=1874: 100%|██████████| 1875/1875 [00:27<00:00, 68.48it/s]\n"
          ]
        },
        {
          "output_type": "stream",
          "name": "stdout",
          "text": [
            "\n",
            "Test set: Average loss: 0.0272, Accuracy: 9909/10000 (99%)\n",
            "\n",
            "Epoch:  4\n"
          ]
        },
        {
          "output_type": "stream",
          "name": "stderr",
          "text": [
            "loss=0.056115299463272095 batch_id=1874: 100%|██████████| 1875/1875 [00:26<00:00, 70.78it/s]\n"
          ]
        },
        {
          "output_type": "stream",
          "name": "stdout",
          "text": [
            "\n",
            "Test set: Average loss: 0.0231, Accuracy: 9926/10000 (99%)\n",
            "\n",
            "Epoch:  5\n"
          ]
        },
        {
          "output_type": "stream",
          "name": "stderr",
          "text": [
            "loss=0.026963435113430023 batch_id=1874: 100%|██████████| 1875/1875 [00:26<00:00, 70.55it/s]\n"
          ]
        },
        {
          "output_type": "stream",
          "name": "stdout",
          "text": [
            "\n",
            "Test set: Average loss: 0.0277, Accuracy: 9894/10000 (99%)\n",
            "\n",
            "Epoch:  6\n"
          ]
        },
        {
          "output_type": "stream",
          "name": "stderr",
          "text": [
            "loss=0.0020414951723068953 batch_id=1874: 100%|██████████| 1875/1875 [00:26<00:00, 70.38it/s]\n"
          ]
        },
        {
          "output_type": "stream",
          "name": "stdout",
          "text": [
            "\n",
            "Test set: Average loss: 0.0222, Accuracy: 9927/10000 (99%)\n",
            "\n",
            "Epoch:  7\n"
          ]
        },
        {
          "output_type": "stream",
          "name": "stderr",
          "text": [
            "loss=0.0024074241518974304 batch_id=1874: 100%|██████████| 1875/1875 [00:26<00:00, 70.80it/s]\n"
          ]
        },
        {
          "output_type": "stream",
          "name": "stdout",
          "text": [
            "\n",
            "Test set: Average loss: 0.0197, Accuracy: 9933/10000 (99%)\n",
            "\n",
            "Epoch:  8\n"
          ]
        },
        {
          "output_type": "stream",
          "name": "stderr",
          "text": [
            "loss=0.018343215808272362 batch_id=1874: 100%|██████████| 1875/1875 [00:26<00:00, 69.68it/s]\n"
          ]
        },
        {
          "output_type": "stream",
          "name": "stdout",
          "text": [
            "\n",
            "Test set: Average loss: 0.0214, Accuracy: 9931/10000 (99%)\n",
            "\n",
            "Epoch:  9\n"
          ]
        },
        {
          "output_type": "stream",
          "name": "stderr",
          "text": [
            "loss=0.024688148871064186 batch_id=1874: 100%|██████████| 1875/1875 [00:26<00:00, 70.49it/s]\n"
          ]
        },
        {
          "output_type": "stream",
          "name": "stdout",
          "text": [
            "\n",
            "Test set: Average loss: 0.0258, Accuracy: 9922/10000 (99%)\n",
            "\n",
            "Epoch:  10\n"
          ]
        },
        {
          "output_type": "stream",
          "name": "stderr",
          "text": [
            "loss=0.018841002136468887 batch_id=1874: 100%|██████████| 1875/1875 [00:26<00:00, 70.33it/s]\n"
          ]
        },
        {
          "output_type": "stream",
          "name": "stdout",
          "text": [
            "\n",
            "Test set: Average loss: 0.0190, Accuracy: 9938/10000 (99%)\n",
            "\n",
            "Epoch:  11\n"
          ]
        },
        {
          "output_type": "stream",
          "name": "stderr",
          "text": [
            "loss=0.016844671219587326 batch_id=1874: 100%|██████████| 1875/1875 [00:26<00:00, 70.29it/s]\n"
          ]
        },
        {
          "output_type": "stream",
          "name": "stdout",
          "text": [
            "\n",
            "Test set: Average loss: 0.0199, Accuracy: 9941/10000 (99%)\n",
            "\n",
            "Epoch:  12\n"
          ]
        },
        {
          "output_type": "stream",
          "name": "stderr",
          "text": [
            "loss=0.0022426238283514977 batch_id=1874: 100%|██████████| 1875/1875 [00:26<00:00, 70.46it/s]\n"
          ]
        },
        {
          "output_type": "stream",
          "name": "stdout",
          "text": [
            "\n",
            "Test set: Average loss: 0.0209, Accuracy: 9939/10000 (99%)\n",
            "\n",
            "Epoch:  13\n"
          ]
        },
        {
          "output_type": "stream",
          "name": "stderr",
          "text": [
            "loss=0.003916250541806221 batch_id=1874: 100%|██████████| 1875/1875 [00:26<00:00, 70.80it/s]\n"
          ]
        },
        {
          "output_type": "stream",
          "name": "stdout",
          "text": [
            "\n",
            "Test set: Average loss: 0.0175, Accuracy: 9948/10000 (99%)\n",
            "\n",
            "Epoch:  14\n"
          ]
        },
        {
          "output_type": "stream",
          "name": "stderr",
          "text": [
            "loss=0.005738690495491028 batch_id=1874: 100%|██████████| 1875/1875 [00:26<00:00, 69.85it/s]\n"
          ]
        },
        {
          "output_type": "stream",
          "name": "stdout",
          "text": [
            "\n",
            "Test set: Average loss: 0.0196, Accuracy: 9939/10000 (99%)\n",
            "\n",
            "Epoch:  15\n"
          ]
        },
        {
          "output_type": "stream",
          "name": "stderr",
          "text": [
            "loss=0.004773998167365789 batch_id=1874: 100%|██████████| 1875/1875 [00:27<00:00, 67.55it/s]\n"
          ]
        },
        {
          "output_type": "stream",
          "name": "stdout",
          "text": [
            "\n",
            "Test set: Average loss: 0.0193, Accuracy: 9941/10000 (99%)\n",
            "\n",
            "Epoch:  16\n"
          ]
        },
        {
          "output_type": "stream",
          "name": "stderr",
          "text": [
            "loss=0.008134204894304276 batch_id=1874: 100%|██████████| 1875/1875 [00:27<00:00, 67.96it/s]\n"
          ]
        },
        {
          "output_type": "stream",
          "name": "stdout",
          "text": [
            "\n",
            "Test set: Average loss: 0.0235, Accuracy: 9930/10000 (99%)\n",
            "\n",
            "Epoch:  17\n"
          ]
        },
        {
          "output_type": "stream",
          "name": "stderr",
          "text": [
            "loss=0.0012909744400531054 batch_id=1874: 100%|██████████| 1875/1875 [00:26<00:00, 71.14it/s]\n"
          ]
        },
        {
          "output_type": "stream",
          "name": "stdout",
          "text": [
            "\n",
            "Test set: Average loss: 0.0168, Accuracy: 9947/10000 (99%)\n",
            "\n",
            "Epoch:  18\n"
          ]
        },
        {
          "output_type": "stream",
          "name": "stderr",
          "text": [
            "loss=0.002956618554890156 batch_id=1874: 100%|██████████| 1875/1875 [00:26<00:00, 70.20it/s]\n"
          ]
        },
        {
          "output_type": "stream",
          "name": "stdout",
          "text": [
            "\n",
            "Test set: Average loss: 0.0190, Accuracy: 9940/10000 (99%)\n",
            "\n"
          ]
        }
      ]
    },
    {
      "cell_type": "code",
      "source": [
        "# Maximum Accuracy Training Logs:\n",
        "\n",
        "'''\n",
        "Epoch:  13\n",
        "loss=0.003916250541806221 batch_id=1874: 100%|██████████| 1875/1875 [00:26<00:00, 70.80it/s]\n",
        "\n",
        "Test set: Average loss: 0.0175, Accuracy: 9948/10000 (99%)\n",
        "\n",
        "'''\n",
        "\n",
        "# Training Logs:\n",
        "\n",
        "'''\n",
        "Epoch:  1\n",
        "  0%|          | 0/1875 [00:00<?, ?it/s]<ipython-input-22-e8be6f7f95f0>:27: UserWarning: Implicit dimension choice for log_softmax has been deprecated. Change the call to include dim=X as an argument.\n",
        "  return F.log_softmax(x)\n",
        "loss=0.04736865311861038 batch_id=1874: 100%|██████████| 1875/1875 [00:27<00:00, 67.42it/s]\n",
        "\n",
        "Test set: Average loss: 0.0382, Accuracy: 9878/10000 (99%)\n",
        "\n",
        "Epoch:  2\n",
        "loss=0.12485630810260773 batch_id=1874: 100%|██████████| 1875/1875 [00:26<00:00, 70.35it/s]\n",
        "\n",
        "Test set: Average loss: 0.0319, Accuracy: 9894/10000 (99%)\n",
        "\n",
        "Epoch:  3\n",
        "loss=0.00622600968927145 batch_id=1874: 100%|██████████| 1875/1875 [00:27<00:00, 68.48it/s]\n",
        "\n",
        "Test set: Average loss: 0.0272, Accuracy: 9909/10000 (99%)\n",
        "\n",
        "Epoch:  4\n",
        "loss=0.056115299463272095 batch_id=1874: 100%|██████████| 1875/1875 [00:26<00:00, 70.78it/s]\n",
        "\n",
        "Test set: Average loss: 0.0231, Accuracy: 9926/10000 (99%)\n",
        "\n",
        "Epoch:  5\n",
        "loss=0.026963435113430023 batch_id=1874: 100%|██████████| 1875/1875 [00:26<00:00, 70.55it/s]\n",
        "\n",
        "Test set: Average loss: 0.0277, Accuracy: 9894/10000 (99%)\n",
        "\n",
        "Epoch:  6\n",
        "loss=0.0020414951723068953 batch_id=1874: 100%|██████████| 1875/1875 [00:26<00:00, 70.38it/s]\n",
        "\n",
        "Test set: Average loss: 0.0222, Accuracy: 9927/10000 (99%)\n",
        "\n",
        "Epoch:  7\n",
        "loss=0.0024074241518974304 batch_id=1874: 100%|██████████| 1875/1875 [00:26<00:00, 70.80it/s]\n",
        "\n",
        "Test set: Average loss: 0.0197, Accuracy: 9933/10000 (99%)\n",
        "\n",
        "Epoch:  8\n",
        "loss=0.018343215808272362 batch_id=1874: 100%|██████████| 1875/1875 [00:26<00:00, 69.68it/s]\n",
        "\n",
        "Test set: Average loss: 0.0214, Accuracy: 9931/10000 (99%)\n",
        "\n",
        "Epoch:  9\n",
        "loss=0.024688148871064186 batch_id=1874: 100%|██████████| 1875/1875 [00:26<00:00, 70.49it/s]\n",
        "\n",
        "Test set: Average loss: 0.0258, Accuracy: 9922/10000 (99%)\n",
        "\n",
        "Epoch:  10\n",
        "loss=0.018841002136468887 batch_id=1874: 100%|██████████| 1875/1875 [00:26<00:00, 70.33it/s]\n",
        "\n",
        "Test set: Average loss: 0.0190, Accuracy: 9938/10000 (99%)\n",
        "\n",
        "Epoch:  11\n",
        "loss=0.016844671219587326 batch_id=1874: 100%|██████████| 1875/1875 [00:26<00:00, 70.29it/s]\n",
        "\n",
        "Test set: Average loss: 0.0199, Accuracy: 9941/10000 (99%)\n",
        "\n",
        "Epoch:  12\n",
        "loss=0.0022426238283514977 batch_id=1874: 100%|██████████| 1875/1875 [00:26<00:00, 70.46it/s]\n",
        "\n",
        "Test set: Average loss: 0.0209, Accuracy: 9939/10000 (99%)\n",
        "\n",
        "Epoch:  13\n",
        "loss=0.003916250541806221 batch_id=1874: 100%|██████████| 1875/1875 [00:26<00:00, 70.80it/s]\n",
        "\n",
        "Test set: Average loss: 0.0175, Accuracy: 9948/10000 (99%)\n",
        "\n",
        "Epoch:  14\n",
        "loss=0.005738690495491028 batch_id=1874: 100%|██████████| 1875/1875 [00:26<00:00, 69.85it/s]\n",
        "\n",
        "Test set: Average loss: 0.0196, Accuracy: 9939/10000 (99%)\n",
        "\n",
        "Epoch:  15\n",
        "loss=0.004773998167365789 batch_id=1874: 100%|██████████| 1875/1875 [00:27<00:00, 67.55it/s]\n",
        "\n",
        "Test set: Average loss: 0.0193, Accuracy: 9941/10000 (99%)\n",
        "\n",
        "Epoch:  16\n",
        "loss=0.008134204894304276 batch_id=1874: 100%|██████████| 1875/1875 [00:27<00:00, 67.96it/s]\n",
        "\n",
        "Test set: Average loss: 0.0235, Accuracy: 9930/10000 (99%)\n",
        "\n",
        "Epoch:  17\n",
        "loss=0.0012909744400531054 batch_id=1874: 100%|██████████| 1875/1875 [00:26<00:00, 71.14it/s]\n",
        "\n",
        "Test set: Average loss: 0.0168, Accuracy: 9947/10000 (99%)\n",
        "\n",
        "Epoch:  18\n",
        "loss=0.002956618554890156 batch_id=1874: 100%|██████████| 1875/1875 [00:26<00:00, 70.20it/s]\n",
        "\n",
        "Test set: Average loss: 0.0190, Accuracy: 9940/10000 (99%)\n",
        "\n",
        "'''"
      ],
      "metadata": {
        "colab": {
          "base_uri": "https://localhost:8080/",
          "height": 52
        },
        "id": "yo3_kDXe0cLA",
        "outputId": "9965f7cb-770d-4d1f-8ab0-d7a5080ca66f"
      },
      "execution_count": 29,
      "outputs": [
        {
          "output_type": "execute_result",
          "data": {
            "text/plain": [
              "'\\nEpoch:  14\\nloss=0.0014290008693933487 batch_id=1874: 100%|██████████| 1875/1875 [00:26<00:00, 70.63it/s]\\n\\nTest set: Average loss: 0.0195, Accuracy: 9936/10000 (99%)\\n\\n'"
            ],
            "application/vnd.google.colaboratory.intrinsic+json": {
              "type": "string"
            }
          },
          "metadata": {},
          "execution_count": 29
        }
      ]
    },
    {
      "cell_type": "code",
      "source": [],
      "metadata": {
        "id": "1ORD_pve5O2j"
      },
      "execution_count": null,
      "outputs": []
    },
    {
      "cell_type": "code",
      "metadata": {
        "id": "h_Cx9q2QFgM7"
      },
      "source": [
        "# OLD MODEL BACKUP\n",
        "# class Net(nn.Module):\n",
        "#     def __init__(self):\n",
        "#         super(Net, self).__init__()\n",
        "#         self.conv1 = nn.Conv2d(1, 16, 3, padding=1) #3\n",
        "#         self.bn1 = nn.BatchNorm2d(16)\n",
        "#         # self.conv2 = nn.Conv2d(32, 64, 3, padding=1)\n",
        "#         self.pool1 = nn.MaxPool2d(2, 2) #6\n",
        "#         self.drop1 = nn.Dropout(0.15)\n",
        "#         self.conv3 = nn.Conv2d(16, 64, 3, padding=1) #8\n",
        "#         self.bn2 = nn.BatchNorm2d(64)\n",
        "#         # self.conv4 = nn.Conv2d(128, 256, 3, padding=1)\n",
        "#         self.pool2 = nn.MaxPool2d(2, 2) #16\n",
        "#         self.drop2 = nn.Dropout(0.15)\n",
        "#         self.conv5 = nn.Conv2d(64, 10, 3) #18\n",
        "#         self.gap = nn.AdaptiveAvgPool2d((1,1))\n",
        "#         # self.conv6 = nn.Conv2d(512, 1024, 3)\n",
        "#         # self.conv7 = nn.Conv2d(1024, 10, 3)\n",
        "#         # self.conv1 = nn.Conv2d(1, 32, 3, padding=1) \n",
        "#         # self.conv2 = nn.Conv2d(32, 64, 3, padding=1)\n",
        "#         # self.pool1 = nn.MaxPool2d(2, 2)\n",
        "#         # self.conv3 = nn.Conv2d(64, 128, 3, padding=1)\n",
        "#         # self.conv4 = nn.Conv2d(128, 256, 3, padding=1)\n",
        "#         # self.pool2 = nn.MaxPool2d(2, 2)\n",
        "#         # self.conv5 = nn.Conv2d(256, 512, 3)\n",
        "#         # self.conv6 = nn.Conv2d(512, 1024, 3)\n",
        "#         # self.conv7 = nn.Conv2d(1024, 10, 3)\n",
        "\n",
        "#     def forward(self, x):\n",
        "#         # x = self.pool1(F.relu(self.conv2(F.relu(self.conv1(x)))))\n",
        "#         # x = self.pool2(F.relu(self.conv4(F.relu(self.conv3(x)))))\n",
        "#         # x = F.relu(self.conv6(F.relu(self.conv5(x))))\n",
        "#         # x = F.relu(self.conv7(x))\n",
        "\n",
        "#         x = self.conv5(self.drop2(self.pool2(self.bn2(F.relu(self.conv3(F.relu(self.drop1(self.pool1(self.bn1(F.relu(self.conv1(x))))))))))))\n",
        "#         # x = self.pool2(x)\n",
        "#         # x = self.conv5(x)\n",
        "\n",
        "#         # x = self.conv7(x)\n",
        "#         # print(x.shape)\n",
        "\n",
        "#         x = self.gap(x)\n",
        "        \n",
        "#         x = x.view(-1, 10)\n",
        "#         return F.log_softmax(x)"
      ],
      "execution_count": 31,
      "outputs": []
    },
    {
      "cell_type": "code",
      "source": [],
      "metadata": {
        "id": "FUbt_JGQFDfP"
      },
      "execution_count": null,
      "outputs": []
    }
  ]
}