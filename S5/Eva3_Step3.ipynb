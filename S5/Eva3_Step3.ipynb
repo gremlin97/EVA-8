{
  "nbformat": 4,
  "nbformat_minor": 0,
  "metadata": {
    "colab": {
      "provenance": [],
      "include_colab_link": true
    },
    "kernelspec": {
      "name": "python3",
      "display_name": "Python 3"
    },
    "accelerator": "GPU"
  },
  "cells": [
    {
      "cell_type": "markdown",
      "metadata": {
        "id": "view-in-github",
        "colab_type": "text"
      },
      "source": [
        "<a href=\"https://colab.research.google.com/github/gremlin97/EVA-8/blob/main/S5/Eva3_Step3.ipynb\" target=\"_parent\"><img src=\"https://colab.research.google.com/assets/colab-badge.svg\" alt=\"Open In Colab\"/></a>"
      ]
    },
    {
      "cell_type": "markdown",
      "source": [
        "**Target:**\n",
        "\n",
        "Removed random rotation to image of 7 degrees. Readded padding=1 back to convolutions to reduce the rapid decrease in feature maps resolution. Removed the extra output channels in the last layer and removed the maxpooling in the last block.\n",
        "\n",
        "**Results:**\n",
        "\n",
        "* Parameters: 7,386\n",
        "* Best Train Accuracy: 99.07\n",
        "* Best Test Accuracy: 99.20\n",
        "\n",
        "**Analysis:**\n",
        "\n",
        "Difference between training and test accuracy reduces substantially. Testing accuracy is more consistent in the last epochs. Training accuracy increases faster in a linear fashion along with test accuracy. Model params are reduced below 8k."
      ],
      "metadata": {
        "id": "YbFlwGziQfDg"
      }
    },
    {
      "cell_type": "code",
      "metadata": {
        "id": "0m2JWFliFfKT"
      },
      "source": [
        "from __future__ import print_function\n",
        "import torch\n",
        "import torch.nn as nn\n",
        "import torch.nn.functional as F\n",
        "import torch.optim as optim\n",
        "from torchvision import datasets, transforms"
      ],
      "execution_count": 6,
      "outputs": []
    },
    {
      "cell_type": "code",
      "source": [
        "class Net(nn.Module):\n",
        "    def __init__(self):\n",
        "        super(Net, self).__init__()\n",
        "        self.conv1 = nn.Conv2d(1, 16, 3, padding=1) # RF:1+(3-1)1=3; ji=1,jo=1; 28x28x1 -> 28x28x16\n",
        "        self.bn1 = nn.BatchNorm2d(16)\n",
        "        self.pool1 = nn.MaxPool2d(2, 2) # RF:3+(2-1)1=4; ji=1,jo=2; 28x28x16 -> 14x14x16\n",
        "        self.drop1 = nn.Dropout(0.1)\n",
        "        self.conv3 = nn.Conv2d(16, 16, 3, padding=1) # RF:4+(3-1)2=8; ji=2,jo=2; 14x14x16 -> 14x14x16\n",
        "        self.bn2 = nn.BatchNorm2d(16)\n",
        "        self.pool2 = nn.MaxPool2d(2, 2) # RF:8+(2-1)2=10; ji=2,jo=4; 14x14x16 -> 7x7x16\n",
        "        self.drop2 = nn.Dropout(0.1)\n",
        "        self.conv5 = nn.Conv2d(16, 32, 3) # RF:10+(3-1)4=18; ji=4,jo=4; 7x7x16 -> 5x5x16\n",
        "\n",
        "        self.bn3 = nn.BatchNorm2d(32) \n",
        "        self.drop3 = nn.Dropout(0.1)\n",
        "        # self.conv6 = nn.Conv2d(16, 16, 3) # RF:18+(2-1)4=22; ji=4,jo=8; 5x5x16 -> 3x3x16\n",
        "        self.conv6 = nn.Conv2d(32, 10, kernel_size=(1,1)) # RF:18+(2-1)4=22; ji=4,jo=8; 5x5x16 -> 3x3x10\n",
        "\n",
        "        self.gap = nn.AdaptiveAvgPool2d((1,1)) \n",
        "\n",
        "        self.lin = nn.Linear(16, 10)\n",
        "\n",
        "    def forward(self, x):\n",
        "\n",
        "        x = self.conv6(self.drop3(self.bn3(F.relu(self.conv5(self.drop2(self.pool2(self.bn2(F.relu(self.conv3(F.relu(self.drop1(self.pool1(self.bn1(F.relu(self.conv1(x))))))))))))))))\n",
        "\n",
        "        x = self.gap(x)\n",
        "\n",
        "        # x = x.view(-1, 16)\n",
        "\n",
        "        x = x.view(-1, 10)\n",
        "\n",
        "        # x = self.lin(x)\n",
        "        \n",
        "        x = x.view(-1, 10)\n",
        "        return F.log_softmax(x)"
      ],
      "metadata": {
        "id": "DonoZqykydfJ"
      },
      "execution_count": 43,
      "outputs": []
    },
    {
      "cell_type": "code",
      "source": [
        "model = Net()\n",
        "out = model(torch.randn(1,1,28,28))\n",
        "print(out.shape)"
      ],
      "metadata": {
        "colab": {
          "base_uri": "https://localhost:8080/"
        },
        "id": "FUBgTH4IQZmT",
        "outputId": "f7b5c144-50e0-481c-a362-d7ede84074d4"
      },
      "execution_count": 44,
      "outputs": [
        {
          "output_type": "stream",
          "name": "stdout",
          "text": [
            "torch.Size([1, 10])\n"
          ]
        },
        {
          "output_type": "stream",
          "name": "stderr",
          "text": [
            "<ipython-input-43-5b181c7e8ada>:36: UserWarning: Implicit dimension choice for log_softmax has been deprecated. Change the call to include dim=X as an argument.\n",
            "  return F.log_softmax(x)\n"
          ]
        }
      ]
    },
    {
      "cell_type": "code",
      "source": [
        "model"
      ],
      "metadata": {
        "colab": {
          "base_uri": "https://localhost:8080/"
        },
        "id": "y2cSqWH6Ywmy",
        "outputId": "eb573c25-f97d-4fff-b899-4819e55fa91b"
      },
      "execution_count": 45,
      "outputs": [
        {
          "output_type": "execute_result",
          "data": {
            "text/plain": [
              "Net(\n",
              "  (conv1): Conv2d(1, 16, kernel_size=(3, 3), stride=(1, 1), padding=(1, 1))\n",
              "  (bn1): BatchNorm2d(16, eps=1e-05, momentum=0.1, affine=True, track_running_stats=True)\n",
              "  (pool1): MaxPool2d(kernel_size=2, stride=2, padding=0, dilation=1, ceil_mode=False)\n",
              "  (drop1): Dropout(p=0.1, inplace=False)\n",
              "  (conv3): Conv2d(16, 16, kernel_size=(3, 3), stride=(1, 1), padding=(1, 1))\n",
              "  (bn2): BatchNorm2d(16, eps=1e-05, momentum=0.1, affine=True, track_running_stats=True)\n",
              "  (pool2): MaxPool2d(kernel_size=2, stride=2, padding=0, dilation=1, ceil_mode=False)\n",
              "  (drop2): Dropout(p=0.1, inplace=False)\n",
              "  (conv5): Conv2d(16, 32, kernel_size=(3, 3), stride=(1, 1))\n",
              "  (bn3): BatchNorm2d(32, eps=1e-05, momentum=0.1, affine=True, track_running_stats=True)\n",
              "  (drop3): Dropout(p=0.1, inplace=False)\n",
              "  (conv6): Conv2d(32, 10, kernel_size=(1, 1), stride=(1, 1))\n",
              "  (gap): AdaptiveAvgPool2d(output_size=(1, 1))\n",
              "  (lin): Linear(in_features=16, out_features=10, bias=True)\n",
              ")"
            ]
          },
          "metadata": {},
          "execution_count": 45
        }
      ]
    },
    {
      "cell_type": "code",
      "metadata": {
        "id": "xdydjYTZFyi3",
        "colab": {
          "base_uri": "https://localhost:8080/"
        },
        "outputId": "fcd10f2c-bd2c-44f2-9601-4417b0643750"
      },
      "source": [
        "!pip install torchsummary\n",
        "from torchsummary import summary\n",
        "use_cuda = torch.cuda.is_available()\n",
        "device = torch.device(\"cuda\" if use_cuda else \"cpu\")\n",
        "model = Net().to(device)\n",
        "summary(model, input_size=(1, 28, 28))"
      ],
      "execution_count": 46,
      "outputs": [
        {
          "output_type": "stream",
          "name": "stdout",
          "text": [
            "Looking in indexes: https://pypi.org/simple, https://us-python.pkg.dev/colab-wheels/public/simple/\n",
            "Requirement already satisfied: torchsummary in /usr/local/lib/python3.8/dist-packages (1.5.1)\n",
            "----------------------------------------------------------------\n",
            "        Layer (type)               Output Shape         Param #\n",
            "================================================================\n",
            "            Conv2d-1           [-1, 16, 28, 28]             160\n",
            "       BatchNorm2d-2           [-1, 16, 28, 28]              32\n",
            "         MaxPool2d-3           [-1, 16, 14, 14]               0\n",
            "           Dropout-4           [-1, 16, 14, 14]               0\n",
            "            Conv2d-5           [-1, 16, 14, 14]           2,320\n",
            "       BatchNorm2d-6           [-1, 16, 14, 14]              32\n",
            "         MaxPool2d-7             [-1, 16, 7, 7]               0\n",
            "           Dropout-8             [-1, 16, 7, 7]               0\n",
            "            Conv2d-9             [-1, 32, 5, 5]           4,640\n",
            "      BatchNorm2d-10             [-1, 32, 5, 5]              64\n",
            "          Dropout-11             [-1, 32, 5, 5]               0\n",
            "           Conv2d-12             [-1, 10, 5, 5]             330\n",
            "AdaptiveAvgPool2d-13             [-1, 10, 1, 1]               0\n",
            "================================================================\n",
            "Total params: 7,578\n",
            "Trainable params: 7,578\n",
            "Non-trainable params: 0\n",
            "----------------------------------------------------------------\n",
            "Input size (MB): 0.00\n",
            "Forward/backward pass size (MB): 0.32\n",
            "Params size (MB): 0.03\n",
            "Estimated Total Size (MB): 0.35\n",
            "----------------------------------------------------------------\n"
          ]
        },
        {
          "output_type": "stream",
          "name": "stderr",
          "text": [
            "<ipython-input-43-5b181c7e8ada>:36: UserWarning: Implicit dimension choice for log_softmax has been deprecated. Change the call to include dim=X as an argument.\n",
            "  return F.log_softmax(x)\n"
          ]
        }
      ]
    },
    {
      "cell_type": "code",
      "metadata": {
        "id": "DqTWLaM5GHgH"
      },
      "source": [
        "torch.manual_seed(1)\n",
        "batch_size = 32\n",
        "\n",
        "kwargs = {'num_workers': 1, 'pin_memory': True} if use_cuda else {}\n",
        "train_loader = torch.utils.data.DataLoader(\n",
        "    datasets.MNIST('../data', train=True, download=True,\n",
        "                    transform=transforms.Compose([\n",
        "                        transforms.ToTensor(),\n",
        "                        transforms.Normalize((0.1307,), (0.3081,))\n",
        "                    ])),\n",
        "    batch_size=batch_size, shuffle=True, **kwargs)\n",
        "test_loader = torch.utils.data.DataLoader(\n",
        "    datasets.MNIST('../data', train=False, transform=transforms.Compose([\n",
        "                        transforms.ToTensor(),\n",
        "                        transforms.Normalize((0.1307,), (0.3081,))\n",
        "                    ])),\n",
        "    batch_size=batch_size, shuffle=True, **kwargs)\n"
      ],
      "execution_count": 47,
      "outputs": []
    },
    {
      "cell_type": "code",
      "metadata": {
        "id": "8fDefDhaFlwH"
      },
      "source": [
        "from tqdm import tqdm\n",
        "def train(model, device, train_loader, optimizer, epoch):\n",
        "    model.train()\n",
        "    correct = 0\n",
        "    pbar = tqdm(train_loader)\n",
        "    for batch_idx, (data, target) in enumerate(pbar):\n",
        "        data, target = data.to(device), target.to(device)\n",
        "        optimizer.zero_grad()\n",
        "        output = model(data)\n",
        "        loss = F.nll_loss(output, target)\n",
        "        loss.backward()\n",
        "        optimizer.step()\n",
        "        pred = output.argmax(dim=1, keepdim=True)  # get the index of the max log-probability\n",
        "        correct += pred.eq(target.view_as(pred)).sum().item()\n",
        "        pbar.set_description(desc= f'loss={loss.item()} batch_id={batch_idx} Train Accuracy={100. * correct / len(train_loader.dataset)}')\n",
        "\n",
        "def test(model, device, test_loader):\n",
        "    model.eval()\n",
        "    test_loss = 0\n",
        "    correct = 0\n",
        "    with torch.no_grad():\n",
        "        for data, target in test_loader:\n",
        "            data, target = data.to(device), target.to(device)\n",
        "            output = model(data)\n",
        "            test_loss += F.nll_loss(output, target, reduction='sum').item()  # sum up batch loss\n",
        "            pred = output.argmax(dim=1, keepdim=True)  # get the index of the max log-probability\n",
        "            correct += pred.eq(target.view_as(pred)).sum().item()\n",
        "\n",
        "    test_loss /= len(test_loader.dataset)\n",
        "\n",
        "    print('\\nTest set: Average loss: {:.4f}, Accuracy: {}/{} ({:.0f}%)\\n'.format(\n",
        "        test_loss, correct, len(test_loader.dataset),\n",
        "        100. * correct / len(test_loader.dataset)))"
      ],
      "execution_count": 48,
      "outputs": []
    },
    {
      "cell_type": "code",
      "metadata": {
        "id": "MMWbLWO6FuHb",
        "colab": {
          "base_uri": "https://localhost:8080/"
        },
        "outputId": "b316fa7c-3b91-498d-b57f-e7f68f77301d"
      },
      "source": [
        "model = Net().to(device)\n",
        "optimizer = optim.SGD(model.parameters(), lr=0.012, momentum=0.9)\n",
        "scheduler =  optim.lr_scheduler.StepLR(optimizer, step_size=4, gamma=0.1)\n",
        "\n",
        "#lr=0.01\n",
        "\n",
        "for epoch in range(15):\n",
        "    print(\"Epoch: \",epoch+1)\n",
        "    train(model, device, train_loader, optimizer, epoch)\n",
        "    scheduler.step()\n",
        "    test(model, device, test_loader)"
      ],
      "execution_count": null,
      "outputs": [
        {
          "output_type": "stream",
          "name": "stdout",
          "text": [
            "Epoch:  1\n"
          ]
        },
        {
          "output_type": "stream",
          "name": "stderr",
          "text": [
            "  0%|          | 0/1875 [00:00<?, ?it/s]<ipython-input-43-5b181c7e8ada>:36: UserWarning: Implicit dimension choice for log_softmax has been deprecated. Change the call to include dim=X as an argument.\n",
            "  return F.log_softmax(x)\n",
            "loss=0.168050616979599 batch_id=1874 Train Accuracy=91.56666666666666: 100%|██████████| 1875/1875 [00:29<00:00, 63.32it/s]\n"
          ]
        },
        {
          "output_type": "stream",
          "name": "stdout",
          "text": [
            "\n",
            "Test set: Average loss: 0.0718, Accuracy: 9786/10000 (98%)\n",
            "\n",
            "Epoch:  2\n"
          ]
        },
        {
          "output_type": "stream",
          "name": "stderr",
          "text": [
            "loss=0.09363091737031937 batch_id=102 Train Accuracy=5.296666666666667:   5%|▌         | 96/1875 [00:01<00:22, 79.85it/s]"
          ]
        }
      ]
    },
    {
      "cell_type": "code",
      "source": [],
      "metadata": {
        "id": "SA5UJfb7Z8Ob"
      },
      "execution_count": null,
      "outputs": []
    }
  ]
}