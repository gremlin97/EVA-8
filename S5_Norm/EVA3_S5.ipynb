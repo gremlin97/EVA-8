{
  "nbformat": 4,
  "nbformat_minor": 0,
  "metadata": {
    "colab": {
      "provenance": [],
      "include_colab_link": true
    },
    "kernelspec": {
      "name": "python3",
      "display_name": "Python 3"
    },
    "language_info": {
      "name": "python"
    },
    "accelerator": "GPU",
    "gpuClass": "standard"
  },
  "cells": [
    {
      "cell_type": "markdown",
      "metadata": {
        "id": "view-in-github",
        "colab_type": "text"
      },
      "source": [
        "<a href=\"https://colab.research.google.com/github/gremlin97/EVA-8/blob/main/S5_Norm/EVA3_S5.ipynb\" target=\"_parent\"><img src=\"https://colab.research.google.com/assets/colab-badge.svg\" alt=\"Open In Colab\"/></a>"
      ]
    },
    {
      "cell_type": "code",
      "execution_count": 22,
      "metadata": {
        "id": "I2Rt27iiciX5"
      },
      "outputs": [],
      "source": [
        "from __future__ import print_function\n",
        "import torch\n",
        "import torch.nn as nn\n",
        "import torch.nn.functional as F\n",
        "import torch.optim as optim\n",
        "from torchvision import datasets, transforms\n",
        "from model import Net #Importing `Net` from model.py\n",
        "import matplotlib.pyplot as plt\n",
        "import torchvision\n",
        "import numpy as np"
      ]
    },
    {
      "cell_type": "code",
      "source": [
        "!pip install torchsummary"
      ],
      "metadata": {
        "colab": {
          "base_uri": "https://localhost:8080/"
        },
        "id": "GAOyJPhRnDs3",
        "outputId": "59847689-f563-4cf5-93d5-b4d6968e50de"
      },
      "execution_count": 23,
      "outputs": [
        {
          "output_type": "stream",
          "name": "stdout",
          "text": [
            "Looking in indexes: https://pypi.org/simple, https://us-python.pkg.dev/colab-wheels/public/simple/\n",
            "Requirement already satisfied: torchsummary in /usr/local/lib/python3.8/dist-packages (1.5.1)\n"
          ]
        }
      ]
    },
    {
      "cell_type": "code",
      "source": [
        "loss_all = []\n",
        "acc_all = []"
      ],
      "metadata": {
        "id": "5JaJKXmPJdri"
      },
      "execution_count": 24,
      "outputs": []
    },
    {
      "cell_type": "markdown",
      "source": [
        "## Group Normalization\n"
      ],
      "metadata": {
        "id": "TgAnbcL1D9dt"
      }
    },
    {
      "cell_type": "code",
      "source": [
        "from torchsummary import summary\n",
        "norm = 'GN' #Using group norm\n",
        "\n",
        "use_cuda = torch.cuda.is_available()\n",
        "device = torch.device(\"cuda\" if use_cuda else \"cpu\")\n",
        "model = Net(norm,num=2).to(device) # Setting number of groups to 2\n",
        "summary(model, input_size=(1, 28, 28))"
      ],
      "metadata": {
        "colab": {
          "base_uri": "https://localhost:8080/"
        },
        "id": "84NDuEfknGaM",
        "outputId": "4c01721e-241a-447e-895d-e7e7338835f2"
      },
      "execution_count": 25,
      "outputs": [
        {
          "output_type": "stream",
          "name": "stdout",
          "text": [
            "----------------------------------------------------------------\n",
            "        Layer (type)               Output Shape         Param #\n",
            "================================================================\n",
            "            Conv2d-1           [-1, 16, 26, 26]             144\n",
            "           Dropout-2           [-1, 16, 26, 26]               0\n",
            "            Conv2d-3           [-1, 32, 24, 24]           4,608\n",
            "         MaxPool2d-4           [-1, 32, 12, 12]               0\n",
            "           Dropout-5           [-1, 32, 12, 12]               0\n",
            "            Conv2d-6           [-1, 10, 12, 12]             320\n",
            "            Conv2d-7           [-1, 16, 10, 10]           1,440\n",
            "           Dropout-8           [-1, 16, 10, 10]               0\n",
            "            Conv2d-9             [-1, 16, 8, 8]           2,304\n",
            "          Dropout-10             [-1, 16, 8, 8]               0\n",
            "           Conv2d-11             [-1, 16, 6, 6]           2,304\n",
            "AdaptiveAvgPool2d-12             [-1, 16, 1, 1]               0\n",
            "           Linear-13                   [-1, 10]             170\n",
            "================================================================\n",
            "Total params: 11,290\n",
            "Trainable params: 11,290\n",
            "Non-trainable params: 0\n",
            "----------------------------------------------------------------\n",
            "Input size (MB): 0.00\n",
            "Forward/backward pass size (MB): 0.43\n",
            "Params size (MB): 0.04\n",
            "Estimated Total Size (MB): 0.48\n",
            "----------------------------------------------------------------\n"
          ]
        }
      ]
    },
    {
      "cell_type": "code",
      "source": [
        "import torchvision.transforms.functional as TF\n",
        "\n",
        "torch.manual_seed(1)\n",
        "batch_size = 32\n",
        "loss_arr = []\n",
        "acc_arr = []\n",
        "inc = []\n",
        "pre = []\n",
        "\n",
        "kwargs = {'num_workers': 1, 'pin_memory': True} if use_cuda else {}\n",
        "train_loader = torch.utils.data.DataLoader(\n",
        "    datasets.MNIST('../data', train=True, download=True,\n",
        "                    transform=transforms.Compose([\n",
        "                        transforms.RandomRotation((-1.0, 1.0), fill=(1,)),\n",
        "                        transforms.ToTensor(),\n",
        "                        transforms.Normalize((0.1307,), (0.3081,))\n",
        "                    ])),\n",
        "    batch_size=batch_size, shuffle=True, **kwargs)\n",
        "test_loader = torch.utils.data.DataLoader(\n",
        "    datasets.MNIST('../data', train=False, transform=transforms.Compose([\n",
        "                        transforms.RandomRotation((-1.0, 1.0), fill=(1,)),\n",
        "                        transforms.ToTensor(),\n",
        "                        transforms.Normalize((0.1307,), (0.3081,))\n",
        "                    ])),\n",
        "    batch_size=batch_size, shuffle=True, **kwargs)\n",
        "\n",
        "from tqdm import tqdm\n",
        "def train(model, device, train_loader, optimizer, epoch):\n",
        "    model.train()\n",
        "    correct = 0\n",
        "    pbar = tqdm(train_loader)\n",
        "    for batch_idx, (data, target) in enumerate(pbar):\n",
        "        data, target = data.to(device), target.to(device)\n",
        "        optimizer.zero_grad()\n",
        "        output = model(data)\n",
        "        loss = F.nll_loss(output, target)\n",
        "        loss.backward()\n",
        "        optimizer.step()\n",
        "        pred = output.argmax(dim=1, keepdim=True)  # get the index of the max log-probability\n",
        "        correct += pred.eq(target.view_as(pred)).sum().item()\n",
        "        pbar.set_description(desc= f'loss={loss.item()} batch_id={batch_idx} Train Accuracy={100. * correct / len(train_loader.dataset)}')\n",
        "\n",
        "def test(model, device, test_loader):\n",
        "    model.eval()\n",
        "    test_loss = 0\n",
        "    correct = 0\n",
        "    with torch.no_grad():\n",
        "        for data, target in test_loader:\n",
        "            data, target = data.to(device), target.to(device)\n",
        "            output = model(data)\n",
        "            test_loss += F.nll_loss(output, target, reduction='sum').item()  # sum up batch loss\n",
        "            pred = output.argmax(dim=1, keepdim=True)  # get the index of the max log-probability\n",
        "            correct += pred.eq(target.view_as(pred)).sum().item()\n",
        "\n",
        "            # Store wrongly predicted images\n",
        "            wrong_idx = (pred != target.view_as(pred)).nonzero()[:, 0]\n",
        "            wrong_samples = data[wrong_idx]\n",
        "            wrong_preds = pred[wrong_idx]\n",
        "            actual_preds = target.view_as(pred)[wrong_idx]\n",
        "\n",
        "            for i in range(len(wrong_idx)):\n",
        "                sample = wrong_samples[i]\n",
        "                wrong_pred = wrong_preds[i]\n",
        "                actual_pred = actual_preds[i]\n",
        "                # Undo normalization\n",
        "                sample = sample * 0.3081\n",
        "                sample = sample + 0.1307\n",
        "                sample = sample * 255.\n",
        "                sample = sample.byte()\n",
        "                img = TF.to_pil_image(sample)\n",
        "                inc.append(sample)\n",
        "                pre.append(actual_pred)\n",
        "\n",
        "    test_loss /= len(test_loader.dataset)\n",
        "    loss_arr.append(test_loss)\n",
        "    acc_arr.append(100. * correct / len(test_loader.dataset))\n",
        "\n",
        "    print('\\nTest set: Average loss: {:.4f}, Accuracy: {}/{} ({:.0f}%)\\n'.format(\n",
        "        test_loss, correct, len(test_loader.dataset),\n",
        "        100. * correct / len(test_loader.dataset)))"
      ],
      "metadata": {
        "id": "DqF3xp_1pKbO"
      },
      "execution_count": 26,
      "outputs": []
    },
    {
      "cell_type": "code",
      "source": [
        "optimizer = optim.SGD(model.parameters(), lr=0.05, momentum=0.9)\n",
        "scheduler =  optim.lr_scheduler.StepLR(optimizer, step_size=6, gamma=0.3)\n",
        "\n",
        "for epoch in range(20):\n",
        "    print(\"Epoch: \",epoch+1)\n",
        "    train(model, device, train_loader, optimizer, epoch)\n",
        "    scheduler.step()\n",
        "    test(model, device, test_loader)\n",
        "\n",
        "loss_all.append(loss_arr)\n",
        "acc_all.append(acc_arr)\n",
        "loss_arr = []\n",
        "acc_arr = []"
      ],
      "metadata": {
        "colab": {
          "base_uri": "https://localhost:8080/"
        },
        "id": "day1bFeKpjp2",
        "outputId": "a8488cf0-d763-4d60-e3b0-b29b0f96b8fd"
      },
      "execution_count": 27,
      "outputs": [
        {
          "output_type": "stream",
          "name": "stdout",
          "text": [
            "Epoch:  1\n"
          ]
        },
        {
          "output_type": "stream",
          "name": "stderr",
          "text": [
            "loss=0.07028469443321228 batch_id=1874 Train Accuracy=93.79666666666667: 100%|██████████| 1875/1875 [00:41<00:00, 44.92it/s]\n"
          ]
        },
        {
          "output_type": "stream",
          "name": "stdout",
          "text": [
            "\n",
            "Test set: Average loss: 0.0464, Accuracy: 9865/10000 (99%)\n",
            "\n",
            "Epoch:  2\n"
          ]
        },
        {
          "output_type": "stream",
          "name": "stderr",
          "text": [
            "loss=0.012229216285049915 batch_id=1874 Train Accuracy=97.855: 100%|██████████| 1875/1875 [00:31<00:00, 59.42it/s]\n"
          ]
        },
        {
          "output_type": "stream",
          "name": "stdout",
          "text": [
            "\n",
            "Test set: Average loss: 0.0497, Accuracy: 9841/10000 (98%)\n",
            "\n",
            "Epoch:  3\n"
          ]
        },
        {
          "output_type": "stream",
          "name": "stderr",
          "text": [
            "loss=0.082585908472538 batch_id=1874 Train Accuracy=98.18833333333333: 100%|██████████| 1875/1875 [00:32<00:00, 57.47it/s]\n"
          ]
        },
        {
          "output_type": "stream",
          "name": "stdout",
          "text": [
            "\n",
            "Test set: Average loss: 0.0338, Accuracy: 9897/10000 (99%)\n",
            "\n",
            "Epoch:  4\n"
          ]
        },
        {
          "output_type": "stream",
          "name": "stderr",
          "text": [
            "loss=0.004621014464646578 batch_id=1874 Train Accuracy=98.465: 100%|██████████| 1875/1875 [00:31<00:00, 60.11it/s]\n"
          ]
        },
        {
          "output_type": "stream",
          "name": "stdout",
          "text": [
            "\n",
            "Test set: Average loss: 0.0444, Accuracy: 9861/10000 (99%)\n",
            "\n",
            "Epoch:  5\n"
          ]
        },
        {
          "output_type": "stream",
          "name": "stderr",
          "text": [
            "loss=0.13374373316764832 batch_id=1874 Train Accuracy=98.585: 100%|██████████| 1875/1875 [00:31<00:00, 59.83it/s]\n"
          ]
        },
        {
          "output_type": "stream",
          "name": "stdout",
          "text": [
            "\n",
            "Test set: Average loss: 0.0392, Accuracy: 9880/10000 (99%)\n",
            "\n",
            "Epoch:  6\n"
          ]
        },
        {
          "output_type": "stream",
          "name": "stderr",
          "text": [
            "loss=0.015665845945477486 batch_id=1874 Train Accuracy=98.82: 100%|██████████| 1875/1875 [00:31<00:00, 58.83it/s]\n"
          ]
        },
        {
          "output_type": "stream",
          "name": "stdout",
          "text": [
            "\n",
            "Test set: Average loss: 0.0445, Accuracy: 9872/10000 (99%)\n",
            "\n",
            "Epoch:  7\n"
          ]
        },
        {
          "output_type": "stream",
          "name": "stderr",
          "text": [
            "loss=0.029741276055574417 batch_id=1874 Train Accuracy=99.125: 100%|██████████| 1875/1875 [00:31<00:00, 59.14it/s]\n"
          ]
        },
        {
          "output_type": "stream",
          "name": "stdout",
          "text": [
            "\n",
            "Test set: Average loss: 0.0261, Accuracy: 9917/10000 (99%)\n",
            "\n",
            "Epoch:  8\n"
          ]
        },
        {
          "output_type": "stream",
          "name": "stderr",
          "text": [
            "loss=0.0015558624872937799 batch_id=1874 Train Accuracy=99.19166666666666: 100%|██████████| 1875/1875 [00:31<00:00, 59.56it/s]\n"
          ]
        },
        {
          "output_type": "stream",
          "name": "stdout",
          "text": [
            "\n",
            "Test set: Average loss: 0.0281, Accuracy: 9915/10000 (99%)\n",
            "\n",
            "Epoch:  9\n"
          ]
        },
        {
          "output_type": "stream",
          "name": "stderr",
          "text": [
            "loss=0.03514779359102249 batch_id=1874 Train Accuracy=99.22333333333333: 100%|██████████| 1875/1875 [00:31<00:00, 59.11it/s]\n"
          ]
        },
        {
          "output_type": "stream",
          "name": "stdout",
          "text": [
            "\n",
            "Test set: Average loss: 0.0273, Accuracy: 9920/10000 (99%)\n",
            "\n",
            "Epoch:  10\n"
          ]
        },
        {
          "output_type": "stream",
          "name": "stderr",
          "text": [
            "loss=0.005341824144124985 batch_id=1874 Train Accuracy=99.24333333333334: 100%|██████████| 1875/1875 [00:31<00:00, 59.56it/s]\n"
          ]
        },
        {
          "output_type": "stream",
          "name": "stdout",
          "text": [
            "\n",
            "Test set: Average loss: 0.0262, Accuracy: 9924/10000 (99%)\n",
            "\n",
            "Epoch:  11\n"
          ]
        },
        {
          "output_type": "stream",
          "name": "stderr",
          "text": [
            "loss=0.25163698196411133 batch_id=1874 Train Accuracy=99.24: 100%|██████████| 1875/1875 [00:31<00:00, 58.96it/s]\n"
          ]
        },
        {
          "output_type": "stream",
          "name": "stdout",
          "text": [
            "\n",
            "Test set: Average loss: 0.0252, Accuracy: 9927/10000 (99%)\n",
            "\n",
            "Epoch:  12\n"
          ]
        },
        {
          "output_type": "stream",
          "name": "stderr",
          "text": [
            "loss=0.018844522535800934 batch_id=1874 Train Accuracy=99.28666666666666: 100%|██████████| 1875/1875 [00:32<00:00, 58.05it/s]\n"
          ]
        },
        {
          "output_type": "stream",
          "name": "stdout",
          "text": [
            "\n",
            "Test set: Average loss: 0.0256, Accuracy: 9923/10000 (99%)\n",
            "\n",
            "Epoch:  13\n"
          ]
        },
        {
          "output_type": "stream",
          "name": "stderr",
          "text": [
            "loss=0.0006241523078642786 batch_id=1874 Train Accuracy=99.31833333333333: 100%|██████████| 1875/1875 [00:31<00:00, 58.85it/s]\n"
          ]
        },
        {
          "output_type": "stream",
          "name": "stdout",
          "text": [
            "\n",
            "Test set: Average loss: 0.0247, Accuracy: 9926/10000 (99%)\n",
            "\n",
            "Epoch:  14\n"
          ]
        },
        {
          "output_type": "stream",
          "name": "stderr",
          "text": [
            "loss=0.003600914729759097 batch_id=1874 Train Accuracy=99.34: 100%|██████████| 1875/1875 [00:31<00:00, 58.67it/s]\n"
          ]
        },
        {
          "output_type": "stream",
          "name": "stdout",
          "text": [
            "\n",
            "Test set: Average loss: 0.0253, Accuracy: 9925/10000 (99%)\n",
            "\n",
            "Epoch:  15\n"
          ]
        },
        {
          "output_type": "stream",
          "name": "stderr",
          "text": [
            "loss=0.010442040860652924 batch_id=1874 Train Accuracy=99.36: 100%|██████████| 1875/1875 [00:31<00:00, 59.87it/s]\n"
          ]
        },
        {
          "output_type": "stream",
          "name": "stdout",
          "text": [
            "\n",
            "Test set: Average loss: 0.0242, Accuracy: 9929/10000 (99%)\n",
            "\n",
            "Epoch:  16\n"
          ]
        },
        {
          "output_type": "stream",
          "name": "stderr",
          "text": [
            "loss=0.003985395189374685 batch_id=1874 Train Accuracy=99.40333333333334: 100%|██████████| 1875/1875 [00:32<00:00, 57.70it/s]\n"
          ]
        },
        {
          "output_type": "stream",
          "name": "stdout",
          "text": [
            "\n",
            "Test set: Average loss: 0.0238, Accuracy: 9927/10000 (99%)\n",
            "\n",
            "Epoch:  17\n"
          ]
        },
        {
          "output_type": "stream",
          "name": "stderr",
          "text": [
            "loss=0.003223892068490386 batch_id=1874 Train Accuracy=99.44666666666667: 100%|██████████| 1875/1875 [00:31<00:00, 59.65it/s]\n"
          ]
        },
        {
          "output_type": "stream",
          "name": "stdout",
          "text": [
            "\n",
            "Test set: Average loss: 0.0246, Accuracy: 9927/10000 (99%)\n",
            "\n",
            "Epoch:  18\n"
          ]
        },
        {
          "output_type": "stream",
          "name": "stderr",
          "text": [
            "loss=0.2033565789461136 batch_id=1874 Train Accuracy=99.37833333333333: 100%|██████████| 1875/1875 [00:31<00:00, 59.82it/s]\n"
          ]
        },
        {
          "output_type": "stream",
          "name": "stdout",
          "text": [
            "\n",
            "Test set: Average loss: 0.0254, Accuracy: 9924/10000 (99%)\n",
            "\n",
            "Epoch:  19\n"
          ]
        },
        {
          "output_type": "stream",
          "name": "stderr",
          "text": [
            "loss=0.0016819620504975319 batch_id=1874 Train Accuracy=99.42833333333333: 100%|██████████| 1875/1875 [00:31<00:00, 59.67it/s]\n"
          ]
        },
        {
          "output_type": "stream",
          "name": "stdout",
          "text": [
            "\n",
            "Test set: Average loss: 0.0244, Accuracy: 9926/10000 (99%)\n",
            "\n",
            "Epoch:  20\n"
          ]
        },
        {
          "output_type": "stream",
          "name": "stderr",
          "text": [
            "loss=0.02789851650595665 batch_id=1874 Train Accuracy=99.455: 100%|██████████| 1875/1875 [00:31<00:00, 60.35it/s]\n"
          ]
        },
        {
          "output_type": "stream",
          "name": "stdout",
          "text": [
            "\n",
            "Test set: Average loss: 0.0248, Accuracy: 9927/10000 (99%)\n",
            "\n"
          ]
        }
      ]
    },
    {
      "cell_type": "code",
      "source": [
        "plot_arr = []\n",
        "for i in range(len(inc)):\n",
        "  plot_arr.append(inc[i].cpu().data.numpy()[0])"
      ],
      "metadata": {
        "id": "UTLuFwtiuoLU"
      },
      "execution_count": 28,
      "outputs": []
    },
    {
      "cell_type": "code",
      "source": [
        "plt.figure(figsize =(10, 10))\n",
        "\n",
        "# Subplot(r,c) provide the no. of rows and columns\n",
        "f, axarr = plt.subplots(2,5) \n",
        "\n",
        "# Plotting each image as a subplot with the actual target as label\n",
        "axarr[0,0].imshow(plot_arr[0],cmap='gray')\n",
        "axarr[0, 0].set_title(pre[0].cpu().item())\n",
        "axarr[0,1].imshow(plot_arr[1],cmap='gray')\n",
        "axarr[0, 1].set_title(pre[1].cpu().item())\n",
        "axarr[0,2].imshow(plot_arr[2],cmap='gray')\n",
        "axarr[0, 2].set_title(pre[2].cpu().item())\n",
        "axarr[0,3].imshow(plot_arr[3],cmap='gray')\n",
        "axarr[0, 3].set_title(pre[3].cpu().item())\n",
        "axarr[0,4].imshow(plot_arr[4],cmap='gray')\n",
        "axarr[0, 4].set_title(pre[4].cpu().item())\n",
        "axarr[1,0].imshow(plot_arr[5],cmap='gray')\n",
        "axarr[1, 0].set_title(pre[5].cpu().item())\n",
        "axarr[1,1].imshow(plot_arr[6],cmap='gray')\n",
        "axarr[1, 1].set_title(pre[6].cpu().item())\n",
        "axarr[1,2].imshow(plot_arr[7],cmap='gray')\n",
        "axarr[1, 2].set_title(pre[7].cpu().item())\n",
        "axarr[1,3].imshow(plot_arr[8],cmap='gray')\n",
        "axarr[1, 3].set_title(pre[8].cpu().item())\n",
        "axarr[1,4].imshow(plot_arr[9],cmap='gray')\n",
        "axarr[1, 4].set_title(pre[9].cpu().item())"
      ],
      "metadata": {
        "colab": {
          "base_uri": "https://localhost:8080/",
          "height": 275
        },
        "id": "3-BNZSBDwroJ",
        "outputId": "02600608-c139-445c-9bd8-df8a15543dd3"
      },
      "execution_count": 29,
      "outputs": [
        {
          "output_type": "execute_result",
          "data": {
            "text/plain": [
              "Text(0.5, 1.0, '9')"
            ]
          },
          "metadata": {},
          "execution_count": 29
        },
        {
          "output_type": "display_data",
          "data": {
            "text/plain": [
              "<Figure size 720x720 with 0 Axes>"
            ]
          },
          "metadata": {}
        },
        {
          "output_type": "display_data",
          "data": {
            "text/plain": [
              "<Figure size 432x288 with 10 Axes>"
            ],
            "image/png": "[encoded data removed]"
          },
          "metadata": {
            "needs_background": "light"
          }
        }
      ]
    },
    {
      "cell_type": "code",
      "source": [
        "inc = []\n",
        "pre = []\n",
        "plot_arr = []"
      ],
      "metadata": {
        "id": "w6_pSrRVYlyl"
      },
      "execution_count": 30,
      "outputs": []
    },
    {
      "cell_type": "markdown",
      "source": [
        "## Layer Normalization"
      ],
      "metadata": {
        "id": "FI7GEaqIFYQc"
      }
    },
    {
      "cell_type": "code",
      "source": [
        "from torchsummary import summary\n",
        "norm = 'LN' # Using layer norm\n",
        "\n",
        "use_cuda = torch.cuda.is_available()\n",
        "device = torch.device(\"cuda\" if use_cuda else \"cpu\")\n",
        "modelln = Net(norm).to(device)\n",
        "summary(modelln, input_size=(1, 28, 28))\n",
        "\n",
        "torch.manual_seed(1)\n",
        "batch_size = 32\n",
        "\n",
        "kwargs = {'num_workers': 1, 'pin_memory': True} if use_cuda else {}\n",
        "train_loader = torch.utils.data.DataLoader(\n",
        "    datasets.MNIST('../data', train=True, download=True,\n",
        "                    transform=transforms.Compose([\n",
        "                        transforms.RandomRotation((-1.0, 1.0), fill=(1,)),\n",
        "                        transforms.ToTensor(),\n",
        "                        transforms.Normalize((0.1307,), (0.3081,))\n",
        "                    ])),\n",
        "    batch_size=batch_size, shuffle=True, **kwargs)\n",
        "test_loader = torch.utils.data.DataLoader(\n",
        "    datasets.MNIST('../data', train=False, transform=transforms.Compose([\n",
        "                        transforms.RandomRotation((-1.0, 1.0), fill=(1,)),\n",
        "                        transforms.ToTensor(),\n",
        "                        transforms.Normalize((0.1307,), (0.3081,))\n",
        "                    ])),\n",
        "    batch_size=batch_size, shuffle=True, **kwargs)"
      ],
      "metadata": {
        "colab": {
          "base_uri": "https://localhost:8080/"
        },
        "id": "sdZZEDja3eix",
        "outputId": "552ab2d5-fd39-4042-8c5b-6d21e37489af"
      },
      "execution_count": 31,
      "outputs": [
        {
          "output_type": "stream",
          "name": "stdout",
          "text": [
            "----------------------------------------------------------------\n",
            "        Layer (type)               Output Shape         Param #\n",
            "================================================================\n",
            "            Conv2d-1           [-1, 16, 26, 26]             144\n",
            "           Dropout-2           [-1, 16, 26, 26]               0\n",
            "            Conv2d-3           [-1, 32, 24, 24]           4,608\n",
            "         MaxPool2d-4           [-1, 32, 12, 12]               0\n",
            "           Dropout-5           [-1, 32, 12, 12]               0\n",
            "            Conv2d-6           [-1, 10, 12, 12]             320\n",
            "            Conv2d-7           [-1, 16, 10, 10]           1,440\n",
            "           Dropout-8           [-1, 16, 10, 10]               0\n",
            "            Conv2d-9             [-1, 16, 8, 8]           2,304\n",
            "          Dropout-10             [-1, 16, 8, 8]               0\n",
            "           Conv2d-11             [-1, 16, 6, 6]           2,304\n",
            "AdaptiveAvgPool2d-12             [-1, 16, 1, 1]               0\n",
            "           Linear-13                   [-1, 10]             170\n",
            "================================================================\n",
            "Total params: 11,290\n",
            "Trainable params: 11,290\n",
            "Non-trainable params: 0\n",
            "----------------------------------------------------------------\n",
            "Input size (MB): 0.00\n",
            "Forward/backward pass size (MB): 0.43\n",
            "Params size (MB): 0.04\n",
            "Estimated Total Size (MB): 0.48\n",
            "----------------------------------------------------------------\n"
          ]
        }
      ]
    },
    {
      "cell_type": "code",
      "source": [
        "optimizer = optim.SGD(modelln.parameters(), lr=0.05, momentum=0.9)\n",
        "scheduler =  optim.lr_scheduler.StepLR(optimizer, step_size=6, gamma=0.3)\n",
        "\n",
        "for epoch in range(20):\n",
        "    print(\"Epoch: \",epoch+1)\n",
        "    train(modelln, device, train_loader, optimizer, epoch)\n",
        "    scheduler.step()\n",
        "    test(modelln, device, test_loader)\n",
        "\n",
        "loss_all.append(loss_arr)\n",
        "acc_all.append(acc_arr)\n",
        "loss_arr = []\n",
        "acc_arr = []"
      ],
      "metadata": {
        "colab": {
          "base_uri": "https://localhost:8080/"
        },
        "id": "7RI4i-zZ8h3m",
        "outputId": "688eafd7-4b92-48bb-ad4e-1948fea9de7d"
      },
      "execution_count": 32,
      "outputs": [
        {
          "output_type": "stream",
          "name": "stdout",
          "text": [
            "Epoch:  1\n"
          ]
        },
        {
          "output_type": "stream",
          "name": "stderr",
          "text": [
            "loss=0.09019153565168381 batch_id=1874 Train Accuracy=92.42: 100%|██████████| 1875/1875 [00:37<00:00, 50.02it/s]\n"
          ]
        },
        {
          "output_type": "stream",
          "name": "stdout",
          "text": [
            "\n",
            "Test set: Average loss: 0.0621, Accuracy: 9802/10000 (98%)\n",
            "\n",
            "Epoch:  2\n"
          ]
        },
        {
          "output_type": "stream",
          "name": "stderr",
          "text": [
            "loss=0.0033083881717175245 batch_id=1874 Train Accuracy=97.36166666666666: 100%|██████████| 1875/1875 [00:31<00:00, 59.19it/s]\n"
          ]
        },
        {
          "output_type": "stream",
          "name": "stdout",
          "text": [
            "\n",
            "Test set: Average loss: 0.0471, Accuracy: 9837/10000 (98%)\n",
            "\n",
            "Epoch:  3\n"
          ]
        },
        {
          "output_type": "stream",
          "name": "stderr",
          "text": [
            "loss=0.21561361849308014 batch_id=1874 Train Accuracy=97.86: 100%|██████████| 1875/1875 [00:31<00:00, 58.92it/s]\n"
          ]
        },
        {
          "output_type": "stream",
          "name": "stdout",
          "text": [
            "\n",
            "Test set: Average loss: 0.0449, Accuracy: 9864/10000 (99%)\n",
            "\n",
            "Epoch:  4\n"
          ]
        },
        {
          "output_type": "stream",
          "name": "stderr",
          "text": [
            "loss=0.023219576105475426 batch_id=1874 Train Accuracy=98.34666666666666: 100%|██████████| 1875/1875 [00:30<00:00, 60.52it/s]\n"
          ]
        },
        {
          "output_type": "stream",
          "name": "stdout",
          "text": [
            "\n",
            "Test set: Average loss: 0.0421, Accuracy: 9867/10000 (99%)\n",
            "\n",
            "Epoch:  5\n"
          ]
        },
        {
          "output_type": "stream",
          "name": "stderr",
          "text": [
            "loss=0.1278568059206009 batch_id=1874 Train Accuracy=98.49333333333334: 100%|██████████| 1875/1875 [00:30<00:00, 60.99it/s]\n"
          ]
        },
        {
          "output_type": "stream",
          "name": "stdout",
          "text": [
            "\n",
            "Test set: Average loss: 0.0448, Accuracy: 9862/10000 (99%)\n",
            "\n",
            "Epoch:  6\n"
          ]
        },
        {
          "output_type": "stream",
          "name": "stderr",
          "text": [
            "loss=0.030220087617635727 batch_id=1874 Train Accuracy=98.55333333333333: 100%|██████████| 1875/1875 [00:31<00:00, 58.78it/s]\n"
          ]
        },
        {
          "output_type": "stream",
          "name": "stdout",
          "text": [
            "\n",
            "Test set: Average loss: 0.0319, Accuracy: 9904/10000 (99%)\n",
            "\n",
            "Epoch:  7\n"
          ]
        },
        {
          "output_type": "stream",
          "name": "stderr",
          "text": [
            "loss=0.01796981319785118 batch_id=1874 Train Accuracy=99.01333333333334: 100%|██████████| 1875/1875 [00:31<00:00, 59.93it/s]\n"
          ]
        },
        {
          "output_type": "stream",
          "name": "stdout",
          "text": [
            "\n",
            "Test set: Average loss: 0.0200, Accuracy: 9937/10000 (99%)\n",
            "\n",
            "Epoch:  8\n"
          ]
        },
        {
          "output_type": "stream",
          "name": "stderr",
          "text": [
            "loss=0.0011324819643050432 batch_id=1874 Train Accuracy=99.16166666666666: 100%|██████████| 1875/1875 [00:30<00:00, 60.92it/s]\n"
          ]
        },
        {
          "output_type": "stream",
          "name": "stdout",
          "text": [
            "\n",
            "Test set: Average loss: 0.0224, Accuracy: 9932/10000 (99%)\n",
            "\n",
            "Epoch:  9\n"
          ]
        },
        {
          "output_type": "stream",
          "name": "stderr",
          "text": [
            "loss=0.018199052661657333 batch_id=1874 Train Accuracy=99.155: 100%|██████████| 1875/1875 [00:30<00:00, 61.03it/s]\n"
          ]
        },
        {
          "output_type": "stream",
          "name": "stdout",
          "text": [
            "\n",
            "Test set: Average loss: 0.0210, Accuracy: 9936/10000 (99%)\n",
            "\n",
            "Epoch:  10\n"
          ]
        },
        {
          "output_type": "stream",
          "name": "stderr",
          "text": [
            "loss=0.0008343197405338287 batch_id=1874 Train Accuracy=99.15166666666667: 100%|██████████| 1875/1875 [00:30<00:00, 60.55it/s]\n"
          ]
        },
        {
          "output_type": "stream",
          "name": "stdout",
          "text": [
            "\n",
            "Test set: Average loss: 0.0218, Accuracy: 9926/10000 (99%)\n",
            "\n",
            "Epoch:  11\n"
          ]
        },
        {
          "output_type": "stream",
          "name": "stderr",
          "text": [
            "loss=0.27750760316848755 batch_id=1874 Train Accuracy=99.16: 100%|██████████| 1875/1875 [00:30<00:00, 61.02it/s]\n"
          ]
        },
        {
          "output_type": "stream",
          "name": "stdout",
          "text": [
            "\n",
            "Test set: Average loss: 0.0219, Accuracy: 9927/10000 (99%)\n",
            "\n",
            "Epoch:  12\n"
          ]
        },
        {
          "output_type": "stream",
          "name": "stderr",
          "text": [
            "loss=0.010000897571444511 batch_id=1874 Train Accuracy=99.17666666666666: 100%|██████████| 1875/1875 [00:30<00:00, 61.07it/s]\n"
          ]
        },
        {
          "output_type": "stream",
          "name": "stdout",
          "text": [
            "\n",
            "Test set: Average loss: 0.0215, Accuracy: 9933/10000 (99%)\n",
            "\n",
            "Epoch:  13\n"
          ]
        },
        {
          "output_type": "stream",
          "name": "stderr",
          "text": [
            "loss=0.0036691492423415184 batch_id=1874 Train Accuracy=99.325: 100%|██████████| 1875/1875 [00:31<00:00, 59.98it/s]\n"
          ]
        },
        {
          "output_type": "stream",
          "name": "stdout",
          "text": [
            "\n",
            "Test set: Average loss: 0.0196, Accuracy: 9941/10000 (99%)\n",
            "\n",
            "Epoch:  14\n"
          ]
        },
        {
          "output_type": "stream",
          "name": "stderr",
          "text": [
            "loss=0.002109672175720334 batch_id=1874 Train Accuracy=99.30833333333334: 100%|██████████| 1875/1875 [00:30<00:00, 61.42it/s]\n"
          ]
        },
        {
          "output_type": "stream",
          "name": "stdout",
          "text": [
            "\n",
            "Test set: Average loss: 0.0200, Accuracy: 9939/10000 (99%)\n",
            "\n",
            "Epoch:  15\n"
          ]
        },
        {
          "output_type": "stream",
          "name": "stderr",
          "text": [
            "loss=0.0007559948717243969 batch_id=1874 Train Accuracy=99.34833333333333: 100%|██████████| 1875/1875 [00:30<00:00, 60.64it/s]\n"
          ]
        },
        {
          "output_type": "stream",
          "name": "stdout",
          "text": [
            "\n",
            "Test set: Average loss: 0.0188, Accuracy: 9946/10000 (99%)\n",
            "\n",
            "Epoch:  16\n"
          ]
        },
        {
          "output_type": "stream",
          "name": "stderr",
          "text": [
            "loss=0.012273348867893219 batch_id=1874 Train Accuracy=99.26666666666667: 100%|██████████| 1875/1875 [00:30<00:00, 60.79it/s]\n"
          ]
        },
        {
          "output_type": "stream",
          "name": "stdout",
          "text": [
            "\n",
            "Test set: Average loss: 0.0201, Accuracy: 9936/10000 (99%)\n",
            "\n",
            "Epoch:  17\n"
          ]
        },
        {
          "output_type": "stream",
          "name": "stderr",
          "text": [
            "loss=0.01415304746478796 batch_id=1874 Train Accuracy=99.335: 100%|██████████| 1875/1875 [00:30<00:00, 61.54it/s]\n"
          ]
        },
        {
          "output_type": "stream",
          "name": "stdout",
          "text": [
            "\n",
            "Test set: Average loss: 0.0197, Accuracy: 9938/10000 (99%)\n",
            "\n",
            "Epoch:  18\n"
          ]
        },
        {
          "output_type": "stream",
          "name": "stderr",
          "text": [
            "loss=0.06523866951465607 batch_id=1874 Train Accuracy=99.34833333333333: 100%|██████████| 1875/1875 [00:30<00:00, 60.76it/s]\n"
          ]
        },
        {
          "output_type": "stream",
          "name": "stdout",
          "text": [
            "\n",
            "Test set: Average loss: 0.0199, Accuracy: 9939/10000 (99%)\n",
            "\n",
            "Epoch:  19\n"
          ]
        },
        {
          "output_type": "stream",
          "name": "stderr",
          "text": [
            "loss=0.0012444838648661971 batch_id=1874 Train Accuracy=99.37666666666667: 100%|██████████| 1875/1875 [00:30<00:00, 61.19it/s]\n"
          ]
        },
        {
          "output_type": "stream",
          "name": "stdout",
          "text": [
            "\n",
            "Test set: Average loss: 0.0195, Accuracy: 9939/10000 (99%)\n",
            "\n",
            "Epoch:  20\n"
          ]
        },
        {
          "output_type": "stream",
          "name": "stderr",
          "text": [
            "loss=0.012300614267587662 batch_id=1874 Train Accuracy=99.395: 100%|██████████| 1875/1875 [00:31<00:00, 59.56it/s]\n"
          ]
        },
        {
          "output_type": "stream",
          "name": "stdout",
          "text": [
            "\n",
            "Test set: Average loss: 0.0191, Accuracy: 9941/10000 (99%)\n",
            "\n"
          ]
        }
      ]
    },
    {
      "cell_type": "code",
      "source": [
        "plot_arr = []\n",
        "for i in range(len(inc)):\n",
        "  plot_arr.append(inc[i].cpu().data.numpy()[0])\n",
        "\n",
        "\n",
        "plt.figure(figsize =(10, 10))\n",
        "\n",
        "# Subplot(r,c) provide the no. of rows and columns\n",
        "f, axarr = plt.subplots(2,5) \n",
        "\n",
        "# Plotting each image as a subplot with the actual target as label\n",
        "axarr[0,0].imshow(plot_arr[0],cmap='gray')\n",
        "axarr[0, 0].set_title(pre[0].cpu().item())\n",
        "axarr[0,1].imshow(plot_arr[1],cmap='gray')\n",
        "axarr[0, 1].set_title(pre[1].cpu().item())\n",
        "axarr[0,2].imshow(plot_arr[2],cmap='gray')\n",
        "axarr[0, 2].set_title(pre[2].cpu().item())\n",
        "axarr[0,3].imshow(plot_arr[3],cmap='gray')\n",
        "axarr[0, 3].set_title(pre[3].cpu().item())\n",
        "axarr[0,4].imshow(plot_arr[4],cmap='gray')\n",
        "axarr[0, 4].set_title(pre[4].cpu().item())\n",
        "axarr[1,0].imshow(plot_arr[5],cmap='gray')\n",
        "axarr[1, 0].set_title(pre[5].cpu().item())\n",
        "axarr[1,1].imshow(plot_arr[6],cmap='gray')\n",
        "axarr[1, 1].set_title(pre[6].cpu().item())\n",
        "axarr[1,2].imshow(plot_arr[7],cmap='gray')\n",
        "axarr[1, 2].set_title(pre[7].cpu().item())\n",
        "axarr[1,3].imshow(plot_arr[8],cmap='gray')\n",
        "axarr[1, 3].set_title(pre[8].cpu().item())\n",
        "axarr[1,4].imshow(plot_arr[9],cmap='gray')\n",
        "axarr[1, 4].set_title(pre[9].cpu().item())"
      ],
      "metadata": {
        "colab": {
          "base_uri": "https://localhost:8080/",
          "height": 275
        },
        "id": "1OYU-XKte0uw",
        "outputId": "06c2c11a-2f59-42d0-aace-c053e46a6e99"
      },
      "execution_count": 33,
      "outputs": [
        {
          "output_type": "execute_result",
          "data": {
            "text/plain": [
              "Text(0.5, 1.0, '6')"
            ]
          },
          "metadata": {},
          "execution_count": 33
        },
        {
          "output_type": "display_data",
          "data": {
            "text/plain": [
              "<Figure size 720x720 with 0 Axes>"
            ]
          },
          "metadata": {}
        },
        {
          "output_type": "display_data",
          "data": {
            "text/plain": [
              "<Figure size 432x288 with 10 Axes>"
            ],
            "image/png": "[encoded data removed]"
          },
          "metadata": {
            "needs_background": "light"
          }
        }
      ]
    },
    {
      "cell_type": "code",
      "source": [
        "inc = []\n",
        "pre = []\n",
        "plot_arr = []"
      ],
      "metadata": {
        "id": "KcwEAmR1wOND"
      },
      "execution_count": 34,
      "outputs": []
    },
    {
      "cell_type": "markdown",
      "source": [
        "## BatchNorm + L1"
      ],
      "metadata": {
        "id": "mnCE1F2SFlye"
      }
    },
    {
      "cell_type": "code",
      "source": [
        "from torchsummary import summary\n",
        "norm = 'BN' #Using Batch Norm + L1\n",
        "\n",
        "use_cuda = torch.cuda.is_available()\n",
        "device = torch.device(\"cuda\" if use_cuda else \"cpu\")\n",
        "modelbn = Net(norm).to(device)\n",
        "summary(modelbn, input_size=(1, 28, 28))\n",
        "\n",
        "torch.manual_seed(1)\n",
        "batch_size = 32\n",
        "\n",
        "kwargs = {'num_workers': 1, 'pin_memory': True} if use_cuda else {}\n",
        "train_loader = torch.utils.data.DataLoader(\n",
        "    datasets.MNIST('../data', train=True, download=True,\n",
        "                    transform=transforms.Compose([\n",
        "                        transforms.RandomRotation((-1.0, 1.0), fill=(1,)),\n",
        "                        transforms.ToTensor(),\n",
        "                        transforms.Normalize((0.1307,), (0.3081,))\n",
        "                    ])),\n",
        "    batch_size=batch_size, shuffle=True, **kwargs)\n",
        "test_loader = torch.utils.data.DataLoader(\n",
        "    datasets.MNIST('../data', train=False, transform=transforms.Compose([\n",
        "                        transforms.RandomRotation((-1.0, 1.0), fill=(1,)),\n",
        "                        transforms.ToTensor(),\n",
        "                        transforms.Normalize((0.1307,), (0.3081,))\n",
        "                    ])),\n",
        "    batch_size=batch_size, shuffle=True, **kwargs)"
      ],
      "metadata": {
        "colab": {
          "base_uri": "https://localhost:8080/"
        },
        "id": "sqafdZI089BY",
        "outputId": "44799153-8e69-4653-f97e-f4d0e1e82b68"
      },
      "execution_count": 35,
      "outputs": [
        {
          "output_type": "stream",
          "name": "stdout",
          "text": [
            "----------------------------------------------------------------\n",
            "        Layer (type)               Output Shape         Param #\n",
            "================================================================\n",
            "            Conv2d-1           [-1, 16, 26, 26]             144\n",
            "           Dropout-2           [-1, 16, 26, 26]               0\n",
            "            Conv2d-3           [-1, 32, 24, 24]           4,608\n",
            "         MaxPool2d-4           [-1, 32, 12, 12]               0\n",
            "           Dropout-5           [-1, 32, 12, 12]               0\n",
            "            Conv2d-6           [-1, 10, 12, 12]             320\n",
            "            Conv2d-7           [-1, 16, 10, 10]           1,440\n",
            "           Dropout-8           [-1, 16, 10, 10]               0\n",
            "            Conv2d-9             [-1, 16, 8, 8]           2,304\n",
            "          Dropout-10             [-1, 16, 8, 8]               0\n",
            "           Conv2d-11             [-1, 16, 6, 6]           2,304\n",
            "AdaptiveAvgPool2d-12             [-1, 16, 1, 1]               0\n",
            "           Linear-13                   [-1, 10]             170\n",
            "================================================================\n",
            "Total params: 11,290\n",
            "Trainable params: 11,290\n",
            "Non-trainable params: 0\n",
            "----------------------------------------------------------------\n",
            "Input size (MB): 0.00\n",
            "Forward/backward pass size (MB): 0.43\n",
            "Params size (MB): 0.04\n",
            "Estimated Total Size (MB): 0.48\n",
            "----------------------------------------------------------------\n"
          ]
        }
      ]
    },
    {
      "cell_type": "code",
      "source": [
        "# Function to implement L1 regularization\n",
        "\n",
        "def trainL1(model, device, train_loader, optimizer, epoch, lambda_l1):\n",
        "    model.train()\n",
        "    correct = 0\n",
        "    pbar = tqdm(train_loader)\n",
        "    for batch_idx, (data, target) in enumerate(pbar):\n",
        "        data, target = data.to(device), target.to(device)\n",
        "        optimizer.zero_grad()\n",
        "        output = model(data)\n",
        "        loss = F.nll_loss(output, target)\n",
        "        l1=0\n",
        "\n",
        "        # L1 Norm\n",
        "        for p in model.parameters():\n",
        "          l1+=p.abs().sum()\n",
        "\n",
        "        loss += lambda_l1*l1\n",
        "        loss.backward()\n",
        "        optimizer.step()\n",
        "        pred = output.argmax(dim=1, keepdim=True)  # get the index of the max log-probability\n",
        "        correct += pred.eq(target.view_as(pred)).sum().item()\n",
        "        pbar.set_description(desc= f'loss={loss.item()} batch_id={batch_idx} Train Accuracy={100. * correct / len(train_loader.dataset)}')"
      ],
      "metadata": {
        "id": "XSP71dvJGF7d"
      },
      "execution_count": 36,
      "outputs": []
    },
    {
      "cell_type": "code",
      "source": [
        "optimizer = optim.SGD(modelbn.parameters(), lr=0.05, momentum=0.9)\n",
        "scheduler =  optim.lr_scheduler.StepLR(optimizer, step_size=6, gamma=0.3)\n",
        "\n",
        "for epoch in range(20):\n",
        "    print(\"Epoch: \",epoch+1)\n",
        "    trainL1(modelbn, device, train_loader, optimizer, epoch, 0.005)\n",
        "    scheduler.step()\n",
        "    test(modelbn, device, test_loader)\n",
        "\n",
        "loss_all.append(loss_arr)\n",
        "acc_all.append(acc_arr)\n",
        "loss_arr = []\n",
        "acc_arr = []"
      ],
      "metadata": {
        "colab": {
          "base_uri": "https://localhost:8080/"
        },
        "id": "fdKqnIbP9Pcw",
        "outputId": "2e2df77e-1c51-402d-fe07-ca0dc70b470d"
      },
      "execution_count": 37,
      "outputs": [
        {
          "metadata": {
            "tags": null
          },
          "name": "stdout",
          "output_type": "stream",
          "text": [
            "Epoch:  1\n"
          ]
        },
        {
          "metadata": {
            "tags": null
          },
          "name": "stderr",
          "output_type": "stream",
          "text": [
            "loss=1.627228856086731 batch_id=1874 Train Accuracy=85.5: 100%|██████████| 1875/1875 [00:34<00:00, 53.83it/s]\n"
          ]
        },
        {
          "metadata": {
            "tags": null
          },
          "name": "stdout",
          "output_type": "stream",
          "text": [
            "\n",
            "Test set: Average loss: 0.3038, Accuracy: 9168/10000 (92%)\n",
            "\n",
            "Epoch:  2\n"
          ]
        },
        {
          "metadata": {
            "tags": null
          },
          "name": "stderr",
          "output_type": "stream",
          "text": [
            "loss=1.671357274055481 batch_id=1874 Train Accuracy=87.23833333333333: 100%|██████████| 1875/1875 [00:34<00:00, 54.47it/s]\n"
          ]
        },
        {
          "metadata": {
            "tags": null
          },
          "name": "stdout",
          "output_type": "stream",
          "text": [
            "\n",
            "Test set: Average loss: 0.3378, Accuracy: 9052/10000 (91%)\n",
            "\n",
            "Epoch:  3\n"
          ]
        },
        {
          "metadata": {
            "tags": null
          },
          "name": "stderr",
          "output_type": "stream",
          "text": [
            "loss=1.737754464149475 batch_id=1874 Train Accuracy=87.09: 100%|██████████| 1875/1875 [00:34<00:00, 54.87it/s]\n"
          ]
        },
        {
          "metadata": {
            "tags": null
          },
          "name": "stdout",
          "output_type": "stream",
          "text": [
            "\n",
            "Test set: Average loss: 0.3225, Accuracy: 9036/10000 (90%)\n",
            "\n",
            "Epoch:  4\n"
          ]
        },
        {
          "metadata": {
            "tags": null
          },
          "name": "stderr",
          "output_type": "stream",
          "text": [
            "loss=1.7662421464920044 batch_id=1874 Train Accuracy=87.08666666666667: 100%|██████████| 1875/1875 [00:33<00:00, 55.27it/s]\n"
          ]
        },
        {
          "metadata": {
            "tags": null
          },
          "name": "stdout",
          "output_type": "stream",
          "text": [
            "\n",
            "Test set: Average loss: 0.3300, Accuracy: 8971/10000 (90%)\n",
            "\n",
            "Epoch:  5\n"
          ]
        },
        {
          "metadata": {
            "tags": null
          },
          "name": "stderr",
          "output_type": "stream",
          "text": [
            "loss=1.8468443155288696 batch_id=1874 Train Accuracy=87.79166666666667: 100%|██████████| 1875/1875 [00:34<00:00, 54.56it/s]\n"
          ]
        },
        {
          "metadata": {
            "tags": null
          },
          "name": "stdout",
          "output_type": "stream",
          "text": [
            "\n",
            "Test set: Average loss: 0.2936, Accuracy: 9156/10000 (92%)\n",
            "\n",
            "Epoch:  6\n"
          ]
        },
        {
          "metadata": {
            "tags": null
          },
          "name": "stderr",
          "output_type": "stream",
          "text": [
            "loss=1.562086582183838 batch_id=1874 Train Accuracy=87.91833333333334: 100%|██████████| 1875/1875 [00:34<00:00, 55.10it/s]\n"
          ]
        },
        {
          "metadata": {
            "tags": null
          },
          "name": "stdout",
          "output_type": "stream",
          "text": [
            "\n",
            "Test set: Average loss: 0.3074, Accuracy: 9088/10000 (91%)\n",
            "\n",
            "Epoch:  7\n"
          ]
        },
        {
          "metadata": {
            "tags": null
          },
          "name": "stderr",
          "output_type": "stream",
          "text": [
            "loss=1.113417387008667 batch_id=1874 Train Accuracy=91.40166666666667: 100%|██████████| 1875/1875 [00:35<00:00, 52.60it/s]\n"
          ]
        },
        {
          "metadata": {
            "tags": null
          },
          "name": "stdout",
          "output_type": "stream",
          "text": [
            "\n",
            "Test set: Average loss: 0.2327, Accuracy: 9312/10000 (93%)\n",
            "\n",
            "Epoch:  8\n"
          ]
        },
        {
          "metadata": {
            "tags": null
          },
          "name": "stderr",
          "output_type": "stream",
          "text": [
            "loss=1.1542775630950928 batch_id=1874 Train Accuracy=91.485: 100%|██████████| 1875/1875 [00:34<00:00, 53.76it/s]\n"
          ]
        },
        {
          "metadata": {
            "tags": null
          },
          "name": "stdout",
          "output_type": "stream",
          "text": [
            "\n",
            "Test set: Average loss: 0.1934, Accuracy: 9451/10000 (95%)\n",
            "\n",
            "Epoch:  9\n"
          ]
        },
        {
          "metadata": {
            "tags": null
          },
          "name": "stderr",
          "output_type": "stream",
          "text": [
            "loss=1.1955879926681519 batch_id=1874 Train Accuracy=91.67833333333333: 100%|██████████| 1875/1875 [00:35<00:00, 53.53it/s]\n"
          ]
        },
        {
          "metadata": {
            "tags": null
          },
          "name": "stdout",
          "output_type": "stream",
          "text": [
            "\n",
            "Test set: Average loss: 0.2230, Accuracy: 9380/10000 (94%)\n",
            "\n",
            "Epoch:  10\n"
          ]
        },
        {
          "metadata": {
            "tags": null
          },
          "name": "stderr",
          "output_type": "stream",
          "text": [
            "loss=1.2594224214553833 batch_id=1874 Train Accuracy=91.60333333333334: 100%|██████████| 1875/1875 [00:34<00:00, 53.73it/s]\n"
          ]
        },
        {
          "metadata": {
            "tags": null
          },
          "name": "stdout",
          "output_type": "stream",
          "text": [
            "\n",
            "Test set: Average loss: 0.2836, Accuracy: 9188/10000 (92%)\n",
            "\n",
            "Epoch:  11\n"
          ]
        },
        {
          "metadata": {
            "tags": null
          },
          "name": "stderr",
          "output_type": "stream",
          "text": [
            "loss=1.3506933450698853 batch_id=1874 Train Accuracy=91.72166666666666: 100%|██████████| 1875/1875 [00:35<00:00, 53.24it/s]\n"
          ]
        },
        {
          "metadata": {
            "tags": null
          },
          "name": "stdout",
          "output_type": "stream",
          "text": [
            "\n",
            "Test set: Average loss: 0.2045, Accuracy: 9395/10000 (94%)\n",
            "\n",
            "Epoch:  12\n"
          ]
        },
        {
          "metadata": {
            "tags": null
          },
          "name": "stderr",
          "output_type": "stream",
          "text": [
            "loss=1.4205693006515503 batch_id=1874 Train Accuracy=91.65666666666667: 100%|██████████| 1875/1875 [00:35<00:00, 53.28it/s]\n"
          ]
        },
        {
          "metadata": {
            "tags": null
          },
          "name": "stdout",
          "output_type": "stream",
          "text": [
            "\n",
            "Test set: Average loss: 0.2109, Accuracy: 9413/10000 (94%)\n",
            "\n",
            "Epoch:  13\n"
          ]
        },
        {
          "metadata": {
            "tags": null
          },
          "name": "stderr",
          "output_type": "stream",
          "text": [
            "loss=0.8606600761413574 batch_id=1874 Train Accuracy=93.80833333333334: 100%|██████████| 1875/1875 [00:35<00:00, 52.91it/s]\n"
          ]
        },
        {
          "output_type": "stream",
          "name": "stdout",
          "text": [
            "\n",
            "Test set: Average loss: 0.1866, Accuracy: 9471/10000 (95%)\n",
            "\n",
            "Epoch:  14\n"
          ]
        },
        {
          "output_type": "stream",
          "name": "stderr",
          "text": [
            "loss=0.8874110579490662 batch_id=1874 Train Accuracy=93.71833333333333: 100%|██████████| 1875/1875 [00:36<00:00, 51.65it/s]\n"
          ]
        },
        {
          "output_type": "stream",
          "name": "stdout",
          "text": [
            "\n",
            "Test set: Average loss: 0.1606, Accuracy: 9524/10000 (95%)\n",
            "\n",
            "Epoch:  15\n"
          ]
        },
        {
          "output_type": "stream",
          "name": "stderr",
          "text": [
            "loss=0.8018659353256226 batch_id=1874 Train Accuracy=93.87666666666667: 100%|██████████| 1875/1875 [00:36<00:00, 51.98it/s]\n"
          ]
        },
        {
          "output_type": "stream",
          "name": "stdout",
          "text": [
            "\n",
            "Test set: Average loss: 0.1712, Accuracy: 9542/10000 (95%)\n",
            "\n",
            "Epoch:  16\n"
          ]
        },
        {
          "output_type": "stream",
          "name": "stderr",
          "text": [
            "loss=0.9269380569458008 batch_id=1874 Train Accuracy=93.805: 100%|██████████| 1875/1875 [00:36<00:00, 51.29it/s]\n"
          ]
        },
        {
          "output_type": "stream",
          "name": "stdout",
          "text": [
            "\n",
            "Test set: Average loss: 0.1550, Accuracy: 9588/10000 (96%)\n",
            "\n",
            "Epoch:  17\n"
          ]
        },
        {
          "output_type": "stream",
          "name": "stderr",
          "text": [
            "loss=0.8713110685348511 batch_id=1874 Train Accuracy=93.87333333333333: 100%|██████████| 1875/1875 [00:36<00:00, 51.10it/s]\n"
          ]
        },
        {
          "output_type": "stream",
          "name": "stdout",
          "text": [
            "\n",
            "Test set: Average loss: 0.1491, Accuracy: 9603/10000 (96%)\n",
            "\n",
            "Epoch:  18\n"
          ]
        },
        {
          "output_type": "stream",
          "name": "stderr",
          "text": [
            "loss=0.9959536790847778 batch_id=1874 Train Accuracy=94.03: 100%|██████████| 1875/1875 [00:36<00:00, 51.65it/s]\n"
          ]
        },
        {
          "output_type": "stream",
          "name": "stdout",
          "text": [
            "\n",
            "Test set: Average loss: 0.1667, Accuracy: 9540/10000 (95%)\n",
            "\n",
            "Epoch:  19\n"
          ]
        },
        {
          "output_type": "stream",
          "name": "stderr",
          "text": [
            "loss=0.6653012037277222 batch_id=1874 Train Accuracy=95.42666666666666: 100%|██████████| 1875/1875 [00:37<00:00, 50.55it/s]\n"
          ]
        },
        {
          "output_type": "stream",
          "name": "stdout",
          "text": [
            "\n",
            "Test set: Average loss: 0.1026, Accuracy: 9731/10000 (97%)\n",
            "\n",
            "Epoch:  20\n"
          ]
        },
        {
          "output_type": "stream",
          "name": "stderr",
          "text": [
            "loss=0.7105563282966614 batch_id=1874 Train Accuracy=95.19666666666667: 100%|██████████| 1875/1875 [00:36<00:00, 51.64it/s]\n"
          ]
        },
        {
          "output_type": "stream",
          "name": "stdout",
          "text": [
            "\n",
            "Test set: Average loss: 0.1080, Accuracy: 9725/10000 (97%)\n",
            "\n"
          ]
        }
      ]
    },
    {
      "cell_type": "code",
      "source": [
        "plot_arr = []\n",
        "for i in range(len(inc)):\n",
        "  plot_arr.append(inc[i].cpu().data.numpy()[0])\n",
        "\n",
        "\n",
        "\n",
        "plt.figure(figsize =(10, 10))\n",
        "\n",
        "# Subplot(r,c) provide the no. of rows and columns\n",
        "f, axarr = plt.subplots(2,5) \n",
        "\n",
        "# Plotting each image as a subplot with the actual target as label\n",
        "axarr[0,0].imshow(plot_arr[0],cmap='gray')\n",
        "axarr[0, 0].set_title(pre[0].cpu().item())\n",
        "axarr[0,1].imshow(plot_arr[1],cmap='gray')\n",
        "axarr[0, 1].set_title(pre[1].cpu().item())\n",
        "axarr[0,2].imshow(plot_arr[2],cmap='gray')\n",
        "axarr[0, 2].set_title(pre[2].cpu().item())\n",
        "axarr[0,3].imshow(plot_arr[3],cmap='gray')\n",
        "axarr[0, 3].set_title(pre[3].cpu().item())\n",
        "axarr[0,4].imshow(plot_arr[4],cmap='gray')\n",
        "axarr[0, 4].set_title(pre[4].cpu().item())\n",
        "axarr[1,0].imshow(plot_arr[5],cmap='gray')\n",
        "axarr[1, 0].set_title(pre[5].cpu().item())\n",
        "axarr[1,1].imshow(plot_arr[6],cmap='gray')\n",
        "axarr[1, 1].set_title(pre[6].cpu().item())\n",
        "axarr[1,2].imshow(plot_arr[7],cmap='gray')\n",
        "axarr[1, 2].set_title(pre[7].cpu().item())\n",
        "axarr[1,3].imshow(plot_arr[8],cmap='gray')\n",
        "axarr[1, 3].set_title(pre[8].cpu().item())\n",
        "axarr[1,4].imshow(plot_arr[9],cmap='gray')\n",
        "axarr[1, 4].set_title(pre[9].cpu().item())\n",
        "\n",
        "\n",
        "\n",
        "inc = []\n",
        "pre = []\n",
        "plot_arr = []"
      ],
      "metadata": {
        "id": "5Uq7tWDhT6SL",
        "colab": {
          "base_uri": "https://localhost:8080/",
          "height": 257
        },
        "outputId": "f67f041d-ea6b-43a6-990f-573ddc885988"
      },
      "execution_count": 38,
      "outputs": [
        {
          "output_type": "display_data",
          "data": {
            "text/plain": [
              "<Figure size 720x720 with 0 Axes>"
            ]
          },
          "metadata": {}
        },
        {
          "output_type": "display_data",
          "data": {
            "text/plain": [
              "<Figure size 432x288 with 10 Axes>"
            ],
            "image/png": "[encoded data removed]"
          },
          "metadata": {
            "needs_background": "light"
          }
        }
      ]
    },
    {
      "cell_type": "code",
      "source": [
        "# Plotting Loss \n",
        "plt.plot(loss_all[0])\n",
        "plt.plot(loss_all[1])\n",
        "plt.plot(loss_all[2])\n",
        "plt.title('Model Loss')\n",
        "plt.ylabel('Validation Loss')\n",
        "plt.xlabel('Epoch')\n",
        "plt.legend(['GroupN','LayerN','BN+L1'], loc='upper left')\n",
        "plt.show()"
      ],
      "metadata": {
        "colab": {
          "base_uri": "https://localhost:8080/",
          "height": 295
        },
        "id": "wgSBd2jT91mQ",
        "outputId": "eb68b113-7ab9-4d5d-ae0f-39fb45ca65b3"
      },
      "execution_count": 39,
      "outputs": [
        {
          "output_type": "display_data",
          "data": {
            "text/plain": [
              "<Figure size 432x288 with 1 Axes>"
            ],
            "image/png": "[encoded data removed]"
          },
          "metadata": {
            "needs_background": "light"
          }
        }
      ]
    },
    {
      "cell_type": "code",
      "source": [
        "# Plotting Loss \n",
        "plt.plot(acc_all[0])\n",
        "plt.plot(acc_all[1])\n",
        "plt.plot(acc_all[2])\n",
        "plt.title('Model Accuracy')\n",
        "plt.ylabel('Validation Accuracy')\n",
        "plt.xlabel('Epoch')\n",
        "plt.legend(['GroupN','LayerN','BN+L1'], loc='upper left')\n",
        "plt.show()"
      ],
      "metadata": {
        "colab": {
          "base_uri": "https://localhost:8080/",
          "height": 295
        },
        "id": "X7wZ9qcJ99IB",
        "outputId": "b88bc908-97da-4873-90e0-24d0842f628e"
      },
      "execution_count": 40,
      "outputs": [
        {
          "output_type": "display_data",
          "data": {
            "text/plain": [
              "<Figure size 432x288 with 1 Axes>"
            ],
            "image/png": "[encoded data removed]"
          },
          "metadata": {
            "needs_background": "light"
          }
        }
      ]
    }
  ]
}