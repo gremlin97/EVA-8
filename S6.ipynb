{
  "nbformat": 4,
  "nbformat_minor": 0,
  "metadata": {
    "kernelspec": {
      "name": "python3",
      "display_name": "Python 3"
    },
    "language_info": {
      "codemirror_mode": {
        "name": "ipython",
        "version": 3
      },
      "file_extension": ".py",
      "mimetype": "text/x-python",
      "name": "python",
      "nbconvert_exporter": "python",
      "pygments_lexer": "ipython3",
      "version": "3.6.6"
    },
    "colab": {
      "provenance": [],
      "include_colab_link": true
    },
    "accelerator": "GPU",
    "widgets": {
      "application/vnd.jupyter.widget-state+json": {
        "e100c7f27ac24604a5c7246876e676b7": {
          "model_module": "@jupyter-widgets/controls",
          "model_name": "HBoxModel",
          "model_module_version": "1.5.0",
          "state": {
            "_dom_classes": [],
            "_model_module": "@jupyter-widgets/controls",
            "_model_module_version": "1.5.0",
            "_model_name": "HBoxModel",
            "_view_count": null,
            "_view_module": "@jupyter-widgets/controls",
            "_view_module_version": "1.5.0",
            "_view_name": "HBoxView",
            "box_style": "",
            "children": [
              "IPY_MODEL_d854166487994cfda668f2d46dfa9ec5",
              "IPY_MODEL_0425a0073e0f49f08ef14c8e5a4753de",
              "IPY_MODEL_1335b352ffc1481ab43c2456af06ecd3"
            ],
            "layout": "IPY_MODEL_3b75f2e93d844cdcb7dac012e953da2b"
          }
        },
        "d854166487994cfda668f2d46dfa9ec5": {
          "model_module": "@jupyter-widgets/controls",
          "model_name": "HTMLModel",
          "model_module_version": "1.5.0",
          "state": {
            "_dom_classes": [],
            "_model_module": "@jupyter-widgets/controls",
            "_model_module_version": "1.5.0",
            "_model_name": "HTMLModel",
            "_view_count": null,
            "_view_module": "@jupyter-widgets/controls",
            "_view_module_version": "1.5.0",
            "_view_name": "HTMLView",
            "description": "",
            "description_tooltip": null,
            "layout": "IPY_MODEL_1d965bb6438a49178675e858406724b2",
            "placeholder": "​",
            "style": "IPY_MODEL_f33547447a924b008225b4674d464027",
            "value": "100%"
          }
        },
        "0425a0073e0f49f08ef14c8e5a4753de": {
          "model_module": "@jupyter-widgets/controls",
          "model_name": "FloatProgressModel",
          "model_module_version": "1.5.0",
          "state": {
            "_dom_classes": [],
            "_model_module": "@jupyter-widgets/controls",
            "_model_module_version": "1.5.0",
            "_model_name": "FloatProgressModel",
            "_view_count": null,
            "_view_module": "@jupyter-widgets/controls",
            "_view_module_version": "1.5.0",
            "_view_name": "ProgressView",
            "bar_style": "success",
            "description": "",
            "description_tooltip": null,
            "layout": "IPY_MODEL_73f88f26df024871b237e8308239d0da",
            "max": 170498071,
            "min": 0,
            "orientation": "horizontal",
            "style": "IPY_MODEL_2274629d5a5342378bde4c97205a2fe4",
            "value": 170498071
          }
        },
        "1335b352ffc1481ab43c2456af06ecd3": {
          "model_module": "@jupyter-widgets/controls",
          "model_name": "HTMLModel",
          "model_module_version": "1.5.0",
          "state": {
            "_dom_classes": [],
            "_model_module": "@jupyter-widgets/controls",
            "_model_module_version": "1.5.0",
            "_model_name": "HTMLModel",
            "_view_count": null,
            "_view_module": "@jupyter-widgets/controls",
            "_view_module_version": "1.5.0",
            "_view_name": "HTMLView",
            "description": "",
            "description_tooltip": null,
            "layout": "IPY_MODEL_7184df5a98ae4f97b34a288876d4285f",
            "placeholder": "​",
            "style": "IPY_MODEL_e90f1447c41b45cb85798b224a30020f",
            "value": " 170498071/170498071 [00:16&lt;00:00, 11944707.95it/s]"
          }
        },
        "3b75f2e93d844cdcb7dac012e953da2b": {
          "model_module": "@jupyter-widgets/base",
          "model_name": "LayoutModel",
          "model_module_version": "1.2.0",
          "state": {
            "_model_module": "@jupyter-widgets/base",
            "_model_module_version": "1.2.0",
            "_model_name": "LayoutModel",
            "_view_count": null,
            "_view_module": "@jupyter-widgets/base",
            "_view_module_version": "1.2.0",
            "_view_name": "LayoutView",
            "align_content": null,
            "align_items": null,
            "align_self": null,
            "border": null,
            "bottom": null,
            "display": null,
            "flex": null,
            "flex_flow": null,
            "grid_area": null,
            "grid_auto_columns": null,
            "grid_auto_flow": null,
            "grid_auto_rows": null,
            "grid_column": null,
            "grid_gap": null,
            "grid_row": null,
            "grid_template_areas": null,
            "grid_template_columns": null,
            "grid_template_rows": null,
            "height": null,
            "justify_content": null,
            "justify_items": null,
            "left": null,
            "margin": null,
            "max_height": null,
            "max_width": null,
            "min_height": null,
            "min_width": null,
            "object_fit": null,
            "object_position": null,
            "order": null,
            "overflow": null,
            "overflow_x": null,
            "overflow_y": null,
            "padding": null,
            "right": null,
            "top": null,
            "visibility": null,
            "width": null
          }
        },
        "1d965bb6438a49178675e858406724b2": {
          "model_module": "@jupyter-widgets/base",
          "model_name": "LayoutModel",
          "model_module_version": "1.2.0",
          "state": {
            "_model_module": "@jupyter-widgets/base",
            "_model_module_version": "1.2.0",
            "_model_name": "LayoutModel",
            "_view_count": null,
            "_view_module": "@jupyter-widgets/base",
            "_view_module_version": "1.2.0",
            "_view_name": "LayoutView",
            "align_content": null,
            "align_items": null,
            "align_self": null,
            "border": null,
            "bottom": null,
            "display": null,
            "flex": null,
            "flex_flow": null,
            "grid_area": null,
            "grid_auto_columns": null,
            "grid_auto_flow": null,
            "grid_auto_rows": null,
            "grid_column": null,
            "grid_gap": null,
            "grid_row": null,
            "grid_template_areas": null,
            "grid_template_columns": null,
            "grid_template_rows": null,
            "height": null,
            "justify_content": null,
            "justify_items": null,
            "left": null,
            "margin": null,
            "max_height": null,
            "max_width": null,
            "min_height": null,
            "min_width": null,
            "object_fit": null,
            "object_position": null,
            "order": null,
            "overflow": null,
            "overflow_x": null,
            "overflow_y": null,
            "padding": null,
            "right": null,
            "top": null,
            "visibility": null,
            "width": null
          }
        },
        "f33547447a924b008225b4674d464027": {
          "model_module": "@jupyter-widgets/controls",
          "model_name": "DescriptionStyleModel",
          "model_module_version": "1.5.0",
          "state": {
            "_model_module": "@jupyter-widgets/controls",
            "_model_module_version": "1.5.0",
            "_model_name": "DescriptionStyleModel",
            "_view_count": null,
            "_view_module": "@jupyter-widgets/base",
            "_view_module_version": "1.2.0",
            "_view_name": "StyleView",
            "description_width": ""
          }
        },
        "73f88f26df024871b237e8308239d0da": {
          "model_module": "@jupyter-widgets/base",
          "model_name": "LayoutModel",
          "model_module_version": "1.2.0",
          "state": {
            "_model_module": "@jupyter-widgets/base",
            "_model_module_version": "1.2.0",
            "_model_name": "LayoutModel",
            "_view_count": null,
            "_view_module": "@jupyter-widgets/base",
            "_view_module_version": "1.2.0",
            "_view_name": "LayoutView",
            "align_content": null,
            "align_items": null,
            "align_self": null,
            "border": null,
            "bottom": null,
            "display": null,
            "flex": null,
            "flex_flow": null,
            "grid_area": null,
            "grid_auto_columns": null,
            "grid_auto_flow": null,
            "grid_auto_rows": null,
            "grid_column": null,
            "grid_gap": null,
            "grid_row": null,
            "grid_template_areas": null,
            "grid_template_columns": null,
            "grid_template_rows": null,
            "height": null,
            "justify_content": null,
            "justify_items": null,
            "left": null,
            "margin": null,
            "max_height": null,
            "max_width": null,
            "min_height": null,
            "min_width": null,
            "object_fit": null,
            "object_position": null,
            "order": null,
            "overflow": null,
            "overflow_x": null,
            "overflow_y": null,
            "padding": null,
            "right": null,
            "top": null,
            "visibility": null,
            "width": null
          }
        },
        "2274629d5a5342378bde4c97205a2fe4": {
          "model_module": "@jupyter-widgets/controls",
          "model_name": "ProgressStyleModel",
          "model_module_version": "1.5.0",
          "state": {
            "_model_module": "@jupyter-widgets/controls",
            "_model_module_version": "1.5.0",
            "_model_name": "ProgressStyleModel",
            "_view_count": null,
            "_view_module": "@jupyter-widgets/base",
            "_view_module_version": "1.2.0",
            "_view_name": "StyleView",
            "bar_color": null,
            "description_width": ""
          }
        },
        "7184df5a98ae4f97b34a288876d4285f": {
          "model_module": "@jupyter-widgets/base",
          "model_name": "LayoutModel",
          "model_module_version": "1.2.0",
          "state": {
            "_model_module": "@jupyter-widgets/base",
            "_model_module_version": "1.2.0",
            "_model_name": "LayoutModel",
            "_view_count": null,
            "_view_module": "@jupyter-widgets/base",
            "_view_module_version": "1.2.0",
            "_view_name": "LayoutView",
            "align_content": null,
            "align_items": null,
            "align_self": null,
            "border": null,
            "bottom": null,
            "display": null,
            "flex": null,
            "flex_flow": null,
            "grid_area": null,
            "grid_auto_columns": null,
            "grid_auto_flow": null,
            "grid_auto_rows": null,
            "grid_column": null,
            "grid_gap": null,
            "grid_row": null,
            "grid_template_areas": null,
            "grid_template_columns": null,
            "grid_template_rows": null,
            "height": null,
            "justify_content": null,
            "justify_items": null,
            "left": null,
            "margin": null,
            "max_height": null,
            "max_width": null,
            "min_height": null,
            "min_width": null,
            "object_fit": null,
            "object_position": null,
            "order": null,
            "overflow": null,
            "overflow_x": null,
            "overflow_y": null,
            "padding": null,
            "right": null,
            "top": null,
            "visibility": null,
            "width": null
          }
        },
        "e90f1447c41b45cb85798b224a30020f": {
          "model_module": "@jupyter-widgets/controls",
          "model_name": "DescriptionStyleModel",
          "model_module_version": "1.5.0",
          "state": {
            "_model_module": "@jupyter-widgets/controls",
            "_model_module_version": "1.5.0",
            "_model_name": "DescriptionStyleModel",
            "_view_count": null,
            "_view_module": "@jupyter-widgets/base",
            "_view_module_version": "1.2.0",
            "_view_name": "StyleView",
            "description_width": ""
          }
        }
      }
    }
  },
  "cells": [
    {
      "cell_type": "markdown",
      "metadata": {
        "id": "view-in-github",
        "colab_type": "text"
      },
      "source": [
        "<a href=\"https://colab.research.google.com/github/gremlin97/EVA-8/blob/main/S6.ipynb\" target=\"_parent\"><img src=\"https://colab.research.google.com/assets/colab-badge.svg\" alt=\"Open In Colab\"/></a>"
      ]
    },
    {
      "cell_type": "code",
      "source": [
        "!git clone https://github.com/gremlin97/EVA-Utils"
      ],
      "metadata": {
        "colab": {
          "base_uri": "https://localhost:8080/"
        },
        "id": "cvXhWMcLHxRs",
        "outputId": "ae76db48-9588-4418-db20-c95967917f57"
      },
      "execution_count": 63,
      "outputs": [
        {
          "output_type": "stream",
          "name": "stdout",
          "text": [
            "Cloning into 'EVA-Utils'...\n",
            "remote: Enumerating objects: 117, done.\u001b[K\n",
            "remote: Counting objects: 100% (117/117), done.\u001b[K\n",
            "remote: Compressing objects: 100% (113/113), done.\u001b[K\n",
            "remote: Total 117 (delta 64), reused 0 (delta 0), pack-reused 0\u001b[K\n",
            "Receiving objects: 100% (117/117), 29.23 KiB | 5.85 MiB/s, done.\n",
            "Resolving deltas: 100% (64/64), done.\n"
          ]
        }
      ]
    },
    {
      "cell_type": "code",
      "source": [
        "%cd EVA-Utils/models"
      ],
      "metadata": {
        "colab": {
          "base_uri": "https://localhost:8080/"
        },
        "id": "zo5ic2QUH_8N",
        "outputId": "d3798c79-e95f-4670-c7f1-034283ab0e6a"
      },
      "execution_count": 64,
      "outputs": [
        {
          "output_type": "stream",
          "name": "stdout",
          "text": [
            "/content/EVA-Utils/models\n"
          ]
        }
      ]
    },
    {
      "cell_type": "code",
      "metadata": {
        "id": "QVbdg0z4poCc"
      },
      "source": [
        "%matplotlib inline"
      ],
      "execution_count": 61,
      "outputs": []
    },
    {
      "cell_type": "code",
      "metadata": {
        "id": "-yVpodAMpoCi"
      },
      "source": [
        "import torch\n",
        "import torchvision\n",
        "import torchvision.transforms as transforms\n",
        "import albumentations as A\n",
        "from albumentations.pytorch import ToTensorV2\n",
        "from custom_cnn import *"
      ],
      "execution_count": 66,
      "outputs": []
    },
    {
      "cell_type": "markdown",
      "metadata": {
        "id": "5kjt4e2TpoCk"
      },
      "source": [
        "The output of torchvision datasets are PILImage images of range [0, 1].\n",
        "We transform them to Tensors of normalized range [-1, 1].\n",
        "\n"
      ]
    },
    {
      "cell_type": "code",
      "source": [
        "train_transform = A.Compose([\n",
        "    A.HorizontalFlip(p=0.5),\n",
        "    A.ShiftScaleRotate(p=0.5),\n",
        "    A.CoarseDropout(max_holes = 1, max_height=16, max_width=16, min_height=16, min_width=16, min_holes = 1, fill_value=-1.69, mask_fill_value = None),\n",
        "    A.Normalize(\n",
        "        mean=[0.5, 0.5, 0.5],\n",
        "        std=[0.5, 0.5, 0.5],\n",
        "    ),\n",
        "    ToTensorV2()\n",
        "])\n",
        "\n",
        "test_transform = A.Compose([\n",
        "    # A.HorizontalFlip(p=0.5),\n",
        "    # A.ShiftScaleRotate(p=0.5),\n",
        "    # A.CoarseDropout(max_holes = 1, max_height=16, max_width=16, min_height=16, min_width=16, min_holes = 1, fill_value=-1.69, mask_fill_value = None),\n",
        "    A.Normalize(\n",
        "        mean=[0.5, 0.5, 0.5],\n",
        "        std=[0.5, 0.5, 0.5],\n",
        "    ),\n",
        "    ToTensorV2()\n",
        "])\n",
        "\n",
        "class Cifar10(torchvision.datasets.CIFAR10):\n",
        "    def __init__(self, root=\"~/data/cifar10\", train=True, download=True, transform=None):\n",
        "        super().__init__(root=root, train=train, download=download, transform=transform)\n",
        "\n",
        "    def __getitem__(self, index):\n",
        "        image, label = self.data[index], self.targets[index]\n",
        "\n",
        "        if self.transform is not None:\n",
        "            transformed = self.transform(image=image)\n",
        "            image = transformed[\"image\"]\n",
        "\n",
        "        return image, label\n",
        "\n",
        "trainset = Cifar10(root='./data', train=True,download=True, transform=train_transform)\n",
        "testset = Cifar10(root='./data', train=False,download=True, transform=test_transform)\n",
        "\n",
        "trainloader = torch.utils.data.DataLoader(trainset,batch_size = 4, shuffle=True)\n",
        "testloader = torch.utils.data.DataLoader(testset,batch_size = 4, shuffle=True)\n",
        "\n",
        "classes = ('plane', 'car', 'bird', 'cat',\n",
        "           'deer', 'dog', 'frog', 'horse', 'ship', 'truck')"
      ],
      "metadata": {
        "colab": {
          "base_uri": "https://localhost:8080/",
          "height": 101,
          "referenced_widgets": [
            "e100c7f27ac24604a5c7246876e676b7",
            "d854166487994cfda668f2d46dfa9ec5",
            "0425a0073e0f49f08ef14c8e5a4753de",
            "1335b352ffc1481ab43c2456af06ecd3",
            "3b75f2e93d844cdcb7dac012e953da2b",
            "1d965bb6438a49178675e858406724b2",
            "f33547447a924b008225b4674d464027",
            "73f88f26df024871b237e8308239d0da",
            "2274629d5a5342378bde4c97205a2fe4",
            "7184df5a98ae4f97b34a288876d4285f",
            "e90f1447c41b45cb85798b224a30020f"
          ]
        },
        "id": "Cuqi4YTUE8AS",
        "outputId": "8066070f-c9cd-4c71-a0c5-ef59b34d27c0"
      },
      "execution_count": 85,
      "outputs": [
        {
          "output_type": "stream",
          "name": "stdout",
          "text": [
            "Downloading https://www.cs.toronto.edu/~kriz/cifar-10-python.tar.gz to ./data/cifar-10-python.tar.gz\n"
          ]
        },
        {
          "output_type": "display_data",
          "data": {
            "text/plain": [
              "  0%|          | 0/170498071 [00:00<?, ?it/s]"
            ],
            "application/vnd.jupyter.widget-view+json": {
              "version_major": 2,
              "version_minor": 0,
              "model_id": "e100c7f27ac24604a5c7246876e676b7"
            }
          },
          "metadata": {}
        },
        {
          "output_type": "stream",
          "name": "stdout",
          "text": [
            "Extracting ./data/cifar-10-python.tar.gz to ./data\n",
            "Files already downloaded and verified\n"
          ]
        }
      ]
    },
    {
      "cell_type": "markdown",
      "metadata": {
        "id": "_cj433rtpoCn"
      },
      "source": [
        "Let us show some of the training images, for fun.\n",
        "\n"
      ]
    },
    {
      "cell_type": "code",
      "metadata": {
        "id": "daA7bADhpoCo",
        "outputId": "6352f07a-318e-4c8c-fc4b-8b9968e504e2",
        "colab": {
          "base_uri": "https://localhost:8080/",
          "height": 155
        }
      },
      "source": [
        "import matplotlib.pyplot as plt\n",
        "import numpy as np\n",
        "\n",
        "# functions to show an image\n",
        "\n",
        "\n",
        "def imshow(img):\n",
        "    img = img / 2 + 0.5     # unnormalize\n",
        "    npimg = img.numpy()\n",
        "    plt.imshow(np.transpose(npimg, (1, 2, 0)))\n",
        "\n",
        "\n",
        "# get some random training images\n",
        "dataiter = iter(trainloader)\n",
        "images, labels = next(iter(dataiter))\n",
        "\n",
        "# show images\n",
        "imshow(torchvision.utils.make_grid(images))\n",
        "# print labels\n",
        "print(' '.join('%5s' % classes[labels[j]] for j in range(4)))"
      ],
      "execution_count": 44,
      "outputs": [
        {
          "output_type": "stream",
          "name": "stdout",
          "text": [
            "  car plane   cat  bird\n"
          ]
        },
        {
          "output_type": "display_data",
          "data": {
            "text/plain": [
              "<Figure size 432x288 with 1 Axes>"
            ],
            "image/png": "[encoded data removed]"
          },
          "metadata": {
            "needs_background": "light"
          }
        }
      ]
    },
    {
      "cell_type": "code",
      "source": [
        "net = Net()"
      ],
      "metadata": {
        "id": "g6996OujHVjo"
      },
      "execution_count": 68,
      "outputs": []
    },
    {
      "cell_type": "code",
      "source": [
        "out = net(torch.randn(1,3,32,32))"
      ],
      "metadata": {
        "id": "mdw3Qrl29r8f"
      },
      "execution_count": 69,
      "outputs": []
    },
    {
      "cell_type": "code",
      "source": [
        "device = torch.device(\"cuda\") if torch.cuda.is_available() else torch.device(\"cpu\")"
      ],
      "metadata": {
        "id": "sMVPXcsR-kMU"
      },
      "execution_count": 70,
      "outputs": []
    },
    {
      "cell_type": "code",
      "source": [
        "from torchsummary import summary\n",
        "summary(net.to(device),input_size=(3,32,32))"
      ],
      "metadata": {
        "colab": {
          "base_uri": "https://localhost:8080/"
        },
        "id": "MDJwmv1K-IL6",
        "outputId": "64ba8143-3e0b-4570-fe16-1098ef63a354"
      },
      "execution_count": 71,
      "outputs": [
        {
          "output_type": "stream",
          "name": "stdout",
          "text": [
            "----------------------------------------------------------------\n",
            "        Layer (type)               Output Shape         Param #\n",
            "================================================================\n",
            "            Conv2d-1           [-1, 16, 32, 32]             448\n",
            "              ReLU-2           [-1, 16, 32, 32]               0\n",
            "       BatchNorm2d-3           [-1, 16, 32, 32]              32\n",
            "            Conv2d-4           [-1, 32, 32, 32]           4,640\n",
            "              ReLU-5           [-1, 32, 32, 32]               0\n",
            "       BatchNorm2d-6           [-1, 32, 32, 32]              64\n",
            "            Conv2d-7           [-1, 64, 32, 32]             640\n",
            "              ReLU-8           [-1, 64, 32, 32]               0\n",
            "       BatchNorm2d-9           [-1, 64, 32, 32]             128\n",
            "           Conv2d-10          [-1, 128, 16, 16]          73,856\n",
            "             ReLU-11          [-1, 128, 16, 16]               0\n",
            "      BatchNorm2d-12          [-1, 128, 16, 16]             256\n",
            "           Conv2d-13             [-1, 32, 8, 8]          36,896\n",
            "             ReLU-14             [-1, 32, 8, 8]               0\n",
            "      BatchNorm2d-15             [-1, 32, 8, 8]              64\n",
            "AdaptiveAvgPool2d-16             [-1, 32, 1, 1]               0\n",
            "           Linear-17                   [-1, 10]             330\n",
            "================================================================\n",
            "Total params: 117,354\n",
            "Trainable params: 117,354\n",
            "Non-trainable params: 0\n",
            "----------------------------------------------------------------\n",
            "Input size (MB): 0.01\n",
            "Forward/backward pass size (MB): 3.42\n",
            "Params size (MB): 0.45\n",
            "Estimated Total Size (MB): 3.88\n",
            "----------------------------------------------------------------\n"
          ]
        }
      ]
    },
    {
      "cell_type": "code",
      "metadata": {
        "id": "M4xBbDROpoCv"
      },
      "source": [
        "import torch.optim as optim\n",
        "\n",
        "criterion = nn.CrossEntropyLoss()\n",
        "optimizer = optim.SGD(net.parameters(), lr=0.001, momentum=0.9)"
      ],
      "execution_count": 72,
      "outputs": []
    },
    {
      "cell_type": "code",
      "metadata": {
        "id": "kkuRfo1IpoC3",
        "outputId": "33baa951-3057-493f-ff2e-b854e1b2661d",
        "colab": {
          "base_uri": "https://localhost:8080/"
        }
      },
      "source": [
        "for epoch in range(24):  # loop over the dataset multiple times\n",
        "\n",
        "    running_loss = 0.0\n",
        "    for i, data in enumerate(trainloader, 0):\n",
        "        # get the inputs\n",
        "        inputs, labels = data\n",
        "\n",
        "        inputs = inputs.to(device)\n",
        "        labels = labels.to(device)\n",
        "\n",
        "        # zero the parameter gradients\n",
        "        optimizer.zero_grad()\n",
        "\n",
        "        # forward + backward + optimize\n",
        "        outputs = net(inputs)\n",
        "        loss = criterion(outputs, labels)\n",
        "        loss.backward()\n",
        "        optimizer.step()\n",
        "\n",
        "        # print statistics\n",
        "        running_loss += loss.item()\n",
        "        if i % 2000 == 1999:    # print every 2000 mini-batches\n",
        "            print('[%d, %5d] loss: %.3f' %\n",
        "                  (epoch + 1, i + 1, running_loss / 2000))\n",
        "            running_loss = 0.0\n",
        "\n",
        "print('Finished Training')"
      ],
      "execution_count": 79,
      "outputs": [
        {
          "output_type": "stream",
          "name": "stdout",
          "text": [
            "[1,  2000] loss: 1.572\n",
            "[1,  4000] loss: 1.578\n",
            "[1,  6000] loss: 1.557\n",
            "[1,  8000] loss: 1.529\n",
            "[1, 10000] loss: 1.515\n",
            "[1, 12000] loss: 1.521\n",
            "[2,  2000] loss: 1.502\n",
            "[2,  4000] loss: 1.482\n",
            "[2,  6000] loss: 1.498\n",
            "[2,  8000] loss: 1.468\n",
            "[2, 10000] loss: 1.470\n",
            "[2, 12000] loss: 1.461\n",
            "[3,  2000] loss: 1.455\n",
            "[3,  4000] loss: 1.442\n",
            "[3,  6000] loss: 1.440\n",
            "[3,  8000] loss: 1.434\n",
            "[3, 10000] loss: 1.434\n",
            "[3, 12000] loss: 1.421\n",
            "[4,  2000] loss: 1.378\n",
            "[4,  4000] loss: 1.423\n",
            "[4,  6000] loss: 1.381\n",
            "[4,  8000] loss: 1.408\n",
            "[4, 10000] loss: 1.382\n",
            "[4, 12000] loss: 1.377\n",
            "[5,  2000] loss: 1.365\n",
            "[5,  4000] loss: 1.370\n",
            "[5,  6000] loss: 1.361\n",
            "[5,  8000] loss: 1.378\n",
            "[5, 10000] loss: 1.366\n",
            "[5, 12000] loss: 1.361\n",
            "[6,  2000] loss: 1.345\n",
            "[6,  4000] loss: 1.336\n",
            "[6,  6000] loss: 1.342\n",
            "[6,  8000] loss: 1.329\n",
            "[6, 10000] loss: 1.350\n",
            "[6, 12000] loss: 1.334\n",
            "[7,  2000] loss: 1.315\n",
            "[7,  4000] loss: 1.309\n",
            "[7,  6000] loss: 1.313\n",
            "[7,  8000] loss: 1.317\n",
            "[7, 10000] loss: 1.292\n",
            "[7, 12000] loss: 1.284\n",
            "[8,  2000] loss: 1.306\n",
            "[8,  4000] loss: 1.281\n",
            "[8,  6000] loss: 1.278\n",
            "[8,  8000] loss: 1.286\n",
            "[8, 10000] loss: 1.278\n",
            "[8, 12000] loss: 1.281\n",
            "[9,  2000] loss: 1.266\n",
            "[9,  4000] loss: 1.268\n",
            "[9,  6000] loss: 1.293\n",
            "[9,  8000] loss: 1.271\n",
            "[9, 10000] loss: 1.274\n",
            "[9, 12000] loss: 1.279\n",
            "[10,  2000] loss: 1.279\n",
            "[10,  4000] loss: 1.259\n",
            "[10,  6000] loss: 1.264\n",
            "[10,  8000] loss: 1.252\n",
            "[10, 10000] loss: 1.254\n",
            "[10, 12000] loss: 1.262\n",
            "[11,  2000] loss: 1.258\n",
            "[11,  4000] loss: 1.260\n",
            "[11,  6000] loss: 1.255\n",
            "[11,  8000] loss: 1.224\n",
            "[11, 10000] loss: 1.253\n",
            "[11, 12000] loss: 1.228\n",
            "[12,  2000] loss: 1.209\n",
            "[12,  4000] loss: 1.223\n",
            "[12,  6000] loss: 1.245\n",
            "[12,  8000] loss: 1.239\n",
            "[12, 10000] loss: 1.235\n",
            "[12, 12000] loss: 1.226\n",
            "[13,  2000] loss: 1.227\n",
            "[13,  4000] loss: 1.219\n",
            "[13,  6000] loss: 1.218\n",
            "[13,  8000] loss: 1.210\n",
            "[13, 10000] loss: 1.209\n",
            "[13, 12000] loss: 1.191\n",
            "[14,  2000] loss: 1.207\n",
            "[14,  4000] loss: 1.205\n",
            "[14,  6000] loss: 1.215\n",
            "[14,  8000] loss: 1.223\n",
            "[14, 10000] loss: 1.212\n",
            "[14, 12000] loss: 1.202\n",
            "[15,  2000] loss: 1.194\n",
            "[15,  4000] loss: 1.198\n",
            "[15,  6000] loss: 1.183\n",
            "[15,  8000] loss: 1.186\n",
            "[15, 10000] loss: 1.211\n",
            "[15, 12000] loss: 1.206\n",
            "[16,  2000] loss: 1.192\n",
            "[16,  4000] loss: 1.182\n",
            "[16,  6000] loss: 1.166\n",
            "[16,  8000] loss: 1.181\n",
            "[16, 10000] loss: 1.213\n",
            "[16, 12000] loss: 1.179\n",
            "[17,  2000] loss: 1.180\n",
            "[17,  4000] loss: 1.181\n",
            "[17,  6000] loss: 1.184\n",
            "[17,  8000] loss: 1.176\n",
            "[17, 10000] loss: 1.203\n",
            "[17, 12000] loss: 1.168\n",
            "[18,  2000] loss: 1.161\n",
            "[18,  4000] loss: 1.174\n",
            "[18,  6000] loss: 1.153\n",
            "[18,  8000] loss: 1.183\n",
            "[18, 10000] loss: 1.169\n",
            "[18, 12000] loss: 1.170\n",
            "[19,  2000] loss: 1.151\n",
            "[19,  4000] loss: 1.174\n",
            "[19,  6000] loss: 1.152\n",
            "[19,  8000] loss: 1.164\n",
            "[19, 10000] loss: 1.153\n",
            "[19, 12000] loss: 1.192\n",
            "[20,  2000] loss: 1.166\n",
            "[20,  4000] loss: 1.182\n",
            "[20,  6000] loss: 1.131\n",
            "[20,  8000] loss: 1.140\n",
            "[20, 10000] loss: 1.150\n",
            "[20, 12000] loss: 1.165\n",
            "[21,  2000] loss: 1.170\n",
            "[21,  4000] loss: 1.143\n",
            "[21,  6000] loss: 1.145\n",
            "[21,  8000] loss: 1.175\n",
            "[21, 10000] loss: 1.161\n",
            "[21, 12000] loss: 1.131\n",
            "[22,  2000] loss: 1.134\n",
            "[22,  4000] loss: 1.173\n",
            "[22,  6000] loss: 1.160\n",
            "[22,  8000] loss: 1.155\n",
            "[22, 10000] loss: 1.132\n",
            "[22, 12000] loss: 1.144\n",
            "[23,  2000] loss: 1.148\n",
            "[23,  4000] loss: 1.138\n",
            "[23,  6000] loss: 1.162\n",
            "[23,  8000] loss: 1.142\n",
            "[23, 10000] loss: 1.162\n",
            "[23, 12000] loss: 1.142\n",
            "[24,  2000] loss: 1.111\n",
            "[24,  4000] loss: 1.130\n",
            "[24,  6000] loss: 1.119\n",
            "[24,  8000] loss: 1.137\n",
            "[24, 10000] loss: 1.134\n",
            "[24, 12000] loss: 1.132\n",
            "Finished Training\n"
          ]
        }
      ]
    },
    {
      "cell_type": "code",
      "metadata": {
        "id": "nizbsvw9poC6",
        "colab": {
          "base_uri": "https://localhost:8080/",
          "height": 155
        },
        "outputId": "71821d12-091a-4569-aa25-2829b86a2c5f"
      },
      "source": [
        "dataiter = iter(testloader)\n",
        "images, labels = next(iter(dataiter))\n",
        "\n",
        "# print images\n",
        "imshow(torchvision.utils.make_grid(images))\n",
        "print('GroundTruth: ', ' '.join('%5s' % classes[labels[j]] for j in range(4)))"
      ],
      "execution_count": 86,
      "outputs": [
        {
          "output_type": "stream",
          "name": "stdout",
          "text": [
            "GroundTruth:    cat   car plane  deer\n"
          ]
        },
        {
          "output_type": "display_data",
          "data": {
            "text/plain": [
              "<Figure size 432x288 with 1 Axes>"
            ],
            "image/png": "[encoded data removed]"
          },
          "metadata": {
            "needs_background": "light"
          }
        }
      ]
    },
    {
      "cell_type": "markdown",
      "metadata": {
        "id": "DAx4QPHVpoC8"
      },
      "source": [
        "Okay, now let us see what the neural network thinks these examples above are:\n",
        "\n"
      ]
    },
    {
      "cell_type": "code",
      "metadata": {
        "id": "HVLjlssWpoC9"
      },
      "source": [
        "outputs = net(images.to(device))"
      ],
      "execution_count": 87,
      "outputs": []
    },
    {
      "cell_type": "markdown",
      "metadata": {
        "id": "u8OTHZEApoC_"
      },
      "source": [
        "The outputs are energies for the 10 classes.\n",
        "Higher the energy for a class, the more the network\n",
        "thinks that the image is of the particular class.\n",
        "So, let's get the index of the highest energy:\n",
        "\n"
      ]
    },
    {
      "cell_type": "code",
      "metadata": {
        "id": "ABRIDW3lpoDA",
        "colab": {
          "base_uri": "https://localhost:8080/"
        },
        "outputId": "5b356e57-8a97-4528-aa52-41158ee0851c"
      },
      "source": [
        "_, predicted = torch.max(outputs, 1)\n",
        "\n",
        "print('Predicted: ', ' '.join('%5s' % classes[predicted[j]]\n",
        "                              for j in range(4)))"
      ],
      "execution_count": 88,
      "outputs": [
        {
          "output_type": "stream",
          "name": "stdout",
          "text": [
            "Predicted:    cat   car plane  deer\n"
          ]
        }
      ]
    },
    {
      "cell_type": "markdown",
      "metadata": {
        "id": "2TV0TXL1poDC"
      },
      "source": [
        "The results seem pretty good.\n",
        "\n",
        "Let us look at how the network performs on the whole dataset.\n",
        "\n"
      ]
    },
    {
      "cell_type": "code",
      "metadata": {
        "id": "SZ4-5CESpoDD",
        "colab": {
          "base_uri": "https://localhost:8080/"
        },
        "outputId": "edb596da-001d-4d12-ff75-194f4aea1c43"
      },
      "source": [
        "correct = 0\n",
        "total = 0\n",
        "with torch.no_grad():\n",
        "    for data in testloader:\n",
        "        images, labels = data\n",
        "        images = images.to(device)\n",
        "        labels = labels.to(device)\n",
        "        outputs = net(images)\n",
        "        _, predicted = torch.max(outputs.data, 1)\n",
        "        total += labels.size(0)\n",
        "        correct += (predicted == labels).sum().item()\n",
        "\n",
        "print('Accuracy of the network on the 10000 test images: %d %%' % (\n",
        "    100 * correct / total))"
      ],
      "execution_count": 89,
      "outputs": [
        {
          "output_type": "stream",
          "name": "stdout",
          "text": [
            "Accuracy of the network on the 10000 test images: 67 %\n"
          ]
        }
      ]
    },
    {
      "cell_type": "markdown",
      "metadata": {
        "id": "eDdwPBl8poDF"
      },
      "source": [
        "That looks waaay better than chance, which is 10% accuracy (randomly picking\n",
        "a class out of 10 classes).\n",
        "Seems like the network learnt something.\n",
        "\n",
        "Hmmm, what are the classes that performed well, and the classes that did\n",
        "not perform well:\n",
        "\n"
      ]
    },
    {
      "cell_type": "code",
      "metadata": {
        "id": "pDNFuDEDpoDG",
        "colab": {
          "base_uri": "https://localhost:8080/"
        },
        "outputId": "024e3999-e85c-4bc5-ce6e-1695b71f9414"
      },
      "source": [
        "class_correct = list(0. for i in range(10))\n",
        "class_total = list(0. for i in range(10))\n",
        "with torch.no_grad():\n",
        "    for data in testloader:\n",
        "        images, labels = data\n",
        "        images = images.to(device)\n",
        "        labels = labels.to(device)\n",
        "        outputs = net(images)\n",
        "        _, predicted = torch.max(outputs, 1)\n",
        "        c = (predicted == labels).squeeze()\n",
        "        for i in range(4):\n",
        "            label = labels[i]\n",
        "            class_correct[label] += c[i].item()\n",
        "            class_total[label] += 1\n",
        "\n",
        "\n",
        "for i in range(10):\n",
        "    print('Accuracy of %5s : %2d %%' % (\n",
        "        classes[i], 100 * class_correct[i] / class_total[i]))"
      ],
      "execution_count": 90,
      "outputs": [
        {
          "output_type": "stream",
          "name": "stdout",
          "text": [
            "Accuracy of plane : 65 %\n",
            "Accuracy of   car : 84 %\n",
            "Accuracy of  bird : 56 %\n",
            "Accuracy of   cat : 51 %\n",
            "Accuracy of  deer : 58 %\n",
            "Accuracy of   dog : 63 %\n",
            "Accuracy of  frog : 74 %\n",
            "Accuracy of horse : 71 %\n",
            "Accuracy of  ship : 79 %\n",
            "Accuracy of truck : 77 %\n"
          ]
        }
      ]
    },
    {
      "cell_type": "code",
      "source": [],
      "metadata": {
        "id": "M2Zgvw5XDjCW"
      },
      "execution_count": 90,
      "outputs": []
    }
  ]
}