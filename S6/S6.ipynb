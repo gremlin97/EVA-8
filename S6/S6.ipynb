{
  "nbformat": 4,
  "nbformat_minor": 0,
  "metadata": {
    "kernelspec": {
      "name": "python3",
      "display_name": "Python 3"
    },
    "language_info": {
      "codemirror_mode": {
        "name": "ipython",
        "version": 3
      },
      "file_extension": ".py",
      "mimetype": "text/x-python",
      "name": "python",
      "nbconvert_exporter": "python",
      "pygments_lexer": "ipython3",
      "version": "3.6.6"
    },
    "colab": {
      "provenance": [],
      "include_colab_link": true
    },
    "accelerator": "GPU",
    "widgets": {
      "application/vnd.jupyter.widget-state+json": {
        "c7a35d52d8d24fa6bbc752c59c0648f2": {
          "model_module": "@jupyter-widgets/controls",
          "model_name": "HBoxModel",
          "model_module_version": "1.5.0",
          "state": {
            "_dom_classes": [],
            "_model_module": "@jupyter-widgets/controls",
            "_model_module_version": "1.5.0",
            "_model_name": "HBoxModel",
            "_view_count": null,
            "_view_module": "@jupyter-widgets/controls",
            "_view_module_version": "1.5.0",
            "_view_name": "HBoxView",
            "box_style": "",
            "children": [
              "IPY_MODEL_d3816eae2b604aaf92ba2165402bf003",
              "IPY_MODEL_d3e8b66ca4cb409b8d24ceb5f1f9faa0",
              "IPY_MODEL_5de89b43157c4cd2804c5c6d9cd2278b"
            ],
            "layout": "IPY_MODEL_a070115266f240808ed25899fd454416"
          }
        },
        "d3816eae2b604aaf92ba2165402bf003": {
          "model_module": "@jupyter-widgets/controls",
          "model_name": "HTMLModel",
          "model_module_version": "1.5.0",
          "state": {
            "_dom_classes": [],
            "_model_module": "@jupyter-widgets/controls",
            "_model_module_version": "1.5.0",
            "_model_name": "HTMLModel",
            "_view_count": null,
            "_view_module": "@jupyter-widgets/controls",
            "_view_module_version": "1.5.0",
            "_view_name": "HTMLView",
            "description": "",
            "description_tooltip": null,
            "layout": "IPY_MODEL_e975a862fb4840b48dd8715490a6f6d8",
            "placeholder": "​",
            "style": "IPY_MODEL_9e6ebc6b88104e33b5a0359f7b01044d",
            "value": "100%"
          }
        },
        "d3e8b66ca4cb409b8d24ceb5f1f9faa0": {
          "model_module": "@jupyter-widgets/controls",
          "model_name": "FloatProgressModel",
          "model_module_version": "1.5.0",
          "state": {
            "_dom_classes": [],
            "_model_module": "@jupyter-widgets/controls",
            "_model_module_version": "1.5.0",
            "_model_name": "FloatProgressModel",
            "_view_count": null,
            "_view_module": "@jupyter-widgets/controls",
            "_view_module_version": "1.5.0",
            "_view_name": "ProgressView",
            "bar_style": "success",
            "description": "",
            "description_tooltip": null,
            "layout": "IPY_MODEL_b48f0b23d65844d384d89aa1a4d17ece",
            "max": 170498071,
            "min": 0,
            "orientation": "horizontal",
            "style": "IPY_MODEL_bd671d6809e040728882cf6e6844de90",
            "value": 170498071
          }
        },
        "5de89b43157c4cd2804c5c6d9cd2278b": {
          "model_module": "@jupyter-widgets/controls",
          "model_name": "HTMLModel",
          "model_module_version": "1.5.0",
          "state": {
            "_dom_classes": [],
            "_model_module": "@jupyter-widgets/controls",
            "_model_module_version": "1.5.0",
            "_model_name": "HTMLModel",
            "_view_count": null,
            "_view_module": "@jupyter-widgets/controls",
            "_view_module_version": "1.5.0",
            "_view_name": "HTMLView",
            "description": "",
            "description_tooltip": null,
            "layout": "IPY_MODEL_554fef9d54e04c2a9984590604100096",
            "placeholder": "​",
            "style": "IPY_MODEL_cea97532a21848afb87b5eaf07e6d000",
            "value": " 170498071/170498071 [00:06&lt;00:00, 31563588.92it/s]"
          }
        },
        "a070115266f240808ed25899fd454416": {
          "model_module": "@jupyter-widgets/base",
          "model_name": "LayoutModel",
          "model_module_version": "1.2.0",
          "state": {
            "_model_module": "@jupyter-widgets/base",
            "_model_module_version": "1.2.0",
            "_model_name": "LayoutModel",
            "_view_count": null,
            "_view_module": "@jupyter-widgets/base",
            "_view_module_version": "1.2.0",
            "_view_name": "LayoutView",
            "align_content": null,
            "align_items": null,
            "align_self": null,
            "border": null,
            "bottom": null,
            "display": null,
            "flex": null,
            "flex_flow": null,
            "grid_area": null,
            "grid_auto_columns": null,
            "grid_auto_flow": null,
            "grid_auto_rows": null,
            "grid_column": null,
            "grid_gap": null,
            "grid_row": null,
            "grid_template_areas": null,
            "grid_template_columns": null,
            "grid_template_rows": null,
            "height": null,
            "justify_content": null,
            "justify_items": null,
            "left": null,
            "margin": null,
            "max_height": null,
            "max_width": null,
            "min_height": null,
            "min_width": null,
            "object_fit": null,
            "object_position": null,
            "order": null,
            "overflow": null,
            "overflow_x": null,
            "overflow_y": null,
            "padding": null,
            "right": null,
            "top": null,
            "visibility": null,
            "width": null
          }
        },
        "e975a862fb4840b48dd8715490a6f6d8": {
          "model_module": "@jupyter-widgets/base",
          "model_name": "LayoutModel",
          "model_module_version": "1.2.0",
          "state": {
            "_model_module": "@jupyter-widgets/base",
            "_model_module_version": "1.2.0",
            "_model_name": "LayoutModel",
            "_view_count": null,
            "_view_module": "@jupyter-widgets/base",
            "_view_module_version": "1.2.0",
            "_view_name": "LayoutView",
            "align_content": null,
            "align_items": null,
            "align_self": null,
            "border": null,
            "bottom": null,
            "display": null,
            "flex": null,
            "flex_flow": null,
            "grid_area": null,
            "grid_auto_columns": null,
            "grid_auto_flow": null,
            "grid_auto_rows": null,
            "grid_column": null,
            "grid_gap": null,
            "grid_row": null,
            "grid_template_areas": null,
            "grid_template_columns": null,
            "grid_template_rows": null,
            "height": null,
            "justify_content": null,
            "justify_items": null,
            "left": null,
            "margin": null,
            "max_height": null,
            "max_width": null,
            "min_height": null,
            "min_width": null,
            "object_fit": null,
            "object_position": null,
            "order": null,
            "overflow": null,
            "overflow_x": null,
            "overflow_y": null,
            "padding": null,
            "right": null,
            "top": null,
            "visibility": null,
            "width": null
          }
        },
        "9e6ebc6b88104e33b5a0359f7b01044d": {
          "model_module": "@jupyter-widgets/controls",
          "model_name": "DescriptionStyleModel",
          "model_module_version": "1.5.0",
          "state": {
            "_model_module": "@jupyter-widgets/controls",
            "_model_module_version": "1.5.0",
            "_model_name": "DescriptionStyleModel",
            "_view_count": null,
            "_view_module": "@jupyter-widgets/base",
            "_view_module_version": "1.2.0",
            "_view_name": "StyleView",
            "description_width": ""
          }
        },
        "b48f0b23d65844d384d89aa1a4d17ece": {
          "model_module": "@jupyter-widgets/base",
          "model_name": "LayoutModel",
          "model_module_version": "1.2.0",
          "state": {
            "_model_module": "@jupyter-widgets/base",
            "_model_module_version": "1.2.0",
            "_model_name": "LayoutModel",
            "_view_count": null,
            "_view_module": "@jupyter-widgets/base",
            "_view_module_version": "1.2.0",
            "_view_name": "LayoutView",
            "align_content": null,
            "align_items": null,
            "align_self": null,
            "border": null,
            "bottom": null,
            "display": null,
            "flex": null,
            "flex_flow": null,
            "grid_area": null,
            "grid_auto_columns": null,
            "grid_auto_flow": null,
            "grid_auto_rows": null,
            "grid_column": null,
            "grid_gap": null,
            "grid_row": null,
            "grid_template_areas": null,
            "grid_template_columns": null,
            "grid_template_rows": null,
            "height": null,
            "justify_content": null,
            "justify_items": null,
            "left": null,
            "margin": null,
            "max_height": null,
            "max_width": null,
            "min_height": null,
            "min_width": null,
            "object_fit": null,
            "object_position": null,
            "order": null,
            "overflow": null,
            "overflow_x": null,
            "overflow_y": null,
            "padding": null,
            "right": null,
            "top": null,
            "visibility": null,
            "width": null
          }
        },
        "bd671d6809e040728882cf6e6844de90": {
          "model_module": "@jupyter-widgets/controls",
          "model_name": "ProgressStyleModel",
          "model_module_version": "1.5.0",
          "state": {
            "_model_module": "@jupyter-widgets/controls",
            "_model_module_version": "1.5.0",
            "_model_name": "ProgressStyleModel",
            "_view_count": null,
            "_view_module": "@jupyter-widgets/base",
            "_view_module_version": "1.2.0",
            "_view_name": "StyleView",
            "bar_color": null,
            "description_width": ""
          }
        },
        "554fef9d54e04c2a9984590604100096": {
          "model_module": "@jupyter-widgets/base",
          "model_name": "LayoutModel",
          "model_module_version": "1.2.0",
          "state": {
            "_model_module": "@jupyter-widgets/base",
            "_model_module_version": "1.2.0",
            "_model_name": "LayoutModel",
            "_view_count": null,
            "_view_module": "@jupyter-widgets/base",
            "_view_module_version": "1.2.0",
            "_view_name": "LayoutView",
            "align_content": null,
            "align_items": null,
            "align_self": null,
            "border": null,
            "bottom": null,
            "display": null,
            "flex": null,
            "flex_flow": null,
            "grid_area": null,
            "grid_auto_columns": null,
            "grid_auto_flow": null,
            "grid_auto_rows": null,
            "grid_column": null,
            "grid_gap": null,
            "grid_row": null,
            "grid_template_areas": null,
            "grid_template_columns": null,
            "grid_template_rows": null,
            "height": null,
            "justify_content": null,
            "justify_items": null,
            "left": null,
            "margin": null,
            "max_height": null,
            "max_width": null,
            "min_height": null,
            "min_width": null,
            "object_fit": null,
            "object_position": null,
            "order": null,
            "overflow": null,
            "overflow_x": null,
            "overflow_y": null,
            "padding": null,
            "right": null,
            "top": null,
            "visibility": null,
            "width": null
          }
        },
        "cea97532a21848afb87b5eaf07e6d000": {
          "model_module": "@jupyter-widgets/controls",
          "model_name": "DescriptionStyleModel",
          "model_module_version": "1.5.0",
          "state": {
            "_model_module": "@jupyter-widgets/controls",
            "_model_module_version": "1.5.0",
            "_model_name": "DescriptionStyleModel",
            "_view_count": null,
            "_view_module": "@jupyter-widgets/base",
            "_view_module_version": "1.2.0",
            "_view_name": "StyleView",
            "description_width": ""
          }
        }
      }
    }
  },
  "cells": [
    {
      "cell_type": "markdown",
      "metadata": {
        "id": "view-in-github",
        "colab_type": "text"
      },
      "source": [
        "<a href=\"https://colab.research.google.com/github/gremlin97/EVA-8/blob/main/S6/S6.ipynb\" target=\"_parent\"><img src=\"https://colab.research.google.com/assets/colab-badge.svg\" alt=\"Open In Colab\"/></a>"
      ]
    },
    {
      "cell_type": "code",
      "source": [
        "!git clone https://github.com/gremlin97/EVA-Utils"
      ],
      "metadata": {
        "colab": {
          "base_uri": "https://localhost:8080/"
        },
        "id": "cvXhWMcLHxRs",
        "outputId": "cf8c6f6c-7a65-47f7-d4b3-117c883fc4b5"
      },
      "execution_count": 1,
      "outputs": [
        {
          "output_type": "stream",
          "name": "stdout",
          "text": [
            "Cloning into 'EVA-Utils'...\n",
            "remote: Enumerating objects: 121, done.\u001b[K\n",
            "remote: Counting objects: 100% (121/121), done.\u001b[K\n",
            "remote: Compressing objects: 100% (117/117), done.\u001b[K\n",
            "remote: Total 121 (delta 67), reused 0 (delta 0), pack-reused 0\u001b[K\n",
            "Receiving objects: 100% (121/121), 30.12 KiB | 5.02 MiB/s, done.\n",
            "Resolving deltas: 100% (67/67), done.\n"
          ]
        }
      ]
    },
    {
      "cell_type": "code",
      "source": [
        "%cd EVA-Utils/models"
      ],
      "metadata": {
        "colab": {
          "base_uri": "https://localhost:8080/"
        },
        "id": "zo5ic2QUH_8N",
        "outputId": "1cc9a032-dad5-46a7-9735-a2032f87eb13"
      },
      "execution_count": 2,
      "outputs": [
        {
          "output_type": "stream",
          "name": "stdout",
          "text": [
            "/content/EVA-Utils/models\n"
          ]
        }
      ]
    },
    {
      "cell_type": "code",
      "metadata": {
        "id": "QVbdg0z4poCc"
      },
      "source": [
        "%matplotlib inline"
      ],
      "execution_count": 3,
      "outputs": []
    },
    {
      "cell_type": "code",
      "metadata": {
        "id": "-yVpodAMpoCi"
      },
      "source": [
        "import torch\n",
        "import torchvision\n",
        "import torchvision.transforms as transforms\n",
        "import albumentations as A\n",
        "from albumentations.pytorch import ToTensorV2\n",
        "from custom_cnn import *"
      ],
      "execution_count": 4,
      "outputs": []
    },
    {
      "cell_type": "markdown",
      "metadata": {
        "id": "5kjt4e2TpoCk"
      },
      "source": [
        "The output of torchvision datasets are PILImage images of range [0, 1].\n",
        "We transform them to Tensors of normalized range [-1, 1].\n",
        "\n"
      ]
    },
    {
      "cell_type": "code",
      "source": [
        "train_transform = A.Compose([\n",
        "    A.HorizontalFlip(p=0.5),\n",
        "    A.ShiftScaleRotate(p=0.5),\n",
        "    A.CoarseDropout(max_holes = 1, max_height=16, max_width=16, min_height=16, min_width=16, min_holes = 1, fill_value=-1.69, mask_fill_value = None),\n",
        "    A.Normalize(\n",
        "        mean=[0.5, 0.5, 0.5],\n",
        "        std=[0.5, 0.5, 0.5],\n",
        "    ),\n",
        "    ToTensorV2()\n",
        "])\n",
        "\n",
        "test_transform = A.Compose([\n",
        "    # A.HorizontalFlip(p=0.5),\n",
        "    # A.ShiftScaleRotate(p=0.5),\n",
        "    # A.CoarseDropout(max_holes = 1, max_height=16, max_width=16, min_height=16, min_width=16, min_holes = 1, fill_value=-1.69, mask_fill_value = None),\n",
        "    A.Normalize(\n",
        "        mean=[0.5, 0.5, 0.5],\n",
        "        std=[0.5, 0.5, 0.5],\n",
        "    ),\n",
        "    ToTensorV2()\n",
        "])\n",
        "\n",
        "class Cifar10(torchvision.datasets.CIFAR10):\n",
        "    def __init__(self, root=\"~/data/cifar10\", train=True, download=True, transform=None):\n",
        "        super().__init__(root=root, train=train, download=download, transform=transform)\n",
        "\n",
        "    def __getitem__(self, index):\n",
        "        image, label = self.data[index], self.targets[index]\n",
        "\n",
        "        if self.transform is not None:\n",
        "            transformed = self.transform(image=image)\n",
        "            image = transformed[\"image\"]\n",
        "\n",
        "        return image, label\n",
        "\n",
        "trainset = Cifar10(root='./data', train=True,download=True, transform=train_transform)\n",
        "testset = Cifar10(root='./data', train=False,download=True, transform=test_transform)\n",
        "\n",
        "trainloader = torch.utils.data.DataLoader(trainset,batch_size = 4, shuffle=True)\n",
        "testloader = torch.utils.data.DataLoader(testset,batch_size = 4, shuffle=True)\n",
        "\n",
        "classes = ('plane', 'car', 'bird', 'cat',\n",
        "           'deer', 'dog', 'frog', 'horse', 'ship', 'truck')"
      ],
      "metadata": {
        "colab": {
          "base_uri": "https://localhost:8080/",
          "height": 101,
          "referenced_widgets": [
            "c7a35d52d8d24fa6bbc752c59c0648f2",
            "d3816eae2b604aaf92ba2165402bf003",
            "d3e8b66ca4cb409b8d24ceb5f1f9faa0",
            "5de89b43157c4cd2804c5c6d9cd2278b",
            "a070115266f240808ed25899fd454416",
            "e975a862fb4840b48dd8715490a6f6d8",
            "9e6ebc6b88104e33b5a0359f7b01044d",
            "b48f0b23d65844d384d89aa1a4d17ece",
            "bd671d6809e040728882cf6e6844de90",
            "554fef9d54e04c2a9984590604100096",
            "cea97532a21848afb87b5eaf07e6d000"
          ]
        },
        "id": "Cuqi4YTUE8AS",
        "outputId": "e81326f1-a26d-4a33-f81e-ce453e654ec4"
      },
      "execution_count": 5,
      "outputs": [
        {
          "output_type": "stream",
          "name": "stdout",
          "text": [
            "Downloading https://www.cs.toronto.edu/~kriz/cifar-10-python.tar.gz to ./data/cifar-10-python.tar.gz\n"
          ]
        },
        {
          "output_type": "display_data",
          "data": {
            "text/plain": [
              "  0%|          | 0/170498071 [00:00<?, ?it/s]"
            ],
            "application/vnd.jupyter.widget-view+json": {
              "version_major": 2,
              "version_minor": 0,
              "model_id": "c7a35d52d8d24fa6bbc752c59c0648f2"
            }
          },
          "metadata": {}
        },
        {
          "output_type": "stream",
          "name": "stdout",
          "text": [
            "Extracting ./data/cifar-10-python.tar.gz to ./data\n",
            "Files already downloaded and verified\n"
          ]
        }
      ]
    },
    {
      "cell_type": "markdown",
      "metadata": {
        "id": "_cj433rtpoCn"
      },
      "source": [
        "Let us show some of the training images, for fun.\n",
        "\n"
      ]
    },
    {
      "cell_type": "code",
      "metadata": {
        "id": "daA7bADhpoCo",
        "outputId": "2c1884de-57ed-45ea-f50d-a12199df6506",
        "colab": {
          "base_uri": "https://localhost:8080/",
          "height": 210
        }
      },
      "source": [
        "import matplotlib.pyplot as plt\n",
        "import numpy as np\n",
        "\n",
        "# functions to show an image\n",
        "\n",
        "\n",
        "def imshow(img):\n",
        "    img = img / 2 + 0.5     # unnormalize\n",
        "    npimg = img.numpy()\n",
        "    plt.imshow(np.transpose(npimg, (1, 2, 0)))\n",
        "\n",
        "\n",
        "# get some random training images\n",
        "dataiter = iter(trainloader)\n",
        "images, labels = next(iter(dataiter))\n",
        "\n",
        "# show images\n",
        "imshow(torchvision.utils.make_grid(images))\n",
        "# print labels\n",
        "print(' '.join('%5s' % classes[labels[j]] for j in range(4)))"
      ],
      "execution_count": 6,
      "outputs": [
        {
          "output_type": "stream",
          "name": "stdout",
          "text": [
            "  cat  frog plane   car\n"
          ]
        },
        {
          "output_type": "display_data",
          "data": {
            "text/plain": [
              "<Figure size 640x480 with 1 Axes>"
            ],
            "image/png": "[encoded data removed]"
          },
          "metadata": {}
        }
      ]
    },
    {
      "cell_type": "code",
      "source": [
        "net = Net()"
      ],
      "metadata": {
        "id": "g6996OujHVjo"
      },
      "execution_count": 7,
      "outputs": []
    },
    {
      "cell_type": "code",
      "source": [
        "out = net(torch.randn(1,3,32,32))"
      ],
      "metadata": {
        "id": "mdw3Qrl29r8f"
      },
      "execution_count": 8,
      "outputs": []
    },
    {
      "cell_type": "code",
      "source": [
        "device = torch.device(\"cuda\") if torch.cuda.is_available() else torch.device(\"cpu\")"
      ],
      "metadata": {
        "id": "sMVPXcsR-kMU"
      },
      "execution_count": 9,
      "outputs": []
    },
    {
      "cell_type": "code",
      "source": [
        "from torchsummary import summary\n",
        "summary(net.to(device),input_size=(3,32,32))"
      ],
      "metadata": {
        "colab": {
          "base_uri": "https://localhost:8080/"
        },
        "id": "MDJwmv1K-IL6",
        "outputId": "58b88643-7e78-49f4-b4e9-917df06c560c"
      },
      "execution_count": 10,
      "outputs": [
        {
          "output_type": "stream",
          "name": "stdout",
          "text": [
            "----------------------------------------------------------------\n",
            "        Layer (type)               Output Shape         Param #\n",
            "================================================================\n",
            "            Conv2d-1           [-1, 16, 30, 30]           1,216\n",
            "              ReLU-2           [-1, 16, 30, 30]               0\n",
            "       BatchNorm2d-3           [-1, 16, 30, 30]              32\n",
            "            Conv2d-4           [-1, 16, 15, 15]           2,320\n",
            "              ReLU-5           [-1, 16, 15, 15]               0\n",
            "       BatchNorm2d-6           [-1, 16, 15, 15]              32\n",
            "            Conv2d-7           [-1, 32, 15, 15]           4,640\n",
            "              ReLU-8           [-1, 32, 15, 15]               0\n",
            "       BatchNorm2d-9           [-1, 32, 15, 15]              64\n",
            "           Conv2d-10           [-1, 64, 15, 15]             640\n",
            "             ReLU-11           [-1, 64, 15, 15]               0\n",
            "      BatchNorm2d-12           [-1, 64, 15, 15]             128\n",
            "           Conv2d-13            [-1, 128, 8, 8]          73,856\n",
            "             ReLU-14            [-1, 128, 8, 8]               0\n",
            "      BatchNorm2d-15            [-1, 128, 8, 8]             256\n",
            "           Conv2d-16            [-1, 128, 8, 8]         147,584\n",
            "             ReLU-17            [-1, 128, 8, 8]               0\n",
            "      BatchNorm2d-18            [-1, 128, 8, 8]             256\n",
            "           Conv2d-19             [-1, 32, 4, 4]          36,896\n",
            "             ReLU-20             [-1, 32, 4, 4]               0\n",
            "      BatchNorm2d-21             [-1, 32, 4, 4]              64\n",
            "           Conv2d-22             [-1, 32, 4, 4]           1,056\n",
            "           Conv2d-23             [-1, 32, 4, 4]           9,248\n",
            "             ReLU-24             [-1, 32, 4, 4]               0\n",
            "      BatchNorm2d-25             [-1, 32, 4, 4]              64\n",
            "AdaptiveAvgPool2d-26             [-1, 32, 1, 1]               0\n",
            "           Linear-27                   [-1, 10]             330\n",
            "================================================================\n",
            "Total params: 278,682\n",
            "Trainable params: 278,682\n",
            "Non-trainable params: 0\n",
            "----------------------------------------------------------------\n",
            "Input size (MB): 0.01\n",
            "Forward/backward pass size (MB): 1.31\n",
            "Params size (MB): 1.06\n",
            "Estimated Total Size (MB): 2.38\n",
            "----------------------------------------------------------------\n"
          ]
        }
      ]
    },
    {
      "cell_type": "code",
      "metadata": {
        "id": "M4xBbDROpoCv"
      },
      "source": [
        "import torch.optim as optim\n",
        "\n",
        "criterion = nn.CrossEntropyLoss()\n",
        "optimizer = optim.SGD(net.parameters(), lr=0.01, momentum=0.9)"
      ],
      "execution_count": 11,
      "outputs": []
    },
    {
      "cell_type": "code",
      "metadata": {
        "id": "kkuRfo1IpoC3",
        "outputId": "43d80a99-b554-47c6-d9ec-11570a31480f",
        "colab": {
          "base_uri": "https://localhost:8080/"
        }
      },
      "source": [
        "for epoch in range(50):  # loop over the dataset multiple times\n",
        "\n",
        "    running_loss = 0.0\n",
        "    for i, data in enumerate(trainloader, 0):\n",
        "        # get the inputs\n",
        "        inputs, labels = data\n",
        "\n",
        "        inputs = inputs.to(device)\n",
        "        labels = labels.to(device)\n",
        "\n",
        "        # zero the parameter gradients\n",
        "        optimizer.zero_grad()\n",
        "\n",
        "        # forward + backward + optimize\n",
        "        outputs = net(inputs)\n",
        "        loss = criterion(outputs, labels)\n",
        "        loss.backward()\n",
        "        optimizer.step()\n",
        "\n",
        "        # print statistics\n",
        "        running_loss += loss.item()\n",
        "        if i % 2000 == 1999:    # print every 2000 mini-batches\n",
        "            print('[%d, %5d] loss: %.3f' %\n",
        "                  (epoch + 1, i + 1, running_loss / 2000))\n",
        "            running_loss = 0.0\n",
        "\n",
        "print('Finished Training')"
      ],
      "execution_count": 12,
      "outputs": [
        {
          "output_type": "stream",
          "name": "stdout",
          "text": [
            "[1,  2000] loss: 2.138\n",
            "[1,  4000] loss: 2.000\n",
            "[1,  6000] loss: 1.939\n",
            "[1,  8000] loss: 1.895\n",
            "[1, 10000] loss: 1.860\n",
            "[1, 12000] loss: 1.818\n",
            "[2,  2000] loss: 1.800\n",
            "[2,  4000] loss: 1.773\n",
            "[2,  6000] loss: 1.729\n",
            "[2,  8000] loss: 1.714\n",
            "[2, 10000] loss: 1.708\n",
            "[2, 12000] loss: 1.689\n",
            "[3,  2000] loss: 1.693\n",
            "[3,  4000] loss: 1.644\n",
            "[3,  6000] loss: 1.627\n",
            "[3,  8000] loss: 1.638\n",
            "[3, 10000] loss: 1.605\n",
            "[3, 12000] loss: 1.595\n",
            "[4,  2000] loss: 1.600\n",
            "[4,  4000] loss: 1.550\n",
            "[4,  6000] loss: 1.549\n",
            "[4,  8000] loss: 1.550\n",
            "[4, 10000] loss: 1.513\n",
            "[4, 12000] loss: 1.537\n",
            "[5,  2000] loss: 1.510\n",
            "[5,  4000] loss: 1.499\n",
            "[5,  6000] loss: 1.459\n",
            "[5,  8000] loss: 1.480\n",
            "[5, 10000] loss: 1.460\n",
            "[5, 12000] loss: 1.453\n",
            "[6,  2000] loss: 1.449\n",
            "[6,  4000] loss: 1.433\n",
            "[6,  6000] loss: 1.444\n",
            "[6,  8000] loss: 1.438\n",
            "[6, 10000] loss: 1.407\n",
            "[6, 12000] loss: 1.396\n",
            "[7,  2000] loss: 1.378\n",
            "[7,  4000] loss: 1.397\n",
            "[7,  6000] loss: 1.387\n",
            "[7,  8000] loss: 1.397\n",
            "[7, 10000] loss: 1.385\n",
            "[7, 12000] loss: 1.374\n",
            "[8,  2000] loss: 1.339\n",
            "[8,  4000] loss: 1.361\n",
            "[8,  6000] loss: 1.342\n",
            "[8,  8000] loss: 1.349\n",
            "[8, 10000] loss: 1.339\n",
            "[8, 12000] loss: 1.332\n",
            "[9,  2000] loss: 1.335\n",
            "[9,  4000] loss: 1.320\n",
            "[9,  6000] loss: 1.328\n",
            "[9,  8000] loss: 1.329\n",
            "[9, 10000] loss: 1.308\n",
            "[9, 12000] loss: 1.314\n",
            "[10,  2000] loss: 1.303\n",
            "[10,  4000] loss: 1.296\n",
            "[10,  6000] loss: 1.288\n",
            "[10,  8000] loss: 1.287\n",
            "[10, 10000] loss: 1.296\n",
            "[10, 12000] loss: 1.280\n",
            "[11,  2000] loss: 1.283\n",
            "[11,  4000] loss: 1.245\n",
            "[11,  6000] loss: 1.273\n",
            "[11,  8000] loss: 1.287\n",
            "[11, 10000] loss: 1.276\n",
            "[11, 12000] loss: 1.255\n",
            "[12,  2000] loss: 1.274\n",
            "[12,  4000] loss: 1.256\n",
            "[12,  6000] loss: 1.256\n",
            "[12,  8000] loss: 1.228\n",
            "[12, 10000] loss: 1.233\n",
            "[12, 12000] loss: 1.262\n",
            "[13,  2000] loss: 1.224\n",
            "[13,  4000] loss: 1.227\n",
            "[13,  6000] loss: 1.244\n",
            "[13,  8000] loss: 1.220\n",
            "[13, 10000] loss: 1.243\n",
            "[13, 12000] loss: 1.201\n",
            "[14,  2000] loss: 1.219\n",
            "[14,  4000] loss: 1.215\n",
            "[14,  6000] loss: 1.245\n",
            "[14,  8000] loss: 1.206\n",
            "[14, 10000] loss: 1.212\n",
            "[14, 12000] loss: 1.208\n",
            "[15,  2000] loss: 1.190\n",
            "[15,  4000] loss: 1.188\n",
            "[15,  6000] loss: 1.196\n",
            "[15,  8000] loss: 1.197\n",
            "[15, 10000] loss: 1.193\n",
            "[15, 12000] loss: 1.193\n",
            "[16,  2000] loss: 1.157\n",
            "[16,  4000] loss: 1.179\n",
            "[16,  6000] loss: 1.200\n",
            "[16,  8000] loss: 1.180\n",
            "[16, 10000] loss: 1.180\n",
            "[16, 12000] loss: 1.190\n",
            "[17,  2000] loss: 1.151\n",
            "[17,  4000] loss: 1.164\n",
            "[17,  6000] loss: 1.169\n",
            "[17,  8000] loss: 1.152\n",
            "[17, 10000] loss: 1.154\n",
            "[17, 12000] loss: 1.171\n",
            "[18,  2000] loss: 1.142\n",
            "[18,  4000] loss: 1.140\n",
            "[18,  6000] loss: 1.162\n",
            "[18,  8000] loss: 1.152\n",
            "[18, 10000] loss: 1.157\n",
            "[18, 12000] loss: 1.161\n",
            "[19,  2000] loss: 1.160\n",
            "[19,  4000] loss: 1.134\n",
            "[19,  6000] loss: 1.141\n",
            "[19,  8000] loss: 1.121\n",
            "[19, 10000] loss: 1.168\n",
            "[19, 12000] loss: 1.143\n",
            "[20,  2000] loss: 1.117\n",
            "[20,  4000] loss: 1.100\n",
            "[20,  6000] loss: 1.094\n",
            "[20,  8000] loss: 1.115\n",
            "[20, 10000] loss: 1.113\n",
            "[20, 12000] loss: 1.142\n",
            "[21,  2000] loss: 1.131\n",
            "[21,  4000] loss: 1.090\n",
            "[21,  6000] loss: 1.142\n",
            "[21,  8000] loss: 1.114\n",
            "[21, 10000] loss: 1.111\n",
            "[21, 12000] loss: 1.113\n",
            "[22,  2000] loss: 1.096\n",
            "[22,  4000] loss: 1.123\n",
            "[22,  6000] loss: 1.113\n",
            "[22,  8000] loss: 1.092\n",
            "[22, 10000] loss: 1.132\n",
            "[22, 12000] loss: 1.098\n",
            "[23,  2000] loss: 1.106\n",
            "[23,  4000] loss: 1.101\n",
            "[23,  6000] loss: 1.103\n",
            "[23,  8000] loss: 1.089\n",
            "[23, 10000] loss: 1.093\n",
            "[23, 12000] loss: 1.083\n",
            "[24,  2000] loss: 1.081\n",
            "[24,  4000] loss: 1.072\n",
            "[24,  6000] loss: 1.089\n",
            "[24,  8000] loss: 1.107\n",
            "[24, 10000] loss: 1.082\n",
            "[24, 12000] loss: 1.078\n",
            "[25,  2000] loss: 1.080\n",
            "[25,  4000] loss: 1.099\n",
            "[25,  6000] loss: 1.089\n",
            "[25,  8000] loss: 1.078\n",
            "[25, 10000] loss: 1.064\n",
            "[25, 12000] loss: 1.085\n",
            "[26,  2000] loss: 1.055\n",
            "[26,  4000] loss: 1.093\n",
            "[26,  6000] loss: 1.067\n",
            "[26,  8000] loss: 1.072\n",
            "[26, 10000] loss: 1.073\n",
            "[26, 12000] loss: 1.080\n",
            "[27,  2000] loss: 1.075\n",
            "[27,  4000] loss: 1.070\n",
            "[27,  6000] loss: 1.056\n",
            "[27,  8000] loss: 1.079\n",
            "[27, 10000] loss: 1.070\n",
            "[27, 12000] loss: 1.018\n",
            "[28,  2000] loss: 1.076\n",
            "[28,  4000] loss: 1.075\n",
            "[28,  6000] loss: 1.068\n",
            "[28,  8000] loss: 1.044\n",
            "[28, 10000] loss: 1.070\n",
            "[28, 12000] loss: 1.052\n",
            "[29,  2000] loss: 1.043\n",
            "[29,  4000] loss: 1.058\n",
            "[29,  6000] loss: 1.028\n",
            "[29,  8000] loss: 1.064\n",
            "[29, 10000] loss: 1.071\n",
            "[29, 12000] loss: 1.055\n",
            "[30,  2000] loss: 1.044\n",
            "[30,  4000] loss: 1.050\n",
            "[30,  6000] loss: 1.056\n",
            "[30,  8000] loss: 1.028\n",
            "[30, 10000] loss: 1.047\n",
            "[30, 12000] loss: 1.033\n",
            "[31,  2000] loss: 1.054\n",
            "[31,  4000] loss: 1.034\n",
            "[31,  6000] loss: 1.044\n",
            "[31,  8000] loss: 1.010\n",
            "[31, 10000] loss: 1.044\n",
            "[31, 12000] loss: 1.038\n",
            "[32,  2000] loss: 1.025\n",
            "[32,  4000] loss: 1.019\n",
            "[32,  6000] loss: 1.000\n",
            "[32,  8000] loss: 1.027\n",
            "[32, 10000] loss: 1.037\n",
            "[32, 12000] loss: 1.041\n",
            "[33,  2000] loss: 1.039\n",
            "[33,  4000] loss: 1.012\n",
            "[33,  6000] loss: 1.013\n",
            "[33,  8000] loss: 1.032\n",
            "[33, 10000] loss: 1.017\n",
            "[33, 12000] loss: 1.030\n",
            "[34,  2000] loss: 1.038\n",
            "[34,  4000] loss: 0.987\n",
            "[34,  6000] loss: 1.008\n",
            "[34,  8000] loss: 1.028\n",
            "[34, 10000] loss: 1.025\n",
            "[34, 12000] loss: 1.026\n",
            "[35,  2000] loss: 1.015\n",
            "[35,  4000] loss: 1.005\n",
            "[35,  6000] loss: 1.032\n",
            "[35,  8000] loss: 0.978\n",
            "[35, 10000] loss: 1.004\n",
            "[35, 12000] loss: 0.994\n",
            "[36,  2000] loss: 1.010\n",
            "[36,  4000] loss: 0.992\n",
            "[36,  6000] loss: 1.007\n",
            "[36,  8000] loss: 1.027\n",
            "[36, 10000] loss: 0.997\n",
            "[36, 12000] loss: 0.989\n",
            "[37,  2000] loss: 1.014\n",
            "[37,  4000] loss: 0.991\n",
            "[37,  6000] loss: 0.967\n",
            "[37,  8000] loss: 1.003\n",
            "[37, 10000] loss: 1.009\n",
            "[37, 12000] loss: 0.976\n",
            "[38,  2000] loss: 1.001\n",
            "[38,  4000] loss: 0.977\n",
            "[38,  6000] loss: 0.994\n",
            "[38,  8000] loss: 0.984\n",
            "[38, 10000] loss: 1.002\n",
            "[38, 12000] loss: 0.997\n",
            "[39,  2000] loss: 0.994\n",
            "[39,  4000] loss: 1.004\n",
            "[39,  6000] loss: 0.992\n",
            "[39,  8000] loss: 0.995\n",
            "[39, 10000] loss: 0.973\n",
            "[39, 12000] loss: 0.979\n",
            "[40,  2000] loss: 0.980\n",
            "[40,  4000] loss: 0.975\n",
            "[40,  6000] loss: 0.996\n",
            "[40,  8000] loss: 0.974\n",
            "[40, 10000] loss: 0.984\n",
            "[40, 12000] loss: 0.982\n",
            "[41,  2000] loss: 0.971\n",
            "[41,  4000] loss: 0.955\n",
            "[41,  6000] loss: 0.993\n",
            "[41,  8000] loss: 0.974\n",
            "[41, 10000] loss: 0.987\n",
            "[41, 12000] loss: 0.988\n",
            "[42,  2000] loss: 0.978\n",
            "[42,  4000] loss: 0.964\n",
            "[42,  6000] loss: 0.962\n",
            "[42,  8000] loss: 0.984\n",
            "[42, 10000] loss: 0.982\n",
            "[42, 12000] loss: 0.995\n",
            "[43,  2000] loss: 0.964\n",
            "[43,  4000] loss: 0.961\n",
            "[43,  6000] loss: 0.984\n",
            "[43,  8000] loss: 0.954\n",
            "[43, 10000] loss: 0.972\n",
            "[43, 12000] loss: 0.981\n",
            "[44,  2000] loss: 0.963\n",
            "[44,  4000] loss: 0.980\n",
            "[44,  6000] loss: 0.948\n",
            "[44,  8000] loss: 0.973\n",
            "[44, 10000] loss: 0.965\n",
            "[44, 12000] loss: 0.968\n",
            "[45,  2000] loss: 0.960\n",
            "[45,  4000] loss: 0.941\n",
            "[45,  6000] loss: 0.984\n",
            "[45,  8000] loss: 0.960\n",
            "[45, 10000] loss: 0.949\n",
            "[45, 12000] loss: 0.956\n",
            "[46,  2000] loss: 0.980\n",
            "[46,  4000] loss: 0.947\n",
            "[46,  6000] loss: 0.947\n",
            "[46,  8000] loss: 0.947\n",
            "[46, 10000] loss: 0.959\n",
            "[46, 12000] loss: 0.956\n",
            "[47,  2000] loss: 0.956\n",
            "[47,  4000] loss: 0.934\n",
            "[47,  6000] loss: 0.926\n",
            "[47,  8000] loss: 0.968\n",
            "[47, 10000] loss: 0.950\n",
            "[47, 12000] loss: 0.968\n",
            "[48,  2000] loss: 0.909\n",
            "[48,  4000] loss: 0.946\n",
            "[48,  6000] loss: 0.968\n",
            "[48,  8000] loss: 0.925\n",
            "[48, 10000] loss: 0.969\n",
            "[48, 12000] loss: 0.948\n",
            "[49,  2000] loss: 0.941\n",
            "[49,  4000] loss: 0.957\n",
            "[49,  6000] loss: 0.950\n",
            "[49,  8000] loss: 0.958\n",
            "[49, 10000] loss: 0.928\n",
            "[49, 12000] loss: 0.951\n",
            "[50,  2000] loss: 0.929\n",
            "[50,  4000] loss: 0.946\n",
            "[50,  6000] loss: 0.943\n",
            "[50,  8000] loss: 0.920\n",
            "[50, 10000] loss: 0.957\n",
            "[50, 12000] loss: 0.945\n",
            "Finished Training\n"
          ]
        }
      ]
    },
    {
      "cell_type": "code",
      "metadata": {
        "id": "nizbsvw9poC6",
        "colab": {
          "base_uri": "https://localhost:8080/",
          "height": 210
        },
        "outputId": "218deb0f-0724-4f5b-e664-3bab722f9075"
      },
      "source": [
        "dataiter = iter(testloader)\n",
        "images, labels = next(iter(dataiter))\n",
        "\n",
        "# print images\n",
        "imshow(torchvision.utils.make_grid(images))\n",
        "print('GroundTruth: ', ' '.join('%5s' % classes[labels[j]] for j in range(4)))"
      ],
      "execution_count": 13,
      "outputs": [
        {
          "output_type": "stream",
          "name": "stdout",
          "text": [
            "GroundTruth:   ship   cat  frog  bird\n"
          ]
        },
        {
          "output_type": "display_data",
          "data": {
            "text/plain": [
              "<Figure size 640x480 with 1 Axes>"
            ],
            "image/png": "[encoded data removed]"
          },
          "metadata": {}
        }
      ]
    },
    {
      "cell_type": "markdown",
      "metadata": {
        "id": "DAx4QPHVpoC8"
      },
      "source": [
        "Okay, now let us see what the neural network thinks these examples above are:\n",
        "\n"
      ]
    },
    {
      "cell_type": "code",
      "metadata": {
        "id": "HVLjlssWpoC9"
      },
      "source": [
        "outputs = net(images.to(device))"
      ],
      "execution_count": 14,
      "outputs": []
    },
    {
      "cell_type": "markdown",
      "metadata": {
        "id": "u8OTHZEApoC_"
      },
      "source": [
        "The outputs are energies for the 10 classes.\n",
        "Higher the energy for a class, the more the network\n",
        "thinks that the image is of the particular class.\n",
        "So, let's get the index of the highest energy:\n",
        "\n"
      ]
    },
    {
      "cell_type": "code",
      "metadata": {
        "id": "ABRIDW3lpoDA",
        "colab": {
          "base_uri": "https://localhost:8080/"
        },
        "outputId": "2788ef1c-e69a-46b4-c584-e535eaaadb60"
      },
      "source": [
        "_, predicted = torch.max(outputs, 1)\n",
        "\n",
        "print('Predicted: ', ' '.join('%5s' % classes[predicted[j]]\n",
        "                              for j in range(4)))"
      ],
      "execution_count": 15,
      "outputs": [
        {
          "output_type": "stream",
          "name": "stdout",
          "text": [
            "Predicted:   ship   cat  frog  bird\n"
          ]
        }
      ]
    },
    {
      "cell_type": "markdown",
      "metadata": {
        "id": "2TV0TXL1poDC"
      },
      "source": [
        "The results seem pretty good.\n",
        "\n",
        "Let us look at how the network performs on the whole dataset.\n",
        "\n"
      ]
    },
    {
      "cell_type": "code",
      "metadata": {
        "id": "SZ4-5CESpoDD",
        "colab": {
          "base_uri": "https://localhost:8080/"
        },
        "outputId": "4125626a-8f62-4047-a0aa-1e06ab174b53"
      },
      "source": [
        "correct = 0\n",
        "total = 0\n",
        "with torch.no_grad():\n",
        "    for data in testloader:\n",
        "        images, labels = data\n",
        "        images = images.to(device)\n",
        "        labels = labels.to(device)\n",
        "        outputs = net(images)\n",
        "        _, predicted = torch.max(outputs.data, 1)\n",
        "        total += labels.size(0)\n",
        "        correct += (predicted == labels).sum().item()\n",
        "\n",
        "print('Accuracy of the network on the 10000 test images: %d %%' % (\n",
        "    100 * correct / total))"
      ],
      "execution_count": 16,
      "outputs": [
        {
          "output_type": "stream",
          "name": "stdout",
          "text": [
            "Accuracy of the network on the 10000 test images: 75 %\n"
          ]
        }
      ]
    },
    {
      "cell_type": "markdown",
      "metadata": {
        "id": "eDdwPBl8poDF"
      },
      "source": [
        "That looks waaay better than chance, which is 10% accuracy (randomly picking\n",
        "a class out of 10 classes).\n",
        "Seems like the network learnt something.\n",
        "\n",
        "Hmmm, what are the classes that performed well, and the classes that did\n",
        "not perform well:\n",
        "\n"
      ]
    },
    {
      "cell_type": "code",
      "metadata": {
        "id": "pDNFuDEDpoDG",
        "colab": {
          "base_uri": "https://localhost:8080/"
        },
        "outputId": "650d103a-e106-4064-c370-c1ce055b77cd"
      },
      "source": [
        "class_correct = list(0. for i in range(10))\n",
        "class_total = list(0. for i in range(10))\n",
        "with torch.no_grad():\n",
        "    for data in testloader:\n",
        "        images, labels = data\n",
        "        images = images.to(device)\n",
        "        labels = labels.to(device)\n",
        "        outputs = net(images)\n",
        "        _, predicted = torch.max(outputs, 1)\n",
        "        c = (predicted == labels).squeeze()\n",
        "        for i in range(4):\n",
        "            label = labels[i]\n",
        "            class_correct[label] += c[i].item()\n",
        "            class_total[label] += 1\n",
        "\n",
        "\n",
        "for i in range(10):\n",
        "    print('Accuracy of %5s : %2d %%' % (\n",
        "        classes[i], 100 * class_correct[i] / class_total[i]))"
      ],
      "execution_count": 17,
      "outputs": [
        {
          "output_type": "stream",
          "name": "stdout",
          "text": [
            "Accuracy of plane : 83 %\n",
            "Accuracy of   car : 91 %\n",
            "Accuracy of  bird : 62 %\n",
            "Accuracy of   cat : 68 %\n",
            "Accuracy of  deer : 70 %\n",
            "Accuracy of   dog : 63 %\n",
            "Accuracy of  frog : 73 %\n",
            "Accuracy of horse : 78 %\n",
            "Accuracy of  ship : 78 %\n",
            "Accuracy of truck : 75 %\n"
          ]
        }
      ]
    },
    {
      "cell_type": "code",
      "source": [],
      "metadata": {
        "id": "M2Zgvw5XDjCW"
      },
      "execution_count": 17,
      "outputs": []
    }
  ]
}