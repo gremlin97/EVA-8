{
  "nbformat": 4,
  "nbformat_minor": 0,
  "metadata": {
    "kernelspec": {
      "name": "python3",
      "display_name": "Python 3"
    },
    "language_info": {
      "codemirror_mode": {
        "name": "ipython",
        "version": 3
      },
      "file_extension": ".py",
      "mimetype": "text/x-python",
      "name": "python",
      "nbconvert_exporter": "python",
      "pygments_lexer": "ipython3",
      "version": "3.6.6"
    },
    "colab": {
      "provenance": [],
      "include_colab_link": true
    },
    "accelerator": "GPU",
    "widgets": {
      "application/vnd.jupyter.widget-state+json": {
        "e100c7f27ac24604a5c7246876e676b7": {
          "model_module": "@jupyter-widgets/controls",
          "model_name": "HBoxModel",
          "model_module_version": "1.5.0",
          "state": {
            "_dom_classes": [],
            "_model_module": "@jupyter-widgets/controls",
            "_model_module_version": "1.5.0",
            "_model_name": "HBoxModel",
            "_view_count": null,
            "_view_module": "@jupyter-widgets/controls",
            "_view_module_version": "1.5.0",
            "_view_name": "HBoxView",
            "box_style": "",
            "children": [
              "IPY_MODEL_d854166487994cfda668f2d46dfa9ec5",
              "IPY_MODEL_0425a0073e0f49f08ef14c8e5a4753de",
              "IPY_MODEL_1335b352ffc1481ab43c2456af06ecd3"
            ],
            "layout": "IPY_MODEL_3b75f2e93d844cdcb7dac012e953da2b"
          }
        },
        "d854166487994cfda668f2d46dfa9ec5": {
          "model_module": "@jupyter-widgets/controls",
          "model_name": "HTMLModel",
          "model_module_version": "1.5.0",
          "state": {
            "_dom_classes": [],
            "_model_module": "@jupyter-widgets/controls",
            "_model_module_version": "1.5.0",
            "_model_name": "HTMLModel",
            "_view_count": null,
            "_view_module": "@jupyter-widgets/controls",
            "_view_module_version": "1.5.0",
            "_view_name": "HTMLView",
            "description": "",
            "description_tooltip": null,
            "layout": "IPY_MODEL_1d965bb6438a49178675e858406724b2",
            "placeholder": "​",
            "style": "IPY_MODEL_f33547447a924b008225b4674d464027",
            "value": "100%"
          }
        },
        "0425a0073e0f49f08ef14c8e5a4753de": {
          "model_module": "@jupyter-widgets/controls",
          "model_name": "FloatProgressModel",
          "model_module_version": "1.5.0",
          "state": {
            "_dom_classes": [],
            "_model_module": "@jupyter-widgets/controls",
            "_model_module_version": "1.5.0",
            "_model_name": "FloatProgressModel",
            "_view_count": null,
            "_view_module": "@jupyter-widgets/controls",
            "_view_module_version": "1.5.0",
            "_view_name": "ProgressView",
            "bar_style": "success",
            "description": "",
            "description_tooltip": null,
            "layout": "IPY_MODEL_73f88f26df024871b237e8308239d0da",
            "max": 170498071,
            "min": 0,
            "orientation": "horizontal",
            "style": "IPY_MODEL_2274629d5a5342378bde4c97205a2fe4",
            "value": 170498071
          }
        },
        "1335b352ffc1481ab43c2456af06ecd3": {
          "model_module": "@jupyter-widgets/controls",
          "model_name": "HTMLModel",
          "model_module_version": "1.5.0",
          "state": {
            "_dom_classes": [],
            "_model_module": "@jupyter-widgets/controls",
            "_model_module_version": "1.5.0",
            "_model_name": "HTMLModel",
            "_view_count": null,
            "_view_module": "@jupyter-widgets/controls",
            "_view_module_version": "1.5.0",
            "_view_name": "HTMLView",
            "description": "",
            "description_tooltip": null,
            "layout": "IPY_MODEL_7184df5a98ae4f97b34a288876d4285f",
            "placeholder": "​",
            "style": "IPY_MODEL_e90f1447c41b45cb85798b224a30020f",
            "value": " 170498071/170498071 [00:16&lt;00:00, 11944707.95it/s]"
          }
        },
        "3b75f2e93d844cdcb7dac012e953da2b": {
          "model_module": "@jupyter-widgets/base",
          "model_name": "LayoutModel",
          "model_module_version": "1.2.0",
          "state": {
            "_model_module": "@jupyter-widgets/base",
            "_model_module_version": "1.2.0",
            "_model_name": "LayoutModel",
            "_view_count": null,
            "_view_module": "@jupyter-widgets/base",
            "_view_module_version": "1.2.0",
            "_view_name": "LayoutView",
            "align_content": null,
            "align_items": null,
            "align_self": null,
            "border": null,
            "bottom": null,
            "display": null,
            "flex": null,
            "flex_flow": null,
            "grid_area": null,
            "grid_auto_columns": null,
            "grid_auto_flow": null,
            "grid_auto_rows": null,
            "grid_column": null,
            "grid_gap": null,
            "grid_row": null,
            "grid_template_areas": null,
            "grid_template_columns": null,
            "grid_template_rows": null,
            "height": null,
            "justify_content": null,
            "justify_items": null,
            "left": null,
            "margin": null,
            "max_height": null,
            "max_width": null,
            "min_height": null,
            "min_width": null,
            "object_fit": null,
            "object_position": null,
            "order": null,
            "overflow": null,
            "overflow_x": null,
            "overflow_y": null,
            "padding": null,
            "right": null,
            "top": null,
            "visibility": null,
            "width": null
          }
        },
        "1d965bb6438a49178675e858406724b2": {
          "model_module": "@jupyter-widgets/base",
          "model_name": "LayoutModel",
          "model_module_version": "1.2.0",
          "state": {
            "_model_module": "@jupyter-widgets/base",
            "_model_module_version": "1.2.0",
            "_model_name": "LayoutModel",
            "_view_count": null,
            "_view_module": "@jupyter-widgets/base",
            "_view_module_version": "1.2.0",
            "_view_name": "LayoutView",
            "align_content": null,
            "align_items": null,
            "align_self": null,
            "border": null,
            "bottom": null,
            "display": null,
            "flex": null,
            "flex_flow": null,
            "grid_area": null,
            "grid_auto_columns": null,
            "grid_auto_flow": null,
            "grid_auto_rows": null,
            "grid_column": null,
            "grid_gap": null,
            "grid_row": null,
            "grid_template_areas": null,
            "grid_template_columns": null,
            "grid_template_rows": null,
            "height": null,
            "justify_content": null,
            "justify_items": null,
            "left": null,
            "margin": null,
            "max_height": null,
            "max_width": null,
            "min_height": null,
            "min_width": null,
            "object_fit": null,
            "object_position": null,
            "order": null,
            "overflow": null,
            "overflow_x": null,
            "overflow_y": null,
            "padding": null,
            "right": null,
            "top": null,
            "visibility": null,
            "width": null
          }
        },
        "f33547447a924b008225b4674d464027": {
          "model_module": "@jupyter-widgets/controls",
          "model_name": "DescriptionStyleModel",
          "model_module_version": "1.5.0",
          "state": {
            "_model_module": "@jupyter-widgets/controls",
            "_model_module_version": "1.5.0",
            "_model_name": "DescriptionStyleModel",
            "_view_count": null,
            "_view_module": "@jupyter-widgets/base",
            "_view_module_version": "1.2.0",
            "_view_name": "StyleView",
            "description_width": ""
          }
        },
        "73f88f26df024871b237e8308239d0da": {
          "model_module": "@jupyter-widgets/base",
          "model_name": "LayoutModel",
          "model_module_version": "1.2.0",
          "state": {
            "_model_module": "@jupyter-widgets/base",
            "_model_module_version": "1.2.0",
            "_model_name": "LayoutModel",
            "_view_count": null,
            "_view_module": "@jupyter-widgets/base",
            "_view_module_version": "1.2.0",
            "_view_name": "LayoutView",
            "align_content": null,
            "align_items": null,
            "align_self": null,
            "border": null,
            "bottom": null,
            "display": null,
            "flex": null,
            "flex_flow": null,
            "grid_area": null,
            "grid_auto_columns": null,
            "grid_auto_flow": null,
            "grid_auto_rows": null,
            "grid_column": null,
            "grid_gap": null,
            "grid_row": null,
            "grid_template_areas": null,
            "grid_template_columns": null,
            "grid_template_rows": null,
            "height": null,
            "justify_content": null,
            "justify_items": null,
            "left": null,
            "margin": null,
            "max_height": null,
            "max_width": null,
            "min_height": null,
            "min_width": null,
            "object_fit": null,
            "object_position": null,
            "order": null,
            "overflow": null,
            "overflow_x": null,
            "overflow_y": null,
            "padding": null,
            "right": null,
            "top": null,
            "visibility": null,
            "width": null
          }
        },
        "2274629d5a5342378bde4c97205a2fe4": {
          "model_module": "@jupyter-widgets/controls",
          "model_name": "ProgressStyleModel",
          "model_module_version": "1.5.0",
          "state": {
            "_model_module": "@jupyter-widgets/controls",
            "_model_module_version": "1.5.0",
            "_model_name": "ProgressStyleModel",
            "_view_count": null,
            "_view_module": "@jupyter-widgets/base",
            "_view_module_version": "1.2.0",
            "_view_name": "StyleView",
            "bar_color": null,
            "description_width": ""
          }
        },
        "7184df5a98ae4f97b34a288876d4285f": {
          "model_module": "@jupyter-widgets/base",
          "model_name": "LayoutModel",
          "model_module_version": "1.2.0",
          "state": {
            "_model_module": "@jupyter-widgets/base",
            "_model_module_version": "1.2.0",
            "_model_name": "LayoutModel",
            "_view_count": null,
            "_view_module": "@jupyter-widgets/base",
            "_view_module_version": "1.2.0",
            "_view_name": "LayoutView",
            "align_content": null,
            "align_items": null,
            "align_self": null,
            "border": null,
            "bottom": null,
            "display": null,
            "flex": null,
            "flex_flow": null,
            "grid_area": null,
            "grid_auto_columns": null,
            "grid_auto_flow": null,
            "grid_auto_rows": null,
            "grid_column": null,
            "grid_gap": null,
            "grid_row": null,
            "grid_template_areas": null,
            "grid_template_columns": null,
            "grid_template_rows": null,
            "height": null,
            "justify_content": null,
            "justify_items": null,
            "left": null,
            "margin": null,
            "max_height": null,
            "max_width": null,
            "min_height": null,
            "min_width": null,
            "object_fit": null,
            "object_position": null,
            "order": null,
            "overflow": null,
            "overflow_x": null,
            "overflow_y": null,
            "padding": null,
            "right": null,
            "top": null,
            "visibility": null,
            "width": null
          }
        },
        "e90f1447c41b45cb85798b224a30020f": {
          "model_module": "@jupyter-widgets/controls",
          "model_name": "DescriptionStyleModel",
          "model_module_version": "1.5.0",
          "state": {
            "_model_module": "@jupyter-widgets/controls",
            "_model_module_version": "1.5.0",
            "_model_name": "DescriptionStyleModel",
            "_view_count": null,
            "_view_module": "@jupyter-widgets/base",
            "_view_module_version": "1.2.0",
            "_view_name": "StyleView",
            "description_width": ""
          }
        }
      }
    }
  },
  "cells": [
    {
      "cell_type": "markdown",
      "metadata": {
        "id": "view-in-github",
        "colab_type": "text"
      },
      "source": [
        "<a href=\"https://colab.research.google.com/github/gremlin97/EVA-8/blob/main/S6/S6.ipynb\" target=\"_parent\"><img src=\"https://colab.research.google.com/assets/colab-badge.svg\" alt=\"Open In Colab\"/></a>"
      ]
    },
    {
      "cell_type": "code",
      "source": [
        "!git clone https://github.com/gremlin97/EVA-Utils"
      ],
      "metadata": {
        "colab": {
          "base_uri": "https://localhost:8080/"
        },
        "id": "cvXhWMcLHxRs",
        "outputId": "ae76db48-9588-4418-db20-c95967917f57"
      },
      "execution_count": null,
      "outputs": [
        {
          "output_type": "stream",
          "name": "stdout",
          "text": [
            "Cloning into 'EVA-Utils'...\n",
            "remote: Enumerating objects: 117, done.\u001b[K\n",
            "remote: Counting objects: 100% (117/117), done.\u001b[K\n",
            "remote: Compressing objects: 100% (113/113), done.\u001b[K\n",
            "remote: Total 117 (delta 64), reused 0 (delta 0), pack-reused 0\u001b[K\n",
            "Receiving objects: 100% (117/117), 29.23 KiB | 5.85 MiB/s, done.\n",
            "Resolving deltas: 100% (64/64), done.\n"
          ]
        }
      ]
    },
    {
      "cell_type": "code",
      "source": [
        "%cd EVA-Utils/models"
      ],
      "metadata": {
        "colab": {
          "base_uri": "https://localhost:8080/"
        },
        "id": "zo5ic2QUH_8N",
        "outputId": "d3798c79-e95f-4670-c7f1-034283ab0e6a"
      },
      "execution_count": null,
      "outputs": [
        {
          "output_type": "stream",
          "name": "stdout",
          "text": [
            "/content/EVA-Utils/models\n"
          ]
        }
      ]
    },
    {
      "cell_type": "code",
      "metadata": {
        "id": "QVbdg0z4poCc"
      },
      "source": [
        "%matplotlib inline"
      ],
      "execution_count": null,
      "outputs": []
    },
    {
      "cell_type": "code",
      "metadata": {
        "id": "-yVpodAMpoCi"
      },
      "source": [
        "import torch\n",
        "import torchvision\n",
        "import torchvision.transforms as transforms\n",
        "import albumentations as A\n",
        "from albumentations.pytorch import ToTensorV2\n",
        "from custom_cnn import *"
      ],
      "execution_count": null,
      "outputs": []
    },
    {
      "cell_type": "markdown",
      "metadata": {
        "id": "5kjt4e2TpoCk"
      },
      "source": [
        "The output of torchvision datasets are PILImage images of range [0, 1].\n",
        "We transform them to Tensors of normalized range [-1, 1].\n",
        "\n"
      ]
    },
    {
      "cell_type": "code",
      "source": [
        "train_transform = A.Compose([\n",
        "    A.HorizontalFlip(p=0.5),\n",
        "    A.ShiftScaleRotate(p=0.5),\n",
        "    A.CoarseDropout(max_holes = 1, max_height=16, max_width=16, min_height=16, min_width=16, min_holes = 1, fill_value=-1.69, mask_fill_value = None),\n",
        "    A.Normalize(\n",
        "        mean=[0.5, 0.5, 0.5],\n",
        "        std=[0.5, 0.5, 0.5],\n",
        "    ),\n",
        "    ToTensorV2()\n",
        "])\n",
        "\n",
        "test_transform = A.Compose([\n",
        "    # A.HorizontalFlip(p=0.5),\n",
        "    # A.ShiftScaleRotate(p=0.5),\n",
        "    # A.CoarseDropout(max_holes = 1, max_height=16, max_width=16, min_height=16, min_width=16, min_holes = 1, fill_value=-1.69, mask_fill_value = None),\n",
        "    A.Normalize(\n",
        "        mean=[0.5, 0.5, 0.5],\n",
        "        std=[0.5, 0.5, 0.5],\n",
        "    ),\n",
        "    ToTensorV2()\n",
        "])\n",
        "\n",
        "class Cifar10(torchvision.datasets.CIFAR10):\n",
        "    def __init__(self, root=\"~/data/cifar10\", train=True, download=True, transform=None):\n",
        "        super().__init__(root=root, train=train, download=download, transform=transform)\n",
        "\n",
        "    def __getitem__(self, index):\n",
        "        image, label = self.data[index], self.targets[index]\n",
        "\n",
        "        if self.transform is not None:\n",
        "            transformed = self.transform(image=image)\n",
        "            image = transformed[\"image\"]\n",
        "\n",
        "        return image, label\n",
        "\n",
        "trainset = Cifar10(root='./data', train=True,download=True, transform=train_transform)\n",
        "testset = Cifar10(root='./data', train=False,download=True, transform=test_transform)\n",
        "\n",
        "trainloader = torch.utils.data.DataLoader(trainset,batch_size = 4, shuffle=True)\n",
        "testloader = torch.utils.data.DataLoader(testset,batch_size = 4, shuffle=True)\n",
        "\n",
        "classes = ('plane', 'car', 'bird', 'cat',\n",
        "           'deer', 'dog', 'frog', 'horse', 'ship', 'truck')"
      ],
      "metadata": {
        "colab": {
          "base_uri": "https://localhost:8080/",
          "height": 101,
          "referenced_widgets": [
            "e100c7f27ac24604a5c7246876e676b7",
            "d854166487994cfda668f2d46dfa9ec5",
            "0425a0073e0f49f08ef14c8e5a4753de",
            "1335b352ffc1481ab43c2456af06ecd3",
            "3b75f2e93d844cdcb7dac012e953da2b",
            "1d965bb6438a49178675e858406724b2",
            "f33547447a924b008225b4674d464027",
            "73f88f26df024871b237e8308239d0da",
            "2274629d5a5342378bde4c97205a2fe4",
            "7184df5a98ae4f97b34a288876d4285f",
            "e90f1447c41b45cb85798b224a30020f"
          ]
        },
        "id": "Cuqi4YTUE8AS",
        "outputId": "8066070f-c9cd-4c71-a0c5-ef59b34d27c0"
      },
      "execution_count": null,
      "outputs": [
        {
          "output_type": "stream",
          "name": "stdout",
          "text": [
            "Downloading https://www.cs.toronto.edu/~kriz/cifar-10-python.tar.gz to ./data/cifar-10-python.tar.gz\n"
          ]
        },
        {
          "output_type": "display_data",
          "data": {
            "text/plain": [
              "  0%|          | 0/170498071 [00:00<?, ?it/s]"
            ],
            "application/vnd.jupyter.widget-view+json": {
              "version_major": 2,
              "version_minor": 0,
              "model_id": "e100c7f27ac24604a5c7246876e676b7"
            }
          },
          "metadata": {}
        },
        {
          "output_type": "stream",
          "name": "stdout",
          "text": [
            "Extracting ./data/cifar-10-python.tar.gz to ./data\n",
            "Files already downloaded and verified\n"
          ]
        }
      ]
    },
    {
      "cell_type": "markdown",
      "metadata": {
        "id": "_cj433rtpoCn"
      },
      "source": [
        "Let us show some of the training images, for fun.\n",
        "\n"
      ]
    },
    {
      "cell_type": "code",
      "metadata": {
        "id": "daA7bADhpoCo",
        "outputId": "6352f07a-318e-4c8c-fc4b-8b9968e504e2",
        "colab": {
          "base_uri": "https://localhost:8080/",
          "height": 155
        }
      },
      "source": [
        "import matplotlib.pyplot as plt\n",
        "import numpy as np\n",
        "\n",
        "# functions to show an image\n",
        "\n",
        "\n",
        "def imshow(img):\n",
        "    img = img / 2 + 0.5     # unnormalize\n",
        "    npimg = img.numpy()\n",
        "    plt.imshow(np.transpose(npimg, (1, 2, 0)))\n",
        "\n",
        "\n",
        "# get some random training images\n",
        "dataiter = iter(trainloader)\n",
        "images, labels = next(iter(dataiter))\n",
        "\n",
        "# show images\n",
        "imshow(torchvision.utils.make_grid(images))\n",
        "# print labels\n",
        "print(' '.join('%5s' % classes[labels[j]] for j in range(4)))"
      ],
      "execution_count": null,
      "outputs": [
        {
          "output_type": "stream",
          "name": "stdout",
          "text": [
            "  car plane   cat  bird\n"
          ]
        },
        {
          "output_type": "display_data",
          "data": {
            "text/plain": [
              "<Figure size 432x288 with 1 Axes>"
            ],
            "image/png": "[encoded data removed]"
          },
          "metadata": {
            "needs_background": "light"
          }
        }
      ]
    },
    {
      "cell_type": "code",
      "source": [
        "net = Net()"
      ],
      "metadata": {
        "id": "g6996OujHVjo"
      },
      "execution_count": null,
      "outputs": []
    },
    {
      "cell_type": "code",
      "source": [
        "out = net(torch.randn(1,3,32,32))"
      ],
      "metadata": {
        "id": "mdw3Qrl29r8f"
      },
      "execution_count": null,
      "outputs": []
    },
    {
      "cell_type": "code",
      "source": [
        "device = torch.device(\"cuda\") if torch.cuda.is_available() else torch.device(\"cpu\")"
      ],
      "metadata": {
        "id": "sMVPXcsR-kMU"
      },
      "execution_count": null,
      "outputs": []
    },
    {
      "cell_type": "code",
      "source": [
        "from torchsummary import summary\n",
        "summary(net.to(device),input_size=(3,32,32))"
      ],
      "metadata": {
        "colab": {
          "base_uri": "https://localhost:8080/"
        },
        "id": "MDJwmv1K-IL6",
        "outputId": "64ba8143-3e0b-4570-fe16-1098ef63a354"
      },
      "execution_count": null,
      "outputs": [
        {
          "output_type": "stream",
          "name": "stdout",
          "text": [
            "----------------------------------------------------------------\n",
            "        Layer (type)               Output Shape         Param #\n",
            "================================================================\n",
            "            Conv2d-1           [-1, 16, 32, 32]             448\n",
            "              ReLU-2           [-1, 16, 32, 32]               0\n",
            "       BatchNorm2d-3           [-1, 16, 32, 32]              32\n",
            "            Conv2d-4           [-1, 32, 32, 32]           4,640\n",
            "              ReLU-5           [-1, 32, 32, 32]               0\n",
            "       BatchNorm2d-6           [-1, 32, 32, 32]              64\n",
            "            Conv2d-7           [-1, 64, 32, 32]             640\n",
            "              ReLU-8           [-1, 64, 32, 32]               0\n",
            "       BatchNorm2d-9           [-1, 64, 32, 32]             128\n",
            "           Conv2d-10          [-1, 128, 16, 16]          73,856\n",
            "             ReLU-11          [-1, 128, 16, 16]               0\n",
            "      BatchNorm2d-12          [-1, 128, 16, 16]             256\n",
            "           Conv2d-13             [-1, 32, 8, 8]          36,896\n",
            "             ReLU-14             [-1, 32, 8, 8]               0\n",
            "      BatchNorm2d-15             [-1, 32, 8, 8]              64\n",
            "AdaptiveAvgPool2d-16             [-1, 32, 1, 1]               0\n",
            "           Linear-17                   [-1, 10]             330\n",
            "================================================================\n",
            "Total params: 117,354\n",
            "Trainable params: 117,354\n",
            "Non-trainable params: 0\n",
            "----------------------------------------------------------------\n",
            "Input size (MB): 0.01\n",
            "Forward/backward pass size (MB): 3.42\n",
            "Params size (MB): 0.45\n",
            "Estimated Total Size (MB): 3.88\n",
            "----------------------------------------------------------------\n"
          ]
        }
      ]
    },
    {
      "cell_type": "code",
      "metadata": {
        "id": "M4xBbDROpoCv"
      },
      "source": [
        "import torch.optim as optim\n",
        "\n",
        "criterion = nn.CrossEntropyLoss()\n",
        "optimizer = optim.SGD(net.parameters(), lr=0.01, momentum=0.9)"
      ],
      "execution_count": null,
      "outputs": []
    },
    {
      "cell_type": "code",
      "metadata": {
        "id": "kkuRfo1IpoC3",
        "outputId": "cec8f8c0-7991-489c-9f52-5dba97c80aeb",
        "colab": {
          "base_uri": "https://localhost:8080/"
        }
      },
      "source": [
        "for epoch in range(50):  # loop over the dataset multiple times\n",
        "\n",
        "    running_loss = 0.0\n",
        "    for i, data in enumerate(trainloader, 0):\n",
        "        # get the inputs\n",
        "        inputs, labels = data\n",
        "\n",
        "        inputs = inputs.to(device)\n",
        "        labels = labels.to(device)\n",
        "\n",
        "        # zero the parameter gradients\n",
        "        optimizer.zero_grad()\n",
        "\n",
        "        # forward + backward + optimize\n",
        "        outputs = net(inputs)\n",
        "        loss = criterion(outputs, labels)\n",
        "        loss.backward()\n",
        "        optimizer.step()\n",
        "\n",
        "        # print statistics\n",
        "        running_loss += loss.item()\n",
        "        if i % 2000 == 1999:    # print every 2000 mini-batches\n",
        "            print('[%d, %5d] loss: %.3f' %\n",
        "                  (epoch + 1, i + 1, running_loss / 2000))\n",
        "            running_loss = 0.0\n",
        "\n",
        "print('Finished Training')"
      ],
      "execution_count": null,
      "outputs": [
        {
          "output_type": "stream",
          "name": "stdout",
          "text": [
            "[1,  2000] loss: 1.563\n",
            "[1,  4000] loss: 1.471\n",
            "[1,  6000] loss: 1.462\n",
            "[1,  8000] loss: 1.401\n",
            "[1, 10000] loss: 1.411\n",
            "[1, 12000] loss: 1.412\n",
            "[2,  2000] loss: 1.387\n",
            "[2,  4000] loss: 1.379\n",
            "[2,  6000] loss: 1.357\n",
            "[2,  8000] loss: 1.377\n",
            "[2, 10000] loss: 1.364\n",
            "[2, 12000] loss: 1.347\n",
            "[3,  2000] loss: 1.334\n",
            "[3,  4000] loss: 1.346\n",
            "[3,  6000] loss: 1.360\n",
            "[3,  8000] loss: 1.321\n",
            "[3, 10000] loss: 1.333\n",
            "[3, 12000] loss: 1.300\n",
            "[4,  2000] loss: 1.316\n",
            "[4,  4000] loss: 1.319\n",
            "[4,  6000] loss: 1.289\n",
            "[4,  8000] loss: 1.292\n",
            "[4, 10000] loss: 1.278\n",
            "[4, 12000] loss: 1.312\n",
            "[5,  2000] loss: 1.275\n",
            "[5,  4000] loss: 1.308\n",
            "[5,  6000] loss: 1.277\n",
            "[5,  8000] loss: 1.292\n",
            "[5, 10000] loss: 1.270\n",
            "[5, 12000] loss: 1.269\n",
            "[6,  2000] loss: 1.252\n",
            "[6,  4000] loss: 1.284\n",
            "[6,  6000] loss: 1.250\n",
            "[6,  8000] loss: 1.270\n",
            "[6, 10000] loss: 1.234\n",
            "[6, 12000] loss: 1.252\n",
            "[7,  2000] loss: 1.262\n",
            "[7,  4000] loss: 1.246\n",
            "[7,  6000] loss: 1.256\n",
            "[7,  8000] loss: 1.262\n",
            "[7, 10000] loss: 1.249\n",
            "[7, 12000] loss: 1.233\n",
            "[8,  2000] loss: 1.240\n",
            "[8,  4000] loss: 1.228\n",
            "[8,  6000] loss: 1.238\n",
            "[8,  8000] loss: 1.224\n",
            "[8, 10000] loss: 1.234\n",
            "[8, 12000] loss: 1.247\n",
            "[9,  2000] loss: 1.219\n",
            "[9,  4000] loss: 1.226\n",
            "[9,  6000] loss: 1.240\n",
            "[9,  8000] loss: 1.229\n",
            "[9, 10000] loss: 1.235\n",
            "[9, 12000] loss: 1.213\n",
            "[10,  2000] loss: 1.231\n",
            "[10,  4000] loss: 1.211\n",
            "[10,  6000] loss: 1.221\n",
            "[10,  8000] loss: 1.202\n",
            "[10, 10000] loss: 1.233\n",
            "[10, 12000] loss: 1.219\n",
            "[11,  2000] loss: 1.187\n",
            "[11,  4000] loss: 1.203\n",
            "[11,  6000] loss: 1.183\n",
            "[11,  8000] loss: 1.206\n",
            "[11, 10000] loss: 1.207\n",
            "[11, 12000] loss: 1.207\n",
            "[12,  2000] loss: 1.196\n",
            "[12,  4000] loss: 1.209\n",
            "[12,  6000] loss: 1.180\n",
            "[12,  8000] loss: 1.199\n",
            "[12, 10000] loss: 1.175\n",
            "[12, 12000] loss: 1.198\n",
            "[13,  2000] loss: 1.183\n",
            "[13,  4000] loss: 1.183\n",
            "[13,  6000] loss: 1.185\n",
            "[13,  8000] loss: 1.177\n",
            "[13, 10000] loss: 1.188\n",
            "[13, 12000] loss: 1.192\n",
            "[14,  2000] loss: 1.188\n",
            "[14,  4000] loss: 1.193\n",
            "[14,  6000] loss: 1.179\n",
            "[14,  8000] loss: 1.174\n",
            "[14, 10000] loss: 1.162\n",
            "[14, 12000] loss: 1.168\n",
            "[15,  2000] loss: 1.162\n",
            "[15,  4000] loss: 1.162\n",
            "[15,  6000] loss: 1.169\n",
            "[15,  8000] loss: 1.195\n",
            "[15, 10000] loss: 1.175\n",
            "[15, 12000] loss: 1.184\n",
            "[16,  2000] loss: 1.176\n",
            "[16,  4000] loss: 1.154\n",
            "[16,  6000] loss: 1.179\n",
            "[16,  8000] loss: 1.163\n",
            "[16, 10000] loss: 1.164\n",
            "[16, 12000] loss: 1.182\n",
            "[17,  2000] loss: 1.170\n",
            "[17,  4000] loss: 1.145\n",
            "[17,  6000] loss: 1.176\n",
            "[17,  8000] loss: 1.167\n",
            "[17, 10000] loss: 1.157\n",
            "[17, 12000] loss: 1.152\n",
            "[18,  2000] loss: 1.147\n",
            "[18,  4000] loss: 1.151\n",
            "[18,  6000] loss: 1.150\n",
            "[18,  8000] loss: 1.167\n",
            "[18, 10000] loss: 1.174\n",
            "[18, 12000] loss: 1.177\n",
            "[19,  2000] loss: 1.137\n",
            "[19,  4000] loss: 1.137\n",
            "[19,  6000] loss: 1.150\n",
            "[19,  8000] loss: 1.168\n",
            "[19, 10000] loss: 1.138\n",
            "[19, 12000] loss: 1.163\n",
            "[20,  2000] loss: 1.139\n",
            "[20,  4000] loss: 1.158\n",
            "[20,  6000] loss: 1.167\n",
            "[20,  8000] loss: 1.125\n",
            "[20, 10000] loss: 1.123\n",
            "[20, 12000] loss: 1.153\n",
            "[21,  2000] loss: 1.138\n",
            "[21,  4000] loss: 1.158\n",
            "[21,  6000] loss: 1.146\n",
            "[21,  8000] loss: 1.146\n",
            "[21, 10000] loss: 1.149\n",
            "[21, 12000] loss: 1.144\n",
            "[22,  2000] loss: 1.129\n",
            "[22,  4000] loss: 1.136\n",
            "[22,  6000] loss: 1.145\n",
            "[22,  8000] loss: 1.128\n",
            "[22, 10000] loss: 1.159\n",
            "[22, 12000] loss: 1.137\n",
            "[23,  2000] loss: 1.150\n",
            "[23,  4000] loss: 1.144\n",
            "[23,  6000] loss: 1.126\n",
            "[23,  8000] loss: 1.129\n",
            "[23, 10000] loss: 1.126\n",
            "[23, 12000] loss: 1.135\n",
            "[24,  2000] loss: 1.128\n",
            "[24,  4000] loss: 1.132\n",
            "[24,  6000] loss: 1.131\n",
            "[24,  8000] loss: 1.134\n",
            "[24, 10000] loss: 1.096\n",
            "[24, 12000] loss: 1.146\n",
            "[25,  2000] loss: 1.114\n",
            "[25,  4000] loss: 1.120\n",
            "[25,  6000] loss: 1.124\n",
            "[25,  8000] loss: 1.142\n",
            "[25, 10000] loss: 1.134\n",
            "[25, 12000] loss: 1.125\n",
            "[26,  2000] loss: 1.116\n",
            "[26,  4000] loss: 1.130\n",
            "[26,  6000] loss: 1.126\n",
            "[26,  8000] loss: 1.128\n",
            "[26, 10000] loss: 1.151\n",
            "[26, 12000] loss: 1.120\n",
            "[27,  2000] loss: 1.109\n",
            "[27,  4000] loss: 1.108\n",
            "[27,  6000] loss: 1.131\n",
            "[27,  8000] loss: 1.130\n",
            "[27, 10000] loss: 1.116\n",
            "[27, 12000] loss: 1.119\n",
            "[28,  2000] loss: 1.081\n",
            "[28,  4000] loss: 1.125\n",
            "[28,  6000] loss: 1.126\n",
            "[28,  8000] loss: 1.101\n",
            "[28, 10000] loss: 1.114\n",
            "[28, 12000] loss: 1.122\n",
            "[29,  2000] loss: 1.090\n",
            "[29,  4000] loss: 1.121\n",
            "[29,  6000] loss: 1.105\n",
            "[29,  8000] loss: 1.136\n",
            "[29, 10000] loss: 1.137\n",
            "[29, 12000] loss: 1.108\n",
            "[30,  2000] loss: 1.102\n",
            "[30,  4000] loss: 1.113\n",
            "[30,  6000] loss: 1.089\n",
            "[30,  8000] loss: 1.114\n",
            "[30, 10000] loss: 1.118\n",
            "[30, 12000] loss: 1.117\n",
            "[31,  2000] loss: 1.087\n",
            "[31,  4000] loss: 1.103\n",
            "[31,  6000] loss: 1.102\n",
            "[31,  8000] loss: 1.117\n",
            "[31, 10000] loss: 1.106\n",
            "[31, 12000] loss: 1.101\n",
            "[32,  2000] loss: 1.108\n",
            "[32,  4000] loss: 1.122\n",
            "[32,  6000] loss: 1.128\n",
            "[32,  8000] loss: 1.119\n",
            "[32, 10000] loss: 1.071\n",
            "[32, 12000] loss: 1.095\n",
            "[33,  2000] loss: 1.102\n",
            "[33,  4000] loss: 1.089\n",
            "[33,  6000] loss: 1.109\n",
            "[33,  8000] loss: 1.107\n",
            "[33, 10000] loss: 1.117\n",
            "[33, 12000] loss: 1.088\n",
            "[34,  2000] loss: 1.094\n",
            "[34,  4000] loss: 1.103\n",
            "[34,  6000] loss: 1.094\n",
            "[34,  8000] loss: 1.106\n",
            "[34, 10000] loss: 1.108\n",
            "[34, 12000] loss: 1.118\n",
            "[35,  2000] loss: 1.111\n",
            "[35,  4000] loss: 1.101\n",
            "[35,  6000] loss: 1.082\n",
            "[35,  8000] loss: 1.094\n",
            "[35, 10000] loss: 1.102\n",
            "[35, 12000] loss: 1.106\n",
            "[36,  2000] loss: 1.097\n",
            "[36,  4000] loss: 1.095\n",
            "[36,  6000] loss: 1.088\n",
            "[36,  8000] loss: 1.088\n",
            "[36, 10000] loss: 1.082\n",
            "[36, 12000] loss: 1.102\n",
            "[37,  2000] loss: 1.096\n",
            "[37,  4000] loss: 1.079\n",
            "[37,  6000] loss: 1.075\n",
            "[37,  8000] loss: 1.101\n",
            "[37, 10000] loss: 1.108\n",
            "[37, 12000] loss: 1.084\n",
            "[38,  2000] loss: 1.084\n",
            "[38,  4000] loss: 1.080\n",
            "[38,  6000] loss: 1.100\n",
            "[38,  8000] loss: 1.097\n",
            "[38, 10000] loss: 1.085\n",
            "[38, 12000] loss: 1.093\n",
            "[39,  2000] loss: 1.082\n",
            "[39,  4000] loss: 1.118\n",
            "[39,  6000] loss: 1.065\n",
            "[39,  8000] loss: 1.100\n",
            "[39, 10000] loss: 1.071\n",
            "[39, 12000] loss: 1.098\n",
            "[40,  2000] loss: 1.065\n",
            "[40,  4000] loss: 1.098\n",
            "[40,  6000] loss: 1.068\n",
            "[40,  8000] loss: 1.104\n",
            "[40, 10000] loss: 1.110\n",
            "[40, 12000] loss: 1.079\n",
            "[41,  2000] loss: 1.082\n",
            "[41,  4000] loss: 1.085\n",
            "[41,  6000] loss: 1.058\n",
            "[41,  8000] loss: 1.087\n",
            "[41, 10000] loss: 1.083\n",
            "[41, 12000] loss: 1.090\n",
            "[42,  2000] loss: 1.063\n",
            "[42,  4000] loss: 1.092\n",
            "[42,  6000] loss: 1.091\n",
            "[42,  8000] loss: 1.085\n",
            "[42, 10000] loss: 1.073\n",
            "[42, 12000] loss: 1.081\n",
            "[43,  2000] loss: 1.063\n",
            "[43,  4000] loss: 1.083\n",
            "[43,  6000] loss: 1.062\n",
            "[43,  8000] loss: 1.079\n",
            "[43, 10000] loss: 1.068\n",
            "[43, 12000] loss: 1.101\n",
            "[44,  2000] loss: 1.073\n",
            "[44,  4000] loss: 1.053\n",
            "[44,  6000] loss: 1.077\n",
            "[44,  8000] loss: 1.099\n",
            "[44, 10000] loss: 1.061\n",
            "[44, 12000] loss: 1.102\n",
            "[45,  2000] loss: 1.093\n",
            "[45,  4000] loss: 1.059\n",
            "[45,  6000] loss: 1.094\n",
            "[45,  8000] loss: 1.095\n",
            "[45, 10000] loss: 1.053\n",
            "[45, 12000] loss: 1.071\n",
            "[46,  2000] loss: 1.061\n",
            "[46,  4000] loss: 1.061\n",
            "[46,  6000] loss: 1.088\n",
            "[46,  8000] loss: 1.053\n",
            "[46, 10000] loss: 1.104\n",
            "[46, 12000] loss: 1.068\n",
            "[47,  2000] loss: 1.063\n",
            "[47,  4000] loss: 1.068\n",
            "[47,  6000] loss: 1.072\n",
            "[47,  8000] loss: 1.061\n",
            "[47, 10000] loss: 1.077\n",
            "[47, 12000] loss: 1.068\n",
            "[48,  2000] loss: 1.061\n",
            "[48,  4000] loss: 1.064\n",
            "[48,  6000] loss: 1.042\n",
            "[48,  8000] loss: 1.070\n",
            "[48, 10000] loss: 1.080\n",
            "[48, 12000] loss: 1.075\n",
            "[49,  2000] loss: 1.067\n",
            "[49,  4000] loss: 1.061\n",
            "[49,  6000] loss: 1.070\n",
            "[49,  8000] loss: 1.061\n",
            "[49, 10000] loss: 1.071\n",
            "[49, 12000] loss: 1.077\n",
            "[50,  2000] loss: 1.062\n",
            "[50,  4000] loss: 1.062\n",
            "[50,  6000] loss: 1.057\n",
            "[50,  8000] loss: 1.067\n",
            "[50, 10000] loss: 1.056\n",
            "[50, 12000] loss: 1.070\n",
            "Finished Training\n"
          ]
        }
      ]
    },
    {
      "cell_type": "code",
      "metadata": {
        "id": "nizbsvw9poC6",
        "colab": {
          "base_uri": "https://localhost:8080/",
          "height": 155
        },
        "outputId": "801b7861-4174-47ae-819f-90d3f8f5cae9"
      },
      "source": [
        "dataiter = iter(testloader)\n",
        "images, labels = next(iter(dataiter))\n",
        "\n",
        "# print images\n",
        "imshow(torchvision.utils.make_grid(images))\n",
        "print('GroundTruth: ', ' '.join('%5s' % classes[labels[j]] for j in range(4)))"
      ],
      "execution_count": null,
      "outputs": [
        {
          "output_type": "stream",
          "name": "stdout",
          "text": [
            "GroundTruth:   deer   dog   car   cat\n"
          ]
        },
        {
          "output_type": "display_data",
          "data": {
            "text/plain": [
              "<Figure size 432x288 with 1 Axes>"
            ],
            "image/png": "[encoded data removed]"
          },
          "metadata": {
            "needs_background": "light"
          }
        }
      ]
    },
    {
      "cell_type": "markdown",
      "metadata": {
        "id": "DAx4QPHVpoC8"
      },
      "source": [
        "Okay, now let us see what the neural network thinks these examples above are:\n",
        "\n"
      ]
    },
    {
      "cell_type": "code",
      "metadata": {
        "id": "HVLjlssWpoC9"
      },
      "source": [
        "outputs = net(images.to(device))"
      ],
      "execution_count": null,
      "outputs": []
    },
    {
      "cell_type": "markdown",
      "metadata": {
        "id": "u8OTHZEApoC_"
      },
      "source": [
        "The outputs are energies for the 10 classes.\n",
        "Higher the energy for a class, the more the network\n",
        "thinks that the image is of the particular class.\n",
        "So, let's get the index of the highest energy:\n",
        "\n"
      ]
    },
    {
      "cell_type": "code",
      "metadata": {
        "id": "ABRIDW3lpoDA",
        "colab": {
          "base_uri": "https://localhost:8080/"
        },
        "outputId": "f81bec10-b42c-455d-862a-f9cc84a76a2d"
      },
      "source": [
        "_, predicted = torch.max(outputs, 1)\n",
        "\n",
        "print('Predicted: ', ' '.join('%5s' % classes[predicted[j]]\n",
        "                              for j in range(4)))"
      ],
      "execution_count": null,
      "outputs": [
        {
          "output_type": "stream",
          "name": "stdout",
          "text": [
            "Predicted:   frog  frog   car   cat\n"
          ]
        }
      ]
    },
    {
      "cell_type": "markdown",
      "metadata": {
        "id": "2TV0TXL1poDC"
      },
      "source": [
        "The results seem pretty good.\n",
        "\n",
        "Let us look at how the network performs on the whole dataset.\n",
        "\n"
      ]
    },
    {
      "cell_type": "code",
      "metadata": {
        "id": "SZ4-5CESpoDD",
        "colab": {
          "base_uri": "https://localhost:8080/"
        },
        "outputId": "bae72c5d-d69a-4aa5-c88c-5e7fc0e63edb"
      },
      "source": [
        "correct = 0\n",
        "total = 0\n",
        "with torch.no_grad():\n",
        "    for data in testloader:\n",
        "        images, labels = data\n",
        "        images = images.to(device)\n",
        "        labels = labels.to(device)\n",
        "        outputs = net(images)\n",
        "        _, predicted = torch.max(outputs.data, 1)\n",
        "        total += labels.size(0)\n",
        "        correct += (predicted == labels).sum().item()\n",
        "\n",
        "print('Accuracy of the network on the 10000 test images: %d %%' % (\n",
        "    100 * correct / total))"
      ],
      "execution_count": null,
      "outputs": [
        {
          "output_type": "stream",
          "name": "stdout",
          "text": [
            "Accuracy of the network on the 10000 test images: 69 %\n"
          ]
        }
      ]
    },
    {
      "cell_type": "markdown",
      "metadata": {
        "id": "eDdwPBl8poDF"
      },
      "source": [
        "That looks waaay better than chance, which is 10% accuracy (randomly picking\n",
        "a class out of 10 classes).\n",
        "Seems like the network learnt something.\n",
        "\n",
        "Hmmm, what are the classes that performed well, and the classes that did\n",
        "not perform well:\n",
        "\n"
      ]
    },
    {
      "cell_type": "code",
      "metadata": {
        "id": "pDNFuDEDpoDG",
        "colab": {
          "base_uri": "https://localhost:8080/"
        },
        "outputId": "2421c68a-5a58-449b-a930-a4d8fae4789d"
      },
      "source": [
        "class_correct = list(0. for i in range(10))\n",
        "class_total = list(0. for i in range(10))\n",
        "with torch.no_grad():\n",
        "    for data in testloader:\n",
        "        images, labels = data\n",
        "        images = images.to(device)\n",
        "        labels = labels.to(device)\n",
        "        outputs = net(images)\n",
        "        _, predicted = torch.max(outputs, 1)\n",
        "        c = (predicted == labels).squeeze()\n",
        "        for i in range(4):\n",
        "            label = labels[i]\n",
        "            class_correct[label] += c[i].item()\n",
        "            class_total[label] += 1\n",
        "\n",
        "\n",
        "for i in range(10):\n",
        "    print('Accuracy of %5s : %2d %%' % (\n",
        "        classes[i], 100 * class_correct[i] / class_total[i]))"
      ],
      "execution_count": null,
      "outputs": [
        {
          "output_type": "stream",
          "name": "stdout",
          "text": [
            "Accuracy of plane : 70 %\n",
            "Accuracy of   car : 81 %\n",
            "Accuracy of  bird : 62 %\n",
            "Accuracy of   cat : 61 %\n",
            "Accuracy of  deer : 62 %\n",
            "Accuracy of   dog : 61 %\n",
            "Accuracy of  frog : 83 %\n",
            "Accuracy of horse : 72 %\n",
            "Accuracy of  ship : 73 %\n",
            "Accuracy of truck : 68 %\n"
          ]
        }
      ]
    },
    {
      "cell_type": "code",
      "source": [],
      "metadata": {
        "id": "M2Zgvw5XDjCW"
      },
      "execution_count": null,
      "outputs": []
    }
  ]
}