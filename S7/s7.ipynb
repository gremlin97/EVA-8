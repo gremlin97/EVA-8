{
  "nbformat": 4,
  "nbformat_minor": 0,
  "metadata": {
    "colab": {
      "provenance": [],
      "authorship_tag": "ABX9TyM+WVUwqXPwCtSUWSpBt/9a",
      "include_colab_link": true
    },
    "kernelspec": {
      "name": "python3",
      "display_name": "Python 3"
    },
    "language_info": {
      "name": "python"
    },
    "gpuClass": "standard",
    "accelerator": "GPU",
    "widgets": {
      "application/vnd.jupyter.widget-state+json": {
        "c2401a2c936c4916b4532b103a3ec536": {
          "model_module": "@jupyter-widgets/controls",
          "model_name": "HBoxModel",
          "model_module_version": "1.5.0",
          "state": {
            "_dom_classes": [],
            "_model_module": "@jupyter-widgets/controls",
            "_model_module_version": "1.5.0",
            "_model_name": "HBoxModel",
            "_view_count": null,
            "_view_module": "@jupyter-widgets/controls",
            "_view_module_version": "1.5.0",
            "_view_name": "HBoxView",
            "box_style": "",
            "children": [
              "IPY_MODEL_34c63b3bb5214af0a4a5535bd55a1a76",
              "IPY_MODEL_25861cd862ad4ca8af9a96d3e928c7c4",
              "IPY_MODEL_8ce6522aa4f44ef489174003dc8b9e45"
            ],
            "layout": "IPY_MODEL_5c94adf8d9db44008098ed1c9a671d92"
          }
        },
        "34c63b3bb5214af0a4a5535bd55a1a76": {
          "model_module": "@jupyter-widgets/controls",
          "model_name": "HTMLModel",
          "model_module_version": "1.5.0",
          "state": {
            "_dom_classes": [],
            "_model_module": "@jupyter-widgets/controls",
            "_model_module_version": "1.5.0",
            "_model_name": "HTMLModel",
            "_view_count": null,
            "_view_module": "@jupyter-widgets/controls",
            "_view_module_version": "1.5.0",
            "_view_name": "HTMLView",
            "description": "",
            "description_tooltip": null,
            "layout": "IPY_MODEL_ccc5ed8fa55e49c0a0eaebd4786eb8e6",
            "placeholder": "​",
            "style": "IPY_MODEL_dfaf42413a074328a6bd90de7c4c0d01",
            "value": "100%"
          }
        },
        "25861cd862ad4ca8af9a96d3e928c7c4": {
          "model_module": "@jupyter-widgets/controls",
          "model_name": "FloatProgressModel",
          "model_module_version": "1.5.0",
          "state": {
            "_dom_classes": [],
            "_model_module": "@jupyter-widgets/controls",
            "_model_module_version": "1.5.0",
            "_model_name": "FloatProgressModel",
            "_view_count": null,
            "_view_module": "@jupyter-widgets/controls",
            "_view_module_version": "1.5.0",
            "_view_name": "ProgressView",
            "bar_style": "success",
            "description": "",
            "description_tooltip": null,
            "layout": "IPY_MODEL_2ae3f4b7e4b2423abdb72c42f76deae8",
            "max": 170498071,
            "min": 0,
            "orientation": "horizontal",
            "style": "IPY_MODEL_8935d008fa0e4494989dc3a43e42d729",
            "value": 170498071
          }
        },
        "8ce6522aa4f44ef489174003dc8b9e45": {
          "model_module": "@jupyter-widgets/controls",
          "model_name": "HTMLModel",
          "model_module_version": "1.5.0",
          "state": {
            "_dom_classes": [],
            "_model_module": "@jupyter-widgets/controls",
            "_model_module_version": "1.5.0",
            "_model_name": "HTMLModel",
            "_view_count": null,
            "_view_module": "@jupyter-widgets/controls",
            "_view_module_version": "1.5.0",
            "_view_name": "HTMLView",
            "description": "",
            "description_tooltip": null,
            "layout": "IPY_MODEL_f75762d965524a6382532fb1295597a3",
            "placeholder": "​",
            "style": "IPY_MODEL_366036059c55431588fb2ab4337d7541",
            "value": " 170498071/170498071 [00:01&lt;00:00, 108947339.10it/s]"
          }
        },
        "5c94adf8d9db44008098ed1c9a671d92": {
          "model_module": "@jupyter-widgets/base",
          "model_name": "LayoutModel",
          "model_module_version": "1.2.0",
          "state": {
            "_model_module": "@jupyter-widgets/base",
            "_model_module_version": "1.2.0",
            "_model_name": "LayoutModel",
            "_view_count": null,
            "_view_module": "@jupyter-widgets/base",
            "_view_module_version": "1.2.0",
            "_view_name": "LayoutView",
            "align_content": null,
            "align_items": null,
            "align_self": null,
            "border": null,
            "bottom": null,
            "display": null,
            "flex": null,
            "flex_flow": null,
            "grid_area": null,
            "grid_auto_columns": null,
            "grid_auto_flow": null,
            "grid_auto_rows": null,
            "grid_column": null,
            "grid_gap": null,
            "grid_row": null,
            "grid_template_areas": null,
            "grid_template_columns": null,
            "grid_template_rows": null,
            "height": null,
            "justify_content": null,
            "justify_items": null,
            "left": null,
            "margin": null,
            "max_height": null,
            "max_width": null,
            "min_height": null,
            "min_width": null,
            "object_fit": null,
            "object_position": null,
            "order": null,
            "overflow": null,
            "overflow_x": null,
            "overflow_y": null,
            "padding": null,
            "right": null,
            "top": null,
            "visibility": null,
            "width": null
          }
        },
        "ccc5ed8fa55e49c0a0eaebd4786eb8e6": {
          "model_module": "@jupyter-widgets/base",
          "model_name": "LayoutModel",
          "model_module_version": "1.2.0",
          "state": {
            "_model_module": "@jupyter-widgets/base",
            "_model_module_version": "1.2.0",
            "_model_name": "LayoutModel",
            "_view_count": null,
            "_view_module": "@jupyter-widgets/base",
            "_view_module_version": "1.2.0",
            "_view_name": "LayoutView",
            "align_content": null,
            "align_items": null,
            "align_self": null,
            "border": null,
            "bottom": null,
            "display": null,
            "flex": null,
            "flex_flow": null,
            "grid_area": null,
            "grid_auto_columns": null,
            "grid_auto_flow": null,
            "grid_auto_rows": null,
            "grid_column": null,
            "grid_gap": null,
            "grid_row": null,
            "grid_template_areas": null,
            "grid_template_columns": null,
            "grid_template_rows": null,
            "height": null,
            "justify_content": null,
            "justify_items": null,
            "left": null,
            "margin": null,
            "max_height": null,
            "max_width": null,
            "min_height": null,
            "min_width": null,
            "object_fit": null,
            "object_position": null,
            "order": null,
            "overflow": null,
            "overflow_x": null,
            "overflow_y": null,
            "padding": null,
            "right": null,
            "top": null,
            "visibility": null,
            "width": null
          }
        },
        "dfaf42413a074328a6bd90de7c4c0d01": {
          "model_module": "@jupyter-widgets/controls",
          "model_name": "DescriptionStyleModel",
          "model_module_version": "1.5.0",
          "state": {
            "_model_module": "@jupyter-widgets/controls",
            "_model_module_version": "1.5.0",
            "_model_name": "DescriptionStyleModel",
            "_view_count": null,
            "_view_module": "@jupyter-widgets/base",
            "_view_module_version": "1.2.0",
            "_view_name": "StyleView",
            "description_width": ""
          }
        },
        "2ae3f4b7e4b2423abdb72c42f76deae8": {
          "model_module": "@jupyter-widgets/base",
          "model_name": "LayoutModel",
          "model_module_version": "1.2.0",
          "state": {
            "_model_module": "@jupyter-widgets/base",
            "_model_module_version": "1.2.0",
            "_model_name": "LayoutModel",
            "_view_count": null,
            "_view_module": "@jupyter-widgets/base",
            "_view_module_version": "1.2.0",
            "_view_name": "LayoutView",
            "align_content": null,
            "align_items": null,
            "align_self": null,
            "border": null,
            "bottom": null,
            "display": null,
            "flex": null,
            "flex_flow": null,
            "grid_area": null,
            "grid_auto_columns": null,
            "grid_auto_flow": null,
            "grid_auto_rows": null,
            "grid_column": null,
            "grid_gap": null,
            "grid_row": null,
            "grid_template_areas": null,
            "grid_template_columns": null,
            "grid_template_rows": null,
            "height": null,
            "justify_content": null,
            "justify_items": null,
            "left": null,
            "margin": null,
            "max_height": null,
            "max_width": null,
            "min_height": null,
            "min_width": null,
            "object_fit": null,
            "object_position": null,
            "order": null,
            "overflow": null,
            "overflow_x": null,
            "overflow_y": null,
            "padding": null,
            "right": null,
            "top": null,
            "visibility": null,
            "width": null
          }
        },
        "8935d008fa0e4494989dc3a43e42d729": {
          "model_module": "@jupyter-widgets/controls",
          "model_name": "ProgressStyleModel",
          "model_module_version": "1.5.0",
          "state": {
            "_model_module": "@jupyter-widgets/controls",
            "_model_module_version": "1.5.0",
            "_model_name": "ProgressStyleModel",
            "_view_count": null,
            "_view_module": "@jupyter-widgets/base",
            "_view_module_version": "1.2.0",
            "_view_name": "StyleView",
            "bar_color": null,
            "description_width": ""
          }
        },
        "f75762d965524a6382532fb1295597a3": {
          "model_module": "@jupyter-widgets/base",
          "model_name": "LayoutModel",
          "model_module_version": "1.2.0",
          "state": {
            "_model_module": "@jupyter-widgets/base",
            "_model_module_version": "1.2.0",
            "_model_name": "LayoutModel",
            "_view_count": null,
            "_view_module": "@jupyter-widgets/base",
            "_view_module_version": "1.2.0",
            "_view_name": "LayoutView",
            "align_content": null,
            "align_items": null,
            "align_self": null,
            "border": null,
            "bottom": null,
            "display": null,
            "flex": null,
            "flex_flow": null,
            "grid_area": null,
            "grid_auto_columns": null,
            "grid_auto_flow": null,
            "grid_auto_rows": null,
            "grid_column": null,
            "grid_gap": null,
            "grid_row": null,
            "grid_template_areas": null,
            "grid_template_columns": null,
            "grid_template_rows": null,
            "height": null,
            "justify_content": null,
            "justify_items": null,
            "left": null,
            "margin": null,
            "max_height": null,
            "max_width": null,
            "min_height": null,
            "min_width": null,
            "object_fit": null,
            "object_position": null,
            "order": null,
            "overflow": null,
            "overflow_x": null,
            "overflow_y": null,
            "padding": null,
            "right": null,
            "top": null,
            "visibility": null,
            "width": null
          }
        },
        "366036059c55431588fb2ab4337d7541": {
          "model_module": "@jupyter-widgets/controls",
          "model_name": "DescriptionStyleModel",
          "model_module_version": "1.5.0",
          "state": {
            "_model_module": "@jupyter-widgets/controls",
            "_model_module_version": "1.5.0",
            "_model_name": "DescriptionStyleModel",
            "_view_count": null,
            "_view_module": "@jupyter-widgets/base",
            "_view_module_version": "1.2.0",
            "_view_name": "StyleView",
            "description_width": ""
          }
        }
      }
    }
  },
  "cells": [
    {
      "cell_type": "markdown",
      "metadata": {
        "id": "view-in-github",
        "colab_type": "text"
      },
      "source": [
        "<a href=\"https://colab.research.google.com/github/gremlin97/EVA-8/blob/main/S7/s7.ipynb\" target=\"_parent\"><img src=\"https://colab.research.google.com/assets/colab-badge.svg\" alt=\"Open In Colab\"/></a>"
      ]
    },
    {
      "cell_type": "code",
      "execution_count": 1,
      "metadata": {
        "colab": {
          "base_uri": "https://localhost:8080/"
        },
        "id": "rfp3eI9QL3_E",
        "outputId": "91ee74b9-0bf8-438d-d87a-d1f30443def5"
      },
      "outputs": [
        {
          "output_type": "stream",
          "name": "stdout",
          "text": [
            "Cloning into 'EVA-Utils'...\n",
            "remote: Enumerating objects: 22, done.\u001b[K\n",
            "remote: Counting objects: 100% (22/22), done.\u001b[K\n",
            "remote: Compressing objects: 100% (18/18), done.\u001b[K\n",
            "remote: Total 22 (delta 6), reused 0 (delta 0), pack-reused 0\u001b[K\n",
            "Unpacking objects: 100% (22/22), 6.61 KiB | 1.10 MiB/s, done.\n"
          ]
        }
      ],
      "source": [
        "!git clone https://github.com/gremlin97/EVA-Utils"
      ]
    },
    {
      "cell_type": "code",
      "source": [
        "import albumentations as A\n",
        "from albumentations.pytorch import ToTensorV2\n",
        "import torch\n",
        "import torch.nn as nn\n",
        "import torch.nn.functional as F\n",
        "import torchvision\n",
        "import torchvision.transforms as transforms\n",
        "import matplotlib.pyplot as plt\n",
        "import numpy as np\n",
        "import torch.optim as optim"
      ],
      "metadata": {
        "id": "hxTOkNSQazfj"
      },
      "execution_count": 2,
      "outputs": []
    },
    {
      "cell_type": "code",
      "source": [
        "%cd EVA-Utils"
      ],
      "metadata": {
        "colab": {
          "base_uri": "https://localhost:8080/"
        },
        "id": "mPU16eKHCqMX",
        "outputId": "c016d699-a68b-4ec4-b87d-f0091133f5ad"
      },
      "execution_count": 3,
      "outputs": [
        {
          "output_type": "stream",
          "name": "stdout",
          "text": [
            "/content/EVA-Utils\n"
          ]
        }
      ]
    },
    {
      "cell_type": "code",
      "source": [
        "from main import *\n",
        "from utils import *"
      ],
      "metadata": {
        "id": "d8M8jmJeFL9L",
        "colab": {
          "base_uri": "https://localhost:8080/",
          "height": 156,
          "referenced_widgets": [
            "c2401a2c936c4916b4532b103a3ec536",
            "34c63b3bb5214af0a4a5535bd55a1a76",
            "25861cd862ad4ca8af9a96d3e928c7c4",
            "8ce6522aa4f44ef489174003dc8b9e45",
            "5c94adf8d9db44008098ed1c9a671d92",
            "ccc5ed8fa55e49c0a0eaebd4786eb8e6",
            "dfaf42413a074328a6bd90de7c4c0d01",
            "2ae3f4b7e4b2423abdb72c42f76deae8",
            "8935d008fa0e4494989dc3a43e42d729",
            "f75762d965524a6382532fb1295597a3",
            "366036059c55431588fb2ab4337d7541"
          ]
        },
        "outputId": "22ba7394-4f1e-44eb-f9e2-15b8574326a3"
      },
      "execution_count": 4,
      "outputs": [
        {
          "output_type": "stream",
          "name": "stderr",
          "text": [
            "/usr/local/lib/python3.8/dist-packages/albumentations/augmentations/dropout/cutout.py:50: FutureWarning: Cutout has been deprecated. Please use CoarseDropout\n",
            "  warnings.warn(\n"
          ]
        },
        {
          "output_type": "stream",
          "name": "stdout",
          "text": [
            "Downloading https://www.cs.toronto.edu/~kriz/cifar-10-python.tar.gz to ./data/cifar-10-python.tar.gz\n"
          ]
        },
        {
          "output_type": "display_data",
          "data": {
            "text/plain": [
              "  0%|          | 0/170498071 [00:00<?, ?it/s]"
            ],
            "application/vnd.jupyter.widget-view+json": {
              "version_major": 2,
              "version_minor": 0,
              "model_id": "c2401a2c936c4916b4532b103a3ec536"
            }
          },
          "metadata": {}
        },
        {
          "output_type": "stream",
          "name": "stdout",
          "text": [
            "Extracting ./data/cifar-10-python.tar.gz to ./data\n",
            "Files already downloaded and verified\n"
          ]
        }
      ]
    },
    {
      "cell_type": "code",
      "source": [
        "trainloader, testloader = init_dataloader(4)\n",
        "optimizer = init_modeloptim(0.001)"
      ],
      "metadata": {
        "id": "cNFzB71235Uu"
      },
      "execution_count": 5,
      "outputs": []
    },
    {
      "cell_type": "code",
      "source": [
        "# get some random training images\n",
        "dataiter = iter(trainloader)\n",
        "images, labels = next(iter(dataiter))\n",
        "\n",
        "# show images\n",
        "imshow(torchvision.utils.make_grid(images))\n",
        "# print labels\n",
        "print(' '.join('%5s' % classes[labels[j]] for j in range(4)))"
      ],
      "metadata": {
        "colab": {
          "base_uri": "https://localhost:8080/",
          "height": 155
        },
        "id": "OpUn5VXVOQa0",
        "outputId": "5772b081-b7ca-4cde-a4fa-37755ec1f279"
      },
      "execution_count": 6,
      "outputs": [
        {
          "output_type": "stream",
          "name": "stdout",
          "text": [
            " frog  frog   car  bird\n"
          ]
        },
        {
          "output_type": "display_data",
          "data": {
            "text/plain": [
              "<Figure size 432x288 with 1 Axes>"
            ],
            "image/png": "[encoded data removed]"
          },
          "metadata": {
            "needs_background": "light"
          }
        }
      ]
    },
    {
      "cell_type": "code",
      "source": [
        "from torchsummary import summary\n",
        "summary(net.to(device),(3,32,32))"
      ],
      "metadata": {
        "colab": {
          "base_uri": "https://localhost:8080/"
        },
        "id": "Lml-y2sHTgx6",
        "outputId": "e2921225-bd9b-47ed-a1a9-b8f5799d8f10"
      },
      "execution_count": 7,
      "outputs": [
        {
          "output_type": "stream",
          "name": "stdout",
          "text": [
            "----------------------------------------------------------------\n",
            "        Layer (type)               Output Shape         Param #\n",
            "================================================================\n",
            "            Conv2d-1           [-1, 64, 32, 32]           1,728\n",
            "       BatchNorm2d-2           [-1, 64, 32, 32]             128\n",
            "            Conv2d-3           [-1, 64, 32, 32]          36,864\n",
            "       BatchNorm2d-4           [-1, 64, 32, 32]             128\n",
            "            Conv2d-5           [-1, 64, 32, 32]          36,864\n",
            "       BatchNorm2d-6           [-1, 64, 32, 32]             128\n",
            "        BasicBlock-7           [-1, 64, 32, 32]               0\n",
            "            Conv2d-8           [-1, 64, 32, 32]          36,864\n",
            "       BatchNorm2d-9           [-1, 64, 32, 32]             128\n",
            "           Conv2d-10           [-1, 64, 32, 32]          36,864\n",
            "      BatchNorm2d-11           [-1, 64, 32, 32]             128\n",
            "       BasicBlock-12           [-1, 64, 32, 32]               0\n",
            "           Conv2d-13          [-1, 128, 16, 16]          73,728\n",
            "      BatchNorm2d-14          [-1, 128, 16, 16]             256\n",
            "           Conv2d-15          [-1, 128, 16, 16]         147,456\n",
            "      BatchNorm2d-16          [-1, 128, 16, 16]             256\n",
            "           Conv2d-17          [-1, 128, 16, 16]           8,192\n",
            "      BatchNorm2d-18          [-1, 128, 16, 16]             256\n",
            "       BasicBlock-19          [-1, 128, 16, 16]               0\n",
            "           Conv2d-20          [-1, 128, 16, 16]         147,456\n",
            "      BatchNorm2d-21          [-1, 128, 16, 16]             256\n",
            "           Conv2d-22          [-1, 128, 16, 16]         147,456\n",
            "      BatchNorm2d-23          [-1, 128, 16, 16]             256\n",
            "       BasicBlock-24          [-1, 128, 16, 16]               0\n",
            "           Conv2d-25            [-1, 256, 8, 8]         294,912\n",
            "      BatchNorm2d-26            [-1, 256, 8, 8]             512\n",
            "           Conv2d-27            [-1, 256, 8, 8]         589,824\n",
            "      BatchNorm2d-28            [-1, 256, 8, 8]             512\n",
            "           Conv2d-29            [-1, 256, 8, 8]          32,768\n",
            "      BatchNorm2d-30            [-1, 256, 8, 8]             512\n",
            "       BasicBlock-31            [-1, 256, 8, 8]               0\n",
            "           Conv2d-32            [-1, 256, 8, 8]         589,824\n",
            "      BatchNorm2d-33            [-1, 256, 8, 8]             512\n",
            "           Conv2d-34            [-1, 256, 8, 8]         589,824\n",
            "      BatchNorm2d-35            [-1, 256, 8, 8]             512\n",
            "       BasicBlock-36            [-1, 256, 8, 8]               0\n",
            "           Conv2d-37            [-1, 512, 4, 4]       1,179,648\n",
            "      BatchNorm2d-38            [-1, 512, 4, 4]           1,024\n",
            "           Conv2d-39            [-1, 512, 4, 4]       2,359,296\n",
            "      BatchNorm2d-40            [-1, 512, 4, 4]           1,024\n",
            "           Conv2d-41            [-1, 512, 4, 4]         131,072\n",
            "      BatchNorm2d-42            [-1, 512, 4, 4]           1,024\n",
            "       BasicBlock-43            [-1, 512, 4, 4]               0\n",
            "           Conv2d-44            [-1, 512, 4, 4]       2,359,296\n",
            "      BatchNorm2d-45            [-1, 512, 4, 4]           1,024\n",
            "           Conv2d-46            [-1, 512, 4, 4]       2,359,296\n",
            "      BatchNorm2d-47            [-1, 512, 4, 4]           1,024\n",
            "       BasicBlock-48            [-1, 512, 4, 4]               0\n",
            "           Linear-49                   [-1, 10]           5,130\n",
            "================================================================\n",
            "Total params: 11,173,962\n",
            "Trainable params: 11,173,962\n",
            "Non-trainable params: 0\n",
            "----------------------------------------------------------------\n",
            "Input size (MB): 0.01\n",
            "Forward/backward pass size (MB): 11.25\n",
            "Params size (MB): 42.63\n",
            "Estimated Total Size (MB): 53.89\n",
            "----------------------------------------------------------------\n"
          ]
        }
      ]
    },
    {
      "cell_type": "code",
      "source": [
        "train(20, optimizer, trainloader)"
      ],
      "metadata": {
        "colab": {
          "base_uri": "https://localhost:8080/"
        },
        "id": "pKF_zFyYwKAX",
        "outputId": "1c4471d0-027a-48f1-9081-1cd6bd9d6eb1"
      },
      "execution_count": 8,
      "outputs": [
        {
          "output_type": "stream",
          "name": "stdout",
          "text": [
            "[1,  2000] loss: 2.057\n",
            "[1,  4000] loss: 1.749\n",
            "[1,  6000] loss: 1.575\n",
            "[1,  8000] loss: 1.408\n",
            "[1, 10000] loss: 1.310\n",
            "[1, 12000] loss: 1.193\n",
            "Accuracy is: 45.372\n",
            "[2,  2000] loss: 1.111\n",
            "[2,  4000] loss: 1.041\n",
            "[2,  6000] loss: 1.001\n",
            "[2,  8000] loss: 0.969\n",
            "[2, 10000] loss: 0.946\n",
            "[2, 12000] loss: 0.921\n",
            "Accuracy is: 64.956\n",
            "[3,  2000] loss: 0.806\n",
            "[3,  4000] loss: 0.812\n",
            "[3,  6000] loss: 0.812\n",
            "[3,  8000] loss: 0.782\n",
            "[3, 10000] loss: 0.776\n",
            "[3, 12000] loss: 0.742\n",
            "Accuracy is: 72.326\n",
            "[4,  2000] loss: 0.648\n",
            "[4,  4000] loss: 0.681\n",
            "[4,  6000] loss: 0.646\n",
            "[4,  8000] loss: 0.664\n",
            "[4, 10000] loss: 0.653\n",
            "[4, 12000] loss: 0.652\n",
            "Accuracy is: 76.934\n",
            "[5,  2000] loss: 0.549\n",
            "[5,  4000] loss: 0.563\n",
            "[5,  6000] loss: 0.571\n",
            "[5,  8000] loss: 0.572\n",
            "[5, 10000] loss: 0.545\n",
            "[5, 12000] loss: 0.583\n",
            "Accuracy is: 80.15\n",
            "[6,  2000] loss: 0.456\n",
            "[6,  4000] loss: 0.479\n",
            "[6,  6000] loss: 0.485\n",
            "[6,  8000] loss: 0.482\n",
            "[6, 10000] loss: 0.492\n",
            "[6, 12000] loss: 0.498\n",
            "Accuracy is: 83.322\n",
            "[7,  2000] loss: 0.389\n",
            "[7,  4000] loss: 0.389\n",
            "[7,  6000] loss: 0.410\n",
            "[7,  8000] loss: 0.404\n",
            "[7, 10000] loss: 0.424\n",
            "[7, 12000] loss: 0.422\n",
            "Accuracy is: 85.704\n",
            "[8,  2000] loss: 0.334\n",
            "[8,  4000] loss: 0.347\n",
            "[8,  6000] loss: 0.345\n",
            "[8,  8000] loss: 0.386\n",
            "[8, 10000] loss: 0.375\n",
            "[8, 12000] loss: 0.357\n",
            "Accuracy is: 87.638\n",
            "[9,  2000] loss: 0.291\n",
            "[9,  4000] loss: 0.301\n",
            "[9,  6000] loss: 0.314\n",
            "[9,  8000] loss: 0.310\n",
            "[9, 10000] loss: 0.329\n",
            "[9, 12000] loss: 0.310\n",
            "Accuracy is: 89.24\n",
            "[10,  2000] loss: 0.245\n",
            "[10,  4000] loss: 0.259\n",
            "[10,  6000] loss: 0.270\n",
            "[10,  8000] loss: 0.259\n",
            "[10, 10000] loss: 0.283\n",
            "[10, 12000] loss: 0.281\n",
            "Accuracy is: 90.798\n",
            "[11,  2000] loss: 0.208\n",
            "[11,  4000] loss: 0.222\n",
            "[11,  6000] loss: 0.222\n",
            "[11,  8000] loss: 0.241\n",
            "[11, 10000] loss: 0.240\n",
            "[11, 12000] loss: 0.262\n",
            "Accuracy is: 91.966\n",
            "[12,  2000] loss: 0.178\n",
            "[12,  4000] loss: 0.190\n",
            "[12,  6000] loss: 0.200\n",
            "[12,  8000] loss: 0.202\n",
            "[12, 10000] loss: 0.207\n",
            "[12, 12000] loss: 0.206\n",
            "Accuracy is: 93.096\n",
            "[13,  2000] loss: 0.166\n",
            "[13,  4000] loss: 0.168\n",
            "[13,  6000] loss: 0.177\n",
            "[13,  8000] loss: 0.183\n",
            "[13, 10000] loss: 0.194\n",
            "[13, 12000] loss: 0.188\n",
            "Accuracy is: 93.874\n",
            "[14,  2000] loss: 0.145\n",
            "[14,  4000] loss: 0.161\n",
            "[14,  6000] loss: 0.167\n",
            "[14,  8000] loss: 0.161\n",
            "[14, 10000] loss: 0.163\n",
            "[14, 12000] loss: 0.164\n",
            "Accuracy is: 94.58\n",
            "[15,  2000] loss: 0.140\n",
            "[15,  4000] loss: 0.134\n",
            "[15,  6000] loss: 0.156\n",
            "[15,  8000] loss: 0.154\n",
            "[15, 10000] loss: 0.148\n",
            "[15, 12000] loss: 0.145\n",
            "Accuracy is: 94.986\n",
            "[16,  2000] loss: 0.125\n",
            "[16,  4000] loss: 0.128\n",
            "[16,  6000] loss: 0.123\n",
            "[16,  8000] loss: 0.137\n",
            "[16, 10000] loss: 0.143\n",
            "[16, 12000] loss: 0.148\n",
            "Accuracy is: 95.442\n",
            "[17,  2000] loss: 0.123\n",
            "[17,  4000] loss: 0.111\n",
            "[17,  6000] loss: 0.117\n",
            "[17,  8000] loss: 0.112\n",
            "[17, 10000] loss: 0.133\n",
            "[17, 12000] loss: 0.131\n",
            "Accuracy is: 96.01\n",
            "[18,  2000] loss: 0.104\n",
            "[18,  4000] loss: 0.101\n",
            "[18,  6000] loss: 0.118\n",
            "[18,  8000] loss: 0.111\n",
            "[18, 10000] loss: 0.125\n",
            "[18, 12000] loss: 0.112\n",
            "Accuracy is: 96.208\n",
            "[19,  2000] loss: 0.093\n",
            "[19,  4000] loss: 0.103\n",
            "[19,  6000] loss: 0.099\n",
            "[19,  8000] loss: 0.100\n",
            "[19, 10000] loss: 0.107\n",
            "[19, 12000] loss: 0.103\n",
            "Accuracy is: 96.576\n",
            "[20,  2000] loss: 0.100\n",
            "[20,  4000] loss: 0.091\n",
            "[20,  6000] loss: 0.094\n",
            "[20,  8000] loss: 0.095\n",
            "[20, 10000] loss: 0.103\n",
            "[20, 12000] loss: 0.113\n",
            "Accuracy is: 96.59\n",
            "Finished Training\n"
          ]
        }
      ]
    },
    {
      "cell_type": "code",
      "source": [
        "test()"
      ],
      "metadata": {
        "colab": {
          "base_uri": "https://localhost:8080/"
        },
        "id": "-vZlC9Uoi8ox",
        "outputId": "d33818b9-cc12-4fbf-ecb8-eff7245b8b12"
      },
      "execution_count": 15,
      "outputs": [
        {
          "output_type": "stream",
          "name": "stdout",
          "text": [
            "Accuracy of the network on the 10000 test images: 81 %\n"
          ]
        }
      ]
    }
  ]
}