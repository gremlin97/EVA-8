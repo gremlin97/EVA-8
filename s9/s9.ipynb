{
  "cells": [
    {
      "cell_type": "markdown",
      "metadata": {
        "id": "view-in-github",
        "colab_type": "text"
      },
      "source": [
        "<a href=\"https://colab.research.google.com/github/gremlin97/EVA-8/blob/main/s9/s9.ipynb\" target=\"_parent\"><img src=\"https://colab.research.google.com/assets/colab-badge.svg\" alt=\"Open In Colab\"/></a>"
      ]
    },
    {
      "cell_type": "code",
      "source": [
        "!pip install torch-lr-finder\n",
        "!git clone https://github.com/gremlin97/EVA-Utils\n",
        "!pip install grad-cam"
      ],
      "metadata": {
        "colab": {
          "base_uri": "https://localhost:8080/"
        },
        "id": "FwOEfxOVEeKg",
        "outputId": "bb853c4f-dd30-49c4-cf3e-abe2018267e7"
      },
      "execution_count": 1,
      "outputs": [
        {
          "output_type": "stream",
          "name": "stdout",
          "text": [
            "Looking in indexes: https://pypi.org/simple, https://us-python.pkg.dev/colab-wheels/public/simple/\n",
            "Collecting torch-lr-finder\n",
            "  Downloading torch_lr_finder-0.2.1-py3-none-any.whl (11 kB)\n",
            "Requirement already satisfied: matplotlib in /usr/local/lib/python3.8/dist-packages (from torch-lr-finder) (3.5.3)\n",
            "Requirement already satisfied: tqdm in /usr/local/lib/python3.8/dist-packages (from torch-lr-finder) (4.64.1)\n",
            "Requirement already satisfied: torch>=0.4.1 in /usr/local/lib/python3.8/dist-packages (from torch-lr-finder) (1.13.1+cu116)\n",
            "Requirement already satisfied: numpy in /usr/local/lib/python3.8/dist-packages (from torch-lr-finder) (1.22.4)\n",
            "Requirement already satisfied: packaging in /usr/local/lib/python3.8/dist-packages (from torch-lr-finder) (23.0)\n",
            "Requirement already satisfied: typing-extensions in /usr/local/lib/python3.8/dist-packages (from torch>=0.4.1->torch-lr-finder) (4.5.0)\n",
            "Requirement already satisfied: pillow>=6.2.0 in /usr/local/lib/python3.8/dist-packages (from matplotlib->torch-lr-finder) (8.4.0)\n",
            "Requirement already satisfied: python-dateutil>=2.7 in /usr/local/lib/python3.8/dist-packages (from matplotlib->torch-lr-finder) (2.8.2)\n",
            "Requirement already satisfied: pyparsing>=2.2.1 in /usr/local/lib/python3.8/dist-packages (from matplotlib->torch-lr-finder) (3.0.9)\n",
            "Requirement already satisfied: cycler>=0.10 in /usr/local/lib/python3.8/dist-packages (from matplotlib->torch-lr-finder) (0.11.0)\n",
            "Requirement already satisfied: kiwisolver>=1.0.1 in /usr/local/lib/python3.8/dist-packages (from matplotlib->torch-lr-finder) (1.4.4)\n",
            "Requirement already satisfied: fonttools>=4.22.0 in /usr/local/lib/python3.8/dist-packages (from matplotlib->torch-lr-finder) (4.38.0)\n",
            "Requirement already satisfied: six>=1.5 in /usr/local/lib/python3.8/dist-packages (from python-dateutil>=2.7->matplotlib->torch-lr-finder) (1.15.0)\n",
            "Installing collected packages: torch-lr-finder\n",
            "Successfully installed torch-lr-finder-0.2.1\n",
            "Cloning into 'EVA-Utils'...\n",
            "remote: Enumerating objects: 105, done.\u001b[K\n",
            "remote: Counting objects: 100% (105/105), done.\u001b[K\n",
            "remote: Compressing objects: 100% (101/101), done.\u001b[K\n",
            "remote: Total 105 (delta 58), reused 0 (delta 0), pack-reused 0\u001b[K\n",
            "Receiving objects: 100% (105/105), 26.12 KiB | 8.71 MiB/s, done.\n",
            "Resolving deltas: 100% (58/58), done.\n",
            "Looking in indexes: https://pypi.org/simple, https://us-python.pkg.dev/colab-wheels/public/simple/\n",
            "Collecting grad-cam\n",
            "  Downloading grad-cam-1.4.6.tar.gz (7.8 MB)\n",
            "\u001b[2K     \u001b[90m━━━━━━━━━━━━━━━━━━━━━━━━━━━━━━━━━━━━━━━━\u001b[0m \u001b[32m7.8/7.8 MB\u001b[0m \u001b[31m50.7 MB/s\u001b[0m eta \u001b[36m0:00:00\u001b[0m\n",
            "\u001b[?25h  Installing build dependencies ... \u001b[?25l\u001b[?25hdone\n",
            "  Getting requirements to build wheel ... \u001b[?25l\u001b[?25hdone\n",
            "  Preparing metadata (pyproject.toml) ... \u001b[?25l\u001b[?25hdone\n",
            "Requirement already satisfied: torchvision>=0.8.2 in /usr/local/lib/python3.8/dist-packages (from grad-cam) (0.14.1+cu116)\n",
            "Requirement already satisfied: tqdm in /usr/local/lib/python3.8/dist-packages (from grad-cam) (4.64.1)\n",
            "Requirement already satisfied: scikit-learn in /usr/local/lib/python3.8/dist-packages (from grad-cam) (1.2.1)\n",
            "Requirement already satisfied: torch>=1.7.1 in /usr/local/lib/python3.8/dist-packages (from grad-cam) (1.13.1+cu116)\n",
            "Requirement already satisfied: Pillow in /usr/local/lib/python3.8/dist-packages (from grad-cam) (8.4.0)\n",
            "Requirement already satisfied: numpy in /usr/local/lib/python3.8/dist-packages (from grad-cam) (1.22.4)\n",
            "Collecting ttach\n",
            "  Downloading ttach-0.0.3-py3-none-any.whl (9.8 kB)\n",
            "Requirement already satisfied: matplotlib in /usr/local/lib/python3.8/dist-packages (from grad-cam) (3.5.3)\n",
            "Requirement already satisfied: opencv-python in /usr/local/lib/python3.8/dist-packages (from grad-cam) (4.6.0.66)\n",
            "Requirement already satisfied: typing-extensions in /usr/local/lib/python3.8/dist-packages (from torch>=1.7.1->grad-cam) (4.5.0)\n",
            "Requirement already satisfied: requests in /usr/local/lib/python3.8/dist-packages (from torchvision>=0.8.2->grad-cam) (2.25.1)\n",
            "Requirement already satisfied: kiwisolver>=1.0.1 in /usr/local/lib/python3.8/dist-packages (from matplotlib->grad-cam) (1.4.4)\n",
            "Requirement already satisfied: pyparsing>=2.2.1 in /usr/local/lib/python3.8/dist-packages (from matplotlib->grad-cam) (3.0.9)\n",
            "Requirement already satisfied: fonttools>=4.22.0 in /usr/local/lib/python3.8/dist-packages (from matplotlib->grad-cam) (4.38.0)\n",
            "Requirement already satisfied: cycler>=0.10 in /usr/local/lib/python3.8/dist-packages (from matplotlib->grad-cam) (0.11.0)\n",
            "Requirement already satisfied: packaging>=20.0 in /usr/local/lib/python3.8/dist-packages (from matplotlib->grad-cam) (23.0)\n",
            "Requirement already satisfied: python-dateutil>=2.7 in /usr/local/lib/python3.8/dist-packages (from matplotlib->grad-cam) (2.8.2)\n",
            "Requirement already satisfied: threadpoolctl>=2.0.0 in /usr/local/lib/python3.8/dist-packages (from scikit-learn->grad-cam) (3.1.0)\n",
            "Requirement already satisfied: scipy>=1.3.2 in /usr/local/lib/python3.8/dist-packages (from scikit-learn->grad-cam) (1.10.1)\n",
            "Requirement already satisfied: joblib>=1.1.1 in /usr/local/lib/python3.8/dist-packages (from scikit-learn->grad-cam) (1.2.0)\n",
            "Requirement already satisfied: six>=1.5 in /usr/local/lib/python3.8/dist-packages (from python-dateutil>=2.7->matplotlib->grad-cam) (1.15.0)\n",
            "Requirement already satisfied: urllib3<1.27,>=1.21.1 in /usr/local/lib/python3.8/dist-packages (from requests->torchvision>=0.8.2->grad-cam) (1.26.14)\n",
            "Requirement already satisfied: chardet<5,>=3.0.2 in /usr/local/lib/python3.8/dist-packages (from requests->torchvision>=0.8.2->grad-cam) (4.0.0)\n",
            "Requirement already satisfied: certifi>=2017.4.17 in /usr/local/lib/python3.8/dist-packages (from requests->torchvision>=0.8.2->grad-cam) (2022.12.7)\n",
            "Requirement already satisfied: idna<3,>=2.5 in /usr/local/lib/python3.8/dist-packages (from requests->torchvision>=0.8.2->grad-cam) (2.10)\n",
            "Building wheels for collected packages: grad-cam\n",
            "  Building wheel for grad-cam (pyproject.toml) ... \u001b[?25l\u001b[?25hdone\n",
            "  Created wheel for grad-cam: filename=grad_cam-1.4.6-py3-none-any.whl size=38261 sha256=20aaa3b2bd151c0f69ee86a9e9efc37264ad94e9b08fc9d466cd3bf17f71e935\n",
            "  Stored in directory: /root/.cache/pip/wheels/53/02/43/1f75726b5c28459596067ad91e36951463c01273eef661f09f\n",
            "Successfully built grad-cam\n",
            "Installing collected packages: ttach, grad-cam\n",
            "Successfully installed grad-cam-1.4.6 ttach-0.0.3\n"
          ]
        }
      ]
    },
    {
      "cell_type": "code",
      "execution_count": 2,
      "metadata": {
        "id": "K3T7bmj01opR"
      },
      "outputs": [],
      "source": [
        "import albumentations as A\n",
        "from albumentations.pytorch import ToTensorV2\n",
        "import torch\n",
        "import torch.nn as nn\n",
        "import torch.nn.functional as F\n",
        "import torchvision\n",
        "import torchvision.transforms as transforms\n",
        "import matplotlib.pyplot as plt\n",
        "import numpy as np\n",
        "import torch.optim as optim\n",
        "import torchvision.transforms.functional as TF"
      ]
    },
    {
      "cell_type": "code",
      "source": [
        "%cd EVA-Utils"
      ],
      "metadata": {
        "colab": {
          "base_uri": "https://localhost:8080/"
        },
        "id": "BkR_28PjEqCL",
        "outputId": "a10d23ea-8c9f-4132-c2f8-0019a27b802e"
      },
      "execution_count": 3,
      "outputs": [
        {
          "output_type": "stream",
          "name": "stdout",
          "text": [
            "/content/EVA-Utils\n"
          ]
        }
      ]
    },
    {
      "cell_type": "code",
      "source": [
        "from main_gen import *\n",
        "from utils import *"
      ],
      "metadata": {
        "colab": {
          "base_uri": "https://localhost:8080/",
          "height": 170,
          "referenced_widgets": [
            "2fdf3e7e81124d1f8d1726b0c8edefc1",
            "6e4b792d9a5741c1b883a1d4e4124d53",
            "434e31b5f5ca47338722d9bbb608ef2a",
            "d97670bde71e4edcbc239e1edb03f849",
            "0c86bd1577f84de3a72e320b5dfb888f",
            "d91c67255c5b468cabf7bf86d937451f",
            "d9c6769013984f30ad83866bb447ef06",
            "abd8fffe0da9473289693d64d0465799",
            "979b5f8ebe38437e9b6e9e8b3c7ec263",
            "b24f286da43f47c6a73f0b6405506523",
            "25aa53044f924e0ea746059febf9cab9"
          ]
        },
        "id": "gScybexcEtoc",
        "outputId": "74048e91-427c-4923-f029-d74f60b877f3"
      },
      "execution_count": 4,
      "outputs": [
        {
          "output_type": "stream",
          "name": "stderr",
          "text": [
            "/usr/local/lib/python3.8/dist-packages/albumentations/augmentations/dropout/cutout.py:50: FutureWarning: Cutout has been deprecated. Please use CoarseDropout\n",
            "  warnings.warn(\n"
          ]
        },
        {
          "output_type": "stream",
          "name": "stdout",
          "text": [
            "Downloading https://www.cs.toronto.edu/~kriz/cifar-10-python.tar.gz to ./data/cifar-10-python.tar.gz\n"
          ]
        },
        {
          "output_type": "display_data",
          "data": {
            "text/plain": [
              "  0%|          | 0/170498071 [00:00<?, ?it/s]"
            ],
            "application/vnd.jupyter.widget-view+json": {
              "version_major": 2,
              "version_minor": 0,
              "model_id": "2fdf3e7e81124d1f8d1726b0c8edefc1"
            }
          },
          "metadata": {}
        },
        {
          "output_type": "stream",
          "name": "stdout",
          "text": [
            "Extracting ./data/cifar-10-python.tar.gz to ./data\n",
            "Files already downloaded and verified\n",
            "Files already downloaded and verified\n",
            "Files already downloaded and verified\n"
          ]
        }
      ]
    },
    {
      "cell_type": "code",
      "execution_count": 7,
      "metadata": {
        "id": "XLFGJ9ryQ1mX"
      },
      "outputs": [],
      "source": [
        "device = torch.device(\"cuda\" if torch.cuda.is_available() else \"cpu\")"
      ]
    },
    {
      "cell_type": "code",
      "execution_count": 8,
      "metadata": {
        "id": "iJr_IbvzFGHq"
      },
      "outputs": [],
      "source": [
        "import torch.nn as nn\n",
        "import torch.nn.functional as F\n",
        "\n",
        "\n",
        "class Ultimus(nn.Module):\n",
        "    def __init__(self):\n",
        "        super(Ultimus, self).__init__()\n",
        "        self.k = nn.Linear(48,8)\n",
        "        self.q = nn.Linear(48,8)\n",
        "        self.v = nn.Linear(48,8)\n",
        "        self.out = nn.Linear(8,48)\n",
        "\n",
        "    def forward(self, x):\n",
        "        k = self.k(x) # Calculating k,q,v values from learnanble k,q,v learnable layers\n",
        "        q = self.q(x)\n",
        "        v = self.v(x)\n",
        "        score = F.softmax(torch.matmul(q,k.T)/torch.sqrt(torch.tensor(k.shape[1])),dim=1) # score = softmax((k x q.Transpose)/root(k.shape))\n",
        "        attention = torch.matmul(score,v) # Scaled dot-product attention (score x v)\n",
        "        out = self.out(attention)\n",
        "        return out\n",
        "\n",
        "class Transformer(nn.Module):\n",
        "  def __init__(self):\n",
        "    super(Transformer,self).__init__()\n",
        "    self.conv1 = nn.Conv2d(3, 16, 3, 1, 1)  # Set of three convolutions and gap to downscale image from 32x32x3 to 1x1x48\n",
        "    self.conv2 = nn.Conv2d(16, 32, 3, 1, 1) # (in_c,out_c,kernel_size,stride,padding)\n",
        "    self.conv3 = nn.Conv2d(32, 48, 3, 1, 1)\n",
        "    self.gap = nn.AdaptiveAvgPool2d((1,1))\n",
        "    self.ultimusBlock = Ultimus()\n",
        "    self.cap = nn.Linear(48,10) # Final Prediction Layer\n",
        "  \n",
        "  def forward(self, x):\n",
        "      x = self.conv3(F.relu(self.conv2(F.relu(self.conv1(x)))))\n",
        "      x = self.gap(x)\n",
        "      x = torch.flatten(x, 1)\n",
        "\n",
        "      main = x\n",
        "      # print(main.shape)\n",
        "      residue = self.ultimusBlock(main) # Block 1\n",
        "      # print(residue.shape)\n",
        "      main = main + residue # Skip Connection input->2\n",
        "      residue = self.ultimusBlock(main) # Block 2\n",
        "      main = main + residue # Skip Connection 1->2\n",
        "      residue = self.ultimusBlock(main) # Block 3\n",
        "      main = main + residue # Skip Connection 2->3\n",
        "      residue = self.ultimusBlock(main) #Block 4\n",
        "      main = main + residue # Skip Connection 3->output\n",
        "\n",
        "      # x = self.ultimusBlock(self.ultimusBlock(self.ultimusBlock(self.ultimusBlock(x))))\n",
        "      main = self.cap(main)\n",
        "      return main"
      ]
    },
    {
      "cell_type": "code",
      "execution_count": 10,
      "metadata": {
        "id": "HonCeuTNGgUR",
        "colab": {
          "base_uri": "https://localhost:8080/"
        },
        "outputId": "8fa7d7db-0fc9-4f90-8044-705152d3fc9a"
      },
      "outputs": [
        {
          "output_type": "stream",
          "name": "stdout",
          "text": [
            "tensor([[-0.7185, -0.9606, -0.9459,  0.2646, -0.0222, -0.5540, -0.1607, -0.5729,\n",
            "         -0.0111,  0.8624],\n",
            "        [-0.7186, -0.9616, -0.9462,  0.2640, -0.0229, -0.5562, -0.1619, -0.5745,\n",
            "         -0.0112,  0.8634]], grad_fn=<AddmmBackward0>)\n"
          ]
        }
      ],
      "source": [
        "ultimus = Transformer()\n",
        "out = ultimus(torch.randn(2,3,32,32))\n",
        "print(out)"
      ]
    },
    {
      "cell_type": "code",
      "source": [
        "ultimus = ultimus.to(device)"
      ],
      "metadata": {
        "id": "tyjZyRqfPvXF"
      },
      "execution_count": 11,
      "outputs": []
    },
    {
      "cell_type": "code",
      "source": [
        "from torchsummary import summary\n",
        "summary(ultimus,(3,32,32))"
      ],
      "metadata": {
        "colab": {
          "base_uri": "https://localhost:8080/"
        },
        "id": "iTdOvKQGP44x",
        "outputId": "53b95cc4-cfba-4eb8-ff3f-1d9548908797"
      },
      "execution_count": 12,
      "outputs": [
        {
          "output_type": "stream",
          "name": "stdout",
          "text": [
            "----------------------------------------------------------------\n",
            "        Layer (type)               Output Shape         Param #\n",
            "================================================================\n",
            "            Conv2d-1           [-1, 16, 32, 32]             448\n",
            "            Conv2d-2           [-1, 32, 32, 32]           4,640\n",
            "            Conv2d-3           [-1, 48, 32, 32]          13,872\n",
            " AdaptiveAvgPool2d-4             [-1, 48, 1, 1]               0\n",
            "            Linear-5                    [-1, 8]             392\n",
            "            Linear-6                    [-1, 8]             392\n",
            "            Linear-7                    [-1, 8]             392\n",
            "            Linear-8                   [-1, 48]             432\n",
            "           Ultimus-9                   [-1, 48]               0\n",
            "           Linear-10                    [-1, 8]             392\n",
            "           Linear-11                    [-1, 8]             392\n",
            "           Linear-12                    [-1, 8]             392\n",
            "           Linear-13                   [-1, 48]             432\n",
            "          Ultimus-14                   [-1, 48]               0\n",
            "           Linear-15                    [-1, 8]             392\n",
            "           Linear-16                    [-1, 8]             392\n",
            "           Linear-17                    [-1, 8]             392\n",
            "           Linear-18                   [-1, 48]             432\n",
            "          Ultimus-19                   [-1, 48]               0\n",
            "           Linear-20                    [-1, 8]             392\n",
            "           Linear-21                    [-1, 8]             392\n",
            "           Linear-22                    [-1, 8]             392\n",
            "           Linear-23                   [-1, 48]             432\n",
            "          Ultimus-24                   [-1, 48]               0\n",
            "           Linear-25                   [-1, 10]             490\n",
            "================================================================\n",
            "Total params: 25,882\n",
            "Trainable params: 25,882\n",
            "Non-trainable params: 0\n",
            "----------------------------------------------------------------\n",
            "Input size (MB): 0.01\n",
            "Forward/backward pass size (MB): 0.75\n",
            "Params size (MB): 0.10\n",
            "Estimated Total Size (MB): 0.86\n",
            "----------------------------------------------------------------\n"
          ]
        }
      ]
    },
    {
      "cell_type": "code",
      "source": [
        "trainloader, testloader = init_dataloader(16)"
      ],
      "metadata": {
        "id": "XY9cBCfVS9vW"
      },
      "execution_count": 14,
      "outputs": []
    },
    {
      "cell_type": "code",
      "source": [
        "optimizer, criterion = init_optim_any(ultimus, 0.001)"
      ],
      "metadata": {
        "id": "4YFIwOp2TMZx"
      },
      "execution_count": 15,
      "outputs": []
    },
    {
      "cell_type": "code",
      "execution_count": 17,
      "metadata": {
        "id": "VA1b_nmSlaAX",
        "colab": {
          "base_uri": "https://localhost:8080/",
          "height": 384,
          "referenced_widgets": [
            "1dd35c70c7df40168b7c86e14d4fb64b",
            "ff4b7c7e6c7f4468957b4ac2f27965e0",
            "3d81ee56fbde4ec983bc7fe2b84d90c5",
            "00e4cf42a95b49e4aaff6e7aae72bf6c",
            "9c02c9e55b244675adea6e9aa43527a7",
            "c3fcd910467848b1bc430c02f92096fa",
            "2aa6a12251164f38bd31230665dfb37a",
            "18f5739708aa42ea8e28073b48a2707c",
            "af00ef7ec678479b9e13c9d1fee2b46f",
            "d9ddbff253c844fbb16895efb51c2761",
            "7d0fb944710a47b7aec19266e4ac97b7"
          ]
        },
        "outputId": "3f8f1b47-b1cf-438e-929e-e6fb0f43ad0d"
      },
      "outputs": [
        {
          "output_type": "display_data",
          "data": {
            "text/plain": [
              "  0%|          | 0/200 [00:00<?, ?it/s]"
            ],
            "application/vnd.jupyter.widget-view+json": {
              "version_major": 2,
              "version_minor": 0,
              "model_id": "1dd35c70c7df40168b7c86e14d4fb64b"
            }
          },
          "metadata": {}
        },
        {
          "output_type": "stream",
          "name": "stdout",
          "text": [
            "Stopping early, the loss has diverged\n",
            "Learning rate search finished. See the graph with {finder_name}.plot()\n",
            "LR suggestion: steepest gradient\n",
            "Suggested LR: 1.74E-02\n"
          ]
        },
        {
          "output_type": "display_data",
          "data": {
            "text/plain": [
              "<Figure size 432x288 with 1 Axes>"
            ],
            "image/png": "[encoded data removed]"
          },
          "metadata": {
            "needs_background": "light"
          }
        }
      ],
      "source": [
        "from torch_lr_finder import LRFinder\n",
        "lr_finder = LRFinder(ultimus, optimizer, criterion, device=\"cuda\")\n",
        "lr_finder.range_test(trainloader, end_lr=10, num_iter=200)\n",
        "lr_finder.plot() # to inspect the loss-learning rate graph\n",
        "lr_finder.reset() # to reset the model and optimizer to their initial state"
      ]
    },
    {
      "cell_type": "code",
      "source": [
        "min_loss = min(lr_finder.history['loss'])\n",
        "ler_rate = lr_finder.history['lr'][np.argmin(lr_finder.history['loss'], axis=0)]\n",
        "print(\"Max LR is {}\".format(ler_rate))"
      ],
      "metadata": {
        "colab": {
          "base_uri": "https://localhost:8080/"
        },
        "id": "Bi2CnB4gO5ms",
        "outputId": "31033bdd-b14e-45f6-9233-f9d0471ff851"
      },
      "execution_count": 18,
      "outputs": [
        {
          "output_type": "stream",
          "name": "stdout",
          "text": [
            "Max LR is 0.01\n"
          ]
        }
      ]
    },
    {
      "cell_type": "code",
      "source": [
        "scheduler = torch.optim.lr_scheduler.OneCycleLR(optimizer, \n",
        "                                                max_lr=ler_rate,\n",
        "                                                steps_per_epoch=len(trainloader), \n",
        "                                                epochs=24,\n",
        "                                                pct_start=0.2,\n",
        "                                                div_factor=100,\n",
        "                                                three_phase=False, \n",
        "                                                final_div_factor=100,\n",
        "                                                anneal_strategy='linear'\n",
        "                                                ) "
      ],
      "metadata": {
        "id": "8fUuYLlbPdnX"
      },
      "execution_count": 19,
      "outputs": []
    },
    {
      "cell_type": "code",
      "source": [
        "loss_arr = train_gen(ultimus, 24, optimizer, trainloader, scheduler)"
      ],
      "metadata": {
        "colab": {
          "base_uri": "https://localhost:8080/"
        },
        "id": "MxcVLsK1PTlq",
        "outputId": "847e20d1-d7db-4927-80e3-e41b3e8cbc0a"
      },
      "execution_count": 21,
      "outputs": [
        {
          "output_type": "stream",
          "name": "stdout",
          "text": [
            "[1,  2000] loss: 1.890\n",
            "Accuracy is: 31.2\n",
            "LR is : [0.002875125008333889]\n",
            "Epoch is: 0\n",
            "[2,  2000] loss: 1.651\n",
            "Accuracy is: 39.596\n",
            "LR is : [0.004750250016667778]\n",
            "Epoch is: 1\n",
            "[3,  2000] loss: 1.534\n",
            "Accuracy is: 44.552\n",
            "LR is : [0.006625375025001668]\n",
            "Epoch is: 2\n",
            "[4,  2000] loss: 1.485\n",
            "Accuracy is: 46.276\n",
            "LR is : [0.008500500033335558]\n",
            "Epoch is: 3\n",
            "[5,  2000] loss: 1.450\n",
            "Accuracy is: 47.712\n",
            "LR is : [0.009895771]\n",
            "Epoch is: 4\n",
            "[6,  2000] loss: 1.417\n",
            "Accuracy is: 43.414\n",
            "LR is : [0.0093754585]\n",
            "Epoch is: 5\n",
            "[7,  2000] loss: 2.355\n",
            "Accuracy is: 11.368\n",
            "LR is : [0.008855146]\n",
            "Epoch is: 6\n",
            "[8,  2000] loss: 2.247\n",
            "Accuracy is: 16.334\n",
            "LR is : [0.0083348335]\n",
            "Epoch is: 7\n",
            "[9,  2000] loss: 2.034\n",
            "Accuracy is: 24.206\n",
            "LR is : [0.007814521]\n",
            "Epoch is: 8\n",
            "[10,  2000] loss: 1.908\n",
            "Accuracy is: 28.388\n",
            "LR is : [0.0072942085]\n",
            "Epoch is: 9\n",
            "[11,  2000] loss: 2.029\n",
            "Accuracy is: 27.852\n",
            "LR is : [0.006773896]\n",
            "Epoch is: 10\n",
            "[12,  2000] loss: 1.991\n",
            "Accuracy is: 27.834\n",
            "LR is : [0.0062535835]\n",
            "Epoch is: 11\n",
            "[13,  2000] loss: 2.620\n",
            "Accuracy is: 23.024\n",
            "LR is : [0.005733271]\n",
            "Epoch is: 12\n",
            "[14,  2000] loss: 2.439\n",
            "Accuracy is: 20.378\n",
            "LR is : [0.0052129585]\n",
            "Epoch is: 13\n",
            "[15,  2000] loss: 2.007\n",
            "Accuracy is: 27.008\n",
            "LR is : [0.004692646]\n",
            "Epoch is: 14\n",
            "[16,  2000] loss: 2.094\n",
            "Accuracy is: 26.106\n",
            "LR is : [0.004172333499999999]\n",
            "Epoch is: 15\n",
            "[17,  2000] loss: 2.133\n",
            "Accuracy is: 27.968\n",
            "LR is : [0.003652021]\n",
            "Epoch is: 16\n",
            "[18,  2000] loss: 1.899\n",
            "Accuracy is: 31.358\n",
            "LR is : [0.0031317085]\n",
            "Epoch is: 17\n",
            "[19,  2000] loss: 3.167\n",
            "Accuracy is: 25.052\n",
            "LR is : [0.0026113959999999993]\n",
            "Epoch is: 18\n",
            "[20,  2000] loss: 2.364\n",
            "Accuracy is: 26.042\n",
            "LR is : [0.0020910835000000003]\n",
            "Epoch is: 19\n",
            "[21,  2000] loss: 1.943\n",
            "Accuracy is: 28.592\n",
            "LR is : [0.0015707710000000003]\n",
            "Epoch is: 20\n",
            "[22,  2000] loss: 1.848\n",
            "Accuracy is: 33.438\n",
            "LR is : [0.0010504584999999986]\n",
            "Epoch is: 21\n",
            "[23,  2000] loss: 1.741\n",
            "Accuracy is: 37.39\n",
            "LR is : [0.0005301460000000004]\n",
            "Epoch is: 22\n",
            "[24,  2000] loss: 1.683\n",
            "Accuracy is: 39.042\n",
            "LR is : [9.83349999999876e-06]\n",
            "Epoch is: 23\n",
            "Finished Training\n"
          ]
        }
      ]
    },
    {
      "cell_type": "code",
      "execution_count": 26,
      "metadata": {
        "id": "exEUn7Ae2t9C",
        "colab": {
          "base_uri": "https://localhost:8080/"
        },
        "outputId": "1099ca78-ec90-4aa3-82cd-de9a86d5197c"
      },
      "outputs": [
        {
          "output_type": "stream",
          "name": "stdout",
          "text": [
            "Accuracy of the model on the 10000 test images: 41 %\n"
          ]
        }
      ],
      "source": [
        "plot_arr, pre = test_gen(ultimus, testloader)"
      ]
    },
    {
      "cell_type": "code",
      "source": [
        "Train_Logs=([\n",
        "    '''\n",
        "      [1,  2000] loss: 1.890\n",
        "      Accuracy is: 31.2\n",
        "      LR is : [0.002875125008333889]\n",
        "      Epoch is: 0\n",
        "      [2,  2000] loss: 1.651\n",
        "      Accuracy is: 39.596\n",
        "      LR is : [0.004750250016667778]\n",
        "      Epoch is: 1\n",
        "      [3,  2000] loss: 1.534\n",
        "      Accuracy is: 44.552\n",
        "      LR is : [0.006625375025001668]\n",
        "      Epoch is: 2\n",
        "      [4,  2000] loss: 1.485\n",
        "      Accuracy is: 46.276\n",
        "      LR is : [0.008500500033335558]\n",
        "      Epoch is: 3\n",
        "      [5,  2000] loss: 1.450\n",
        "      Accuracy is: 47.712\n",
        "      LR is : [0.009895771]\n",
        "      Epoch is: 4\n",
        "      [6,  2000] loss: 1.417\n",
        "      Accuracy is: 43.414\n",
        "      LR is : [0.0093754585]\n",
        "      Epoch is: 5\n",
        "      [7,  2000] loss: 2.355\n",
        "      Accuracy is: 11.368\n",
        "      LR is : [0.008855146]\n",
        "      Epoch is: 6\n",
        "      [8,  2000] loss: 2.247\n",
        "      Accuracy is: 16.334\n",
        "      LR is : [0.0083348335]\n",
        "      Epoch is: 7\n",
        "      [9,  2000] loss: 2.034\n",
        "      Accuracy is: 24.206\n",
        "      LR is : [0.007814521]\n",
        "      Epoch is: 8\n",
        "      [10,  2000] loss: 1.908\n",
        "      Accuracy is: 28.388\n",
        "      LR is : [0.0072942085]\n",
        "      Epoch is: 9\n",
        "      [11,  2000] loss: 2.029\n",
        "      Accuracy is: 27.852\n",
        "      LR is : [0.006773896]\n",
        "      Epoch is: 10\n",
        "      [12,  2000] loss: 1.991\n",
        "      Accuracy is: 27.834\n",
        "      LR is : [0.0062535835]\n",
        "      Epoch is: 11\n",
        "      [13,  2000] loss: 2.620\n",
        "      Accuracy is: 23.024\n",
        "      LR is : [0.005733271]\n",
        "      Epoch is: 12\n",
        "      [14,  2000] loss: 2.439\n",
        "      Accuracy is: 20.378\n",
        "      LR is : [0.0052129585]\n",
        "      Epoch is: 13\n",
        "      [15,  2000] loss: 2.007\n",
        "      Accuracy is: 27.008\n",
        "      LR is : [0.004692646]\n",
        "      Epoch is: 14\n",
        "      [16,  2000] loss: 2.094\n",
        "      Accuracy is: 26.106\n",
        "      LR is : [0.004172333499999999]\n",
        "      Epoch is: 15\n",
        "      [17,  2000] loss: 2.133\n",
        "      Accuracy is: 27.968\n",
        "      LR is : [0.003652021]\n",
        "      Epoch is: 16\n",
        "      [18,  2000] loss: 1.899\n",
        "      Accuracy is: 31.358\n",
        "      LR is : [0.0031317085]\n",
        "      Epoch is: 17\n",
        "      [19,  2000] loss: 3.167\n",
        "      Accuracy is: 25.052\n",
        "      LR is : [0.0026113959999999993]\n",
        "      Epoch is: 18\n",
        "      [20,  2000] loss: 2.364\n",
        "      Accuracy is: 26.042\n",
        "      LR is : [0.0020910835000000003]\n",
        "      Epoch is: 19\n",
        "      [21,  2000] loss: 1.943\n",
        "      Accuracy is: 28.592\n",
        "      LR is : [0.0015707710000000003]\n",
        "      Epoch is: 20\n",
        "      [22,  2000] loss: 1.848\n",
        "      Accuracy is: 33.438\n",
        "      LR is : [0.0010504584999999986]\n",
        "      Epoch is: 21\n",
        "      [23,  2000] loss: 1.741\n",
        "      Accuracy is: 37.39\n",
        "      LR is : [0.0005301460000000004]\n",
        "      Epoch is: 22\n",
        "      [24,  2000] loss: 1.683\n",
        "      Accuracy is: 39.042\n",
        "      LR is : [9.83349999999876e-06]\n",
        "      Epoch is: 23\n",
        "      Finished Training\n",
        "\n",
        "      Accuracy of the model on the 10000 test images: 41 %\n",
        "    '''\n",
        "])"
      ],
      "metadata": {
        "id": "Rk6sAxRaXjOW"
      },
      "execution_count": 28,
      "outputs": []
    }
  ],
  "metadata": {
    "accelerator": "GPU",
    "colab": {
      "provenance": [],
      "authorship_tag": "ABX9TyOeYULVHKa12aqWm5bVc6uc",
      "include_colab_link": true
    },
    "gpuClass": "standard",
    "kernelspec": {
      "display_name": "Python 3",
      "name": "python3"
    },
    "language_info": {
      "name": "python"
    },
    "widgets": {
      "application/vnd.jupyter.widget-state+json": {
        "2fdf3e7e81124d1f8d1726b0c8edefc1": {
          "model_module": "@jupyter-widgets/controls",
          "model_name": "HBoxModel",
          "model_module_version": "1.5.0",
          "state": {
            "_dom_classes": [],
            "_model_module": "@jupyter-widgets/controls",
            "_model_module_version": "1.5.0",
            "_model_name": "HBoxModel",
            "_view_count": null,
            "_view_module": "@jupyter-widgets/controls",
            "_view_module_version": "1.5.0",
            "_view_name": "HBoxView",
            "box_style": "",
            "children": [
              "IPY_MODEL_6e4b792d9a5741c1b883a1d4e4124d53",
              "IPY_MODEL_434e31b5f5ca47338722d9bbb608ef2a",
              "IPY_MODEL_d97670bde71e4edcbc239e1edb03f849"
            ],
            "layout": "IPY_MODEL_0c86bd1577f84de3a72e320b5dfb888f"
          }
        },
        "6e4b792d9a5741c1b883a1d4e4124d53": {
          "model_module": "@jupyter-widgets/controls",
          "model_name": "HTMLModel",
          "model_module_version": "1.5.0",
          "state": {
            "_dom_classes": [],
            "_model_module": "@jupyter-widgets/controls",
            "_model_module_version": "1.5.0",
            "_model_name": "HTMLModel",
            "_view_count": null,
            "_view_module": "@jupyter-widgets/controls",
            "_view_module_version": "1.5.0",
            "_view_name": "HTMLView",
            "description": "",
            "description_tooltip": null,
            "layout": "IPY_MODEL_d91c67255c5b468cabf7bf86d937451f",
            "placeholder": "​",
            "style": "IPY_MODEL_d9c6769013984f30ad83866bb447ef06",
            "value": "100%"
          }
        },
        "434e31b5f5ca47338722d9bbb608ef2a": {
          "model_module": "@jupyter-widgets/controls",
          "model_name": "FloatProgressModel",
          "model_module_version": "1.5.0",
          "state": {
            "_dom_classes": [],
            "_model_module": "@jupyter-widgets/controls",
            "_model_module_version": "1.5.0",
            "_model_name": "FloatProgressModel",
            "_view_count": null,
            "_view_module": "@jupyter-widgets/controls",
            "_view_module_version": "1.5.0",
            "_view_name": "ProgressView",
            "bar_style": "success",
            "description": "",
            "description_tooltip": null,
            "layout": "IPY_MODEL_abd8fffe0da9473289693d64d0465799",
            "max": 170498071,
            "min": 0,
            "orientation": "horizontal",
            "style": "IPY_MODEL_979b5f8ebe38437e9b6e9e8b3c7ec263",
            "value": 170498071
          }
        },
        "d97670bde71e4edcbc239e1edb03f849": {
          "model_module": "@jupyter-widgets/controls",
          "model_name": "HTMLModel",
          "model_module_version": "1.5.0",
          "state": {
            "_dom_classes": [],
            "_model_module": "@jupyter-widgets/controls",
            "_model_module_version": "1.5.0",
            "_model_name": "HTMLModel",
            "_view_count": null,
            "_view_module": "@jupyter-widgets/controls",
            "_view_module_version": "1.5.0",
            "_view_name": "HTMLView",
            "description": "",
            "description_tooltip": null,
            "layout": "IPY_MODEL_b24f286da43f47c6a73f0b6405506523",
            "placeholder": "​",
            "style": "IPY_MODEL_25aa53044f924e0ea746059febf9cab9",
            "value": " 170498071/170498071 [00:05&lt;00:00, 35715086.10it/s]"
          }
        },
        "0c86bd1577f84de3a72e320b5dfb888f": {
          "model_module": "@jupyter-widgets/base",
          "model_name": "LayoutModel",
          "model_module_version": "1.2.0",
          "state": {
            "_model_module": "@jupyter-widgets/base",
            "_model_module_version": "1.2.0",
            "_model_name": "LayoutModel",
            "_view_count": null,
            "_view_module": "@jupyter-widgets/base",
            "_view_module_version": "1.2.0",
            "_view_name": "LayoutView",
            "align_content": null,
            "align_items": null,
            "align_self": null,
            "border": null,
            "bottom": null,
            "display": null,
            "flex": null,
            "flex_flow": null,
            "grid_area": null,
            "grid_auto_columns": null,
            "grid_auto_flow": null,
            "grid_auto_rows": null,
            "grid_column": null,
            "grid_gap": null,
            "grid_row": null,
            "grid_template_areas": null,
            "grid_template_columns": null,
            "grid_template_rows": null,
            "height": null,
            "justify_content": null,
            "justify_items": null,
            "left": null,
            "margin": null,
            "max_height": null,
            "max_width": null,
            "min_height": null,
            "min_width": null,
            "object_fit": null,
            "object_position": null,
            "order": null,
            "overflow": null,
            "overflow_x": null,
            "overflow_y": null,
            "padding": null,
            "right": null,
            "top": null,
            "visibility": null,
            "width": null
          }
        },
        "d91c67255c5b468cabf7bf86d937451f": {
          "model_module": "@jupyter-widgets/base",
          "model_name": "LayoutModel",
          "model_module_version": "1.2.0",
          "state": {
            "_model_module": "@jupyter-widgets/base",
            "_model_module_version": "1.2.0",
            "_model_name": "LayoutModel",
            "_view_count": null,
            "_view_module": "@jupyter-widgets/base",
            "_view_module_version": "1.2.0",
            "_view_name": "LayoutView",
            "align_content": null,
            "align_items": null,
            "align_self": null,
            "border": null,
            "bottom": null,
            "display": null,
            "flex": null,
            "flex_flow": null,
            "grid_area": null,
            "grid_auto_columns": null,
            "grid_auto_flow": null,
            "grid_auto_rows": null,
            "grid_column": null,
            "grid_gap": null,
            "grid_row": null,
            "grid_template_areas": null,
            "grid_template_columns": null,
            "grid_template_rows": null,
            "height": null,
            "justify_content": null,
            "justify_items": null,
            "left": null,
            "margin": null,
            "max_height": null,
            "max_width": null,
            "min_height": null,
            "min_width": null,
            "object_fit": null,
            "object_position": null,
            "order": null,
            "overflow": null,
            "overflow_x": null,
            "overflow_y": null,
            "padding": null,
            "right": null,
            "top": null,
            "visibility": null,
            "width": null
          }
        },
        "d9c6769013984f30ad83866bb447ef06": {
          "model_module": "@jupyter-widgets/controls",
          "model_name": "DescriptionStyleModel",
          "model_module_version": "1.5.0",
          "state": {
            "_model_module": "@jupyter-widgets/controls",
            "_model_module_version": "1.5.0",
            "_model_name": "DescriptionStyleModel",
            "_view_count": null,
            "_view_module": "@jupyter-widgets/base",
            "_view_module_version": "1.2.0",
            "_view_name": "StyleView",
            "description_width": ""
          }
        },
        "abd8fffe0da9473289693d64d0465799": {
          "model_module": "@jupyter-widgets/base",
          "model_name": "LayoutModel",
          "model_module_version": "1.2.0",
          "state": {
            "_model_module": "@jupyter-widgets/base",
            "_model_module_version": "1.2.0",
            "_model_name": "LayoutModel",
            "_view_count": null,
            "_view_module": "@jupyter-widgets/base",
            "_view_module_version": "1.2.0",
            "_view_name": "LayoutView",
            "align_content": null,
            "align_items": null,
            "align_self": null,
            "border": null,
            "bottom": null,
            "display": null,
            "flex": null,
            "flex_flow": null,
            "grid_area": null,
            "grid_auto_columns": null,
            "grid_auto_flow": null,
            "grid_auto_rows": null,
            "grid_column": null,
            "grid_gap": null,
            "grid_row": null,
            "grid_template_areas": null,
            "grid_template_columns": null,
            "grid_template_rows": null,
            "height": null,
            "justify_content": null,
            "justify_items": null,
            "left": null,
            "margin": null,
            "max_height": null,
            "max_width": null,
            "min_height": null,
            "min_width": null,
            "object_fit": null,
            "object_position": null,
            "order": null,
            "overflow": null,
            "overflow_x": null,
            "overflow_y": null,
            "padding": null,
            "right": null,
            "top": null,
            "visibility": null,
            "width": null
          }
        },
        "979b5f8ebe38437e9b6e9e8b3c7ec263": {
          "model_module": "@jupyter-widgets/controls",
          "model_name": "ProgressStyleModel",
          "model_module_version": "1.5.0",
          "state": {
            "_model_module": "@jupyter-widgets/controls",
            "_model_module_version": "1.5.0",
            "_model_name": "ProgressStyleModel",
            "_view_count": null,
            "_view_module": "@jupyter-widgets/base",
            "_view_module_version": "1.2.0",
            "_view_name": "StyleView",
            "bar_color": null,
            "description_width": ""
          }
        },
        "b24f286da43f47c6a73f0b6405506523": {
          "model_module": "@jupyter-widgets/base",
          "model_name": "LayoutModel",
          "model_module_version": "1.2.0",
          "state": {
            "_model_module": "@jupyter-widgets/base",
            "_model_module_version": "1.2.0",
            "_model_name": "LayoutModel",
            "_view_count": null,
            "_view_module": "@jupyter-widgets/base",
            "_view_module_version": "1.2.0",
            "_view_name": "LayoutView",
            "align_content": null,
            "align_items": null,
            "align_self": null,
            "border": null,
            "bottom": null,
            "display": null,
            "flex": null,
            "flex_flow": null,
            "grid_area": null,
            "grid_auto_columns": null,
            "grid_auto_flow": null,
            "grid_auto_rows": null,
            "grid_column": null,
            "grid_gap": null,
            "grid_row": null,
            "grid_template_areas": null,
            "grid_template_columns": null,
            "grid_template_rows": null,
            "height": null,
            "justify_content": null,
            "justify_items": null,
            "left": null,
            "margin": null,
            "max_height": null,
            "max_width": null,
            "min_height": null,
            "min_width": null,
            "object_fit": null,
            "object_position": null,
            "order": null,
            "overflow": null,
            "overflow_x": null,
            "overflow_y": null,
            "padding": null,
            "right": null,
            "top": null,
            "visibility": null,
            "width": null
          }
        },
        "25aa53044f924e0ea746059febf9cab9": {
          "model_module": "@jupyter-widgets/controls",
          "model_name": "DescriptionStyleModel",
          "model_module_version": "1.5.0",
          "state": {
            "_model_module": "@jupyter-widgets/controls",
            "_model_module_version": "1.5.0",
            "_model_name": "DescriptionStyleModel",
            "_view_count": null,
            "_view_module": "@jupyter-widgets/base",
            "_view_module_version": "1.2.0",
            "_view_name": "StyleView",
            "description_width": ""
          }
        },
        "1dd35c70c7df40168b7c86e14d4fb64b": {
          "model_module": "@jupyter-widgets/controls",
          "model_name": "HBoxModel",
          "model_module_version": "1.5.0",
          "state": {
            "_dom_classes": [],
            "_model_module": "@jupyter-widgets/controls",
            "_model_module_version": "1.5.0",
            "_model_name": "HBoxModel",
            "_view_count": null,
            "_view_module": "@jupyter-widgets/controls",
            "_view_module_version": "1.5.0",
            "_view_name": "HBoxView",
            "box_style": "",
            "children": [
              "IPY_MODEL_ff4b7c7e6c7f4468957b4ac2f27965e0",
              "IPY_MODEL_3d81ee56fbde4ec983bc7fe2b84d90c5",
              "IPY_MODEL_00e4cf42a95b49e4aaff6e7aae72bf6c"
            ],
            "layout": "IPY_MODEL_9c02c9e55b244675adea6e9aa43527a7"
          }
        },
        "ff4b7c7e6c7f4468957b4ac2f27965e0": {
          "model_module": "@jupyter-widgets/controls",
          "model_name": "HTMLModel",
          "model_module_version": "1.5.0",
          "state": {
            "_dom_classes": [],
            "_model_module": "@jupyter-widgets/controls",
            "_model_module_version": "1.5.0",
            "_model_name": "HTMLModel",
            "_view_count": null,
            "_view_module": "@jupyter-widgets/controls",
            "_view_module_version": "1.5.0",
            "_view_name": "HTMLView",
            "description": "",
            "description_tooltip": null,
            "layout": "IPY_MODEL_c3fcd910467848b1bc430c02f92096fa",
            "placeholder": "​",
            "style": "IPY_MODEL_2aa6a12251164f38bd31230665dfb37a",
            "value": " 35%"
          }
        },
        "3d81ee56fbde4ec983bc7fe2b84d90c5": {
          "model_module": "@jupyter-widgets/controls",
          "model_name": "FloatProgressModel",
          "model_module_version": "1.5.0",
          "state": {
            "_dom_classes": [],
            "_model_module": "@jupyter-widgets/controls",
            "_model_module_version": "1.5.0",
            "_model_name": "FloatProgressModel",
            "_view_count": null,
            "_view_module": "@jupyter-widgets/controls",
            "_view_module_version": "1.5.0",
            "_view_name": "ProgressView",
            "bar_style": "danger",
            "description": "",
            "description_tooltip": null,
            "layout": "IPY_MODEL_18f5739708aa42ea8e28073b48a2707c",
            "max": 200,
            "min": 0,
            "orientation": "horizontal",
            "style": "IPY_MODEL_af00ef7ec678479b9e13c9d1fee2b46f",
            "value": 70
          }
        },
        "00e4cf42a95b49e4aaff6e7aae72bf6c": {
          "model_module": "@jupyter-widgets/controls",
          "model_name": "HTMLModel",
          "model_module_version": "1.5.0",
          "state": {
            "_dom_classes": [],
            "_model_module": "@jupyter-widgets/controls",
            "_model_module_version": "1.5.0",
            "_model_name": "HTMLModel",
            "_view_count": null,
            "_view_module": "@jupyter-widgets/controls",
            "_view_module_version": "1.5.0",
            "_view_name": "HTMLView",
            "description": "",
            "description_tooltip": null,
            "layout": "IPY_MODEL_d9ddbff253c844fbb16895efb51c2761",
            "placeholder": "​",
            "style": "IPY_MODEL_7d0fb944710a47b7aec19266e4ac97b7",
            "value": " 70/200 [00:01&lt;00:01, 79.06it/s]"
          }
        },
        "9c02c9e55b244675adea6e9aa43527a7": {
          "model_module": "@jupyter-widgets/base",
          "model_name": "LayoutModel",
          "model_module_version": "1.2.0",
          "state": {
            "_model_module": "@jupyter-widgets/base",
            "_model_module_version": "1.2.0",
            "_model_name": "LayoutModel",
            "_view_count": null,
            "_view_module": "@jupyter-widgets/base",
            "_view_module_version": "1.2.0",
            "_view_name": "LayoutView",
            "align_content": null,
            "align_items": null,
            "align_self": null,
            "border": null,
            "bottom": null,
            "display": null,
            "flex": null,
            "flex_flow": null,
            "grid_area": null,
            "grid_auto_columns": null,
            "grid_auto_flow": null,
            "grid_auto_rows": null,
            "grid_column": null,
            "grid_gap": null,
            "grid_row": null,
            "grid_template_areas": null,
            "grid_template_columns": null,
            "grid_template_rows": null,
            "height": null,
            "justify_content": null,
            "justify_items": null,
            "left": null,
            "margin": null,
            "max_height": null,
            "max_width": null,
            "min_height": null,
            "min_width": null,
            "object_fit": null,
            "object_position": null,
            "order": null,
            "overflow": null,
            "overflow_x": null,
            "overflow_y": null,
            "padding": null,
            "right": null,
            "top": null,
            "visibility": null,
            "width": null
          }
        },
        "c3fcd910467848b1bc430c02f92096fa": {
          "model_module": "@jupyter-widgets/base",
          "model_name": "LayoutModel",
          "model_module_version": "1.2.0",
          "state": {
            "_model_module": "@jupyter-widgets/base",
            "_model_module_version": "1.2.0",
            "_model_name": "LayoutModel",
            "_view_count": null,
            "_view_module": "@jupyter-widgets/base",
            "_view_module_version": "1.2.0",
            "_view_name": "LayoutView",
            "align_content": null,
            "align_items": null,
            "align_self": null,
            "border": null,
            "bottom": null,
            "display": null,
            "flex": null,
            "flex_flow": null,
            "grid_area": null,
            "grid_auto_columns": null,
            "grid_auto_flow": null,
            "grid_auto_rows": null,
            "grid_column": null,
            "grid_gap": null,
            "grid_row": null,
            "grid_template_areas": null,
            "grid_template_columns": null,
            "grid_template_rows": null,
            "height": null,
            "justify_content": null,
            "justify_items": null,
            "left": null,
            "margin": null,
            "max_height": null,
            "max_width": null,
            "min_height": null,
            "min_width": null,
            "object_fit": null,
            "object_position": null,
            "order": null,
            "overflow": null,
            "overflow_x": null,
            "overflow_y": null,
            "padding": null,
            "right": null,
            "top": null,
            "visibility": null,
            "width": null
          }
        },
        "2aa6a12251164f38bd31230665dfb37a": {
          "model_module": "@jupyter-widgets/controls",
          "model_name": "DescriptionStyleModel",
          "model_module_version": "1.5.0",
          "state": {
            "_model_module": "@jupyter-widgets/controls",
            "_model_module_version": "1.5.0",
            "_model_name": "DescriptionStyleModel",
            "_view_count": null,
            "_view_module": "@jupyter-widgets/base",
            "_view_module_version": "1.2.0",
            "_view_name": "StyleView",
            "description_width": ""
          }
        },
        "18f5739708aa42ea8e28073b48a2707c": {
          "model_module": "@jupyter-widgets/base",
          "model_name": "LayoutModel",
          "model_module_version": "1.2.0",
          "state": {
            "_model_module": "@jupyter-widgets/base",
            "_model_module_version": "1.2.0",
            "_model_name": "LayoutModel",
            "_view_count": null,
            "_view_module": "@jupyter-widgets/base",
            "_view_module_version": "1.2.0",
            "_view_name": "LayoutView",
            "align_content": null,
            "align_items": null,
            "align_self": null,
            "border": null,
            "bottom": null,
            "display": null,
            "flex": null,
            "flex_flow": null,
            "grid_area": null,
            "grid_auto_columns": null,
            "grid_auto_flow": null,
            "grid_auto_rows": null,
            "grid_column": null,
            "grid_gap": null,
            "grid_row": null,
            "grid_template_areas": null,
            "grid_template_columns": null,
            "grid_template_rows": null,
            "height": null,
            "justify_content": null,
            "justify_items": null,
            "left": null,
            "margin": null,
            "max_height": null,
            "max_width": null,
            "min_height": null,
            "min_width": null,
            "object_fit": null,
            "object_position": null,
            "order": null,
            "overflow": null,
            "overflow_x": null,
            "overflow_y": null,
            "padding": null,
            "right": null,
            "top": null,
            "visibility": null,
            "width": null
          }
        },
        "af00ef7ec678479b9e13c9d1fee2b46f": {
          "model_module": "@jupyter-widgets/controls",
          "model_name": "ProgressStyleModel",
          "model_module_version": "1.5.0",
          "state": {
            "_model_module": "@jupyter-widgets/controls",
            "_model_module_version": "1.5.0",
            "_model_name": "ProgressStyleModel",
            "_view_count": null,
            "_view_module": "@jupyter-widgets/base",
            "_view_module_version": "1.2.0",
            "_view_name": "StyleView",
            "bar_color": null,
            "description_width": ""
          }
        },
        "d9ddbff253c844fbb16895efb51c2761": {
          "model_module": "@jupyter-widgets/base",
          "model_name": "LayoutModel",
          "model_module_version": "1.2.0",
          "state": {
            "_model_module": "@jupyter-widgets/base",
            "_model_module_version": "1.2.0",
            "_model_name": "LayoutModel",
            "_view_count": null,
            "_view_module": "@jupyter-widgets/base",
            "_view_module_version": "1.2.0",
            "_view_name": "LayoutView",
            "align_content": null,
            "align_items": null,
            "align_self": null,
            "border": null,
            "bottom": null,
            "display": null,
            "flex": null,
            "flex_flow": null,
            "grid_area": null,
            "grid_auto_columns": null,
            "grid_auto_flow": null,
            "grid_auto_rows": null,
            "grid_column": null,
            "grid_gap": null,
            "grid_row": null,
            "grid_template_areas": null,
            "grid_template_columns": null,
            "grid_template_rows": null,
            "height": null,
            "justify_content": null,
            "justify_items": null,
            "left": null,
            "margin": null,
            "max_height": null,
            "max_width": null,
            "min_height": null,
            "min_width": null,
            "object_fit": null,
            "object_position": null,
            "order": null,
            "overflow": null,
            "overflow_x": null,
            "overflow_y": null,
            "padding": null,
            "right": null,
            "top": null,
            "visibility": null,
            "width": null
          }
        },
        "7d0fb944710a47b7aec19266e4ac97b7": {
          "model_module": "@jupyter-widgets/controls",
          "model_name": "DescriptionStyleModel",
          "model_module_version": "1.5.0",
          "state": {
            "_model_module": "@jupyter-widgets/controls",
            "_model_module_version": "1.5.0",
            "_model_name": "DescriptionStyleModel",
            "_view_count": null,
            "_view_module": "@jupyter-widgets/base",
            "_view_module_version": "1.2.0",
            "_view_name": "StyleView",
            "description_width": ""
          }
        }
      }
    }
  },
  "nbformat": 4,
  "nbformat_minor": 0
}